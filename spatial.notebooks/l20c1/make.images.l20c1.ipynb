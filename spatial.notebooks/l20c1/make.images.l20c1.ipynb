{
 "cells": [
  {
   "cell_type": "markdown",
   "metadata": {},
   "source": [
    "This notebook can be used for making and visualizing the images of the L20C1 dataset. This was copied and edited to _only_ take in the L20C1 dataset, as opposed to the original version of this notebook which took in the aggregated dataset. You can choose which stats and which color channels to map to which values of the sequencing data."
   ]
  },
  {
   "cell_type": "code",
   "execution_count": 72,
   "metadata": {},
   "outputs": [],
   "source": [
    "import scanpy as sc\n",
    "import pandas as pd\n",
    "import numpy as np\n",
    "\n",
    "import matplotlib.pyplot as plt\n",
    "\n",
    "from tqdm.notebook import tqdm\n",
    "import itertools as it"
   ]
  },
  {
   "cell_type": "markdown",
   "metadata": {},
   "source": [
    "## 1. Read in Adata and Spatial Barcodes"
   ]
  },
  {
   "cell_type": "code",
   "execution_count": 73,
   "metadata": {},
   "outputs": [],
   "source": [
    "prefix = '/data/xyzeq/xyzeq/'"
   ]
  },
  {
   "cell_type": "code",
   "execution_count": 84,
   "metadata": {},
   "outputs": [],
   "source": [
    "adata = sc.read_h5ad(prefix + 'individual.raw.and.proc.h5ads/fig3.L20C1/adata.6.h5ad')"
   ]
  },
  {
   "cell_type": "code",
   "execution_count": 85,
   "metadata": {},
   "outputs": [],
   "source": [
    "spatial = pd.read_csv(prefix + 'plate23_map.csv', header=None, index_col=0)\n",
    "spatial.columns = ['X','Y']"
   ]
  },
  {
   "cell_type": "code",
   "execution_count": 86,
   "metadata": {},
   "outputs": [
    {
     "data": {
      "text/html": [
       "<div>\n",
       "<style scoped>\n",
       "    .dataframe tbody tr th:only-of-type {\n",
       "        vertical-align: middle;\n",
       "    }\n",
       "\n",
       "    .dataframe tbody tr th {\n",
       "        vertical-align: top;\n",
       "    }\n",
       "\n",
       "    .dataframe thead th {\n",
       "        text-align: right;\n",
       "    }\n",
       "</style>\n",
       "<table border=\"1\" class=\"dataframe\">\n",
       "  <thead>\n",
       "    <tr style=\"text-align: right;\">\n",
       "      <th></th>\n",
       "      <th>X</th>\n",
       "      <th>Y</th>\n",
       "    </tr>\n",
       "    <tr>\n",
       "      <th>0</th>\n",
       "      <th></th>\n",
       "      <th></th>\n",
       "    </tr>\n",
       "  </thead>\n",
       "  <tbody>\n",
       "    <tr>\n",
       "      <th>AGTTGTTCTAGCGCCT</th>\n",
       "      <td>1</td>\n",
       "      <td>1</td>\n",
       "    </tr>\n",
       "    <tr>\n",
       "      <th>CCGTTAGACGTGACAG</th>\n",
       "      <td>1</td>\n",
       "      <td>2</td>\n",
       "    </tr>\n",
       "    <tr>\n",
       "      <th>CTTACGGTCCGTACGT</th>\n",
       "      <td>1</td>\n",
       "      <td>3</td>\n",
       "    </tr>\n",
       "    <tr>\n",
       "      <th>TCCTGCATTGTGAGAA</th>\n",
       "      <td>1</td>\n",
       "      <td>4</td>\n",
       "    </tr>\n",
       "    <tr>\n",
       "      <th>CTGCGCACTGCTTCTT</th>\n",
       "      <td>1</td>\n",
       "      <td>5</td>\n",
       "    </tr>\n",
       "    <tr>\n",
       "      <th>...</th>\n",
       "      <td>...</td>\n",
       "      <td>...</td>\n",
       "    </tr>\n",
       "    <tr>\n",
       "      <th>CCTGTTGTATGGTTAC</th>\n",
       "      <td>44</td>\n",
       "      <td>2</td>\n",
       "    </tr>\n",
       "    <tr>\n",
       "      <th>TCAATCTATGAGTCGC</th>\n",
       "      <td>44</td>\n",
       "      <td>3</td>\n",
       "    </tr>\n",
       "    <tr>\n",
       "      <th>TCGCGACTGCCACTAC</th>\n",
       "      <td>44</td>\n",
       "      <td>4</td>\n",
       "    </tr>\n",
       "    <tr>\n",
       "      <th>CAGGACCTTAATCGTA</th>\n",
       "      <td>44</td>\n",
       "      <td>5</td>\n",
       "    </tr>\n",
       "    <tr>\n",
       "      <th>GGCTATGGCTCAGCTG</th>\n",
       "      <td>44</td>\n",
       "      <td>6</td>\n",
       "    </tr>\n",
       "  </tbody>\n",
       "</table>\n",
       "<p>768 rows × 2 columns</p>\n",
       "</div>"
      ],
      "text/plain": [
       "                   X  Y\n",
       "0                      \n",
       "AGTTGTTCTAGCGCCT   1  1\n",
       "CCGTTAGACGTGACAG   1  2\n",
       "CTTACGGTCCGTACGT   1  3\n",
       "TCCTGCATTGTGAGAA   1  4\n",
       "CTGCGCACTGCTTCTT   1  5\n",
       "...               .. ..\n",
       "CCTGTTGTATGGTTAC  44  2\n",
       "TCAATCTATGAGTCGC  44  3\n",
       "TCGCGACTGCCACTAC  44  4\n",
       "CAGGACCTTAATCGTA  44  5\n",
       "GGCTATGGCTCAGCTG  44  6\n",
       "\n",
       "[768 rows x 2 columns]"
      ]
     },
     "execution_count": 86,
     "metadata": {},
     "output_type": "execute_result"
    }
   ],
   "source": [
    "spatial"
   ]
  },
  {
   "cell_type": "code",
   "execution_count": 87,
   "metadata": {},
   "outputs": [
    {
     "data": {
      "text/html": [
       "<div>\n",
       "<style scoped>\n",
       "    .dataframe tbody tr th:only-of-type {\n",
       "        vertical-align: middle;\n",
       "    }\n",
       "\n",
       "    .dataframe tbody tr th {\n",
       "        vertical-align: top;\n",
       "    }\n",
       "\n",
       "    .dataframe thead th {\n",
       "        text-align: right;\n",
       "    }\n",
       "</style>\n",
       "<table border=\"1\" class=\"dataframe\">\n",
       "  <thead>\n",
       "    <tr style=\"text-align: right;\">\n",
       "      <th></th>\n",
       "      <th>X</th>\n",
       "      <th>Y</th>\n",
       "    </tr>\n",
       "    <tr>\n",
       "      <th>0</th>\n",
       "      <th></th>\n",
       "      <th></th>\n",
       "    </tr>\n",
       "  </thead>\n",
       "  <tbody>\n",
       "    <tr>\n",
       "      <th>CGCACTATAGGTTAAG</th>\n",
       "      <td>42</td>\n",
       "      <td>11</td>\n",
       "    </tr>\n",
       "    <tr>\n",
       "      <th>ATCGCGGTTCCTGAGG</th>\n",
       "      <td>42</td>\n",
       "      <td>12</td>\n",
       "    </tr>\n",
       "    <tr>\n",
       "      <th>AGTAGAGTTATCGTCC</th>\n",
       "      <td>42</td>\n",
       "      <td>13</td>\n",
       "    </tr>\n",
       "    <tr>\n",
       "      <th>GCTTGACCGTAATCGA</th>\n",
       "      <td>42</td>\n",
       "      <td>14</td>\n",
       "    </tr>\n",
       "    <tr>\n",
       "      <th>CGGCTCATTACTGCGG</th>\n",
       "      <td>42</td>\n",
       "      <td>15</td>\n",
       "    </tr>\n",
       "    <tr>\n",
       "      <th>GGACGCCTACAATGAT</th>\n",
       "      <td>42</td>\n",
       "      <td>16</td>\n",
       "    </tr>\n",
       "    <tr>\n",
       "      <th>TACATCGACGAACCTG</th>\n",
       "      <td>42</td>\n",
       "      <td>17</td>\n",
       "    </tr>\n",
       "    <tr>\n",
       "      <th>AGCGGAGAGTCAAGCT</th>\n",
       "      <td>42</td>\n",
       "      <td>18</td>\n",
       "    </tr>\n",
       "    <tr>\n",
       "      <th>GCATCCAATCGCGTTA</th>\n",
       "      <td>43</td>\n",
       "      <td>1</td>\n",
       "    </tr>\n",
       "    <tr>\n",
       "      <th>TATCGACGGCGTGAGT</th>\n",
       "      <td>43</td>\n",
       "      <td>2</td>\n",
       "    </tr>\n",
       "    <tr>\n",
       "      <th>GCTCTGTCTAAGTTCC</th>\n",
       "      <td>43</td>\n",
       "      <td>3</td>\n",
       "    </tr>\n",
       "    <tr>\n",
       "      <th>GAATTCCGCGGTAGTA</th>\n",
       "      <td>43</td>\n",
       "      <td>4</td>\n",
       "    </tr>\n",
       "    <tr>\n",
       "      <th>CAGCCTATGACGGTAA</th>\n",
       "      <td>43</td>\n",
       "      <td>5</td>\n",
       "    </tr>\n",
       "    <tr>\n",
       "      <th>GATCATAACTCGGCTC</th>\n",
       "      <td>43</td>\n",
       "      <td>6</td>\n",
       "    </tr>\n",
       "    <tr>\n",
       "      <th>CTATCGACGAGTATAC</th>\n",
       "      <td>44</td>\n",
       "      <td>1</td>\n",
       "    </tr>\n",
       "    <tr>\n",
       "      <th>CCTGTTGTATGGTTAC</th>\n",
       "      <td>44</td>\n",
       "      <td>2</td>\n",
       "    </tr>\n",
       "    <tr>\n",
       "      <th>TCAATCTATGAGTCGC</th>\n",
       "      <td>44</td>\n",
       "      <td>3</td>\n",
       "    </tr>\n",
       "    <tr>\n",
       "      <th>TCGCGACTGCCACTAC</th>\n",
       "      <td>44</td>\n",
       "      <td>4</td>\n",
       "    </tr>\n",
       "    <tr>\n",
       "      <th>CAGGACCTTAATCGTA</th>\n",
       "      <td>44</td>\n",
       "      <td>5</td>\n",
       "    </tr>\n",
       "    <tr>\n",
       "      <th>GGCTATGGCTCAGCTG</th>\n",
       "      <td>44</td>\n",
       "      <td>6</td>\n",
       "    </tr>\n",
       "  </tbody>\n",
       "</table>\n",
       "</div>"
      ],
      "text/plain": [
       "                   X   Y\n",
       "0                       \n",
       "CGCACTATAGGTTAAG  42  11\n",
       "ATCGCGGTTCCTGAGG  42  12\n",
       "AGTAGAGTTATCGTCC  42  13\n",
       "GCTTGACCGTAATCGA  42  14\n",
       "CGGCTCATTACTGCGG  42  15\n",
       "GGACGCCTACAATGAT  42  16\n",
       "TACATCGACGAACCTG  42  17\n",
       "AGCGGAGAGTCAAGCT  42  18\n",
       "GCATCCAATCGCGTTA  43   1\n",
       "TATCGACGGCGTGAGT  43   2\n",
       "GCTCTGTCTAAGTTCC  43   3\n",
       "GAATTCCGCGGTAGTA  43   4\n",
       "CAGCCTATGACGGTAA  43   5\n",
       "GATCATAACTCGGCTC  43   6\n",
       "CTATCGACGAGTATAC  44   1\n",
       "CCTGTTGTATGGTTAC  44   2\n",
       "TCAATCTATGAGTCGC  44   3\n",
       "TCGCGACTGCCACTAC  44   4\n",
       "CAGGACCTTAATCGTA  44   5\n",
       "GGCTATGGCTCAGCTG  44   6"
      ]
     },
     "execution_count": 87,
     "metadata": {},
     "output_type": "execute_result"
    }
   ],
   "source": [
    "spatial.iloc[-20:,:]"
   ]
  },
  {
   "cell_type": "markdown",
   "metadata": {},
   "source": [
    "X indices 43 and 44 don't have a full set of Y indices. These indices are on the edge of the array and are complicating some of the operations further downstream. Because I've examined some of the outputs and they do not seem to be terribly useful anyway (probably contain very few cells), I'm going to drop them for now. I will do this after I add the columns to the `adata.obs`."
   ]
  },
  {
   "cell_type": "code",
   "execution_count": 88,
   "metadata": {},
   "outputs": [],
   "source": [
    "adata.obs['spatial_bc'] = [i.split('.')[1].split('-')[0] for i in adata.obs_names]"
   ]
  },
  {
   "cell_type": "code",
   "execution_count": 89,
   "metadata": {},
   "outputs": [],
   "source": [
    "adata.obs['X'] = list(map(lambda x: spatial.loc[x,'X'], adata.obs['spatial_bc']))\n",
    "adata.obs['Y'] = list(map(lambda x: spatial.loc[x,'Y'], adata.obs['spatial_bc']))"
   ]
  },
  {
   "cell_type": "code",
   "execution_count": 90,
   "metadata": {},
   "outputs": [
    {
     "data": {
      "text/plain": [
       "28"
      ]
     },
     "execution_count": 90,
     "metadata": {},
     "output_type": "execute_result"
    }
   ],
   "source": [
    "sum(adata.obs['X'] > 42)"
   ]
  },
  {
   "cell_type": "markdown",
   "metadata": {},
   "source": [
    "Only 28 cells in these wells. Let's just drop them."
   ]
  },
  {
   "cell_type": "code",
   "execution_count": 91,
   "metadata": {},
   "outputs": [],
   "source": [
    "adata = adata[adata.obs['X'] <= 42].copy()"
   ]
  },
  {
   "cell_type": "markdown",
   "metadata": {},
   "source": [
    "Because we're only using L20C1, we only have one batch. I could change all the code to just avoid using the batch variable, or I could just add it here and only input '1' for everything. That's the path of least resistance so going to do that here:"
   ]
  },
  {
   "cell_type": "code",
   "execution_count": 92,
   "metadata": {},
   "outputs": [],
   "source": [
    "adata.obs['batch'] = ['1' for _ in range(adata.shape[0])]"
   ]
  },
  {
   "cell_type": "code",
   "execution_count": 94,
   "metadata": {},
   "outputs": [],
   "source": [
    "# adata.write(prefix + 'individual.raw.and.proc.h5ads/fig3.L20C1/adata.6.xy.h5ad')\n",
    "adata = sc.read_h5ad(prefix + 'individual.raw.and.proc.h5ads/fig3.L20C1/adata.6.xy.h5ad')"
   ]
  },
  {
   "cell_type": "markdown",
   "metadata": {},
   "source": [
    "## 2. Build the HexMap\n",
    "Instead of relying on matplotlib, for many reasons I've decided to just build the image manually using a numpy array."
   ]
  },
  {
   "cell_type": "markdown",
   "metadata": {},
   "source": [
    "When considering the hexagons:\n",
    "1. We want something as small as possible because for super resolution we will be registering to _pixel_ resolution. \n",
    "2. We need something that stacks. I don't know the theory or jargon around this, but I've determined (mostly through trial and error) we need something with an even number of pixels per side to prevent single-pixel points on the sides, as those don't stack.\n",
    "\n",
    "I've come to the conclusion that the smallest, most-hexagon-like figure we can generate is the one that fits inside a 12 x 12 pixel grid."
   ]
  },
  {
   "cell_type": "code",
   "execution_count": 35,
   "metadata": {},
   "outputs": [],
   "source": [
    "myhex = np.zeros((12,12)) "
   ]
  },
  {
   "cell_type": "code",
   "execution_count": 36,
   "metadata": {},
   "outputs": [],
   "source": [
    "myhex[0:1,3:9] = 1\n",
    "myhex[1:3,2:10] = 1\n",
    "myhex[3:5,1:11] = 1\n",
    "myhex[5:7,:12] = 1\n",
    "myhex[7:9,1:11] = 1\n",
    "myhex[9:11,2:10] = 1\n",
    "myhex[11:12,3:9] = 1"
   ]
  },
  {
   "cell_type": "code",
   "execution_count": 37,
   "metadata": {},
   "outputs": [
    {
     "data": {
      "image/png": "[encoded data removed]",
      "text/plain": [
       "<Figure size 432x288 with 1 Axes>"
      ]
     },
     "metadata": {
      "needs_background": "light"
     },
     "output_type": "display_data"
    }
   ],
   "source": [
    "plt.imshow(myhex, cmap='binary');"
   ]
  },
  {
   "cell_type": "markdown",
   "metadata": {},
   "source": [
    "Our hexagon has 6 pixel-long sides on top and bottom. If it were a true hexagon, the pixels on the vertical sides would also be 6 units long. We can try to measure one by using the length of the right triangle formed from the 3 pixels jutting out and 6 pixels high, which ends up creating a hypotenuse vertical side of theortical 6.71 units long, so 6 ~ 6.7, I'd say is close enough (~10% off) to true hexagon. The 12-pixel-long hexagon also has the added benefit of spatial resolution to around the diameter of a cell (500/12 is 40 um, roughly the size of what I'd imagine are the largest cells we'll be picking up). "
   ]
  },
  {
   "cell_type": "markdown",
   "metadata": {},
   "source": [
    "Now building the array of hexagons. I will mark the location of key points of each hexagons in a lookup dataframe called `hex_coords` so I don't have to build it everytime I need to fill in new values."
   ]
  },
  {
   "cell_type": "code",
   "execution_count": 38,
   "metadata": {},
   "outputs": [],
   "source": [
    "# make a lookup table, so that I don't have to do all these calculations again\n",
    "hex_coords = pd.DataFrame(0,index=pd.MultiIndex.from_product([range(1,43), range(1,19)], names=['X','Y']),\n",
    "                          columns=['hex_xstart','hex_ystart', 'center_xstart', 'center_ystart', 'hex_xend', 'hex_yend'])\n",
    "\n",
    "for y, x in it.product(range(1,19),range(1,43)):\n",
    "    xstart = int(6*(x-1)*1.5) # please don't ask me how I figured this equation out, it works\n",
    "    ystart = (y-1)*12\n",
    "    if x % 2 == 0:  \n",
    "        ystart = ystart + 6\n",
    "\n",
    "    # make a lookup table, so that I don't have to do all these calculations again\n",
    "    hex_coords.loc[(x,y),'hex_xstart'] = xstart\n",
    "    hex_coords.loc[(x,y),'hex_ystart'] = ystart\n",
    "    hex_coords.loc[(x,y),'center_xstart'] = xstart + 5\n",
    "    hex_coords.loc[(x,y),'center_ystart'] = ystart + 5\n",
    "    hex_coords.loc[(x,y),'hex_xend'] = xstart + 12\n",
    "    hex_coords.loc[(x,y),'hex_yend'] = ystart + 12\n",
    "# hex_coords = hex_coords.astype(np.uint8) # definitely don't convert to integers, it will mess things up, not quite sure how exactly at the current moment"
   ]
  },
  {
   "cell_type": "markdown",
   "metadata": {},
   "source": [
    "Now fill in the hex array with random colors to show it works."
   ]
  },
  {
   "cell_type": "code",
   "execution_count": 39,
   "metadata": {},
   "outputs": [],
   "source": [
    "img = list()\n",
    "for color in ['r','g','b']:\n",
    "    hex_array = np.zeros((222,381)) # these are calculated to perfectly encapsulate the 19 x 43 well array\n",
    "    for y, x in it.product(range(1,19),range(1,43)):\n",
    "        \n",
    "        val = np.random.choice(range(50,255))\n",
    "        \n",
    "        xstart = hex_coords.loc[(x,y),'hex_xstart']\n",
    "        ystart = hex_coords.loc[(x,y),'hex_ystart']\n",
    "\n",
    "        yend = hex_coords.loc[(x,y),'hex_yend']\n",
    "        xend = hex_coords.loc[(x,y),'hex_xend']\n",
    "        \n",
    "        current_hex = hex_array[ystart:yend,xstart:xend]\n",
    "        hex_array[ystart:yend,xstart:xend] = np.where(myhex, val, current_hex)\n",
    "    img.append(hex_array)\n",
    "img = np.stack(img, axis=2).astype(np.uint8)"
   ]
  },
  {
   "cell_type": "code",
   "execution_count": 40,
   "metadata": {},
   "outputs": [
    {
     "data": {
      "image/png": "[encoded data removed]",
      "text/plain": [
       "<Figure size 1152x633.6 with 1 Axes>"
      ]
     },
     "metadata": {
      "needs_background": "light"
     },
     "output_type": "display_data"
    }
   ],
   "source": [
    "plt.figure(figsize=(400/25,220/25)) # chose this size to keep the aspect ratio\n",
    "plt.imshow(img, cmap='binary');"
   ]
  },
  {
   "cell_type": "markdown",
   "metadata": {},
   "source": [
    "I would also like to make a list of neighbors for each well for use later. Neighbors are divided into layers of proximity, where the layer corresponds to the least number of jumps from one well to the neighbor, which I imagine this perfectly correlates with, or at least very well approximates, true physical distance of a cell in one well to another given our resolution. \n",
    "\n",
    "So I wrote a function to get immediate neighbors which works well. However, if we think about it, neighbors of well _(x, y)_ of layer _L_ = 2 are just the **_new_** neighbors of those wells of _L_ = 1. This can be formalized with better and notation, but in essence we just need to iteratively get the immediate neighbors of our neighbors to get those layers that are more than 1 away. Because I calculate immediate neighbors once and store it in the `hex_coords` Dataframe, I don't need to iteratively call the function but rather just look up the neighbors.\n",
    "\n",
    "Very proud of the two cells below, although this *might* have been easier with just applying a function that could probably do this for perfectly orthogonal coordinates and then just shifting every other row up or down by one."
   ]
  },
  {
   "cell_type": "code",
   "execution_count": 41,
   "metadata": {},
   "outputs": [],
   "source": [
    "def immediate_neighbors(x, y):\n",
    "    if x % 2 == 0:\n",
    "        neighbors = np.array([(x-1, y+1), (x, y+1), (x+1, y+1), (x-1, y), (x+1, y), (x, y-1)])\n",
    "    else:\n",
    "        neighbors = np.array([(x-1, y-1), (x, y-1), (x+1, y-1), (x-1, y), (x+1, y), (x, y+1)])\n",
    "    \n",
    "    neighbors = np.array([i for i in neighbors if not np.any(i <= 0)\n",
    "                     and not np.any(i[0] > 42) \n",
    "                     and not np.any(i[1] > 18)]) # remove those that are outside array bounds\n",
    "    neighbors = set(tuple(i) for i in neighbors) # convert to set for easier manipulation alter\n",
    "    return neighbors"
   ]
  },
  {
   "cell_type": "code",
   "execution_count": null,
   "metadata": {},
   "outputs": [],
   "source": [
    "for layer in range(1,11):\n",
    "    if layer == 1:\n",
    "        # exclude has one key for each well, and value = set() of wells to exclude when trying to determine the newest layer of neighbors\n",
    "        # for each layer, value set() grows by set of wells that have already been included in a neighbor set + the center well in question\n",
    "        # tried to make `exclude` a col in the df, but pands was giving me trouble for setting a value of df to a set()\n",
    "        exclude = dict() \n",
    "        \n",
    "        # a list of neighbors that will become the column in the df\n",
    "        neighbors_list = list()\n",
    "        for x, y in tqdm(it.product(range(1,43), range(1,19)),total=42*18):\n",
    "            neighbors = immediate_neighbors(x, y) # get the immediate neighbors\n",
    "            neighbors_list.append(neighbors) # add them to the list of neighbors\n",
    "            exclude[(x,y)] = neighbors.union(set([(x,y)])) # add the well in question\n",
    "    else:\n",
    "        neighbors_list = list() \n",
    "        \n",
    "        for x, y in tqdm(it.product(range(1,43), range(1,19)),total=42*18):\n",
    "            neighbors_2 = set() # neighbors \"squared\", i.e. the neighbors of the neighbors in question\n",
    "            \n",
    "            for neighbor in hex_coords.loc[(x, y), 'neighbors_%s' % (layer-1)]: # for each neighbor...,\n",
    "                neighbors_2 = neighbors_2.union(hex_coords.loc[neighbor,'neighbors_1']) # ..., get its immediate neighbors\n",
    "                \n",
    "            new_neighbors = neighbors_2.difference(exclude[(x,y)]) # exclude the neighbors that are already in a neighbors list\n",
    "            exclude[(x,y)] = exclude[(x,y)].union(new_neighbors) # update the exclude set() with the new neighbors\n",
    "            neighbors_list.append(new_neighbors)\n",
    "    hex_coords['neighbors_%s' % layer] = neighbors_list # put the neighbors list in the df"
   ]
  },
  {
   "cell_type": "code",
   "execution_count": 13,
   "metadata": {},
   "outputs": [
    {
     "data": {
      "text/html": [
       "<div>\n",
       "<style scoped>\n",
       "    .dataframe tbody tr th:only-of-type {\n",
       "        vertical-align: middle;\n",
       "    }\n",
       "\n",
       "    .dataframe tbody tr th {\n",
       "        vertical-align: top;\n",
       "    }\n",
       "\n",
       "    .dataframe thead th {\n",
       "        text-align: right;\n",
       "    }\n",
       "</style>\n",
       "<table border=\"1\" class=\"dataframe\">\n",
       "  <thead>\n",
       "    <tr style=\"text-align: right;\">\n",
       "      <th></th>\n",
       "      <th></th>\n",
       "      <th>neighbors_1</th>\n",
       "      <th>neighbors_2</th>\n",
       "      <th>neighbors_3</th>\n",
       "      <th>neighbors_4</th>\n",
       "      <th>neighbors_5</th>\n",
       "      <th>neighbors_6</th>\n",
       "      <th>neighbors_7</th>\n",
       "      <th>neighbors_8</th>\n",
       "      <th>neighbors_9</th>\n",
       "      <th>neighbors_10</th>\n",
       "    </tr>\n",
       "    <tr>\n",
       "      <th>X</th>\n",
       "      <th>Y</th>\n",
       "      <th></th>\n",
       "      <th></th>\n",
       "      <th></th>\n",
       "      <th></th>\n",
       "      <th></th>\n",
       "      <th></th>\n",
       "      <th></th>\n",
       "      <th></th>\n",
       "      <th></th>\n",
       "      <th></th>\n",
       "    </tr>\n",
       "  </thead>\n",
       "  <tbody>\n",
       "    <tr>\n",
       "      <th rowspan=\"5\" valign=\"top\">1</th>\n",
       "      <th>1</th>\n",
       "      <td>{(1, 2), (2, 1)}</td>\n",
       "      <td>{(3, 2), (1, 3), (3, 1), (2, 2)}</td>\n",
       "      <td>{(3, 3), (1, 4), (2, 3), (4, 2), (4, 1)}</td>\n",
       "      <td>{(5, 2), (1, 5), (4, 3), (5, 1), (3, 4), (2, 4...</td>\n",
       "      <td>{(5, 4), (6, 1), (4, 4), (6, 3), (6, 2), (1, 6...</td>\n",
       "      <td>{(6, 4), (7, 3), (2, 6), (5, 5), (7, 1), (4, 5...</td>\n",
       "      <td>{(2, 7), (8, 3), (4, 6), (8, 2), (5, 6), (8, 1...</td>\n",
       "      <td>{(4, 7), (9, 1), (6, 6), (9, 2), (2, 8), (7, 6...</td>\n",
       "      <td>{(10, 3), (10, 5), (6, 7), (10, 4), (2, 9), (4...</td>\n",
       "      <td>{(5, 9), (11, 4), (4, 9), (6, 8), (11, 5), (11...</td>\n",
       "    </tr>\n",
       "    <tr>\n",
       "      <th>2</th>\n",
       "      <td>{(1, 3), (1, 1), (2, 1), (2, 2)}</td>\n",
       "      <td>{(3, 2), (3, 3), (3, 1), (1, 4), (2, 3)}</td>\n",
       "      <td>{(1, 5), (4, 3), (3, 4), (4, 2), (4, 1), (2, 4)}</td>\n",
       "      <td>{(5, 4), (3, 5), (4, 4), (1, 6), (5, 1), (2, 5...</td>\n",
       "      <td>{(6, 4), (2, 6), (5, 5), (4, 5), (6, 1), (6, 3...</td>\n",
       "      <td>{(2, 7), (7, 3), (4, 6), (7, 1), (5, 6), (7, 4...</td>\n",
       "      <td>{(4, 7), (8, 3), (8, 2), (6, 6), (8, 1), (2, 8...</td>\n",
       "      <td>{(8, 6), (6, 7), (9, 1), (2, 9), (4, 8), (9, 2...</td>\n",
       "      <td>{(5, 9), (10, 5), (10, 3), (4, 9), (10, 4), (6...</td>\n",
       "      <td>{(4, 10), (6, 9), (11, 7), (11, 4), (5, 10), (...</td>\n",
       "    </tr>\n",
       "    <tr>\n",
       "      <th>3</th>\n",
       "      <td>{(1, 2), (2, 3), (1, 4), (2, 2)}</td>\n",
       "      <td>{(3, 2), (3, 3), (2, 1), (1, 5), (2, 4), (3, 4...</td>\n",
       "      <td>{(3, 1), (4, 4), (1, 6), (4, 3), (4, 2), (2, 5...</td>\n",
       "      <td>{(5, 4), (2, 6), (5, 5), (4, 5), (3, 6), (1, 7...</td>\n",
       "      <td>{(2, 7), (6, 4), (4, 6), (5, 6), (6, 1), (6, 3...</td>\n",
       "      <td>{(7, 3), (4, 7), (6, 6), (7, 1), (2, 8), (7, 6...</td>\n",
       "      <td>{(8, 3), (6, 7), (8, 2), (2, 9), (4, 8), (8, 1...</td>\n",
       "      <td>{(5, 9), (4, 9), (9, 1), (6, 8), (9, 2), (3, 1...</td>\n",
       "      <td>{(4, 10), (6, 9), (10, 5), (5, 10), (10, 4), (...</td>\n",
       "      <td>{(10, 8), (11, 7), (3, 12), (11, 4), (11, 5), ...</td>\n",
       "    </tr>\n",
       "    <tr>\n",
       "      <th>4</th>\n",
       "      <td>{(1, 5), (1, 3), (2, 3), (2, 4)}</td>\n",
       "      <td>{(1, 2), (3, 3), (1, 6), (2, 2), (2, 5), (3, 4...</td>\n",
       "      <td>{(3, 2), (2, 6), (4, 5), (4, 4), (2, 1), (4, 3...</td>\n",
       "      <td>{(2, 7), (5, 4), (4, 6), (5, 5), (5, 6), (3, 1...</td>\n",
       "      <td>{(6, 4), (4, 7), (6, 6), (2, 8), (6, 1), (5, 7...</td>\n",
       "      <td>{(7, 3), (6, 7), (2, 9), (4, 8), (7, 1), (7, 6...</td>\n",
       "      <td>{(5, 9), (8, 3), (4, 9), (8, 2), (6, 8), (8, 1...</td>\n",
       "      <td>{(4, 10), (6, 9), (9, 7), (5, 10), (9, 1), (1,...</td>\n",
       "      <td>{(10, 8), (10, 5), (3, 12), (10, 4), (5, 11), ...</td>\n",
       "      <td>{(11, 7), (11, 4), (3, 13), (11, 5), (6, 11), ...</td>\n",
       "    </tr>\n",
       "    <tr>\n",
       "      <th>5</th>\n",
       "      <td>{(2, 5), (1, 6), (2, 4), (1, 4)}</td>\n",
       "      <td>{(2, 6), (1, 3), (2, 3), (3, 6), (1, 7), (3, 4...</td>\n",
       "      <td>{(2, 7), (1, 2), (4, 6), (3, 3), (4, 5), (4, 4...</td>\n",
       "      <td>{(5, 4), (3, 2), (4, 7), (5, 5), (5, 6), (2, 8...</td>\n",
       "      <td>{(6, 4), (4, 1), (6, 7), (2, 9), (4, 8), (6, 6...</td>\n",
       "      <td>{(5, 9), (7, 3), (4, 9), (6, 8), (3, 10), (7, ...</td>\n",
       "      <td>{(4, 10), (6, 9), (8, 3), (5, 10), (8, 2), (1,...</td>\n",
       "      <td>{(3, 12), (9, 1), (5, 11), (9, 2), (1, 13), (9...</td>\n",
       "      <td>{(10, 8), (10, 5), (10, 4), (3, 13), (10, 7), ...</td>\n",
       "      <td>{(11, 7), (11, 10), (11, 4), (11, 5), (7, 12),...</td>\n",
       "    </tr>\n",
       "  </tbody>\n",
       "</table>\n",
       "</div>"
      ],
      "text/plain": [
       "                          neighbors_1  \\\n",
       "X Y                                     \n",
       "1 1                  {(1, 2), (2, 1)}   \n",
       "  2  {(1, 3), (1, 1), (2, 1), (2, 2)}   \n",
       "  3  {(1, 2), (2, 3), (1, 4), (2, 2)}   \n",
       "  4  {(1, 5), (1, 3), (2, 3), (2, 4)}   \n",
       "  5  {(2, 5), (1, 6), (2, 4), (1, 4)}   \n",
       "\n",
       "                                           neighbors_2  \\\n",
       "X Y                                                      \n",
       "1 1                   {(3, 2), (1, 3), (3, 1), (2, 2)}   \n",
       "  2           {(3, 2), (3, 3), (3, 1), (1, 4), (2, 3)}   \n",
       "  3  {(3, 2), (3, 3), (2, 1), (1, 5), (2, 4), (3, 4...   \n",
       "  4  {(1, 2), (3, 3), (1, 6), (2, 2), (2, 5), (3, 4...   \n",
       "  5  {(2, 6), (1, 3), (2, 3), (3, 6), (1, 7), (3, 4...   \n",
       "\n",
       "                                           neighbors_3  \\\n",
       "X Y                                                      \n",
       "1 1           {(3, 3), (1, 4), (2, 3), (4, 2), (4, 1)}   \n",
       "  2   {(1, 5), (4, 3), (3, 4), (4, 2), (4, 1), (2, 4)}   \n",
       "  3  {(3, 1), (4, 4), (1, 6), (4, 3), (4, 2), (2, 5...   \n",
       "  4  {(3, 2), (2, 6), (4, 5), (4, 4), (2, 1), (4, 3...   \n",
       "  5  {(2, 7), (1, 2), (4, 6), (3, 3), (4, 5), (4, 4...   \n",
       "\n",
       "                                           neighbors_4  \\\n",
       "X Y                                                      \n",
       "1 1  {(5, 2), (1, 5), (4, 3), (5, 1), (3, 4), (2, 4...   \n",
       "  2  {(5, 4), (3, 5), (4, 4), (1, 6), (5, 1), (2, 5...   \n",
       "  3  {(5, 4), (2, 6), (5, 5), (4, 5), (3, 6), (1, 7...   \n",
       "  4  {(2, 7), (5, 4), (4, 6), (5, 5), (5, 6), (3, 1...   \n",
       "  5  {(5, 4), (3, 2), (4, 7), (5, 5), (5, 6), (2, 8...   \n",
       "\n",
       "                                           neighbors_5  \\\n",
       "X Y                                                      \n",
       "1 1  {(5, 4), (6, 1), (4, 4), (6, 3), (6, 2), (1, 6...   \n",
       "  2  {(6, 4), (2, 6), (5, 5), (4, 5), (6, 1), (6, 3...   \n",
       "  3  {(2, 7), (6, 4), (4, 6), (5, 6), (6, 1), (6, 3...   \n",
       "  4  {(6, 4), (4, 7), (6, 6), (2, 8), (6, 1), (5, 7...   \n",
       "  5  {(6, 4), (4, 1), (6, 7), (2, 9), (4, 8), (6, 6...   \n",
       "\n",
       "                                           neighbors_6  \\\n",
       "X Y                                                      \n",
       "1 1  {(6, 4), (7, 3), (2, 6), (5, 5), (7, 1), (4, 5...   \n",
       "  2  {(2, 7), (7, 3), (4, 6), (7, 1), (5, 6), (7, 4...   \n",
       "  3  {(7, 3), (4, 7), (6, 6), (7, 1), (2, 8), (7, 6...   \n",
       "  4  {(7, 3), (6, 7), (2, 9), (4, 8), (7, 1), (7, 6...   \n",
       "  5  {(5, 9), (7, 3), (4, 9), (6, 8), (3, 10), (7, ...   \n",
       "\n",
       "                                           neighbors_7  \\\n",
       "X Y                                                      \n",
       "1 1  {(2, 7), (8, 3), (4, 6), (8, 2), (5, 6), (8, 1...   \n",
       "  2  {(4, 7), (8, 3), (8, 2), (6, 6), (8, 1), (2, 8...   \n",
       "  3  {(8, 3), (6, 7), (8, 2), (2, 9), (4, 8), (8, 1...   \n",
       "  4  {(5, 9), (8, 3), (4, 9), (8, 2), (6, 8), (8, 1...   \n",
       "  5  {(4, 10), (6, 9), (8, 3), (5, 10), (8, 2), (1,...   \n",
       "\n",
       "                                           neighbors_8  \\\n",
       "X Y                                                      \n",
       "1 1  {(4, 7), (9, 1), (6, 6), (9, 2), (2, 8), (7, 6...   \n",
       "  2  {(8, 6), (6, 7), (9, 1), (2, 9), (4, 8), (9, 2...   \n",
       "  3  {(5, 9), (4, 9), (9, 1), (6, 8), (9, 2), (3, 1...   \n",
       "  4  {(4, 10), (6, 9), (9, 7), (5, 10), (9, 1), (1,...   \n",
       "  5  {(3, 12), (9, 1), (5, 11), (9, 2), (1, 13), (9...   \n",
       "\n",
       "                                           neighbors_9  \\\n",
       "X Y                                                      \n",
       "1 1  {(10, 3), (10, 5), (6, 7), (10, 4), (2, 9), (4...   \n",
       "  2  {(5, 9), (10, 5), (10, 3), (4, 9), (10, 4), (6...   \n",
       "  3  {(4, 10), (6, 9), (10, 5), (5, 10), (10, 4), (...   \n",
       "  4  {(10, 8), (10, 5), (3, 12), (10, 4), (5, 11), ...   \n",
       "  5  {(10, 8), (10, 5), (10, 4), (3, 13), (10, 7), ...   \n",
       "\n",
       "                                          neighbors_10  \n",
       "X Y                                                     \n",
       "1 1  {(5, 9), (11, 4), (4, 9), (6, 8), (11, 5), (11...  \n",
       "  2  {(4, 10), (6, 9), (11, 7), (11, 4), (5, 10), (...  \n",
       "  3  {(10, 8), (11, 7), (3, 12), (11, 4), (11, 5), ...  \n",
       "  4  {(11, 7), (11, 4), (3, 13), (11, 5), (6, 11), ...  \n",
       "  5  {(11, 7), (11, 10), (11, 4), (11, 5), (7, 12),...  "
      ]
     },
     "execution_count": 13,
     "metadata": {},
     "output_type": "execute_result"
    }
   ],
   "source": [
    "hex_coords[[i for i in hex_coords.columns if i.startswith('neighbors')]].head()"
   ]
  },
  {
   "cell_type": "code",
   "execution_count": 43,
   "metadata": {},
   "outputs": [],
   "source": [
    "# hex_coords.to_pickle(prefix + 'concatenated.deep/deep2/hex.coords.pkl')\n",
    "hex_coords = pd.read_pickle(prefix + 'concatenated.deep/deep2/hex.coords.pkl')"
   ]
  },
  {
   "cell_type": "markdown",
   "metadata": {},
   "source": [
    "## 3. Make Images"
   ]
  },
  {
   "cell_type": "markdown",
   "metadata": {},
   "source": [
    "There are several ways to make images. The two methods we wanted to try first are as follows:\n",
    "\n",
    "1. Using the percentage of cells in a well that are MC38 vs Hepatocytes as the pixel value \n",
    "2. Using the counts of transcripts in cells across the most differentially expressed genes. \n",
    "\n",
    "Method 1 is simpler, but method 2 may provide more information. In this notebook, I will try method 1, but I may create another notebook looking into method 2."
   ]
  },
  {
   "cell_type": "markdown",
   "metadata": {},
   "source": [
    "#### Build a Counts DataFrame"
   ]
  },
  {
   "cell_type": "code",
   "execution_count": 49,
   "metadata": {},
   "outputs": [],
   "source": [
    "batches = adata.obs['batch'].unique()"
   ]
  },
  {
   "cell_type": "code",
   "execution_count": 55,
   "metadata": {},
   "outputs": [],
   "source": [
    "celltype_string = 'celltype'"
   ]
  },
  {
   "cell_type": "code",
   "execution_count": 56,
   "metadata": {},
   "outputs": [],
   "source": [
    "celltypes = adata.obs[celltype_string].unique()"
   ]
  },
  {
   "cell_type": "code",
   "execution_count": 57,
   "metadata": {},
   "outputs": [
    {
     "data": {
      "text/plain": [
       "[Hepatocyte, Hek293t, Kupffer, Lymphocyte, LSECs, Macrophage, mc38]\n",
       "Categories (7, object): [Hepatocyte, Hek293t, Kupffer, Lymphocyte, LSECs, Macrophage, mc38]"
      ]
     },
     "execution_count": 57,
     "metadata": {},
     "output_type": "execute_result"
    }
   ],
   "source": [
    "celltypes"
   ]
  },
  {
   "cell_type": "markdown",
   "metadata": {},
   "source": [
    "Initialize a counts dataframe that will contain the counts, per well and per batch, of each cell type. I'm going to use `pd.MultiIndex` to index according to `X`, `Y`, and `batch`. The MultiIndex, while useful, also causes some problems with by creating these indices of dtype `Category` that are hard to edit later. I try to remedy those issues by converting the columns to a regular index here, and then set the batch to an integer dtype after I build the counts dataframe. Converting to the batch to an integer is useful later."
   ]
  },
  {
   "cell_type": "code",
   "execution_count": 58,
   "metadata": {},
   "outputs": [],
   "source": [
    "counts = pd.DataFrame(0,index=pd.MultiIndex.from_product([batches,range(1,43),range(1,19)],names=['batch','X','Y']),columns=celltypes)\n",
    "counts.columns = pd.Index(list(counts.columns)) # this is to convert the columns into a normal index and not a categorical index, not sure why it does that when using multiindex.from_product"
   ]
  },
  {
   "cell_type": "code",
   "execution_count": 59,
   "metadata": {},
   "outputs": [
    {
     "data": {
      "text/plain": [
       "Index(['Hepatocyte', 'Hek293t', 'Kupffer', 'Lymphocyte', 'LSECs', 'Macrophage',\n",
       "       'mc38'],\n",
       "      dtype='object')"
      ]
     },
     "execution_count": 59,
     "metadata": {},
     "output_type": "execute_result"
    }
   ],
   "source": [
    "counts.columns"
   ]
  },
  {
   "cell_type": "markdown",
   "metadata": {},
   "source": [
    "Subset the adata into smaller adatas according to their batch."
   ]
  },
  {
   "cell_type": "code",
   "execution_count": 60,
   "metadata": {},
   "outputs": [],
   "source": [
    "adata_subs = dict()"
   ]
  },
  {
   "cell_type": "code",
   "execution_count": 61,
   "metadata": {},
   "outputs": [],
   "source": [
    "for batch in batches:\n",
    "    adata_subs[batch] = adata[adata.obs['batch'] == batch].copy()"
   ]
  },
  {
   "cell_type": "markdown",
   "metadata": {},
   "source": [
    "Fill the counts dataframe."
   ]
  },
  {
   "cell_type": "code",
   "execution_count": 62,
   "metadata": {},
   "outputs": [
    {
     "data": {
      "application/vnd.jupyter.widget-view+json": {
       "model_id": "04604ca6301d44f28656ddfb56487863",
       "version_major": 2,
       "version_minor": 0
      },
      "text/plain": [
       "HBox(children=(IntProgress(value=0, max=756), HTML(value='')))"
      ]
     },
     "metadata": {},
     "output_type": "display_data"
    },
    {
     "name": "stdout",
     "output_type": "stream",
     "text": [
      "\n"
     ]
    }
   ],
   "source": [
    "for batch, x, y in tqdm(counts.index):\n",
    "    xy_cts = adata_subs[batch][(adata_subs[batch].obs['X'] == x) & (adata_subs[batch].obs['Y'] == y)].obs[celltype_string]\n",
    "    cts, ct_counts = np.unique(xy_cts.values, return_counts=True)\n",
    "    for ct, ct_count in zip(cts, ct_counts):\n",
    "        counts.loc[(batch, x, y),ct] = ct_count"
   ]
  },
  {
   "cell_type": "markdown",
   "metadata": {},
   "source": [
    "This is where I convert the batch to an integer, it makes things easier later."
   ]
  },
  {
   "cell_type": "code",
   "execution_count": 63,
   "metadata": {},
   "outputs": [],
   "source": [
    "counts.index = counts.index.set_levels([counts.index.levels[0].astype(np.uint8), counts.index.levels[1], counts.index.levels[2]])"
   ]
  },
  {
   "cell_type": "markdown",
   "metadata": {},
   "source": [
    "Going to run the above cells twice and pickle the values so I don't have to run in the future."
   ]
  },
  {
   "cell_type": "code",
   "execution_count": 65,
   "metadata": {},
   "outputs": [],
   "source": [
    "# counts.to_pickle(prefix + 'individual.raw.and.proc.h5ads/fig3.L20C1/counts.celltype.pkl')\n",
    "counts = pd.read_pickle(prefix + 'individual.raw.and.proc.h5ads/fig3.L20C1/counts.celltype.pkl')"
   ]
  },
  {
   "cell_type": "markdown",
   "metadata": {},
   "source": [
    "#### Fill in the Hexarray with Color Values"
   ]
  },
  {
   "cell_type": "code",
   "execution_count": 66,
   "metadata": {},
   "outputs": [],
   "source": [
    "def get_colors(df, cts, color=True, prop_den=None, clip_cts=None, clip_tots=None):\n",
    "    '''\n",
    "    This function takes in the counts of each cell type from the DataFrame and \n",
    "    will generate color values based on the proportion of cells in each well\n",
    "    that are the celltype(s) of interest. If color set to False, will just\n",
    "    return the actual proportion of each cell type not scaled to RGB values.\n",
    "    \n",
    "    cts is a list of celltypes.\n",
    "    \n",
    "    For calculating proportion, will use a denomintaor of the total of only the provided \n",
    "    cell types (prop_den='cts') or the total of all cells (prop_den='tot'). If not\n",
    "    provided, for len(ct) == 1 will set to 'tot', else will use 'cts'.\n",
    "    \n",
    "    `clip_cts` (list, same length as cts) will floor counts to zero before doing\n",
    "    proportion calculations. `clip_tots` (int) will floor color values to zero\n",
    "    of wells that don't contain at least that many cells.\n",
    "    \n",
    "    Plotting raw counts is kind of unmeaningful, so skipping that for now.\n",
    "    '''\n",
    "    assert type(cts) == type(list())\n",
    "    \n",
    "    if type(clip_cts) == type(None):\n",
    "        clip_cts = [0]*len(cts)\n",
    "    else:\n",
    "        assert len(clip_cts) == len(cts)\n",
    "\n",
    "    if type(prop_den) == type(None):\n",
    "        # will fill in with what I think is appropriate if not provided\n",
    "        if len(cts) == 1:\n",
    "            prop_den = 'tot'\n",
    "        else:\n",
    "            prop_den = 'cts'\n",
    "            \n",
    "    # actually get the denominator\n",
    "    if prop_den == 'cts':\n",
    "        prop_den_vals = df[cts].sum(axis=1).values\n",
    "    elif prop_den == 'tot':\n",
    "        prop_den_vals = df.sum(axis=1).values\n",
    "    else:\n",
    "        raise ValueError\n",
    "\n",
    "    \n",
    "    val_dict = dict() \n",
    "    val_arrs = [np.zeros((len(df),))]*3 \n",
    "    \n",
    "    for i in range(len(cts)):\n",
    "        ct = cts[i]\n",
    "        val_dict[ct] = df[ct].values\n",
    "        clip_val = clip_cts[i]\n",
    "        val_dict[ct] = np.where(val_dict[ct] < clip_val, 0, val_dict[ct])\n",
    "        with np.errstate(invalid='ignore'):\n",
    "            val_dict[ct] = val_dict[ct] / prop_den_vals # this produces Nans, but they get replaced with 0 when converting to np.uint8\n",
    "        val_arrs[i] = val_dict[ct]\n",
    "        \n",
    "    if color == True:\n",
    "        colors = [255*i for i in val_arrs]\n",
    "        colors = np.stack(colors, axis=1).astype(np.uint8)\n",
    "        val_df = pd.DataFrame(colors,index=df.index,columns=['r','g','b'])\n",
    "    else:\n",
    "        props = np.nan_to_num(np.stack(val_arrs[:len(cts)], axis=1))\n",
    "        val_df = pd.DataFrame(props, index=df.index, columns=['%' + '%s/%s' % (ct, prop_den) for ct in cts])\n",
    "    \n",
    "    if type(clip_tots) != type(None):\n",
    "        tot = df.sum(axis=1).values\n",
    "        clip_tot_mask = tot >= clip_tots\n",
    "        clip_tot_mask = np.array([clip_tot_mask]*3).astype(bool).T\n",
    "        val_df.where(clip_tot_mask,0,inplace=True)\n",
    "                              \n",
    "#     val_df = val_df[val_df.sum(axis=1) != 0] # do not include this, just fill the whole thing, I thought to include it to reduce time but it causes problems later\n",
    "\n",
    "    return val_df"
   ]
  },
  {
   "cell_type": "code",
   "execution_count": 67,
   "metadata": {},
   "outputs": [],
   "source": [
    "def get_image(color_df):\n",
    "    '''\n",
    "    color_df is a dataframe with columns 'r', 'g', and 'b', corresponding to the color values\n",
    "    that should be filled into each hexagon.\n",
    "    '''\n",
    "    img = list()\n",
    "    for color in ['r','g','b']:\n",
    "        hex_array = np.zeros((222,399))\n",
    "        for y, x in it.product(range(1,19),range(1,45)):\n",
    "\n",
    "            try:\n",
    "                val = color_df.loc[(x, y), color]\n",
    "            except: # I should make this exception more specific\n",
    "                continue\n",
    "\n",
    "            xstart = hex_coords.loc[(x,y),'hex_xstart']\n",
    "            ystart = hex_coords.loc[(x,y),'hex_ystart']\n",
    "\n",
    "            yend = hex_coords.loc[(x,y),'hex_yend']\n",
    "            xend = hex_coords.loc[(x,y),'hex_xend']\n",
    "\n",
    "            current_hex = hex_array[ystart:yend,xstart:xend]\n",
    "            hex_array[ystart:yend,xstart:xend] = np.where(myhex, val, current_hex)\n",
    "        img.append(hex_array)\n",
    "    img = np.stack(img, axis=2).astype(np.uint8)\n",
    "    return img"
   ]
  },
  {
   "cell_type": "markdown",
   "metadata": {},
   "source": [
    "First, just color by total count:"
   ]
  },
  {
   "cell_type": "code",
   "execution_count": 68,
   "metadata": {},
   "outputs": [
    {
     "data": {
      "application/vnd.jupyter.widget-view+json": {
       "model_id": "b207799aa48b4d99b5993c751737e433",
       "version_major": 2,
       "version_minor": 0
      },
      "text/plain": [
       "HBox(children=(IntProgress(value=0, max=1), HTML(value='')))"
      ]
     },
     "metadata": {},
     "output_type": "display_data"
    },
    {
     "name": "stdout",
     "output_type": "stream",
     "text": [
      "\n"
     ]
    },
    {
     "data": {
      "image/png": "[encoded data removed]",
      "text/plain": [
       "<Figure size 2160x720 with 4 Axes>"
      ]
     },
     "metadata": {
      "needs_background": "light"
     },
     "output_type": "display_data"
    }
   ],
   "source": [
    "img_list = list()\n",
    "for batch in tqdm(counts.index.get_level_values('batch').unique()):\n",
    "    color_df = pd.DataFrame(0, index = counts.loc[batch].index, columns = ['r','g','b'])\n",
    "    tot = counts.loc[batch].sum(axis=1)\n",
    "    tot = np.uint8(tot/tot.max()*255)\n",
    "    color_df['g'] = tot\n",
    "    img = get_image(color_df)\n",
    "    img_list.append(img)\n",
    "fig, axes = plt.subplots(1,4, figsize=(30,10))\n",
    "for img, ax, title in zip(img_list, np.ravel(axes), ['L10C', 'L20C1', 'L20T', 'L30C']):\n",
    "    ax.imshow(img);\n",
    "    ax.set_title(title)\n",
    "    ax.axis('off')"
   ]
  },
  {
   "cell_type": "markdown",
   "metadata": {},
   "source": [
    "Next, color by %Hepatocyte vs %Cancer:"
   ]
  },
  {
   "cell_type": "code",
   "execution_count": 70,
   "metadata": {},
   "outputs": [
    {
     "data": {
      "application/vnd.jupyter.widget-view+json": {
       "model_id": "69c284dccecf455a9b16480b32213f93",
       "version_major": 2,
       "version_minor": 0
      },
      "text/plain": [
       "HBox(children=(IntProgress(value=0, max=1), HTML(value='')))"
      ]
     },
     "metadata": {},
     "output_type": "display_data"
    },
    {
     "name": "stdout",
     "output_type": "stream",
     "text": [
      "\n"
     ]
    },
    {
     "data": {
      "image/png": "[encoded data removed]",
      "text/plain": [
       "<Figure size 2160x720 with 4 Axes>"
      ]
     },
     "metadata": {
      "needs_background": "light"
     },
     "output_type": "display_data"
    }
   ],
   "source": [
    "img_list = list()\n",
    "for batch in tqdm(counts.index.get_level_values('batch').unique()):\n",
    "    images = list()\n",
    "    color_df = get_colors(counts.loc[batch], cts=['Hepatocyte', 'mc38'])\n",
    "    img = get_image(color_df)\n",
    "    img_list.append(img)\n",
    "fig, axes = plt.subplots(1,4, figsize=(30,10))\n",
    "for img, ax, title in zip(img_list, np.ravel(axes), ['L20C1']):\n",
    "    ax.imshow(img);\n",
    "    ax.set_title(title)\n",
    "    ax.axis('off')"
   ]
  },
  {
   "cell_type": "markdown",
   "metadata": {},
   "source": [
    "There seems to be a lot of spurious wells, that, based on the total counts from the well, would not be showing up as red or green. I want to see if I can use the `clip_tots` functionality to try filtering out those isolated wells, ones that a binary closing would remove."
   ]
  },
  {
   "cell_type": "code",
   "execution_count": 71,
   "metadata": {},
   "outputs": [
    {
     "data": {
      "application/vnd.jupyter.widget-view+json": {
       "model_id": "e2a191834657418e8fd4f28b0c175d95",
       "version_major": 2,
       "version_minor": 0
      },
      "text/plain": [
       "HBox(children=(IntProgress(value=0, max=4), HTML(value='')))"
      ]
     },
     "metadata": {},
     "output_type": "display_data"
    },
    {
     "name": "stdout",
     "output_type": "stream",
     "text": [
      "\n"
     ]
    },
    {
     "data": {
      "application/vnd.jupyter.widget-view+json": {
       "model_id": "688f7ed6ca0f433399e779da3571924a",
       "version_major": 2,
       "version_minor": 0
      },
      "text/plain": [
       "HBox(children=(IntProgress(value=0, max=4), HTML(value='')))"
      ]
     },
     "metadata": {},
     "output_type": "display_data"
    },
    {
     "name": "stdout",
     "output_type": "stream",
     "text": [
      "\n"
     ]
    },
    {
     "data": {
      "application/vnd.jupyter.widget-view+json": {
       "model_id": "991a3036c3484fbab75e6f3eb98b2f7f",
       "version_major": 2,
       "version_minor": 0
      },
      "text/plain": [
       "HBox(children=(IntProgress(value=0, max=4), HTML(value='')))"
      ]
     },
     "metadata": {},
     "output_type": "display_data"
    },
    {
     "name": "stdout",
     "output_type": "stream",
     "text": [
      "\n"
     ]
    },
    {
     "data": {
      "image/png": "[encoded data removed]",
      "text/plain": [
       "<Figure size 2160x720 with 4 Axes>"
      ]
     },
     "metadata": {
      "needs_background": "light"
     },
     "output_type": "display_data"
    },
    {
     "data": {
      "image/png": "[encoded data removed]",
      "text/plain": [
       "<Figure size 2160x720 with 4 Axes>"
      ]
     },
     "metadata": {
      "needs_background": "light"
     },
     "output_type": "display_data"
    },
    {
     "data": {
      "image/png": "[encoded data removed]",
      "text/plain": [
       "<Figure size 2160x720 with 4 Axes>"
      ]
     },
     "metadata": {
      "needs_background": "light"
     },
     "output_type": "display_data"
    }
   ],
   "source": [
    "clip_tots_threshs = range(2,5) # I've introduced this to try to clean up a lot of the isolated wells that are lighting up\n",
    "\n",
    "for clip_tot in clip_tots_threshs:\n",
    "    clip_tots = [clip_tot]*4\n",
    "    img_list = list()\n",
    "    for batch, clip in tqdm(zip(counts.index.get_level_values('batch').unique(), clip_tots), total=4):\n",
    "        images = list()\n",
    "        color_df = get_colors(counts.loc[batch], cts=['Hepatocyte', 'mc38'], clip_tots=clip)\n",
    "        img = get_image(color_df)\n",
    "        img_list.append(img)\n",
    "    fig, axes = plt.subplots(1,4, figsize=(30,10))\n",
    "    for img, ax, title in zip(img_list, np.ravel(axes), ['L20C1']):\n",
    "        ax.imshow(img);\n",
    "        ax.set_title(title)\n",
    "        ax.axis('off')"
   ]
  },
  {
   "cell_type": "markdown",
   "metadata": {},
   "source": [
    "Okay, doesn't seem like theres a single threshold to apply to all the slices that would remove those and not remove the wells I'm more confident in. My suggestion to remove those is:\n",
    "\n",
    "1. Plot all percentages (not filtered for hepatocyte, MC38, or total counts).\n",
    "2. Do a _binary closing_ on all the wells. This will remove any that are completely isolated. \n",
    "3. Iteratively remove wells connected to the main mass by only one well until no more improvement.\n",
    "\n",
    "I think it would also benefit thinking about this in the context of graph theory. Wells are nodes connected to eachother by their immediate neighbors (or by edges weighted by their proximity). It may have made all the calculations much easier, so if I revisit the calculations, I should consider using a graphing package."
   ]
  },
  {
   "cell_type": "code",
   "execution_count": null,
   "metadata": {},
   "outputs": [],
   "source": []
  },
  {
   "cell_type": "code",
   "execution_count": null,
   "metadata": {},
   "outputs": [],
   "source": []
  }
 ],
 "metadata": {
  "kernelspec": {
   "display_name": "xyzeq",
   "language": "python",
   "name": "xyzeq"
  },
  "language_info": {
   "codemirror_mode": {
    "name": "ipython",
    "version": 3
   },
   "file_extension": ".py",
   "mimetype": "text/x-python",
   "name": "python",
   "nbconvert_exporter": "python",
   "pygments_lexer": "ipython3",
   "version": "3.6.7"
  }
 },
 "nbformat": 4,
 "nbformat_minor": 4
}
