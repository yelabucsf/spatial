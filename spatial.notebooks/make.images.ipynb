{
 "cells": [
  {
   "cell_type": "markdown",
   "metadata": {},
   "source": [
    "This notebook can be used for making and visualizing the images of the XYZeq datasets. You can choose which stats and which color channels to map to which values of the sequencing data."
   ]
  },
  {
   "cell_type": "code",
   "execution_count": 1,
   "metadata": {},
   "outputs": [],
   "source": [
    "import scanpy as sc\n",
    "import pandas as pd\n",
    "import numpy as np\n",
    "from scipy.sparse import csr_matrix\n",
    "\n",
    "import matplotlib.pyplot as plt\n",
    "\n",
    "import warnings\n",
    "from tqdm.notebook import tqdm\n",
    "import itertools as it\n",
    "import pickle as pkl\n",
    "import os"
   ]
  },
  {
   "cell_type": "markdown",
   "metadata": {},
   "source": [
    "## 1. Read in Adata and Spatial Barcodes"
   ]
  },
  {
   "cell_type": "code",
   "execution_count": 2,
   "metadata": {},
   "outputs": [],
   "source": [
    "prefix = '/data/xyzeq/xyzeq/'"
   ]
  },
  {
   "cell_type": "code",
   "execution_count": 3,
   "metadata": {},
   "outputs": [],
   "source": [
    "adata = sc.read_h5ad(prefix + 'concatenated.deep/deep2/concat.deep.adata.m.and.h.combatted.dimred.subsetted.dimred.h5ad')"
   ]
  },
  {
   "cell_type": "code",
   "execution_count": 4,
   "metadata": {},
   "outputs": [],
   "source": [
    "spatial = pd.read_csv(prefix + 'plate23_map.csv', header=None, index_col=0)\n",
    "spatial.columns = ['X','Y']"
   ]
  },
  {
   "cell_type": "code",
   "execution_count": 5,
   "metadata": {},
   "outputs": [
    {
     "data": {
      "text/html": [
       "<div>\n",
       "<style scoped>\n",
       "    .dataframe tbody tr th:only-of-type {\n",
       "        vertical-align: middle;\n",
       "    }\n",
       "\n",
       "    .dataframe tbody tr th {\n",
       "        vertical-align: top;\n",
       "    }\n",
       "\n",
       "    .dataframe thead th {\n",
       "        text-align: right;\n",
       "    }\n",
       "</style>\n",
       "<table border=\"1\" class=\"dataframe\">\n",
       "  <thead>\n",
       "    <tr style=\"text-align: right;\">\n",
       "      <th></th>\n",
       "      <th>X</th>\n",
       "      <th>Y</th>\n",
       "    </tr>\n",
       "    <tr>\n",
       "      <th>0</th>\n",
       "      <th></th>\n",
       "      <th></th>\n",
       "    </tr>\n",
       "  </thead>\n",
       "  <tbody>\n",
       "    <tr>\n",
       "      <th>AGTTGTTCTAGCGCCT</th>\n",
       "      <td>1</td>\n",
       "      <td>1</td>\n",
       "    </tr>\n",
       "    <tr>\n",
       "      <th>CCGTTAGACGTGACAG</th>\n",
       "      <td>1</td>\n",
       "      <td>2</td>\n",
       "    </tr>\n",
       "    <tr>\n",
       "      <th>CTTACGGTCCGTACGT</th>\n",
       "      <td>1</td>\n",
       "      <td>3</td>\n",
       "    </tr>\n",
       "    <tr>\n",
       "      <th>TCCTGCATTGTGAGAA</th>\n",
       "      <td>1</td>\n",
       "      <td>4</td>\n",
       "    </tr>\n",
       "    <tr>\n",
       "      <th>CTGCGCACTGCTTCTT</th>\n",
       "      <td>1</td>\n",
       "      <td>5</td>\n",
       "    </tr>\n",
       "    <tr>\n",
       "      <th>...</th>\n",
       "      <td>...</td>\n",
       "      <td>...</td>\n",
       "    </tr>\n",
       "    <tr>\n",
       "      <th>CCTGTTGTATGGTTAC</th>\n",
       "      <td>44</td>\n",
       "      <td>2</td>\n",
       "    </tr>\n",
       "    <tr>\n",
       "      <th>TCAATCTATGAGTCGC</th>\n",
       "      <td>44</td>\n",
       "      <td>3</td>\n",
       "    </tr>\n",
       "    <tr>\n",
       "      <th>TCGCGACTGCCACTAC</th>\n",
       "      <td>44</td>\n",
       "      <td>4</td>\n",
       "    </tr>\n",
       "    <tr>\n",
       "      <th>CAGGACCTTAATCGTA</th>\n",
       "      <td>44</td>\n",
       "      <td>5</td>\n",
       "    </tr>\n",
       "    <tr>\n",
       "      <th>GGCTATGGCTCAGCTG</th>\n",
       "      <td>44</td>\n",
       "      <td>6</td>\n",
       "    </tr>\n",
       "  </tbody>\n",
       "</table>\n",
       "<p>768 rows × 2 columns</p>\n",
       "</div>"
      ],
      "text/plain": [
       "                   X  Y\n",
       "0                      \n",
       "AGTTGTTCTAGCGCCT   1  1\n",
       "CCGTTAGACGTGACAG   1  2\n",
       "CTTACGGTCCGTACGT   1  3\n",
       "TCCTGCATTGTGAGAA   1  4\n",
       "CTGCGCACTGCTTCTT   1  5\n",
       "...               .. ..\n",
       "CCTGTTGTATGGTTAC  44  2\n",
       "TCAATCTATGAGTCGC  44  3\n",
       "TCGCGACTGCCACTAC  44  4\n",
       "CAGGACCTTAATCGTA  44  5\n",
       "GGCTATGGCTCAGCTG  44  6\n",
       "\n",
       "[768 rows x 2 columns]"
      ]
     },
     "execution_count": 5,
     "metadata": {},
     "output_type": "execute_result"
    }
   ],
   "source": [
    "spatial"
   ]
  },
  {
   "cell_type": "code",
   "execution_count": 6,
   "metadata": {},
   "outputs": [
    {
     "data": {
      "text/html": [
       "<div>\n",
       "<style scoped>\n",
       "    .dataframe tbody tr th:only-of-type {\n",
       "        vertical-align: middle;\n",
       "    }\n",
       "\n",
       "    .dataframe tbody tr th {\n",
       "        vertical-align: top;\n",
       "    }\n",
       "\n",
       "    .dataframe thead th {\n",
       "        text-align: right;\n",
       "    }\n",
       "</style>\n",
       "<table border=\"1\" class=\"dataframe\">\n",
       "  <thead>\n",
       "    <tr style=\"text-align: right;\">\n",
       "      <th></th>\n",
       "      <th>X</th>\n",
       "      <th>Y</th>\n",
       "    </tr>\n",
       "    <tr>\n",
       "      <th>0</th>\n",
       "      <th></th>\n",
       "      <th></th>\n",
       "    </tr>\n",
       "  </thead>\n",
       "  <tbody>\n",
       "    <tr>\n",
       "      <th>CGCACTATAGGTTAAG</th>\n",
       "      <td>42</td>\n",
       "      <td>11</td>\n",
       "    </tr>\n",
       "    <tr>\n",
       "      <th>ATCGCGGTTCCTGAGG</th>\n",
       "      <td>42</td>\n",
       "      <td>12</td>\n",
       "    </tr>\n",
       "    <tr>\n",
       "      <th>AGTAGAGTTATCGTCC</th>\n",
       "      <td>42</td>\n",
       "      <td>13</td>\n",
       "    </tr>\n",
       "    <tr>\n",
       "      <th>GCTTGACCGTAATCGA</th>\n",
       "      <td>42</td>\n",
       "      <td>14</td>\n",
       "    </tr>\n",
       "    <tr>\n",
       "      <th>CGGCTCATTACTGCGG</th>\n",
       "      <td>42</td>\n",
       "      <td>15</td>\n",
       "    </tr>\n",
       "    <tr>\n",
       "      <th>GGACGCCTACAATGAT</th>\n",
       "      <td>42</td>\n",
       "      <td>16</td>\n",
       "    </tr>\n",
       "    <tr>\n",
       "      <th>TACATCGACGAACCTG</th>\n",
       "      <td>42</td>\n",
       "      <td>17</td>\n",
       "    </tr>\n",
       "    <tr>\n",
       "      <th>AGCGGAGAGTCAAGCT</th>\n",
       "      <td>42</td>\n",
       "      <td>18</td>\n",
       "    </tr>\n",
       "    <tr>\n",
       "      <th>GCATCCAATCGCGTTA</th>\n",
       "      <td>43</td>\n",
       "      <td>1</td>\n",
       "    </tr>\n",
       "    <tr>\n",
       "      <th>TATCGACGGCGTGAGT</th>\n",
       "      <td>43</td>\n",
       "      <td>2</td>\n",
       "    </tr>\n",
       "    <tr>\n",
       "      <th>GCTCTGTCTAAGTTCC</th>\n",
       "      <td>43</td>\n",
       "      <td>3</td>\n",
       "    </tr>\n",
       "    <tr>\n",
       "      <th>GAATTCCGCGGTAGTA</th>\n",
       "      <td>43</td>\n",
       "      <td>4</td>\n",
       "    </tr>\n",
       "    <tr>\n",
       "      <th>CAGCCTATGACGGTAA</th>\n",
       "      <td>43</td>\n",
       "      <td>5</td>\n",
       "    </tr>\n",
       "    <tr>\n",
       "      <th>GATCATAACTCGGCTC</th>\n",
       "      <td>43</td>\n",
       "      <td>6</td>\n",
       "    </tr>\n",
       "    <tr>\n",
       "      <th>CTATCGACGAGTATAC</th>\n",
       "      <td>44</td>\n",
       "      <td>1</td>\n",
       "    </tr>\n",
       "    <tr>\n",
       "      <th>CCTGTTGTATGGTTAC</th>\n",
       "      <td>44</td>\n",
       "      <td>2</td>\n",
       "    </tr>\n",
       "    <tr>\n",
       "      <th>TCAATCTATGAGTCGC</th>\n",
       "      <td>44</td>\n",
       "      <td>3</td>\n",
       "    </tr>\n",
       "    <tr>\n",
       "      <th>TCGCGACTGCCACTAC</th>\n",
       "      <td>44</td>\n",
       "      <td>4</td>\n",
       "    </tr>\n",
       "    <tr>\n",
       "      <th>CAGGACCTTAATCGTA</th>\n",
       "      <td>44</td>\n",
       "      <td>5</td>\n",
       "    </tr>\n",
       "    <tr>\n",
       "      <th>GGCTATGGCTCAGCTG</th>\n",
       "      <td>44</td>\n",
       "      <td>6</td>\n",
       "    </tr>\n",
       "  </tbody>\n",
       "</table>\n",
       "</div>"
      ],
      "text/plain": [
       "                   X   Y\n",
       "0                       \n",
       "CGCACTATAGGTTAAG  42  11\n",
       "ATCGCGGTTCCTGAGG  42  12\n",
       "AGTAGAGTTATCGTCC  42  13\n",
       "GCTTGACCGTAATCGA  42  14\n",
       "CGGCTCATTACTGCGG  42  15\n",
       "GGACGCCTACAATGAT  42  16\n",
       "TACATCGACGAACCTG  42  17\n",
       "AGCGGAGAGTCAAGCT  42  18\n",
       "GCATCCAATCGCGTTA  43   1\n",
       "TATCGACGGCGTGAGT  43   2\n",
       "GCTCTGTCTAAGTTCC  43   3\n",
       "GAATTCCGCGGTAGTA  43   4\n",
       "CAGCCTATGACGGTAA  43   5\n",
       "GATCATAACTCGGCTC  43   6\n",
       "CTATCGACGAGTATAC  44   1\n",
       "CCTGTTGTATGGTTAC  44   2\n",
       "TCAATCTATGAGTCGC  44   3\n",
       "TCGCGACTGCCACTAC  44   4\n",
       "CAGGACCTTAATCGTA  44   5\n",
       "GGCTATGGCTCAGCTG  44   6"
      ]
     },
     "execution_count": 6,
     "metadata": {},
     "output_type": "execute_result"
    }
   ],
   "source": [
    "spatial.iloc[-20:,:]"
   ]
  },
  {
   "cell_type": "markdown",
   "metadata": {},
   "source": [
    "X indices 43 and 44 don't have a full set of Y indices. These indices are on the edge of the array and are complicating some of the operations further downstream. Because I've examined some of the outputs and they do not seem to be terribly useful anyway (probably contain very few cells), I'm going to drop them for now. I will do this after I add the columns to the `adata.obs`."
   ]
  },
  {
   "cell_type": "code",
   "execution_count": 7,
   "metadata": {},
   "outputs": [],
   "source": [
    "adata.obs['spatial_bc'] = [i.split('.')[1].split('-')[0] for i in adata.obs_names]"
   ]
  },
  {
   "cell_type": "code",
   "execution_count": 8,
   "metadata": {},
   "outputs": [],
   "source": [
    "adata.obs['X'] = list(map(lambda x: spatial.loc[x,'X'], adata.obs['spatial_bc']))\n",
    "adata.obs['Y'] = list(map(lambda x: spatial.loc[x,'Y'], adata.obs['spatial_bc']))"
   ]
  },
  {
   "cell_type": "code",
   "execution_count": 9,
   "metadata": {},
   "outputs": [
    {
     "data": {
      "text/plain": [
       "26"
      ]
     },
     "execution_count": 9,
     "metadata": {},
     "output_type": "execute_result"
    }
   ],
   "source": [
    "sum(adata.obs['X'] > 42)"
   ]
  },
  {
   "cell_type": "markdown",
   "metadata": {},
   "source": [
    "Only 26 cells across 5 batches in these wells. Let's just drop them."
   ]
  },
  {
   "cell_type": "code",
   "execution_count": 10,
   "metadata": {},
   "outputs": [],
   "source": [
    "adata = adata[adata.obs['X'] <= 42].copy()"
   ]
  },
  {
   "cell_type": "markdown",
   "metadata": {},
   "source": [
    "I'm also only going to use the first 4 batches, since the last batch was actually from the same exact slice (and I've confirmed after examining outputs that they are almost identical). We could possibly merge them into one output (now more cells for the combined batch) but not sure if that'd be explainable, since we technically tried to enrich for CD8s and it just didn't work."
   ]
  },
  {
   "cell_type": "code",
   "execution_count": 11,
   "metadata": {},
   "outputs": [],
   "source": [
    "adata = adata[adata.obs['batch'] != '4'].copy()"
   ]
  },
  {
   "cell_type": "markdown",
   "metadata": {},
   "source": [
    "## 2. Build the HexMap\n",
    "Instead of relying on matplotlib, for many reasons I've decided to just build the image manually using a numpy array."
   ]
  },
  {
   "cell_type": "markdown",
   "metadata": {},
   "source": [
    "When considering the hexagons:\n",
    "1. We want something as small as possible because for super resolution we will be registering to _pixel_ resolution. \n",
    "2. We need something that stacks. I don't know the theory or jargon around this, but I've determined (mostly through trial and error) we need something with an even number of pixels per side to prevent single-pixel points on the sides, as those don't stack.\n",
    "\n",
    "I've come to the conclusion that the smallest, most-hexagon-like figure we can generate is the one that fits inside a 12 x 12 pixel grid."
   ]
  },
  {
   "cell_type": "code",
   "execution_count": 12,
   "metadata": {},
   "outputs": [],
   "source": [
    "myhex = np.zeros((12,12)) "
   ]
  },
  {
   "cell_type": "code",
   "execution_count": 13,
   "metadata": {},
   "outputs": [],
   "source": [
    "myhex[0:1,3:9] = 1\n",
    "myhex[1:3,2:10] = 1\n",
    "myhex[3:5,1:11] = 1\n",
    "myhex[5:7,:12] = 1\n",
    "myhex[7:9,1:11] = 1\n",
    "myhex[9:11,2:10] = 1\n",
    "myhex[11:12,3:9] = 1"
   ]
  },
  {
   "cell_type": "code",
   "execution_count": 14,
   "metadata": {},
   "outputs": [
    {
     "data": {
      "image/png": "[encoded data removed]",
      "text/plain": [
       "<Figure size 432x288 with 1 Axes>"
      ]
     },
     "metadata": {
      "needs_background": "light"
     },
     "output_type": "display_data"
    }
   ],
   "source": [
    "plt.imshow(myhex, cmap='binary');"
   ]
  },
  {
   "cell_type": "markdown",
   "metadata": {},
   "source": [
    "Our hexagon has 6 pixel-long sides on top and bottom. If it were a true hexagon, the pixels on the vertical sides would also be 6 units long. We can try to measure one by using the length of the right triangle formed from the 3 pixels jutting out and 6 pixels high, which ends up creating a hypotenuse vertical side of theortical 6.71 units long, so 6 ~ 6.7, I'd say is close enough (~10% off) to true hexagon. The 12-pixel-long hexagon also has the added benefit of spatial resolution to around the diameter of a cell (500/12 is 40 um, roughly the size of what I'd imagine are the largest cells we'll be picking up). "
   ]
  },
  {
   "cell_type": "markdown",
   "metadata": {},
   "source": [
    "Now building the array of hexagons. I will mark the location of key points of each hexagons in a lookup dataframe called `hex_coords` so I don't have to build it everytime I need to fill in new values."
   ]
  },
  {
   "cell_type": "code",
   "execution_count": 309,
   "metadata": {},
   "outputs": [],
   "source": [
    "# make a lookup table, so that I don't have to do all these calculations again\n",
    "hex_coords = pd.DataFrame(0,index=pd.MultiIndex.from_product([range(1,43), range(1,19)], names=['X','Y']),\n",
    "                          columns=['hex_xstart','hex_ystart', 'center_xstart', 'center_ystart', 'hex_xend', 'hex_yend'])\n",
    "\n",
    "for y, x in it.product(range(1,19),range(1,43)):\n",
    "    xstart = int(6*(x-1)*1.5) # please don't ask me how I figured this equation out, it works\n",
    "    ystart = (y-1)*12\n",
    "    if x % 2 == 0:  \n",
    "        ystart = ystart + 6\n",
    "\n",
    "    # make a lookup table, so that I don't have to do all these calculations again\n",
    "    hex_coords.loc[(x,y),'hex_xstart'] = xstart\n",
    "    hex_coords.loc[(x,y),'hex_ystart'] = ystart\n",
    "    hex_coords.loc[(x,y),'center_xstart'] = xstart + 5\n",
    "    hex_coords.loc[(x,y),'center_ystart'] = ystart + 5\n",
    "    hex_coords.loc[(x,y),'hex_xend'] = xstart + 12\n",
    "    hex_coords.loc[(x,y),'hex_yend'] = ystart + 12\n",
    "# hex_coords = hex_coords.astype(np.uint8) # definitely don't convert to integers, it will mess things up, not quite sure how exactly at the current moment"
   ]
  },
  {
   "cell_type": "markdown",
   "metadata": {},
   "source": [
    "Now fill in the hex array with random colors to show it works."
   ]
  },
  {
   "cell_type": "code",
   "execution_count": 310,
   "metadata": {},
   "outputs": [],
   "source": [
    "img = list()\n",
    "for color in ['r','g','b']:\n",
    "    hex_array = np.zeros((222,381)) # these are calculated to perfectly encapsulate the 19 x 43 well array\n",
    "    for y, x in it.product(range(1,19),range(1,43)):\n",
    "        \n",
    "        val = np.random.choice(range(50,255))\n",
    "        \n",
    "        xstart = hex_coords.loc[(x,y),'hex_xstart']\n",
    "        ystart = hex_coords.loc[(x,y),'hex_ystart']\n",
    "\n",
    "        yend = hex_coords.loc[(x,y),'hex_yend']\n",
    "        xend = hex_coords.loc[(x,y),'hex_xend']\n",
    "        \n",
    "        current_hex = hex_array[ystart:yend,xstart:xend]\n",
    "        hex_array[ystart:yend,xstart:xend] = np.where(myhex, val, current_hex)\n",
    "    img.append(hex_array)\n",
    "img = np.stack(img, axis=2).astype(np.uint8)"
   ]
  },
  {
   "cell_type": "code",
   "execution_count": 311,
   "metadata": {},
   "outputs": [
    {
     "data": {
      "image/png": "[encoded data removed]",
      "text/plain": [
       "<Figure size 1152x633.6 with 1 Axes>"
      ]
     },
     "metadata": {
      "needs_background": "light"
     },
     "output_type": "display_data"
    }
   ],
   "source": [
    "plt.figure(figsize=(400/25,220/25)) # chose this size to keep the aspect ratio\n",
    "plt.imshow(img, cmap='binary');"
   ]
  },
  {
   "cell_type": "markdown",
   "metadata": {},
   "source": [
    "I would also like to make a list of neighbors for each well for use later. Neighbors are divided into layers of proximity, where the layer corresponds to the least number of jumps from one well to the neighbor, which I imagine this perfectly correlates with, or at least very well approximates, true physical distance of a cell in one well to another given our resolution. \n",
    "\n",
    "So I wrote a function to get immediate neighbors which works well. However, if we think about it, neighbors of well _(x, y)_ of layer _L_ = 2 are just the **_new_** neighbors of those wells of _L_ = 1. This can be formalized with better and notation, but in essence we just need to iteratively get the immediate neighbors of our neighbors to get those layers that are more than 1 away. Because I calculate immediate neighbors once and store it in the `hex_coords` Dataframe, I don't need to iteratively call the function but rather just look up the neighbors.\n",
    "\n",
    "Very proud of the two cells below, although this *might* have been easier with just applying a function that could probably do this for perfectly orthogonal coordinates and then just shifting every other row up or down by one."
   ]
  },
  {
   "cell_type": "code",
   "execution_count": 312,
   "metadata": {},
   "outputs": [],
   "source": [
    "def immediate_neighbors(x, y):\n",
    "    if x % 2 == 0:\n",
    "        neighbors = np.array([(x-1, y+1), (x, y+1), (x+1, y+1), (x-1, y), (x+1, y), (x, y-1)])\n",
    "    else:\n",
    "        neighbors = np.array([(x-1, y-1), (x, y-1), (x+1, y-1), (x-1, y), (x+1, y), (x, y+1)])\n",
    "    \n",
    "    neighbors = np.array([i for i in neighbors if not np.any(i <= 0)\n",
    "                     and not np.any(i[0] > 42) \n",
    "                     and not np.any(i[1] > 18)]) # remove those that are outside array bounds\n",
    "    neighbors = set(tuple(i) for i in neighbors) # convert to set for easier manipulation alter\n",
    "    return neighbors"
   ]
  },
  {
   "cell_type": "code",
   "execution_count": 313,
   "metadata": {},
   "outputs": [
    {
     "data": {
      "application/vnd.jupyter.widget-view+json": {
       "model_id": "a6114277a3504b9590e3a307f7c72035",
       "version_major": 2,
       "version_minor": 0
      },
      "text/plain": [
       "HBox(children=(IntProgress(value=0, max=756), HTML(value='')))"
      ]
     },
     "metadata": {},
     "output_type": "display_data"
    },
    {
     "name": "stdout",
     "output_type": "stream",
     "text": [
      "\n"
     ]
    },
    {
     "data": {
      "application/vnd.jupyter.widget-view+json": {
       "model_id": "64fe57adb3284333bae6cf1433a20187",
       "version_major": 2,
       "version_minor": 0
      },
      "text/plain": [
       "HBox(children=(IntProgress(value=0, max=756), HTML(value='')))"
      ]
     },
     "metadata": {},
     "output_type": "display_data"
    },
    {
     "name": "stdout",
     "output_type": "stream",
     "text": [
      "\n"
     ]
    },
    {
     "data": {
      "application/vnd.jupyter.widget-view+json": {
       "model_id": "6d1cc43ce64c4707b625037543b466ac",
       "version_major": 2,
       "version_minor": 0
      },
      "text/plain": [
       "HBox(children=(IntProgress(value=0, max=756), HTML(value='')))"
      ]
     },
     "metadata": {},
     "output_type": "display_data"
    },
    {
     "name": "stdout",
     "output_type": "stream",
     "text": [
      "\n"
     ]
    },
    {
     "data": {
      "application/vnd.jupyter.widget-view+json": {
       "model_id": "58288e74de3a41d3842813d894f3549a",
       "version_major": 2,
       "version_minor": 0
      },
      "text/plain": [
       "HBox(children=(IntProgress(value=0, max=756), HTML(value='')))"
      ]
     },
     "metadata": {},
     "output_type": "display_data"
    },
    {
     "name": "stdout",
     "output_type": "stream",
     "text": [
      "\n"
     ]
    },
    {
     "data": {
      "application/vnd.jupyter.widget-view+json": {
       "model_id": "699fe6adebfb4c9f89171d80175fbffc",
       "version_major": 2,
       "version_minor": 0
      },
      "text/plain": [
       "HBox(children=(IntProgress(value=0, max=756), HTML(value='')))"
      ]
     },
     "metadata": {},
     "output_type": "display_data"
    },
    {
     "name": "stdout",
     "output_type": "stream",
     "text": [
      "\n"
     ]
    },
    {
     "data": {
      "application/vnd.jupyter.widget-view+json": {
       "model_id": "bbf592e3a6ff47f0977dee8e9245f066",
       "version_major": 2,
       "version_minor": 0
      },
      "text/plain": [
       "HBox(children=(IntProgress(value=0, max=756), HTML(value='')))"
      ]
     },
     "metadata": {},
     "output_type": "display_data"
    },
    {
     "name": "stdout",
     "output_type": "stream",
     "text": [
      "\n"
     ]
    },
    {
     "data": {
      "application/vnd.jupyter.widget-view+json": {
       "model_id": "8be4592b16094fcab0d9b4a959c7b09a",
       "version_major": 2,
       "version_minor": 0
      },
      "text/plain": [
       "HBox(children=(IntProgress(value=0, max=756), HTML(value='')))"
      ]
     },
     "metadata": {},
     "output_type": "display_data"
    },
    {
     "name": "stdout",
     "output_type": "stream",
     "text": [
      "\n"
     ]
    },
    {
     "data": {
      "application/vnd.jupyter.widget-view+json": {
       "model_id": "5e48c04a3a2646daa1001eaf84a40e16",
       "version_major": 2,
       "version_minor": 0
      },
      "text/plain": [
       "HBox(children=(IntProgress(value=0, max=756), HTML(value='')))"
      ]
     },
     "metadata": {},
     "output_type": "display_data"
    },
    {
     "name": "stdout",
     "output_type": "stream",
     "text": [
      "\n"
     ]
    },
    {
     "data": {
      "application/vnd.jupyter.widget-view+json": {
       "model_id": "7a14cf4461ce4470add309f55c43c01f",
       "version_major": 2,
       "version_minor": 0
      },
      "text/plain": [
       "HBox(children=(IntProgress(value=0, max=756), HTML(value='')))"
      ]
     },
     "metadata": {},
     "output_type": "display_data"
    },
    {
     "name": "stdout",
     "output_type": "stream",
     "text": [
      "\n"
     ]
    },
    {
     "data": {
      "application/vnd.jupyter.widget-view+json": {
       "model_id": "822032d299c547e39132b4dfcc0feac1",
       "version_major": 2,
       "version_minor": 0
      },
      "text/plain": [
       "HBox(children=(IntProgress(value=0, max=756), HTML(value='')))"
      ]
     },
     "metadata": {},
     "output_type": "display_data"
    },
    {
     "name": "stdout",
     "output_type": "stream",
     "text": [
      "\n"
     ]
    }
   ],
   "source": [
    "for layer in range(1,11):\n",
    "    if layer == 1:\n",
    "        # exclude has one key for each well, and value = set() of wells to exclude when trying to determine the newest layer of neighbors\n",
    "        # for each layer, value set() grows by set of wells that have already been included in a neighbor set + the center well in question\n",
    "        # tried to make `exclude` a col in the df, but pands was giving me trouble for setting a value of df to a set()\n",
    "        exclude = dict() \n",
    "        \n",
    "        # a list of neighbors that will become the column in the df\n",
    "        neighbors_list = list()\n",
    "        for x, y in tqdm(it.product(range(1,43), range(1,19)),total=42*18):\n",
    "            neighbors = immediate_neighbors(x, y) # get the immediate neighbors\n",
    "            neighbors_list.append(neighbors) # add them to the list of neighbors\n",
    "            exclude[(x,y)] = neighbors.union(set([(x,y)])) # add the well in question\n",
    "    else:\n",
    "        neighbors_list = list() \n",
    "        \n",
    "        for x, y in tqdm(it.product(range(1,43), range(1,19)),total=42*18):\n",
    "            neighbors_2 = set() # neighbors \"squared\", i.e. the neighbors of the neighbors in question\n",
    "            \n",
    "            for neighbor in hex_coords.loc[(x, y), 'neighbors_%s' % (layer-1)]: # for each neighbor...,\n",
    "                neighbors_2 = neighbors_2.union(hex_coords.loc[neighbor,'neighbors_1']) # ..., get its immediate neighbors\n",
    "                \n",
    "            new_neighbors = neighbors_2.difference(exclude[(x,y)]) # exclude the neighbors that are already in a neighbors list\n",
    "            exclude[(x,y)] = exclude[(x,y)].union(new_neighbors) # update the exclude set() with the new neighbors\n",
    "            neighbors_list.append(new_neighbors)\n",
    "    hex_coords['neighbors_%s' % layer] = neighbors_list # put the neighbors list in the df"
   ]
  },
  {
   "cell_type": "code",
   "execution_count": 314,
   "metadata": {},
   "outputs": [
    {
     "data": {
      "text/html": [
       "<div>\n",
       "<style scoped>\n",
       "    .dataframe tbody tr th:only-of-type {\n",
       "        vertical-align: middle;\n",
       "    }\n",
       "\n",
       "    .dataframe tbody tr th {\n",
       "        vertical-align: top;\n",
       "    }\n",
       "\n",
       "    .dataframe thead th {\n",
       "        text-align: right;\n",
       "    }\n",
       "</style>\n",
       "<table border=\"1\" class=\"dataframe\">\n",
       "  <thead>\n",
       "    <tr style=\"text-align: right;\">\n",
       "      <th></th>\n",
       "      <th></th>\n",
       "      <th>hex_xstart</th>\n",
       "      <th>hex_ystart</th>\n",
       "      <th>center_xstart</th>\n",
       "      <th>center_ystart</th>\n",
       "      <th>hex_xend</th>\n",
       "      <th>hex_yend</th>\n",
       "      <th>neighbors_1</th>\n",
       "      <th>neighbors_2</th>\n",
       "      <th>neighbors_3</th>\n",
       "      <th>neighbors_4</th>\n",
       "      <th>neighbors_5</th>\n",
       "      <th>neighbors_6</th>\n",
       "      <th>neighbors_7</th>\n",
       "      <th>neighbors_8</th>\n",
       "      <th>neighbors_9</th>\n",
       "      <th>neighbors_10</th>\n",
       "    </tr>\n",
       "    <tr>\n",
       "      <th>X</th>\n",
       "      <th>Y</th>\n",
       "      <th></th>\n",
       "      <th></th>\n",
       "      <th></th>\n",
       "      <th></th>\n",
       "      <th></th>\n",
       "      <th></th>\n",
       "      <th></th>\n",
       "      <th></th>\n",
       "      <th></th>\n",
       "      <th></th>\n",
       "      <th></th>\n",
       "      <th></th>\n",
       "      <th></th>\n",
       "      <th></th>\n",
       "      <th></th>\n",
       "      <th></th>\n",
       "    </tr>\n",
       "  </thead>\n",
       "  <tbody>\n",
       "    <tr>\n",
       "      <th rowspan=\"5\" valign=\"top\">1</th>\n",
       "      <th>1</th>\n",
       "      <td>0</td>\n",
       "      <td>0</td>\n",
       "      <td>5</td>\n",
       "      <td>5</td>\n",
       "      <td>12</td>\n",
       "      <td>12</td>\n",
       "      <td>{(1, 2), (2, 1)}</td>\n",
       "      <td>{(3, 2), (1, 3), (3, 1), (2, 2)}</td>\n",
       "      <td>{(3, 3), (1, 4), (2, 3), (4, 2), (4, 1)}</td>\n",
       "      <td>{(5, 2), (1, 5), (4, 3), (5, 1), (3, 4), (2, 4...</td>\n",
       "      <td>{(5, 4), (6, 1), (4, 4), (6, 3), (6, 2), (1, 6...</td>\n",
       "      <td>{(6, 4), (7, 3), (2, 6), (5, 5), (7, 1), (4, 5...</td>\n",
       "      <td>{(2, 7), (8, 3), (8, 2), (4, 6), (5, 6), (8, 1...</td>\n",
       "      <td>{(4, 7), (9, 1), (6, 6), (9, 2), (2, 8), (7, 6...</td>\n",
       "      <td>{(10, 5), (6, 7), (10, 4), (2, 9), (4, 8), (7,...</td>\n",
       "      <td>{(5, 9), (4, 9), (11, 4), (6, 8), (11, 5), (11...</td>\n",
       "    </tr>\n",
       "    <tr>\n",
       "      <th>2</th>\n",
       "      <td>0</td>\n",
       "      <td>12</td>\n",
       "      <td>5</td>\n",
       "      <td>17</td>\n",
       "      <td>12</td>\n",
       "      <td>24</td>\n",
       "      <td>{(1, 3), (1, 1), (2, 1), (2, 2)}</td>\n",
       "      <td>{(3, 2), (3, 3), (3, 1), (1, 4), (2, 3)}</td>\n",
       "      <td>{(1, 5), (4, 3), (3, 4), (4, 2), (4, 1), (2, 4)}</td>\n",
       "      <td>{(5, 4), (4, 4), (1, 6), (5, 3), (5, 1), (2, 5...</td>\n",
       "      <td>{(6, 4), (2, 6), (5, 5), (4, 5), (6, 1), (6, 3...</td>\n",
       "      <td>{(2, 7), (7, 3), (4, 6), (7, 1), (5, 6), (7, 4...</td>\n",
       "      <td>{(4, 7), (8, 3), (8, 2), (6, 6), (8, 1), (2, 8...</td>\n",
       "      <td>{(6, 7), (9, 1), (2, 9), (4, 8), (9, 2), (9, 3...</td>\n",
       "      <td>{(7, 8), (5, 9), (9, 7), (10, 5), (4, 9), (10,...</td>\n",
       "      <td>{(4, 10), (6, 9), (11, 7), (11, 4), (5, 10), (...</td>\n",
       "    </tr>\n",
       "    <tr>\n",
       "      <th>3</th>\n",
       "      <td>0</td>\n",
       "      <td>24</td>\n",
       "      <td>5</td>\n",
       "      <td>29</td>\n",
       "      <td>12</td>\n",
       "      <td>36</td>\n",
       "      <td>{(1, 2), (2, 3), (1, 4), (2, 2)}</td>\n",
       "      <td>{(3, 2), (3, 3), (2, 1), (1, 5), (1, 1), (3, 4...</td>\n",
       "      <td>{(3, 1), (4, 4), (1, 6), (4, 3), (4, 2), (2, 5...</td>\n",
       "      <td>{(5, 4), (2, 6), (5, 5), (4, 5), (3, 6), (1, 7...</td>\n",
       "      <td>{(2, 7), (6, 4), (4, 6), (5, 6), (6, 1), (6, 3...</td>\n",
       "      <td>{(7, 3), (4, 7), (7, 1), (6, 6), (2, 8), (7, 6...</td>\n",
       "      <td>{(8, 3), (6, 7), (8, 2), (2, 9), (4, 8), (8, 1...</td>\n",
       "      <td>{(7, 8), (5, 9), (4, 9), (9, 1), (6, 8), (9, 2...</td>\n",
       "      <td>{(4, 10), (6, 9), (10, 5), (5, 10), (10, 4), (...</td>\n",
       "      <td>{(10, 8), (11, 7), (11, 4), (3, 12), (11, 6), ...</td>\n",
       "    </tr>\n",
       "    <tr>\n",
       "      <th>4</th>\n",
       "      <td>0</td>\n",
       "      <td>36</td>\n",
       "      <td>5</td>\n",
       "      <td>41</td>\n",
       "      <td>12</td>\n",
       "      <td>48</td>\n",
       "      <td>{(1, 5), (1, 3), (2, 3), (2, 4)}</td>\n",
       "      <td>{(1, 2), (3, 3), (1, 6), (2, 2), (2, 5), (3, 4...</td>\n",
       "      <td>{(3, 2), (2, 6), (4, 5), (4, 4), (2, 1), (4, 3...</td>\n",
       "      <td>{(2, 7), (5, 4), (4, 1), (5, 5), (4, 6), (5, 6...</td>\n",
       "      <td>{(6, 4), (4, 7), (6, 6), (2, 8), (6, 1), (5, 7...</td>\n",
       "      <td>{(7, 3), (6, 7), (2, 9), (5, 8), (4, 8), (7, 1...</td>\n",
       "      <td>{(7, 8), (5, 9), (8, 3), (4, 9), (8, 2), (6, 8...</td>\n",
       "      <td>{(4, 10), (6, 9), (5, 10), (9, 1), (1, 12), (9...</td>\n",
       "      <td>{(10, 8), (10, 5), (3, 12), (10, 4), (5, 11), ...</td>\n",
       "      <td>{(11, 7), (11, 4), (11, 6), (11, 5), (3, 13), ...</td>\n",
       "    </tr>\n",
       "    <tr>\n",
       "      <th>5</th>\n",
       "      <td>0</td>\n",
       "      <td>48</td>\n",
       "      <td>5</td>\n",
       "      <td>53</td>\n",
       "      <td>12</td>\n",
       "      <td>60</td>\n",
       "      <td>{(2, 5), (1, 6), (2, 4), (1, 4)}</td>\n",
       "      <td>{(1, 3), (2, 6), (2, 3), (3, 6), (1, 7), (3, 4...</td>\n",
       "      <td>{(2, 7), (1, 2), (3, 3), (4, 6), (4, 5), (4, 4...</td>\n",
       "      <td>{(5, 4), (3, 2), (4, 7), (5, 5), (5, 6), (2, 8...</td>\n",
       "      <td>{(6, 4), (6, 7), (2, 9), (6, 6), (4, 8), (3, 1...</td>\n",
       "      <td>{(5, 9), (7, 3), (4, 9), (6, 8), (3, 10), (7, ...</td>\n",
       "      <td>{(4, 10), (6, 9), (8, 3), (5, 10), (8, 2), (1,...</td>\n",
       "      <td>{(3, 12), (9, 1), (5, 11), (9, 2), (1, 13), (9...</td>\n",
       "      <td>{(10, 8), (10, 5), (10, 4), (3, 13), (10, 7), ...</td>\n",
       "      <td>{(11, 7), (11, 10), (11, 4), (11, 6), (11, 5),...</td>\n",
       "    </tr>\n",
       "  </tbody>\n",
       "</table>\n",
       "</div>"
      ],
      "text/plain": [
       "     hex_xstart  hex_ystart  center_xstart  center_ystart  hex_xend  hex_yend  \\\n",
       "X Y                                                                             \n",
       "1 1           0           0              5              5        12        12   \n",
       "  2           0          12              5             17        12        24   \n",
       "  3           0          24              5             29        12        36   \n",
       "  4           0          36              5             41        12        48   \n",
       "  5           0          48              5             53        12        60   \n",
       "\n",
       "                          neighbors_1  \\\n",
       "X Y                                     \n",
       "1 1                  {(1, 2), (2, 1)}   \n",
       "  2  {(1, 3), (1, 1), (2, 1), (2, 2)}   \n",
       "  3  {(1, 2), (2, 3), (1, 4), (2, 2)}   \n",
       "  4  {(1, 5), (1, 3), (2, 3), (2, 4)}   \n",
       "  5  {(2, 5), (1, 6), (2, 4), (1, 4)}   \n",
       "\n",
       "                                           neighbors_2  \\\n",
       "X Y                                                      \n",
       "1 1                   {(3, 2), (1, 3), (3, 1), (2, 2)}   \n",
       "  2           {(3, 2), (3, 3), (3, 1), (1, 4), (2, 3)}   \n",
       "  3  {(3, 2), (3, 3), (2, 1), (1, 5), (1, 1), (3, 4...   \n",
       "  4  {(1, 2), (3, 3), (1, 6), (2, 2), (2, 5), (3, 4...   \n",
       "  5  {(1, 3), (2, 6), (2, 3), (3, 6), (1, 7), (3, 4...   \n",
       "\n",
       "                                           neighbors_3  \\\n",
       "X Y                                                      \n",
       "1 1           {(3, 3), (1, 4), (2, 3), (4, 2), (4, 1)}   \n",
       "  2   {(1, 5), (4, 3), (3, 4), (4, 2), (4, 1), (2, 4)}   \n",
       "  3  {(3, 1), (4, 4), (1, 6), (4, 3), (4, 2), (2, 5...   \n",
       "  4  {(3, 2), (2, 6), (4, 5), (4, 4), (2, 1), (4, 3...   \n",
       "  5  {(2, 7), (1, 2), (3, 3), (4, 6), (4, 5), (4, 4...   \n",
       "\n",
       "                                           neighbors_4  \\\n",
       "X Y                                                      \n",
       "1 1  {(5, 2), (1, 5), (4, 3), (5, 1), (3, 4), (2, 4...   \n",
       "  2  {(5, 4), (4, 4), (1, 6), (5, 3), (5, 1), (2, 5...   \n",
       "  3  {(5, 4), (2, 6), (5, 5), (4, 5), (3, 6), (1, 7...   \n",
       "  4  {(2, 7), (5, 4), (4, 1), (5, 5), (4, 6), (5, 6...   \n",
       "  5  {(5, 4), (3, 2), (4, 7), (5, 5), (5, 6), (2, 8...   \n",
       "\n",
       "                                           neighbors_5  \\\n",
       "X Y                                                      \n",
       "1 1  {(5, 4), (6, 1), (4, 4), (6, 3), (6, 2), (1, 6...   \n",
       "  2  {(6, 4), (2, 6), (5, 5), (4, 5), (6, 1), (6, 3...   \n",
       "  3  {(2, 7), (6, 4), (4, 6), (5, 6), (6, 1), (6, 3...   \n",
       "  4  {(6, 4), (4, 7), (6, 6), (2, 8), (6, 1), (5, 7...   \n",
       "  5  {(6, 4), (6, 7), (2, 9), (6, 6), (4, 8), (3, 1...   \n",
       "\n",
       "                                           neighbors_6  \\\n",
       "X Y                                                      \n",
       "1 1  {(6, 4), (7, 3), (2, 6), (5, 5), (7, 1), (4, 5...   \n",
       "  2  {(2, 7), (7, 3), (4, 6), (7, 1), (5, 6), (7, 4...   \n",
       "  3  {(7, 3), (4, 7), (7, 1), (6, 6), (2, 8), (7, 6...   \n",
       "  4  {(7, 3), (6, 7), (2, 9), (5, 8), (4, 8), (7, 1...   \n",
       "  5  {(5, 9), (7, 3), (4, 9), (6, 8), (3, 10), (7, ...   \n",
       "\n",
       "                                           neighbors_7  \\\n",
       "X Y                                                      \n",
       "1 1  {(2, 7), (8, 3), (8, 2), (4, 6), (5, 6), (8, 1...   \n",
       "  2  {(4, 7), (8, 3), (8, 2), (6, 6), (8, 1), (2, 8...   \n",
       "  3  {(8, 3), (6, 7), (8, 2), (2, 9), (4, 8), (8, 1...   \n",
       "  4  {(7, 8), (5, 9), (8, 3), (4, 9), (8, 2), (6, 8...   \n",
       "  5  {(4, 10), (6, 9), (8, 3), (5, 10), (8, 2), (1,...   \n",
       "\n",
       "                                           neighbors_8  \\\n",
       "X Y                                                      \n",
       "1 1  {(4, 7), (9, 1), (6, 6), (9, 2), (2, 8), (7, 6...   \n",
       "  2  {(6, 7), (9, 1), (2, 9), (4, 8), (9, 2), (9, 3...   \n",
       "  3  {(7, 8), (5, 9), (4, 9), (9, 1), (6, 8), (9, 2...   \n",
       "  4  {(4, 10), (6, 9), (5, 10), (9, 1), (1, 12), (9...   \n",
       "  5  {(3, 12), (9, 1), (5, 11), (9, 2), (1, 13), (9...   \n",
       "\n",
       "                                           neighbors_9  \\\n",
       "X Y                                                      \n",
       "1 1  {(10, 5), (6, 7), (10, 4), (2, 9), (4, 8), (7,...   \n",
       "  2  {(7, 8), (5, 9), (9, 7), (10, 5), (4, 9), (10,...   \n",
       "  3  {(4, 10), (6, 9), (10, 5), (5, 10), (10, 4), (...   \n",
       "  4  {(10, 8), (10, 5), (3, 12), (10, 4), (5, 11), ...   \n",
       "  5  {(10, 8), (10, 5), (10, 4), (3, 13), (10, 7), ...   \n",
       "\n",
       "                                          neighbors_10  \n",
       "X Y                                                     \n",
       "1 1  {(5, 9), (4, 9), (11, 4), (6, 8), (11, 5), (11...  \n",
       "  2  {(4, 10), (6, 9), (11, 7), (11, 4), (5, 10), (...  \n",
       "  3  {(10, 8), (11, 7), (11, 4), (3, 12), (11, 6), ...  \n",
       "  4  {(11, 7), (11, 4), (11, 6), (11, 5), (3, 13), ...  \n",
       "  5  {(11, 7), (11, 10), (11, 4), (11, 6), (11, 5),...  "
      ]
     },
     "execution_count": 314,
     "metadata": {},
     "output_type": "execute_result"
    }
   ],
   "source": [
    "hex_coords.head()"
   ]
  },
  {
   "cell_type": "markdown",
   "metadata": {},
   "source": [
    "## 3. Make Images"
   ]
  },
  {
   "cell_type": "markdown",
   "metadata": {},
   "source": [
    "There are several ways to make images. The two methods we wanted to try first are as follows:\n",
    "\n",
    "1. Using the percentage of cells in a well that are MC38 vs Hepatocytes as the pixel value \n",
    "2. Using the counts of transcripts in cells across the most differentially expressed genes. \n",
    "\n",
    "Method 1 is simpler, but method 2 may provide more information. "
   ]
  },
  {
   "cell_type": "markdown",
   "metadata": {},
   "source": [
    "### 3.1 Method 1"
   ]
  },
  {
   "cell_type": "markdown",
   "metadata": {},
   "source": [
    "#### Build a Counts DataFrame"
   ]
  },
  {
   "cell_type": "code",
   "execution_count": 315,
   "metadata": {},
   "outputs": [],
   "source": [
    "batches = adata.obs['batch'].values.unique()"
   ]
  },
  {
   "cell_type": "code",
   "execution_count": 316,
   "metadata": {},
   "outputs": [],
   "source": [
    "celltype_string = 'celltype1'"
   ]
  },
  {
   "cell_type": "code",
   "execution_count": 317,
   "metadata": {},
   "outputs": [],
   "source": [
    "celltypes = adata.obs[celltype_string].unique()"
   ]
  },
  {
   "cell_type": "code",
   "execution_count": 318,
   "metadata": {},
   "outputs": [
    {
     "data": {
      "text/plain": [
       "[Hepato, Immune, Human, MC38, Liver Special]\n",
       "Categories (5, object): [Hepato, Immune, Human, MC38, Liver Special]"
      ]
     },
     "execution_count": 318,
     "metadata": {},
     "output_type": "execute_result"
    }
   ],
   "source": [
    "celltypes"
   ]
  },
  {
   "cell_type": "markdown",
   "metadata": {},
   "source": [
    "Initialize a counts dataframe that will contain the counts, per well and per batch, of each cell type. I'm going to use `pd.MultiIndex` to index according to `X`, `Y`, and `batch`. The MultiIndex, while useful, also causes some problems with by creating these indices of dtype `Category` that are hard to edit later. I try to remedy those issues by converting the columns to a regular index here, and then set the batch to an integer dtype after I build the counts dataframe. Converting to the batch to an integer is useful later."
   ]
  },
  {
   "cell_type": "code",
   "execution_count": 319,
   "metadata": {},
   "outputs": [],
   "source": [
    "counts = pd.DataFrame(0,index=pd.MultiIndex.from_product([batches,range(1,43),range(1,19)],names=['batch','X','Y']),columns=celltypes)\n",
    "counts.columns = pd.Index(list(counts.columns)) # this is to convert the columns into a normal index and not a categorical index, not sure why it does that when using multiindex.from_product"
   ]
  },
  {
   "cell_type": "code",
   "execution_count": 320,
   "metadata": {},
   "outputs": [
    {
     "data": {
      "text/plain": [
       "Index(['Hepato', 'Immune', 'Human', 'MC38', 'Liver Special'], dtype='object')"
      ]
     },
     "execution_count": 320,
     "metadata": {},
     "output_type": "execute_result"
    }
   ],
   "source": [
    "counts.columns"
   ]
  },
  {
   "cell_type": "markdown",
   "metadata": {},
   "source": [
    "Subset the adata into smaller adatas according to their batch."
   ]
  },
  {
   "cell_type": "code",
   "execution_count": 321,
   "metadata": {},
   "outputs": [],
   "source": [
    "adata_subs = dict()"
   ]
  },
  {
   "cell_type": "code",
   "execution_count": 322,
   "metadata": {},
   "outputs": [],
   "source": [
    "for batch in batches:\n",
    "    adata_subs[batch] = adata[adata.obs['batch'] == batch].copy()"
   ]
  },
  {
   "cell_type": "markdown",
   "metadata": {},
   "source": [
    "Fill the counts dataframe."
   ]
  },
  {
   "cell_type": "code",
   "execution_count": 323,
   "metadata": {},
   "outputs": [
    {
     "data": {
      "application/vnd.jupyter.widget-view+json": {
       "model_id": "c97e71ec65c747319c84a5384bb95997",
       "version_major": 2,
       "version_minor": 0
      },
      "text/plain": [
       "HBox(children=(IntProgress(value=0, max=3024), HTML(value='')))"
      ]
     },
     "metadata": {},
     "output_type": "display_data"
    },
    {
     "name": "stdout",
     "output_type": "stream",
     "text": [
      "\n"
     ]
    }
   ],
   "source": [
    "for batch, x, y in tqdm(counts.index):\n",
    "    xy_cts = adata_subs[batch][(adata_subs[batch].obs['X'] == x) & (adata_subs[batch].obs['Y'] == y)].obs[celltype_string]\n",
    "    cts, ct_counts = np.unique(xy_cts.values, return_counts=True)\n",
    "    for ct, ct_count in zip(cts, ct_counts):\n",
    "        counts.loc[(batch, x, y),ct] = ct_count"
   ]
  },
  {
   "cell_type": "markdown",
   "metadata": {},
   "source": [
    "This is where I convert the batch to an integer, it makes things easier later."
   ]
  },
  {
   "cell_type": "code",
   "execution_count": 324,
   "metadata": {},
   "outputs": [],
   "source": [
    "counts.index = counts.index.set_levels([counts.index.levels[0].astype(np.uint8), counts.index.levels[1], counts.index.levels[2]])"
   ]
  },
  {
   "cell_type": "markdown",
   "metadata": {},
   "source": [
    "#### Fill in the Hexarray with Color Values"
   ]
  },
  {
   "cell_type": "code",
   "execution_count": 341,
   "metadata": {},
   "outputs": [],
   "source": [
    "def get_colors(df, cts, color=True, prop_den=None, clip_vals=None):\n",
    "    '''\n",
    "    This function takes in the counts of each cell type from the DataFrame and \n",
    "    will generate color values based on the proportion of cells in each well\n",
    "    that are the celltype(s) of interest. If color set to False, will just\n",
    "    return the actual proportion of each cell type not scaled to RGB values.\n",
    "    \n",
    "    cts is a list of celltypes.\n",
    "    \n",
    "    For calculating proportion, will use a denomintaor of the total of only the provided \n",
    "    cell types (prop_den='cts') or the total of all cells (prop_den='tot'). If not\n",
    "    provided, for len(ct) == 1 will set to 'tot', else will use 'cts'.\n",
    "    \n",
    "    Counts will be floored to zero for number of cells below clip_val before taking\n",
    "    the proportion. len(clip_val)\n",
    "    \n",
    "    Plotting raw counts is kind of unmeaningful, so skipping that for now.\n",
    "    '''\n",
    "    \n",
    "    if type(clip_vals) == type(None):\n",
    "        clip_vals = [0]*len(cts)\n",
    "    else:\n",
    "        assert len(clip_vals) == len(cts)\n",
    "\n",
    "    if type(prop_den) == type(None):\n",
    "        # will fill in with what I think is appropriate if not provided\n",
    "        if len(cts) == 1:\n",
    "            prop_den = 'tot'\n",
    "        else:\n",
    "            prop_den = 'cts'\n",
    "            \n",
    "    # actually get the denominator\n",
    "    if prop_den == 'cts':\n",
    "        prop_den_vals = df[cts].sum(axis=1).values\n",
    "    elif prop_den == 'tot':\n",
    "        prop_den_vals = df.sum(axis=1).values\n",
    "    else:\n",
    "        raise ValueError\n",
    "    \n",
    "    val_dict = dict() \n",
    "    val_arrs = [np.zeros((len(df),))]*3 \n",
    "    \n",
    "    for i in range(len(cts)):\n",
    "        ct = cts[i]\n",
    "        val_dict[ct] = df[ct].values\n",
    "        clip_val = clip_vals[i]\n",
    "        val_dict[ct] = np.where(val_dict[ct] < clip_val, 0, val_dict[ct])\n",
    "        with np.errstate(invalid='ignore'):\n",
    "            val_dict[ct] = val_dict[ct] / prop_den_vals # this produces Nans, but they get replaced with 0 when converting to np.uint8\n",
    "        val_arrs[i] = val_dict[ct]\n",
    "        \n",
    "    if color == True:\n",
    "        colors = [255*i for i in val_arrs]\n",
    "        colors = np.stack(colors, axis=1).astype(np.uint8)\n",
    "        val_df = pd.DataFrame(colors,index=df.index,columns=['r','g','b'])\n",
    "    else:\n",
    "        props = np.nan_to_num(np.stack(val_arrs[:len(cts)], axis=1))\n",
    "        val_df = pd.DataFrame(props, index=df.index, columns=['%' + '%s/%s' % (ct, prop_den) for ct in cts])\n",
    "                              \n",
    "#     val_df = val_df[val_df.sum(axis=1) != 0] # do not include this, just fill the whole thing, I thought to include it to reduce time but it causes problems later\n",
    "\n",
    "    return val_df"
   ]
  },
  {
   "cell_type": "code",
   "execution_count": 331,
   "metadata": {},
   "outputs": [],
   "source": [
    "def get_image(color_df):\n",
    "    '''\n",
    "    color_df is a dataframe with columns 'r', 'g', and 'b', corresponding to the color values\n",
    "    that should be filled into each hexagon.\n",
    "    '''\n",
    "    img = list()\n",
    "    for color in ['r','g','b']:\n",
    "        hex_array = np.zeros((222,399))\n",
    "        for y, x in it.product(range(1,19),range(1,45)):\n",
    "\n",
    "            try:\n",
    "                val = color_df.loc[(x, y), color]\n",
    "            except: # I should make this exception more specific\n",
    "                continue\n",
    "\n",
    "            xstart = hex_coords.loc[(x,y),'hex_xstart']\n",
    "            ystart = hex_coords.loc[(x,y),'hex_ystart']\n",
    "\n",
    "            yend = hex_coords.loc[(x,y),'hex_yend']\n",
    "            xend = hex_coords.loc[(x,y),'hex_xend']\n",
    "\n",
    "            current_hex = hex_array[ystart:yend,xstart:xend]\n",
    "            hex_array[ystart:yend,xstart:xend] = np.where(myhex, val, current_hex)\n",
    "        img.append(hex_array)\n",
    "    img = np.stack(img, axis=2).astype(np.uint8)\n",
    "    return img"
   ]
  },
  {
   "cell_type": "code",
   "execution_count": 425,
   "metadata": {},
   "outputs": [
    {
     "data": {
      "application/vnd.jupyter.widget-view+json": {
       "model_id": "4596ee573c3e4de7898c8e067042cd60",
       "version_major": 2,
       "version_minor": 0
      },
      "text/plain": [
       "HBox(children=(IntProgress(value=0, max=4), HTML(value='')))"
      ]
     },
     "metadata": {},
     "output_type": "display_data"
    },
    {
     "name": "stdout",
     "output_type": "stream",
     "text": [
      "\n"
     ]
    }
   ],
   "source": [
    "img_list = list()\n",
    "for batch in tqdm(counts.index.get_level_values('batch').unique()):\n",
    "    images = list()\n",
    "    color_df = get_colors(counts.loc[batch], cts=['Hepato', 'MC38'])\n",
    "    img = get_image(color_df)\n",
    "    img_list.append(img)"
   ]
  },
  {
   "cell_type": "markdown",
   "metadata": {},
   "source": [
    "L10C\n",
    "L20C1\n",
    "L20T\n",
    "L30C"
   ]
  },
  {
   "cell_type": "code",
   "execution_count": 429,
   "metadata": {},
   "outputs": [
    {
     "data": {
      "image/png": "[encoded data removed]",
      "text/plain": [
       "<Figure size 1440x1080 with 4 Axes>"
      ]
     },
     "metadata": {
      "needs_background": "light"
     },
     "output_type": "display_data"
    }
   ],
   "source": [
    "fig, axes = plt.subplots(2,2, figsize=(20,15))\n",
    "for img, ax in zip(img_list, np.ravel(axes)):\n",
    "    ax.imshow(img);\n",
    "    ax.axis('off')"
   ]
  },
  {
   "cell_type": "markdown",
   "metadata": {},
   "source": [
    "### Analysis 1: Spatial Dependence"
   ]
  },
  {
   "cell_type": "markdown",
   "metadata": {},
   "source": [
    "I want to show the spatial dependence of the wells: those that are immediate neighbors are likely to contain similar number of hepatocytes/MC38."
   ]
  },
  {
   "cell_type": "code",
   "execution_count": 376,
   "metadata": {},
   "outputs": [],
   "source": [
    "segment = counts[['Hepato','MC38']].join(hex_coords['neighbors_1'])"
   ]
  },
  {
   "cell_type": "code",
   "execution_count": 377,
   "metadata": {},
   "outputs": [],
   "source": [
    "segment['Tot'] = segment[['Hepato','MC38']].sum(axis=1)"
   ]
  },
  {
   "cell_type": "code",
   "execution_count": 378,
   "metadata": {},
   "outputs": [],
   "source": [
    "with np.errstate(invalid='ignore'):\n",
    "    segment['Hepato'] = (segment['Hepato'] / segment['Tot']).fillna(0)\n",
    "    segment['MC38'] = (segment['MC38'] / segment['Tot']).fillna(0)"
   ]
  },
  {
   "cell_type": "markdown",
   "metadata": {},
   "source": [
    "Here I'm going to correlate the percentage hepatocyte in each well with the mean percentage hepatocyte of its immediate neighbors. I'm only going to consider wells with at least `min_cells` cells and that have at least `min_nonzeros` non-zero immediate neighbors with at least `min_cells_per_neighbor` cells each."
   ]
  },
  {
   "cell_type": "code",
   "execution_count": 374,
   "metadata": {},
   "outputs": [],
   "source": [
    "min_cells = 3\n",
    "min_nonzeros = 2 # max 6 neighbors per well\n",
    "min_cells_per_neighbor = 3"
   ]
  },
  {
   "cell_type": "code",
   "execution_count": 379,
   "metadata": {},
   "outputs": [
    {
     "data": {
      "application/vnd.jupyter.widget-view+json": {
       "model_id": "a459f7dbaf3d449fb6a786cdbc4ea415",
       "version_major": 2,
       "version_minor": 0
      },
      "text/plain": [
       "HBox(children=(IntProgress(value=0, max=3024), HTML(value='')))"
      ]
     },
     "metadata": {},
     "output_type": "display_data"
    },
    {
     "name": "stdout",
     "output_type": "stream",
     "text": [
      "\n"
     ]
    }
   ],
   "source": [
    "# doing percent hepato\n",
    "n_means = list() # means of neighbors\n",
    "n_vars = list() # variances of neighbors\n",
    "\n",
    "for i in tqdm(segment.index):\n",
    "    \n",
    "    # check if the well in question has at least min_cells\n",
    "    if segment.loc[i,'Tot'] < min_cells:\n",
    "        n_means.append(-1)\n",
    "        n_vars.append(-1)\n",
    "        continue\n",
    "    \n",
    "\n",
    "    # define useful variables\n",
    "    batch = i[-1]\n",
    "    n_list = list()\n",
    "    idxs = list()\n",
    "    \n",
    "    for n_i in segment.loc[i, 'neighbors_1']: # for the n_i = index of each neighbor\n",
    "        idxs.append(tuple(np.append(n_i, batch)))\n",
    "    \n",
    "    # subset the segment dataframe\n",
    "    segment_sub = segment.loc[idxs]\n",
    "    \n",
    "    # make a mask for nonzero wells\n",
    "    nonzero_mask = segment_sub['Tot'] != 0\n",
    "    \n",
    "    if nonzero_mask.sum() >= min_nonzeros: # check that we have enough nonzero neighbors\n",
    "        # only use those neighbors that are nonzero\n",
    "        segment_sub = segment_sub.loc[nonzero_mask]\n",
    "        \n",
    "        # only use those \n",
    "        segment_sub = segment_sub[segment_sub['Tot'] > min_cells_per_neighbor]\n",
    "        if len(segment_sub) == 0:\n",
    "            # Don't take the mean of an empty slice or variance of a slice of length 1\n",
    "            # Really only need this when num_nonzeros == 0\n",
    "            n_means.append(-1)\n",
    "            n_vars.append(-1)\n",
    "            continue\n",
    "        elif len(segment_sub) == 1:\n",
    "            n_means.append(segment_sub['Hepato'].mean())\n",
    "            n_vars.append(0)\n",
    "            continue\n",
    "        mean = segment_sub['Hepato'].mean()\n",
    "        var = segment_sub['Hepato'].var()\n",
    "        n_means.append(mean)\n",
    "        n_vars.append(var)\n",
    "    else:\n",
    "        n_means.append(-1)\n",
    "        n_vars.append(-1)\n",
    "        continue"
   ]
  },
  {
   "cell_type": "code",
   "execution_count": 380,
   "metadata": {},
   "outputs": [],
   "source": [
    "segment['n_means'] = n_means\n",
    "segment['n_vars'] = n_vars"
   ]
  },
  {
   "cell_type": "code",
   "execution_count": 383,
   "metadata": {},
   "outputs": [],
   "source": [
    "a = segment[(segment['n_means'] != -1) & # I've marked ones that we don't want to include or that would have produced a NaN as having a mean of -1, so get rid of those\n",
    "           (segment['Hepato'] != 0) & # we only want mixed wells, so not %Hepatocyte == 0\n",
    "           (segment['Hepato'] != 1)] # we only want mixed wells, so not %Hepatocyte == 1"
   ]
  },
  {
   "cell_type": "code",
   "execution_count": 384,
   "metadata": {},
   "outputs": [
    {
     "data": {
      "text/plain": [
       "(352, 6)"
      ]
     },
     "execution_count": 384,
     "metadata": {},
     "output_type": "execute_result"
    }
   ],
   "source": [
    "a.shape"
   ]
  },
  {
   "cell_type": "code",
   "execution_count": 386,
   "metadata": {},
   "outputs": [
    {
     "data": {
      "image/png": "[encoded data removed]",
      "text/plain": [
       "<Figure size 576x576 with 1 Axes>"
      ]
     },
     "metadata": {
      "needs_background": "light"
     },
     "output_type": "display_data"
    }
   ],
   "source": [
    "plt.figure(figsize=(8,8))\n",
    "plt.scatter(a['Hepato'].values, a['n_means'].values, s=a['Tot'], c=a['n_vars'].values);\n",
    "plt.title('Spatial Dependence of Wells')\n",
    "plt.xlabel('Percentage Hepatocyte Cells')\n",
    "plt.ylabel('Mean Percentage Hepatocyte Cells of Neighboring Wells');"
   ]
  },
  {
   "cell_type": "code",
   "execution_count": 387,
   "metadata": {},
   "outputs": [
    {
     "data": {
      "text/plain": [
       "0.7684001903735544"
      ]
     },
     "execution_count": 387,
     "metadata": {},
     "output_type": "execute_result"
    }
   ],
   "source": [
    "a.corr().loc['Hepato','n_means']"
   ]
  },
  {
   "cell_type": "code",
   "execution_count": 388,
   "metadata": {},
   "outputs": [
    {
     "data": {
      "image/png": "[encoded data removed]",
      "text/plain": [
       "<Figure size 432x288 with 1 Axes>"
      ]
     },
     "metadata": {
      "needs_background": "light"
     },
     "output_type": "display_data"
    }
   ],
   "source": [
    "plt.hist(a['n_vars'].values,bins=50);\n",
    "plt.yscale('log')"
   ]
  },
  {
   "cell_type": "markdown",
   "metadata": {},
   "source": [
    "I'd like to show that the number of wells with high variance increases towards the center of the distribution (at around 50%)."
   ]
  },
  {
   "cell_type": "code",
   "execution_count": 389,
   "metadata": {},
   "outputs": [],
   "source": [
    "thresh = 0.05\n",
    "bin_size = 0.04"
   ]
  },
  {
   "cell_type": "code",
   "execution_count": 390,
   "metadata": {},
   "outputs": [
    {
     "data": {
      "image/png": "[encoded data removed]",
      "text/plain": [
       "<Figure size 576x144 with 1 Axes>"
      ]
     },
     "metadata": {
      "needs_background": "light"
     },
     "output_type": "display_data"
    }
   ],
   "source": [
    "bins = np.arange(0.0, 1 + bin_size, bin_size)\n",
    "vals = list()\n",
    "plt.figure(figsize=(8,2))\n",
    "for i in range(len(bins) - 1):\n",
    "    a_sub = a[(a['Hepato'] >= bins[i]) & (a['Hepato'] < bins[i+1])]\n",
    "    vals.append((a_sub['n_vars'] > thresh).sum()/len(a_sub))\n",
    "plt.bar(bins[:-1] + bin_size/2, vals, width=bin_size);\n",
    "plt.ylabel('Proportion of wells with variance\\nof neighboring wells > %s' % thresh)\n",
    "plt.tick_params(axis='x', which='both', bottom=False, top=False, labelbottom=False)"
   ]
  },
  {
   "cell_type": "code",
   "execution_count": 391,
   "metadata": {},
   "outputs": [
    {
     "data": {
      "image/png": "[encoded data removed]",
      "text/plain": [
       "<Figure size 576x144 with 1 Axes>"
      ]
     },
     "metadata": {
      "needs_background": "light"
     },
     "output_type": "display_data"
    }
   ],
   "source": [
    "bins = np.arange(0.0, 1 + bin_size, bin_size)\n",
    "vals = list()\n",
    "plt.figure(figsize=(8,2))\n",
    "for i in range(len(bins) - 1):\n",
    "    a_sub = a[(a['n_means'] >= bins[i]) & (a['n_means'] < bins[i+1])]\n",
    "    vals.append((a_sub['n_vars'] > thresh).sum()/len(a_sub))\n",
    "plt.bar(bins[:-1] + bin_size/2, vals, width=bin_size);\n",
    "plt.ylabel('Proportion of wells\\nwith variance of\\nneighboring wells\\n> %s' % thresh)\n",
    "plt.tick_params(axis='x', which='both', bottom=False, top=False, labelbottom=False)"
   ]
  },
  {
   "cell_type": "markdown",
   "metadata": {},
   "source": [
    "The plot looks like it would fit a logit curve. I will try to fit it to one."
   ]
  },
  {
   "cell_type": "code",
   "execution_count": 392,
   "metadata": {},
   "outputs": [],
   "source": [
    "from scipy.optimize import curve_fit\n",
    "from sklearn.metrics import r2_score"
   ]
  },
  {
   "cell_type": "code",
   "execution_count": 393,
   "metadata": {},
   "outputs": [],
   "source": [
    "def func(x, a, b):\n",
    "    return a*(np.log((x/(1-x))) + b)"
   ]
  },
  {
   "cell_type": "code",
   "execution_count": 394,
   "metadata": {},
   "outputs": [],
   "source": [
    "popt, pcov = curve_fit(func, a['Hepato'].values, a['n_means'].values)"
   ]
  },
  {
   "cell_type": "code",
   "execution_count": 395,
   "metadata": {},
   "outputs": [
    {
     "data": {
      "text/plain": [
       "0.5998848250100088"
      ]
     },
     "execution_count": 395,
     "metadata": {},
     "output_type": "execute_result"
    }
   ],
   "source": [
    "r2_score(a['n_means'].values, np.apply_along_axis(func, 0, a['Hepato'].values, *popt))"
   ]
  },
  {
   "cell_type": "code",
   "execution_count": 397,
   "metadata": {},
   "outputs": [
    {
     "data": {
      "image/png": "[encoded data removed]",
      "text/plain": [
       "<Figure size 576x576 with 1 Axes>"
      ]
     },
     "metadata": {
      "needs_background": "light"
     },
     "output_type": "display_data"
    }
   ],
   "source": [
    "plt.figure(figsize=(8,8))\n",
    "plt.scatter(a['Hepato'].values, a['n_means'].values, s=a['Tot'], c='k');\n",
    "plt.scatter(a['Hepato'].values, np.apply_along_axis(func, 0, a['Hepato'].values, *popt), s=1, c='red')\n",
    "plt.title('Spatial Dependence of Wells')\n",
    "plt.xlabel('Percentage Hepatocyte Cells')\n",
    "plt.ylabel('Mean Percentage Hepatocyte Cells of Neighboring Wells');"
   ]
  },
  {
   "cell_type": "markdown",
   "metadata": {},
   "source": [
    "### Analysis 2: Segmentation Score"
   ]
  },
  {
   "cell_type": "markdown",
   "metadata": {},
   "source": [
    "The idea here is to use the neighbors to \"score\" each well as being towards the center of the hepatocyte region or MC38 region. We are curious to see on the UMAP whether or not cells deep in either Hepatocyte or MC38 regions are clustering out separately. \n",
    "\n",
    "The first low bar validation of this would be to just show that there is some polarity in UMAP space of the cells when just colored by percent Hepato/MC38. As shown above, many of the wells are either very high or very low percent hepatocyte (and vice versa for MC38), so coloring by this metric would give somewhat of a binary polarity. If that shows something significant in UMAP space, then we can try to parse out internal distance within each region. \n",
    "\n",
    "Thinking up a good distance metric is actually more difficult than I originally thought it would be. I've thought about this for what seemed like 30 minutes, just thinking, looking at the images, and I can think of 2 ways in which to determine the metric:\n",
    "1. Just take the mean % Hepato of all neighbors of order _n_ or lower (i.e. neighbors_1, neighbors_2, ... neighbors\\__n_), or perhaps weighted by the order (so like neighbors_1 are weighted more highly than neighbors_4).\n",
    "2. Base it (somehow) on the average distance of the 3 closest wells of the opposite color (green or red). Only using the distance to the closest green one would be a metric easily skewed by outlier wells (e.g. one green well in a sea a of red). Using 3 or 5 would help smooth out those outliers."
   ]
  },
  {
   "cell_type": "code",
   "execution_count": 430,
   "metadata": {},
   "outputs": [
    {
     "data": {
      "image/png": "[encoded data removed]",
      "text/plain": [
       "<Figure size 1440x1080 with 4 Axes>"
      ]
     },
     "metadata": {
      "needs_background": "light"
     },
     "output_type": "display_data"
    }
   ],
   "source": [
    "fig, axes = plt.subplots(2,2, figsize=(20,15))\n",
    "for img, ax in zip(img_list, np.ravel(axes)):\n",
    "    ax.imshow(img);\n",
    "    ax.axis('off')"
   ]
  },
  {
   "cell_type": "markdown",
   "metadata": {},
   "source": [
    "One way to determine the weights. How many levels away you want to go, and a factor to determine the decay."
   ]
  },
  {
   "cell_type": "code",
   "execution_count": 481,
   "metadata": {},
   "outputs": [],
   "source": [
    "levels = 5\n",
    "factor = 2g"
   ]
  },
  {
   "cell_type": "code",
   "execution_count": 482,
   "metadata": {},
   "outputs": [],
   "source": [
    "denom_factor = sum(list(map(lambda f, l: 1/(f**l),[factor]*levels, range(levels))))"
   ]
  },
  {
   "cell_type": "code",
   "execution_count": 483,
   "metadata": {},
   "outputs": [],
   "source": [
    "weights = [1/(d*(f**l)) for d, f, l in zip([denom_factor]*levels, \n",
    "                                           [factor]*levels, \n",
    "                                           range(levels))]"
   ]
  },
  {
   "cell_type": "code",
   "execution_count": 484,
   "metadata": {},
   "outputs": [
    {
     "data": {
      "text/plain": [
       "[0.5161290322580645,\n",
       " 0.25806451612903225,\n",
       " 0.12903225806451613,\n",
       " 0.06451612903225806,\n",
       " 0.03225806451612903]"
      ]
     },
     "execution_count": 484,
     "metadata": {},
     "output_type": "execute_result"
    }
   ],
   "source": [
    "weights"
   ]
  },
  {
   "cell_type": "code",
   "execution_count": 398,
   "metadata": {},
   "outputs": [
    {
     "data": {
      "text/html": [
       "<div>\n",
       "<style scoped>\n",
       "    .dataframe tbody tr th:only-of-type {\n",
       "        vertical-align: middle;\n",
       "    }\n",
       "\n",
       "    .dataframe tbody tr th {\n",
       "        vertical-align: top;\n",
       "    }\n",
       "\n",
       "    .dataframe thead th {\n",
       "        text-align: right;\n",
       "    }\n",
       "</style>\n",
       "<table border=\"1\" class=\"dataframe\">\n",
       "  <thead>\n",
       "    <tr style=\"text-align: right;\">\n",
       "      <th></th>\n",
       "      <th></th>\n",
       "      <th></th>\n",
       "      <th>Hepato</th>\n",
       "      <th>MC38</th>\n",
       "      <th>neighbors_1</th>\n",
       "      <th>Tot</th>\n",
       "      <th>n_means</th>\n",
       "      <th>n_vars</th>\n",
       "    </tr>\n",
       "    <tr>\n",
       "      <th>X</th>\n",
       "      <th>Y</th>\n",
       "      <th>batch</th>\n",
       "      <th></th>\n",
       "      <th></th>\n",
       "      <th></th>\n",
       "      <th></th>\n",
       "      <th></th>\n",
       "      <th></th>\n",
       "    </tr>\n",
       "  </thead>\n",
       "  <tbody>\n",
       "    <tr>\n",
       "      <th rowspan=\"5\" valign=\"top\">1</th>\n",
       "      <th rowspan=\"4\" valign=\"top\">1</th>\n",
       "      <th>0</th>\n",
       "      <td>0.0</td>\n",
       "      <td>0.0</td>\n",
       "      <td>{(1, 2), (2, 1)}</td>\n",
       "      <td>0</td>\n",
       "      <td>-1.0</td>\n",
       "      <td>-1.0</td>\n",
       "    </tr>\n",
       "    <tr>\n",
       "      <th>1</th>\n",
       "      <td>0.0</td>\n",
       "      <td>0.0</td>\n",
       "      <td>{(1, 2), (2, 1)}</td>\n",
       "      <td>0</td>\n",
       "      <td>-1.0</td>\n",
       "      <td>-1.0</td>\n",
       "    </tr>\n",
       "    <tr>\n",
       "      <th>2</th>\n",
       "      <td>0.0</td>\n",
       "      <td>0.0</td>\n",
       "      <td>{(1, 2), (2, 1)}</td>\n",
       "      <td>0</td>\n",
       "      <td>-1.0</td>\n",
       "      <td>-1.0</td>\n",
       "    </tr>\n",
       "    <tr>\n",
       "      <th>3</th>\n",
       "      <td>0.0</td>\n",
       "      <td>0.0</td>\n",
       "      <td>{(1, 2), (2, 1)}</td>\n",
       "      <td>0</td>\n",
       "      <td>-1.0</td>\n",
       "      <td>-1.0</td>\n",
       "    </tr>\n",
       "    <tr>\n",
       "      <th>2</th>\n",
       "      <th>0</th>\n",
       "      <td>0.0</td>\n",
       "      <td>0.0</td>\n",
       "      <td>{(1, 3), (1, 1), (2, 1), (2, 2)}</td>\n",
       "      <td>0</td>\n",
       "      <td>-1.0</td>\n",
       "      <td>-1.0</td>\n",
       "    </tr>\n",
       "    <tr>\n",
       "      <th>...</th>\n",
       "      <th>...</th>\n",
       "      <th>...</th>\n",
       "      <td>...</td>\n",
       "      <td>...</td>\n",
       "      <td>...</td>\n",
       "      <td>...</td>\n",
       "      <td>...</td>\n",
       "      <td>...</td>\n",
       "    </tr>\n",
       "    <tr>\n",
       "      <th rowspan=\"5\" valign=\"top\">42</th>\n",
       "      <th>17</th>\n",
       "      <th>3</th>\n",
       "      <td>0.0</td>\n",
       "      <td>0.0</td>\n",
       "      <td>{(41, 18), (42, 16), (41, 17), (42, 18)}</td>\n",
       "      <td>0</td>\n",
       "      <td>-1.0</td>\n",
       "      <td>-1.0</td>\n",
       "    </tr>\n",
       "    <tr>\n",
       "      <th rowspan=\"4\" valign=\"top\">18</th>\n",
       "      <th>0</th>\n",
       "      <td>0.0</td>\n",
       "      <td>0.0</td>\n",
       "      <td>{(41, 18), (42, 17)}</td>\n",
       "      <td>0</td>\n",
       "      <td>-1.0</td>\n",
       "      <td>-1.0</td>\n",
       "    </tr>\n",
       "    <tr>\n",
       "      <th>1</th>\n",
       "      <td>0.0</td>\n",
       "      <td>0.0</td>\n",
       "      <td>{(41, 18), (42, 17)}</td>\n",
       "      <td>0</td>\n",
       "      <td>-1.0</td>\n",
       "      <td>-1.0</td>\n",
       "    </tr>\n",
       "    <tr>\n",
       "      <th>2</th>\n",
       "      <td>0.0</td>\n",
       "      <td>0.0</td>\n",
       "      <td>{(41, 18), (42, 17)}</td>\n",
       "      <td>0</td>\n",
       "      <td>-1.0</td>\n",
       "      <td>-1.0</td>\n",
       "    </tr>\n",
       "    <tr>\n",
       "      <th>3</th>\n",
       "      <td>0.0</td>\n",
       "      <td>0.0</td>\n",
       "      <td>{(41, 18), (42, 17)}</td>\n",
       "      <td>0</td>\n",
       "      <td>-1.0</td>\n",
       "      <td>-1.0</td>\n",
       "    </tr>\n",
       "  </tbody>\n",
       "</table>\n",
       "<p>3024 rows × 6 columns</p>\n",
       "</div>"
      ],
      "text/plain": [
       "             Hepato  MC38                               neighbors_1  Tot  \\\n",
       "X  Y  batch                                                                \n",
       "1  1  0         0.0   0.0                          {(1, 2), (2, 1)}    0   \n",
       "      1         0.0   0.0                          {(1, 2), (2, 1)}    0   \n",
       "      2         0.0   0.0                          {(1, 2), (2, 1)}    0   \n",
       "      3         0.0   0.0                          {(1, 2), (2, 1)}    0   \n",
       "   2  0         0.0   0.0          {(1, 3), (1, 1), (2, 1), (2, 2)}    0   \n",
       "...             ...   ...                                       ...  ...   \n",
       "42 17 3         0.0   0.0  {(41, 18), (42, 16), (41, 17), (42, 18)}    0   \n",
       "   18 0         0.0   0.0                      {(41, 18), (42, 17)}    0   \n",
       "      1         0.0   0.0                      {(41, 18), (42, 17)}    0   \n",
       "      2         0.0   0.0                      {(41, 18), (42, 17)}    0   \n",
       "      3         0.0   0.0                      {(41, 18), (42, 17)}    0   \n",
       "\n",
       "             n_means  n_vars  \n",
       "X  Y  batch                   \n",
       "1  1  0         -1.0    -1.0  \n",
       "      1         -1.0    -1.0  \n",
       "      2         -1.0    -1.0  \n",
       "      3         -1.0    -1.0  \n",
       "   2  0         -1.0    -1.0  \n",
       "...              ...     ...  \n",
       "42 17 3         -1.0    -1.0  \n",
       "   18 0         -1.0    -1.0  \n",
       "      1         -1.0    -1.0  \n",
       "      2         -1.0    -1.0  \n",
       "      3         -1.0    -1.0  \n",
       "\n",
       "[3024 rows x 6 columns]"
      ]
     },
     "execution_count": 398,
     "metadata": {},
     "output_type": "execute_result"
    }
   ],
   "source": [
    "segment"
   ]
  },
  {
   "cell_type": "code",
   "execution_count": 424,
   "metadata": {},
   "outputs": [
    {
     "data": {
      "image/png": "[encoded data removed]",
      "text/plain": [
       "<Figure size 432x288 with 1 Axes>"
      ]
     },
     "metadata": {
      "needs_background": "light"
     },
     "output_type": "display_data"
    },
    {
     "data": {
      "image/png": "[encoded data removed]",
      "text/plain": [
       "<Figure size 432x288 with 1 Axes>"
      ]
     },
     "metadata": {
      "needs_background": "light"
     },
     "output_type": "display_data"
    },
    {
     "data": {
      "image/png": "[encoded data removed]",
      "text/plain": [
       "<Figure size 432x288 with 1 Axes>"
      ]
     },
     "metadata": {
      "needs_background": "light"
     },
     "output_type": "display_data"
    },
    {
     "data": {
      "image/png": "[encoded data removed]",
      "text/plain": [
       "<Figure size 432x288 with 1 Axes>"
      ]
     },
     "metadata": {
      "needs_background": "light"
     },
     "output_type": "display_data"
    }
   ],
   "source": [
    "for batch in range(4):\n",
    "    plt.hist(segment.loc[segment.index.get_level_values('batch') == batch,'Hepato'].values,bins=100)\n",
    "    plt.yscale('log')\n",
    "    plt.show()"
   ]
  },
  {
   "cell_type": "code",
   "execution_count": null,
   "metadata": {},
   "outputs": [],
   "source": []
  },
  {
   "cell_type": "code",
   "execution_count": null,
   "metadata": {},
   "outputs": [],
   "source": []
  },
  {
   "cell_type": "code",
   "execution_count": null,
   "metadata": {},
   "outputs": [],
   "source": []
  },
  {
   "cell_type": "code",
   "execution_count": null,
   "metadata": {},
   "outputs": [],
   "source": []
  },
  {
   "cell_type": "code",
   "execution_count": null,
   "metadata": {},
   "outputs": [],
   "source": []
  },
  {
   "cell_type": "code",
   "execution_count": null,
   "metadata": {},
   "outputs": [],
   "source": []
  },
  {
   "cell_type": "markdown",
   "metadata": {},
   "source": [
    "### 3.2 Method 2"
   ]
  },
  {
   "cell_type": "markdown",
   "metadata": {},
   "source": [
    "#### Build a Counts DataFrame"
   ]
  },
  {
   "cell_type": "markdown",
   "metadata": {},
   "source": [
    "This method uses a list of differentially expressed genes between MC38 and Hepatocytes to mark the regions. The benefit of this method is that we now have a much larger set of images to use for alignment."
   ]
  },
  {
   "cell_type": "code",
   "execution_count": 102,
   "metadata": {},
   "outputs": [],
   "source": [
    "with open('/myvol/data2/deep2/reg_genes_dict.pkl','rb') as file:\n",
    "    genes_dict = pkl.load(file)"
   ]
  },
  {
   "cell_type": "markdown",
   "metadata": {},
   "source": [
    "Make a flat list from the dictionary:"
   ]
  },
  {
   "cell_type": "code",
   "execution_count": 103,
   "metadata": {},
   "outputs": [],
   "source": [
    "genes = [i for j in list(genes_dict.values()) for i in j]"
   ]
  },
  {
   "cell_type": "markdown",
   "metadata": {},
   "source": [
    "Confirm that the genes are unique:"
   ]
  },
  {
   "cell_type": "code",
   "execution_count": 104,
   "metadata": {},
   "outputs": [
    {
     "name": "stdout",
     "output_type": "stream",
     "text": [
      "386\n",
      "386\n"
     ]
    }
   ],
   "source": [
    "print(len(genes))\n",
    "print(len(np.unique(genes)))"
   ]
  },
  {
   "cell_type": "code",
   "execution_count": 105,
   "metadata": {},
   "outputs": [],
   "source": [
    "adata_sub = adata[:,genes].copy()"
   ]
  },
  {
   "cell_type": "code",
   "execution_count": 106,
   "metadata": {},
   "outputs": [],
   "source": [
    "adata_subs = dict()"
   ]
  },
  {
   "cell_type": "code",
   "execution_count": 107,
   "metadata": {},
   "outputs": [],
   "source": [
    "batches = adata_sub.obs['batch'].values.unique()"
   ]
  },
  {
   "cell_type": "code",
   "execution_count": 108,
   "metadata": {},
   "outputs": [],
   "source": [
    "for batch in batches:\n",
    "    adata_subs[batch] = adata_sub[adata_sub.obs['batch'] == batch].copy()"
   ]
  },
  {
   "cell_type": "code",
   "execution_count": 117,
   "metadata": {},
   "outputs": [],
   "source": [
    "counts = pd.DataFrame(0,index=pd.MultiIndex.from_product([batches,range(1,43),range(1,19)],names=['batch','X','Y']),columns=genes)"
   ]
  },
  {
   "cell_type": "code",
   "execution_count": 118,
   "metadata": {},
   "outputs": [
    {
     "data": {
      "application/vnd.jupyter.widget-view+json": {
       "model_id": "e7e6319752554210a397ef5ffaaa0887",
       "version_major": 2,
       "version_minor": 0
      },
      "text/plain": [
       "HBox(children=(IntProgress(value=0, max=3024), HTML(value='')))"
      ]
     },
     "metadata": {},
     "output_type": "display_data"
    },
    {
     "name": "stdout",
     "output_type": "stream",
     "text": [
      "\n"
     ]
    }
   ],
   "source": [
    "for batch, x, y in tqdm(counts.index):\n",
    "    xyadata = adata_subs[batch][(adata_subs[batch].obs['X'] == x) & (adata_subs[batch].obs['Y'] == y)].copy()\n",
    "    for i in range(len(counts.columns)):\n",
    "        gene = genes[i]\n",
    "        # try block here is to avoid an index error with obs_vector, it fails when the number of observations is 1\n",
    "        # at that point, the .X underlying array is a single row by # of genes, so just choose the value as the sum\n",
    "        try: \n",
    "            counts.loc[(batch, x, y),gene] = xyadata.obs_vector(gene).sum()\n",
    "        except IndexError:\n",
    "            counts.loc[(batch, x, y),gene] = xyadata.X[i]"
   ]
  },
  {
   "cell_type": "markdown",
   "metadata": {},
   "source": [
    "This took a while to fill in so I'm going to dump it into a pkl."
   ]
  },
  {
   "cell_type": "code",
   "execution_count": 119,
   "metadata": {},
   "outputs": [],
   "source": [
    "# with open('/myvol/data2/deep2/counts.pkl', 'wb') as file:\n",
    "#     pkl.dump(counts,file)\n",
    "with open('/myvol/data2/deep2/counts.pkl', 'rb') as file:\n",
    "    counts = pkl.load(file)"
   ]
  },
  {
   "cell_type": "markdown",
   "metadata": {},
   "source": [
    "#### Fill in the Hexarray with Color Values"
   ]
  },
  {
   "cell_type": "code",
   "execution_count": 120,
   "metadata": {},
   "outputs": [],
   "source": [
    "def get_colors(s):\n",
    "    '''\n",
    "    So this function I found is a nice way to divide up the bimodal distribution of the pixel values generated from gene values.\n",
    "    Block 1 generates a distribution where a huge mode gets generated right at the where the negative distribution ends.\n",
    "    Block 2 finds where that mode and clips anything below it to zero, then rescales to 255.\n",
    "    Together, they produce a nice distribution that matches the histology slides.\n",
    "    '''\n",
    "    # Block 1\n",
    "    colors = s.values\n",
    "    colors = (colors - colors.min())\n",
    "    colors /= colors.max()\n",
    "    colors *= 255\n",
    "    \n",
    "    # Block 2\n",
    "    n, bins, patches = plt.hist(colors,bins=256);\n",
    "    plt.close()\n",
    "    offset = bins[n.argmax()+1]\n",
    "    colors -= offset\n",
    "    colors = np.clip(colors,0,colors.max())\n",
    "    colors /= colors.max()\n",
    "    colors *= 255\n",
    "    \n",
    "    s = pd.Series(colors,index=s.index,name='color')\n",
    "    s = s[s!=0].copy()\n",
    "    \n",
    "    return s"
   ]
  },
  {
   "cell_type": "code",
   "execution_count": 121,
   "metadata": {},
   "outputs": [],
   "source": [
    "def get_image(colors):\n",
    "    '''\n",
    "    df is a dataframe with multiindex of names X and Y, and a single column containing the counts of the genes in each well\n",
    "    '''\n",
    "    \n",
    "    df = hex_coords.join(colors)\n",
    "    df.dropna(inplace=True) # I would convert nans to zeros anyways, and my array is going to be initialized with zeros anyway\n",
    "    \n",
    "    img = np.zeros((222,399)) # this was the calculated size of my 12 pixel hexagons perfectly stacked\n",
    "    \n",
    "    for i in df.index:\n",
    "        hex_ystart = int(df.loc[i,'hex_ystart'])\n",
    "        hex_yend = hex_ystart + 12\n",
    "\n",
    "        hex_xstart = int(df.loc[i,'hex_xstart'])\n",
    "        hex_xend = hex_xstart + 12\n",
    "        \n",
    "        current_hex = img[hex_ystart:hex_yend,hex_xstart:hex_xend]\n",
    "        img[hex_ystart:hex_yend, hex_xstart:hex_xend] = np.where(myhex, df.loc[i,'color'], current_hex)\n",
    "    return img"
   ]
  },
  {
   "cell_type": "code",
   "execution_count": 145,
   "metadata": {},
   "outputs": [
    {
     "data": {
      "application/vnd.jupyter.widget-view+json": {
       "model_id": "bf1b2380d32248f597ee2e13a7af2ae0",
       "version_major": 2,
       "version_minor": 0
      },
      "text/plain": [
       "HBox(children=(IntProgress(value=0, max=4), HTML(value='')))"
      ]
     },
     "metadata": {},
     "output_type": "display_data"
    },
    {
     "data": {
      "application/vnd.jupyter.widget-view+json": {
       "model_id": "7b6769b933d54828973dd564258d4069",
       "version_major": 2,
       "version_minor": 0
      },
      "text/plain": [
       "HBox(children=(IntProgress(value=0, max=386), HTML(value='')))"
      ]
     },
     "metadata": {},
     "output_type": "display_data"
    },
    {
     "name": "stdout",
     "output_type": "stream",
     "text": [
      "\n"
     ]
    },
    {
     "data": {
      "application/vnd.jupyter.widget-view+json": {
       "model_id": "4c1e8ac9a0bf47cbb7d1872e76148b22",
       "version_major": 2,
       "version_minor": 0
      },
      "text/plain": [
       "HBox(children=(IntProgress(value=0, max=386), HTML(value='')))"
      ]
     },
     "metadata": {},
     "output_type": "display_data"
    },
    {
     "name": "stdout",
     "output_type": "stream",
     "text": [
      "\n"
     ]
    },
    {
     "data": {
      "application/vnd.jupyter.widget-view+json": {
       "model_id": "965c82b5205b48f69a9f0b6beedb6f5b",
       "version_major": 2,
       "version_minor": 0
      },
      "text/plain": [
       "HBox(children=(IntProgress(value=0, max=386), HTML(value='')))"
      ]
     },
     "metadata": {},
     "output_type": "display_data"
    },
    {
     "name": "stdout",
     "output_type": "stream",
     "text": [
      "\n"
     ]
    },
    {
     "data": {
      "application/vnd.jupyter.widget-view+json": {
       "model_id": "da19a21a440b43cea2f9446119f5bbcd",
       "version_major": 2,
       "version_minor": 0
      },
      "text/plain": [
       "HBox(children=(IntProgress(value=0, max=386), HTML(value='')))"
      ]
     },
     "metadata": {},
     "output_type": "display_data"
    },
    {
     "name": "stdout",
     "output_type": "stream",
     "text": [
      "\n",
      "\n"
     ]
    }
   ],
   "source": [
    "images_list = list()\n",
    "for batch in tqdm(counts.index.get_level_values('batch').unique()):\n",
    "    images = list()\n",
    "    for gene in tqdm(counts.loc[batch].columns):\n",
    "        colors = get_colors(counts.loc[batch, gene])\n",
    "        img = get_image(colors)\n",
    "        images.append(img) # make the nans zeros\n",
    "\n",
    "    # using an array of csr_matrices will save a ton of memory, since these images are zero inflated\n",
    "    images_list.append(np.array(list(map(csr_matrix,images))))"
   ]
  },
  {
   "cell_type": "markdown",
   "metadata": {},
   "source": [
    "This took a while to build so I'm going to dump it into a pkl. I will do analysis in a separate notebook."
   ]
  },
  {
   "cell_type": "code",
   "execution_count": 146,
   "metadata": {},
   "outputs": [],
   "source": [
    "with open('/myvol/data2/deep2/images.pkl', 'wb') as file:\n",
    "    pkl.dump(images_list,file)"
   ]
  }
 ],
 "metadata": {
  "kernelspec": {
   "display_name": "xyzeq",
   "language": "python",
   "name": "xyzeq"
  },
  "language_info": {
   "codemirror_mode": {
    "name": "ipython",
    "version": 3
   },
   "file_extension": ".py",
   "mimetype": "text/x-python",
   "name": "python",
   "nbconvert_exporter": "python",
   "pygments_lexer": "ipython3",
   "version": "3.6.7"
  }
 },
 "nbformat": 4,
 "nbformat_minor": 4
}
