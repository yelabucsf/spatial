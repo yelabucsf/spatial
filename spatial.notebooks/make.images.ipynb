{
 "cells": [
  {
   "cell_type": "markdown",
   "metadata": {},
   "source": [
    "This notebook can be used for making and visualizing the images of the XYZeq datasets. You can choose which stats and which color channels to map to which values of the sequencing data."
   ]
  },
  {
   "cell_type": "code",
   "execution_count": 1,
   "metadata": {},
   "outputs": [],
   "source": [
    "import scanpy as sc\n",
    "import pandas as pd\n",
    "import numpy as np\n",
    "from scipy.sparse import csr_matrix\n",
    "\n",
    "import matplotlib.pyplot as plt\n",
    "from matplotlib.backends.backend_agg import FigureCanvasAgg as FigureCanvas\n",
    "from matplotlib.figure import Figure\n",
    "import matplotlib as mpl\n",
    "import matplotlib.cm as cm\n",
    "import seaborn as sns\n",
    "import cv2\n",
    "from PIL import Image\n",
    "\n",
    "from scipy import stats\n",
    "\n",
    "import warnings\n",
    "from tqdm.notebook import tqdm\n",
    "import itertools as it\n",
    "import pickle as pkl\n",
    "import os"
   ]
  },
  {
   "cell_type": "code",
   "execution_count": 2,
   "metadata": {},
   "outputs": [],
   "source": [
    "%config Completer.use_jedi = False"
   ]
  },
  {
   "cell_type": "markdown",
   "metadata": {},
   "source": [
    "## 1. Read in Adata and Spatial Barcodes"
   ]
  },
  {
   "cell_type": "code",
   "execution_count": 3,
   "metadata": {},
   "outputs": [],
   "source": [
    "adata = sc.read_h5ad('/myvol/data2/deep2/concat.deep.adata.m.and.h.combatted.dimred.subsetted.dimred.h5ad')"
   ]
  },
  {
   "cell_type": "code",
   "execution_count": 4,
   "metadata": {},
   "outputs": [],
   "source": [
    "spatial = pd.read_csv('/myvol/data2/plate23_map.csv', header=None, index_col=0)\n",
    "spatial.columns = ['X','Y']"
   ]
  },
  {
   "cell_type": "code",
   "execution_count": 5,
   "metadata": {},
   "outputs": [
    {
     "data": {
      "text/html": [
       "<div>\n",
       "<style scoped>\n",
       "    .dataframe tbody tr th:only-of-type {\n",
       "        vertical-align: middle;\n",
       "    }\n",
       "\n",
       "    .dataframe tbody tr th {\n",
       "        vertical-align: top;\n",
       "    }\n",
       "\n",
       "    .dataframe thead th {\n",
       "        text-align: right;\n",
       "    }\n",
       "</style>\n",
       "<table border=\"1\" class=\"dataframe\">\n",
       "  <thead>\n",
       "    <tr style=\"text-align: right;\">\n",
       "      <th></th>\n",
       "      <th>X</th>\n",
       "      <th>Y</th>\n",
       "    </tr>\n",
       "    <tr>\n",
       "      <th>0</th>\n",
       "      <th></th>\n",
       "      <th></th>\n",
       "    </tr>\n",
       "  </thead>\n",
       "  <tbody>\n",
       "    <tr>\n",
       "      <td>AGTTGTTCTAGCGCCT</td>\n",
       "      <td>1</td>\n",
       "      <td>1</td>\n",
       "    </tr>\n",
       "    <tr>\n",
       "      <td>CCGTTAGACGTGACAG</td>\n",
       "      <td>1</td>\n",
       "      <td>2</td>\n",
       "    </tr>\n",
       "    <tr>\n",
       "      <td>CTTACGGTCCGTACGT</td>\n",
       "      <td>1</td>\n",
       "      <td>3</td>\n",
       "    </tr>\n",
       "    <tr>\n",
       "      <td>TCCTGCATTGTGAGAA</td>\n",
       "      <td>1</td>\n",
       "      <td>4</td>\n",
       "    </tr>\n",
       "    <tr>\n",
       "      <td>CTGCGCACTGCTTCTT</td>\n",
       "      <td>1</td>\n",
       "      <td>5</td>\n",
       "    </tr>\n",
       "    <tr>\n",
       "      <td>...</td>\n",
       "      <td>...</td>\n",
       "      <td>...</td>\n",
       "    </tr>\n",
       "    <tr>\n",
       "      <td>CCTGTTGTATGGTTAC</td>\n",
       "      <td>44</td>\n",
       "      <td>2</td>\n",
       "    </tr>\n",
       "    <tr>\n",
       "      <td>TCAATCTATGAGTCGC</td>\n",
       "      <td>44</td>\n",
       "      <td>3</td>\n",
       "    </tr>\n",
       "    <tr>\n",
       "      <td>TCGCGACTGCCACTAC</td>\n",
       "      <td>44</td>\n",
       "      <td>4</td>\n",
       "    </tr>\n",
       "    <tr>\n",
       "      <td>CAGGACCTTAATCGTA</td>\n",
       "      <td>44</td>\n",
       "      <td>5</td>\n",
       "    </tr>\n",
       "    <tr>\n",
       "      <td>GGCTATGGCTCAGCTG</td>\n",
       "      <td>44</td>\n",
       "      <td>6</td>\n",
       "    </tr>\n",
       "  </tbody>\n",
       "</table>\n",
       "<p>768 rows × 2 columns</p>\n",
       "</div>"
      ],
      "text/plain": [
       "                   X  Y\n",
       "0                      \n",
       "AGTTGTTCTAGCGCCT   1  1\n",
       "CCGTTAGACGTGACAG   1  2\n",
       "CTTACGGTCCGTACGT   1  3\n",
       "TCCTGCATTGTGAGAA   1  4\n",
       "CTGCGCACTGCTTCTT   1  5\n",
       "...               .. ..\n",
       "CCTGTTGTATGGTTAC  44  2\n",
       "TCAATCTATGAGTCGC  44  3\n",
       "TCGCGACTGCCACTAC  44  4\n",
       "CAGGACCTTAATCGTA  44  5\n",
       "GGCTATGGCTCAGCTG  44  6\n",
       "\n",
       "[768 rows x 2 columns]"
      ]
     },
     "execution_count": 5,
     "metadata": {},
     "output_type": "execute_result"
    }
   ],
   "source": [
    "spatial"
   ]
  },
  {
   "cell_type": "code",
   "execution_count": 6,
   "metadata": {},
   "outputs": [
    {
     "data": {
      "text/html": [
       "<div>\n",
       "<style scoped>\n",
       "    .dataframe tbody tr th:only-of-type {\n",
       "        vertical-align: middle;\n",
       "    }\n",
       "\n",
       "    .dataframe tbody tr th {\n",
       "        vertical-align: top;\n",
       "    }\n",
       "\n",
       "    .dataframe thead th {\n",
       "        text-align: right;\n",
       "    }\n",
       "</style>\n",
       "<table border=\"1\" class=\"dataframe\">\n",
       "  <thead>\n",
       "    <tr style=\"text-align: right;\">\n",
       "      <th></th>\n",
       "      <th>X</th>\n",
       "      <th>Y</th>\n",
       "    </tr>\n",
       "    <tr>\n",
       "      <th>0</th>\n",
       "      <th></th>\n",
       "      <th></th>\n",
       "    </tr>\n",
       "  </thead>\n",
       "  <tbody>\n",
       "    <tr>\n",
       "      <td>CGCACTATAGGTTAAG</td>\n",
       "      <td>42</td>\n",
       "      <td>11</td>\n",
       "    </tr>\n",
       "    <tr>\n",
       "      <td>ATCGCGGTTCCTGAGG</td>\n",
       "      <td>42</td>\n",
       "      <td>12</td>\n",
       "    </tr>\n",
       "    <tr>\n",
       "      <td>AGTAGAGTTATCGTCC</td>\n",
       "      <td>42</td>\n",
       "      <td>13</td>\n",
       "    </tr>\n",
       "    <tr>\n",
       "      <td>GCTTGACCGTAATCGA</td>\n",
       "      <td>42</td>\n",
       "      <td>14</td>\n",
       "    </tr>\n",
       "    <tr>\n",
       "      <td>CGGCTCATTACTGCGG</td>\n",
       "      <td>42</td>\n",
       "      <td>15</td>\n",
       "    </tr>\n",
       "    <tr>\n",
       "      <td>GGACGCCTACAATGAT</td>\n",
       "      <td>42</td>\n",
       "      <td>16</td>\n",
       "    </tr>\n",
       "    <tr>\n",
       "      <td>TACATCGACGAACCTG</td>\n",
       "      <td>42</td>\n",
       "      <td>17</td>\n",
       "    </tr>\n",
       "    <tr>\n",
       "      <td>AGCGGAGAGTCAAGCT</td>\n",
       "      <td>42</td>\n",
       "      <td>18</td>\n",
       "    </tr>\n",
       "    <tr>\n",
       "      <td>GCATCCAATCGCGTTA</td>\n",
       "      <td>43</td>\n",
       "      <td>1</td>\n",
       "    </tr>\n",
       "    <tr>\n",
       "      <td>TATCGACGGCGTGAGT</td>\n",
       "      <td>43</td>\n",
       "      <td>2</td>\n",
       "    </tr>\n",
       "    <tr>\n",
       "      <td>GCTCTGTCTAAGTTCC</td>\n",
       "      <td>43</td>\n",
       "      <td>3</td>\n",
       "    </tr>\n",
       "    <tr>\n",
       "      <td>GAATTCCGCGGTAGTA</td>\n",
       "      <td>43</td>\n",
       "      <td>4</td>\n",
       "    </tr>\n",
       "    <tr>\n",
       "      <td>CAGCCTATGACGGTAA</td>\n",
       "      <td>43</td>\n",
       "      <td>5</td>\n",
       "    </tr>\n",
       "    <tr>\n",
       "      <td>GATCATAACTCGGCTC</td>\n",
       "      <td>43</td>\n",
       "      <td>6</td>\n",
       "    </tr>\n",
       "    <tr>\n",
       "      <td>CTATCGACGAGTATAC</td>\n",
       "      <td>44</td>\n",
       "      <td>1</td>\n",
       "    </tr>\n",
       "    <tr>\n",
       "      <td>CCTGTTGTATGGTTAC</td>\n",
       "      <td>44</td>\n",
       "      <td>2</td>\n",
       "    </tr>\n",
       "    <tr>\n",
       "      <td>TCAATCTATGAGTCGC</td>\n",
       "      <td>44</td>\n",
       "      <td>3</td>\n",
       "    </tr>\n",
       "    <tr>\n",
       "      <td>TCGCGACTGCCACTAC</td>\n",
       "      <td>44</td>\n",
       "      <td>4</td>\n",
       "    </tr>\n",
       "    <tr>\n",
       "      <td>CAGGACCTTAATCGTA</td>\n",
       "      <td>44</td>\n",
       "      <td>5</td>\n",
       "    </tr>\n",
       "    <tr>\n",
       "      <td>GGCTATGGCTCAGCTG</td>\n",
       "      <td>44</td>\n",
       "      <td>6</td>\n",
       "    </tr>\n",
       "  </tbody>\n",
       "</table>\n",
       "</div>"
      ],
      "text/plain": [
       "                   X   Y\n",
       "0                       \n",
       "CGCACTATAGGTTAAG  42  11\n",
       "ATCGCGGTTCCTGAGG  42  12\n",
       "AGTAGAGTTATCGTCC  42  13\n",
       "GCTTGACCGTAATCGA  42  14\n",
       "CGGCTCATTACTGCGG  42  15\n",
       "GGACGCCTACAATGAT  42  16\n",
       "TACATCGACGAACCTG  42  17\n",
       "AGCGGAGAGTCAAGCT  42  18\n",
       "GCATCCAATCGCGTTA  43   1\n",
       "TATCGACGGCGTGAGT  43   2\n",
       "GCTCTGTCTAAGTTCC  43   3\n",
       "GAATTCCGCGGTAGTA  43   4\n",
       "CAGCCTATGACGGTAA  43   5\n",
       "GATCATAACTCGGCTC  43   6\n",
       "CTATCGACGAGTATAC  44   1\n",
       "CCTGTTGTATGGTTAC  44   2\n",
       "TCAATCTATGAGTCGC  44   3\n",
       "TCGCGACTGCCACTAC  44   4\n",
       "CAGGACCTTAATCGTA  44   5\n",
       "GGCTATGGCTCAGCTG  44   6"
      ]
     },
     "execution_count": 6,
     "metadata": {},
     "output_type": "execute_result"
    }
   ],
   "source": [
    "spatial.iloc[-20:,:]"
   ]
  },
  {
   "cell_type": "markdown",
   "metadata": {},
   "source": [
    "X indices 43 and 44 don't have a full set of Y indices. These indices are on the edge of the array and are complicating some of the operations further downstream. Because I've examined some of the outputs and they do not seem to be terribly useful anyway (probably contain very few cells), I'm going to drop them for now. I will do this after I add the columns to the `adata.obs`."
   ]
  },
  {
   "cell_type": "code",
   "execution_count": 7,
   "metadata": {},
   "outputs": [],
   "source": [
    "adata.obs['spatial_bc'] = [i.split('.')[1].split('-')[0] for i in adata.obs_names]"
   ]
  },
  {
   "cell_type": "code",
   "execution_count": 8,
   "metadata": {},
   "outputs": [],
   "source": [
    "adata.obs['X'] = list(map(lambda x: spatial.loc[x,'X'], adata.obs['spatial_bc']))\n",
    "adata.obs['Y'] = list(map(lambda x: spatial.loc[x,'Y'], adata.obs['spatial_bc']))"
   ]
  },
  {
   "cell_type": "code",
   "execution_count": 9,
   "metadata": {},
   "outputs": [
    {
     "data": {
      "text/plain": [
       "26"
      ]
     },
     "execution_count": 9,
     "metadata": {},
     "output_type": "execute_result"
    }
   ],
   "source": [
    "sum(adata.obs['X'] > 42)"
   ]
  },
  {
   "cell_type": "markdown",
   "metadata": {},
   "source": [
    "Only 26 cells across 5 batches in these wells. Let's just drop them."
   ]
  },
  {
   "cell_type": "code",
   "execution_count": 10,
   "metadata": {},
   "outputs": [],
   "source": [
    "adata = adata[adata.obs['X'] <= 42].copy()"
   ]
  },
  {
   "cell_type": "markdown",
   "metadata": {},
   "source": [
    "I'm also only going to use the first 4 batches, since the last batch was actually from the same exact slice (and I've confirmed after examining outputs that they are almost identical). We could possibly merge them into one output (now more cells for the combined batch) but not sure if that'd be explainable, since we technically tried to enrich for CD8s and it just didn't work."
   ]
  },
  {
   "cell_type": "code",
   "execution_count": 11,
   "metadata": {},
   "outputs": [],
   "source": [
    "adata = adata[adata.obs['batch'] != '4'].copy()"
   ]
  },
  {
   "cell_type": "markdown",
   "metadata": {},
   "source": [
    "## 2. Build the HexMap\n",
    "Instead of relying on matplotlib, for many reasons I've decided to just build the image manually using a numpy array."
   ]
  },
  {
   "cell_type": "markdown",
   "metadata": {},
   "source": [
    "When considering the hexagons:\n",
    "1. We want something as small as possible because for super resolution we will be registering to _pixel_ resolution. \n",
    "2. We need something that stacks. I don't know the theory or jargon around this, but I've determined (mostly through trial and error) we need something with an even number of pixels per side to prevent single-pixel points on the sides, as those don't stack.\n",
    "\n",
    "I've come to the conclusion that the smallest, most-hexagon-like figure we can generate is the one that fits inside a 12 x 12 pixel grid."
   ]
  },
  {
   "cell_type": "code",
   "execution_count": 12,
   "metadata": {},
   "outputs": [],
   "source": [
    "myhex = np.zeros((12,12)) "
   ]
  },
  {
   "cell_type": "code",
   "execution_count": 13,
   "metadata": {},
   "outputs": [],
   "source": [
    "myhex[0:1,3:9] = 1\n",
    "myhex[1:3,2:10] = 1\n",
    "myhex[3:5,1:11] = 1\n",
    "myhex[5:7,:12] = 1\n",
    "myhex[7:9,1:11] = 1\n",
    "myhex[9:11,2:10] = 1\n",
    "myhex[11:12,3:9] = 1"
   ]
  },
  {
   "cell_type": "code",
   "execution_count": 14,
   "metadata": {},
   "outputs": [
    {
     "data": {
      "image/png": "[encoded data removed]",
      "text/plain": [
       "<Figure size 432x288 with 1 Axes>"
      ]
     },
     "metadata": {
      "needs_background": "light"
     },
     "output_type": "display_data"
    }
   ],
   "source": [
    "plt.imshow(myhex, cmap='binary');"
   ]
  },
  {
   "cell_type": "markdown",
   "metadata": {},
   "source": [
    "Our hexagon has 6 pixel-long sides on top and bottom. If it were a true hexagon, the pixels on the vertical sides would also be 6 units long. We can try to measure one by using the length of the right triangle formed from the 3 pixels jutting out and 6 pixels high, which ends up creating a hypotenuse vertical side of theortical 6.71 units long, so 6 ~ 6.7, I'd say is close enough (~10% off) to true hexagon. The 12-pixel-long hexagon also has the added benefit of spatial resolution to around the diameter of a cell (500/12 is 40 um, roughly the size of what I'd imagine are the largest cells we'll be picking up). "
   ]
  },
  {
   "cell_type": "markdown",
   "metadata": {},
   "source": [
    "Now building the array of hexagons. I will mark the location of key points of each hexagons in a lookup dataframe called `hex_coords` so I don't have to build it everytime I need to fill in new values."
   ]
  },
  {
   "cell_type": "code",
   "execution_count": 15,
   "metadata": {},
   "outputs": [],
   "source": [
    "# make a lookup table, so that I don't have to do all these calculations again\n",
    "hex_coords = pd.DataFrame(0,index=pd.MultiIndex.from_product([range(1,43), range(1,19)], names=['X','Y']),\n",
    "                          columns=['hex_xstart','hex_ystart', 'center_xstart', 'center_ystart', 'hex_xend', 'hex_yend'])\n",
    "\n",
    "for y, x in it.product(range(1,19),range(1,43)):\n",
    "    xstart = int(6*(x-1)*1.5) # please don't ask me how I figured this equation out, it works\n",
    "    ystart = (y-1)*12\n",
    "    if x % 2 == 0:  \n",
    "        ystart = ystart + 6\n",
    "\n",
    "    # make a lookup table, so that I don't have to do all these calculations again\n",
    "    hex_coords.loc[(x,y),'hex_xstart'] = xstart\n",
    "    hex_coords.loc[(x,y),'hex_ystart'] = ystart\n",
    "    hex_coords.loc[(x,y),'center_xstart'] = xstart + 5\n",
    "    hex_coords.loc[(x,y),'center_ystart'] = ystart + 5\n",
    "    hex_coords.loc[(x,y),'hex_xend'] = xstart + 12\n",
    "    hex_coords.loc[(x,y),'hex_yend'] = ystart + 12\n",
    "# hex_coords = hex_coords.astype(np.uint8) # definitely don't convert to integers, it will mess things up, not quite sure how exactly at the current moment"
   ]
  },
  {
   "cell_type": "markdown",
   "metadata": {},
   "source": [
    "Now fill in the hex array with random colors to show it works."
   ]
  },
  {
   "cell_type": "code",
   "execution_count": 19,
   "metadata": {},
   "outputs": [],
   "source": [
    "img = list()\n",
    "for color in ['r','g','b']:\n",
    "    hex_array = np.zeros((222,381)) # these are calculated to perfectly encapsulate the 19 x 43 well array\n",
    "    for y, x in it.product(range(1,19),range(1,43)):\n",
    "        \n",
    "        val = np.random.choice(range(50,255))\n",
    "        \n",
    "        xstart = hex_coords.loc[(x,y),'hex_xstart']\n",
    "        ystart = hex_coords.loc[(x,y),'hex_ystart']\n",
    "\n",
    "        yend = hex_coords.loc[(x,y),'hex_yend']\n",
    "        xend = hex_coords.loc[(x,y),'hex_xend']\n",
    "        \n",
    "        current_hex = hex_array[ystart:yend,xstart:xend]\n",
    "        hex_array[ystart:yend,xstart:xend] = np.where(myhex, val, current_hex)\n",
    "    img.append(hex_array)\n",
    "img = np.stack(img, axis=2).astype(np.uint8)"
   ]
  },
  {
   "cell_type": "code",
   "execution_count": 20,
   "metadata": {},
   "outputs": [
    {
     "data": {
      "image/png": "[encoded data removed]",
      "text/plain": [
       "<Figure size 1152x633.6 with 1 Axes>"
      ]
     },
     "metadata": {
      "needs_background": "light"
     },
     "output_type": "display_data"
    }
   ],
   "source": [
    "plt.figure(figsize=(400/25,220/25)) # chose this size to keep the aspect ratio\n",
    "plt.imshow(img, cmap='binary');"
   ]
  },
  {
   "cell_type": "markdown",
   "metadata": {},
   "source": [
    "I would also like to make a list of immediate neighbors for each well for use later."
   ]
  },
  {
   "cell_type": "code",
   "execution_count": 21,
   "metadata": {},
   "outputs": [],
   "source": [
    "neighbors_list = list()\n",
    "for x, y in it.product(range(1,43), range(1,19)):\n",
    "    if x % 2 == 0:\n",
    "        neighbors = np.array([(x-1, y+1), (x, y+1), (x+1, y+1), (x-1, y), (x+1, y), (x, y-1)])\n",
    "    else:\n",
    "        \n",
    "        neighbors = np.array([(x-1, y-1), (x, y-1), (x+1, y-1), (x-1, y), (x+1, y), (x, y+1)])\n",
    "        \n",
    "    neighbors = np.array([i for i in neighbors if not np.any(i == 0)\n",
    "                         and not np.any(i[0] > 42) \n",
    "                         and not np.any(i[1] > 18)]) # remove those that are outside array bounds\n",
    "    \n",
    "    neighbors_list.append(neighbors)\n",
    "hex_coords['neighbors'] = neighbors_list    "
   ]
  },
  {
   "cell_type": "markdown",
   "metadata": {},
   "source": [
    "## 3. Make Images"
   ]
  },
  {
   "cell_type": "markdown",
   "metadata": {},
   "source": [
    "There are several ways to make images. The two methods we wanted to try first are as follows:\n",
    "\n",
    "1. Using the percentage of cells in a well that are MC38 vs Hepatocytes as the pixel value \n",
    "2. Using the counts of transcripts in cells across the most differentially expressed genes. \n",
    "\n",
    "Method 1 is simpler, but method 2 may provide more information. "
   ]
  },
  {
   "cell_type": "markdown",
   "metadata": {},
   "source": [
    "### 3.1 Method 1"
   ]
  },
  {
   "cell_type": "markdown",
   "metadata": {},
   "source": [
    "#### Build a Counts DataFrame"
   ]
  },
  {
   "cell_type": "code",
   "execution_count": 59,
   "metadata": {},
   "outputs": [],
   "source": [
    "batches = adata.obs['batch'].values.unique()"
   ]
  },
  {
   "cell_type": "code",
   "execution_count": 60,
   "metadata": {},
   "outputs": [],
   "source": [
    "celltypes = adata.obs['celltype1'].unique()"
   ]
  },
  {
   "cell_type": "code",
   "execution_count": 61,
   "metadata": {},
   "outputs": [
    {
     "data": {
      "text/plain": [
       "[Hepato, Immune, Human, MC38, Liver Special]\n",
       "Categories (5, object): [Hepato, Immune, Human, MC38, Liver Special]"
      ]
     },
     "execution_count": 61,
     "metadata": {},
     "output_type": "execute_result"
    }
   ],
   "source": [
    "celltypes"
   ]
  },
  {
   "cell_type": "markdown",
   "metadata": {},
   "source": [
    "Initialize a counts dataframe that will contain the counts, per well and per batch, of each cell type. I'm going to use `pd.MultiIndex` to index according to `X`, `Y`, and `batch`. The MultiIndex, while useful, also causes some problems with by creating these indices of dtype `Category` that are hard to edit later. I try to remedy those issues by converting the columns to a regular index here, and then set the batch to an integer dtype after I build the counts dataframe. Converting to the batch to an integer is useful later."
   ]
  },
  {
   "cell_type": "code",
   "execution_count": 62,
   "metadata": {},
   "outputs": [],
   "source": [
    "counts = pd.DataFrame(0,index=pd.MultiIndex.from_product([batches,range(1,43),range(1,19)],names=['batch','X','Y']),columns=celltypes)\n",
    "counts.columns = pd.Index(list(counts.columns)) # this is to convert the columns into a normal index and not a categorical index, not sure why it does that when using multiindex.from_product"
   ]
  },
  {
   "cell_type": "code",
   "execution_count": 63,
   "metadata": {},
   "outputs": [
    {
     "data": {
      "text/plain": [
       "Index(['Hepato', 'Immune', 'Human', 'MC38', 'Liver Special'], dtype='object')"
      ]
     },
     "execution_count": 63,
     "metadata": {},
     "output_type": "execute_result"
    }
   ],
   "source": [
    "counts.columns"
   ]
  },
  {
   "cell_type": "markdown",
   "metadata": {},
   "source": [
    "Subset the adata into smaller adatas according to their batch."
   ]
  },
  {
   "cell_type": "code",
   "execution_count": 64,
   "metadata": {},
   "outputs": [],
   "source": [
    "adata_subs = dict()"
   ]
  },
  {
   "cell_type": "code",
   "execution_count": 65,
   "metadata": {},
   "outputs": [],
   "source": [
    "for batch in batches:\n",
    "    adata_subs[batch] = adata[adata.obs['batch'] == batch].copy()"
   ]
  },
  {
   "cell_type": "markdown",
   "metadata": {},
   "source": [
    "Fill the counts dataframe."
   ]
  },
  {
   "cell_type": "code",
   "execution_count": 66,
   "metadata": {},
   "outputs": [
    {
     "data": {
      "application/vnd.jupyter.widget-view+json": {
       "model_id": "eddcbd8011634447abc27b4ecd15d202",
       "version_major": 2,
       "version_minor": 0
      },
      "text/plain": [
       "HBox(children=(IntProgress(value=0, max=3024), HTML(value='')))"
      ]
     },
     "metadata": {},
     "output_type": "display_data"
    },
    {
     "name": "stdout",
     "output_type": "stream",
     "text": [
      "\n"
     ]
    }
   ],
   "source": [
    "for batch, x, y in tqdm(counts.index):\n",
    "    xy_cts = adata_subs[batch][(adata_subs[batch].obs['X'] == x) & (adata_subs[batch].obs['Y'] == y)].obs['celltype1']\n",
    "    cts, ct_counts = np.unique(xy_cts.values, return_counts=True)\n",
    "    for ct, ct_count in zip(cts, ct_counts):\n",
    "        counts.loc[(batch, x, y),ct] = ct_count"
   ]
  },
  {
   "cell_type": "markdown",
   "metadata": {},
   "source": [
    "This is where I convert the batch to an integer, it makes things easier later."
   ]
  },
  {
   "cell_type": "code",
   "execution_count": 67,
   "metadata": {},
   "outputs": [],
   "source": [
    "counts.index = counts.index.set_levels([counts.index.levels[0].astype(np.uint8), counts.index.levels[1], counts.index.levels[2]])"
   ]
  },
  {
   "cell_type": "markdown",
   "metadata": {},
   "source": [
    "#### Fill in the Hexarray with Color Values"
   ]
  },
  {
   "cell_type": "code",
   "execution_count": 68,
   "metadata": {},
   "outputs": [],
   "source": [
    "def get_colors(df, method=1, cts=None):\n",
    "    '''\n",
    "    This function takes in the counts DataFrame and will generate color values based on \n",
    "    whatever metric you choose.\n",
    "    '''\n",
    "    if method == 1:\n",
    "        ### Percentage hepato or mc38 (out of hepato + mc38)\n",
    "        mc38 = df['MC38'].values\n",
    "        hep = df['Hepato'].values\n",
    "        clip_val = 0 # clip values to 5\n",
    "        mc38 = np.where(mc38 < clip_val, 0, mc38)   \n",
    "        hep = np.where(hep < clip_val, 0, hep)   \n",
    "        warnings.filterwarnings('ignore')\n",
    "        p_hep = hep/(hep + mc38)\n",
    "        warnings.filterwarnings('default')\n",
    "        colors = np.stack([255*p_hep, np.zeros((len(p_hep),)), 255*(1-p_hep)], axis=1).astype(np.uint8)\n",
    "        \n",
    "    elif method == 2:\n",
    "        ### Number of One Cell Type\n",
    "        ct = cts[0]\n",
    "        ct = df[ct].values\n",
    "        clip_val = 0 # clip values to 5\n",
    "        ct = np.where(ct < clip_val, 0, ct)      \n",
    "        colors = np.stack([255*ct, np.zeros((len(ct),)), np.zeros((len(ct),))], axis=1).astype(np.uint8)\n",
    "        \n",
    "    elif method == 3:\n",
    "        ### Number of Two Cell Types\n",
    "        ct1, ct2 = tuple(cts)\n",
    "        ct1 = df[ct1].values\n",
    "        ct2 = df[ct2].values\n",
    "        clip_val = 0 # clip values to 5\n",
    "        ct1 = np.where(ct1 < clip_val, 0, ct1)      \n",
    "        ct2 = np.where(ct2 < clip_val, 0, ct2) \n",
    "        colors = np.stack([255*ct1, np.zeros((len(ct1),)), 255*ct2], axis=1).astype(np.uint8)\n",
    "    \n",
    "    elif method == 4:\n",
    "        ### Number of Three Cell Types\n",
    "        ct1, ct2, ct3 = tuple(cts)\n",
    "        ct1 = df[ct1].values\n",
    "        ct2 = df[ct2].values\n",
    "        ct3 = df[ct3].values\n",
    "        clip_val = 3 # clip values to 5\n",
    "        ct1 = np.where(ct1 < clip_val, 0, ct1)      \n",
    "        ct2 = np.where(ct2 < clip_val, 0, ct2) \n",
    "        ct3 = np.where(ct3 < clip_val, 0, ct3) \n",
    "        colors = np.stack([255*ct1, 255*ct2, 255*ct3], axis=1).astype(np.uint8)\n",
    "    \n",
    "    newdf = pd.DataFrame(colors,index=df.index,columns=['r','g','b'])\n",
    "#     newdf = newdf[newdf.sum(axis=1) != 0] # do not include this, just fill the whole thing, I thought to include it to reduce time but it causes problems later\n",
    "\n",
    "    return newdf"
   ]
  },
  {
   "cell_type": "code",
   "execution_count": 69,
   "metadata": {},
   "outputs": [],
   "source": [
    "def get_image(color_df):\n",
    "    '''\n",
    "    color_df is a dataframe with columns 'r', 'g', and 'b', corresponding to the color values\n",
    "    that should be filled into each hexagon.\n",
    "    '''\n",
    "    img = list()\n",
    "    for color in ['r','g','b']:\n",
    "        hex_array = np.zeros((222,399))\n",
    "        for y, x in it.product(range(1,19),range(1,45)):\n",
    "\n",
    "            try:\n",
    "                val = color_df.loc[(x, y), color]\n",
    "            except: # I should make this exception more specific\n",
    "                continue\n",
    "\n",
    "            xstart = hex_coords.loc[(x,y),'hex_xstart']\n",
    "            ystart = hex_coords.loc[(x,y),'hex_ystart']\n",
    "\n",
    "            yend = hex_coords.loc[(x,y),'hex_yend']\n",
    "            xend = hex_coords.loc[(x,y),'hex_xend']\n",
    "\n",
    "            current_hex = hex_array[ystart:yend,xstart:xend]\n",
    "            hex_array[ystart:yend,xstart:xend] = np.where(myhex, val, current_hex)\n",
    "        img.append(hex_array)\n",
    "    img = np.stack(img, axis=2).astype(np.uint8)\n",
    "    return img"
   ]
  },
  {
   "cell_type": "code",
   "execution_count": 70,
   "metadata": {},
   "outputs": [
    {
     "data": {
      "application/vnd.jupyter.widget-view+json": {
       "model_id": "c9f9944991d44f3b8ac76b46a8448e02",
       "version_major": 2,
       "version_minor": 0
      },
      "text/plain": [
       "HBox(children=(IntProgress(value=0, max=4), HTML(value='')))"
      ]
     },
     "metadata": {},
     "output_type": "display_data"
    },
    {
     "name": "stdout",
     "output_type": "stream",
     "text": [
      "\n"
     ]
    }
   ],
   "source": [
    "img_list = list()\n",
    "for batch in tqdm(counts.index.get_level_values('batch').unique()):\n",
    "    images = list()\n",
    "    color_df = get_colors(counts.loc[batch])\n",
    "    img = get_image(color_df)\n",
    "    img_list.append(img)"
   ]
  },
  {
   "cell_type": "markdown",
   "metadata": {},
   "source": [
    "L10C\n",
    "L20C1\n",
    "L20T\n",
    "L30C"
   ]
  },
  {
   "cell_type": "code",
   "execution_count": 71,
   "metadata": {},
   "outputs": [
    {
     "data": {
      "image/png": "[encoded data removed]",
      "text/plain": [
       "<Figure size 1440x1080 with 4 Axes>"
      ]
     },
     "metadata": {
      "needs_background": "light"
     },
     "output_type": "display_data"
    }
   ],
   "source": [
    "fig, axes = plt.subplots(2,2, figsize=(20,15))\n",
    "for img, ax in zip(img_list, np.ravel(axes)):\n",
    "    ax.imshow(img);\n",
    "    ax.axis('off')\n",
    "np.ravel(axes)[-1].axis('off');"
   ]
  },
  {
   "cell_type": "markdown",
   "metadata": {},
   "source": [
    "### Analysis"
   ]
  },
  {
   "cell_type": "markdown",
   "metadata": {},
   "source": [
    "I want to show the spatial dependence of the wells: those that are next to each other are likely to contain similar number of hepatocytes/MC38."
   ]
  },
  {
   "cell_type": "code",
   "execution_count": 72,
   "metadata": {},
   "outputs": [],
   "source": [
    "counts = counts.join(hex_coords['neighbors'])"
   ]
  },
  {
   "cell_type": "code",
   "execution_count": 73,
   "metadata": {},
   "outputs": [],
   "source": [
    "mc38 = counts['MC38'].values\n",
    "hep = counts['Hepato'].values\n",
    "tot = hep + mc38"
   ]
  },
  {
   "cell_type": "code",
   "execution_count": 74,
   "metadata": {},
   "outputs": [],
   "source": [
    "clip_val = 0 # clip values to 5\n",
    "mc38 = np.where(mc38 < clip_val, 0, mc38)   \n",
    "hep = np.where(hep < clip_val, 0, hep)"
   ]
  },
  {
   "cell_type": "code",
   "execution_count": 75,
   "metadata": {},
   "outputs": [],
   "source": [
    "warnings.filterwarnings('ignore')\n",
    "p_hep = np.nan_to_num(hep/(tot))\n",
    "p_mc38 = np.nan_to_num(mc38/(tot))\n",
    "warnings.filterwarnings('default')"
   ]
  },
  {
   "cell_type": "code",
   "execution_count": 76,
   "metadata": {},
   "outputs": [],
   "source": [
    "counts['Tot'] = tot\n",
    "counts['%Hep'] = p_hep\n",
    "counts['%MC38'] = p_mc38"
   ]
  },
  {
   "cell_type": "code",
   "execution_count": 77,
   "metadata": {},
   "outputs": [
    {
     "data": {
      "text/html": [
       "<div>\n",
       "<style scoped>\n",
       "    .dataframe tbody tr th:only-of-type {\n",
       "        vertical-align: middle;\n",
       "    }\n",
       "\n",
       "    .dataframe tbody tr th {\n",
       "        vertical-align: top;\n",
       "    }\n",
       "\n",
       "    .dataframe thead th {\n",
       "        text-align: right;\n",
       "    }\n",
       "</style>\n",
       "<table border=\"1\" class=\"dataframe\">\n",
       "  <thead>\n",
       "    <tr style=\"text-align: right;\">\n",
       "      <th></th>\n",
       "      <th></th>\n",
       "      <th></th>\n",
       "      <th>Hepato</th>\n",
       "      <th>Immune</th>\n",
       "      <th>Human</th>\n",
       "      <th>MC38</th>\n",
       "      <th>Liver Special</th>\n",
       "      <th>neighbors</th>\n",
       "      <th>Tot</th>\n",
       "      <th>%Hep</th>\n",
       "      <th>%MC38</th>\n",
       "    </tr>\n",
       "    <tr>\n",
       "      <th>X</th>\n",
       "      <th>Y</th>\n",
       "      <th>batch</th>\n",
       "      <th></th>\n",
       "      <th></th>\n",
       "      <th></th>\n",
       "      <th></th>\n",
       "      <th></th>\n",
       "      <th></th>\n",
       "      <th></th>\n",
       "      <th></th>\n",
       "      <th></th>\n",
       "    </tr>\n",
       "  </thead>\n",
       "  <tbody>\n",
       "    <tr>\n",
       "      <td rowspan=\"5\" valign=\"top\">1</td>\n",
       "      <td rowspan=\"4\" valign=\"top\">1</td>\n",
       "      <td>0</td>\n",
       "      <td>0</td>\n",
       "      <td>0</td>\n",
       "      <td>1</td>\n",
       "      <td>0</td>\n",
       "      <td>0</td>\n",
       "      <td>[[2, 1], [1, 2]]</td>\n",
       "      <td>0</td>\n",
       "      <td>0.0</td>\n",
       "      <td>0.0</td>\n",
       "    </tr>\n",
       "    <tr>\n",
       "      <td>1</td>\n",
       "      <td>0</td>\n",
       "      <td>0</td>\n",
       "      <td>0</td>\n",
       "      <td>0</td>\n",
       "      <td>0</td>\n",
       "      <td>[[2, 1], [1, 2]]</td>\n",
       "      <td>0</td>\n",
       "      <td>0.0</td>\n",
       "      <td>0.0</td>\n",
       "    </tr>\n",
       "    <tr>\n",
       "      <td>2</td>\n",
       "      <td>0</td>\n",
       "      <td>0</td>\n",
       "      <td>0</td>\n",
       "      <td>0</td>\n",
       "      <td>0</td>\n",
       "      <td>[[2, 1], [1, 2]]</td>\n",
       "      <td>0</td>\n",
       "      <td>0.0</td>\n",
       "      <td>0.0</td>\n",
       "    </tr>\n",
       "    <tr>\n",
       "      <td>3</td>\n",
       "      <td>0</td>\n",
       "      <td>0</td>\n",
       "      <td>0</td>\n",
       "      <td>0</td>\n",
       "      <td>0</td>\n",
       "      <td>[[2, 1], [1, 2]]</td>\n",
       "      <td>0</td>\n",
       "      <td>0.0</td>\n",
       "      <td>0.0</td>\n",
       "    </tr>\n",
       "    <tr>\n",
       "      <td>2</td>\n",
       "      <td>0</td>\n",
       "      <td>0</td>\n",
       "      <td>0</td>\n",
       "      <td>0</td>\n",
       "      <td>0</td>\n",
       "      <td>0</td>\n",
       "      <td>[[1, 1], [2, 1], [2, 2], [1, 3]]</td>\n",
       "      <td>0</td>\n",
       "      <td>0.0</td>\n",
       "      <td>0.0</td>\n",
       "    </tr>\n",
       "  </tbody>\n",
       "</table>\n",
       "</div>"
      ],
      "text/plain": [
       "           Hepato  Immune  Human  MC38  Liver Special  \\\n",
       "X Y batch                                               \n",
       "1 1 0           0       0      1     0              0   \n",
       "    1           0       0      0     0              0   \n",
       "    2           0       0      0     0              0   \n",
       "    3           0       0      0     0              0   \n",
       "  2 0           0       0      0     0              0   \n",
       "\n",
       "                                  neighbors  Tot  %Hep  %MC38  \n",
       "X Y batch                                                      \n",
       "1 1 0                      [[2, 1], [1, 2]]    0   0.0    0.0  \n",
       "    1                      [[2, 1], [1, 2]]    0   0.0    0.0  \n",
       "    2                      [[2, 1], [1, 2]]    0   0.0    0.0  \n",
       "    3                      [[2, 1], [1, 2]]    0   0.0    0.0  \n",
       "  2 0      [[1, 1], [2, 1], [2, 2], [1, 3]]    0   0.0    0.0  "
      ]
     },
     "execution_count": 77,
     "metadata": {},
     "output_type": "execute_result"
    }
   ],
   "source": [
    "counts.head()"
   ]
  },
  {
   "cell_type": "markdown",
   "metadata": {},
   "source": [
    "Here I'm going to correlate the percentage hepatocyte in each well with the mean percentage hepatocyte of its immediate neighbors. I'm only going to consider wells with at least `min_cells` cells and that have at least `min_nonzeros` non-zero immediate neighbors with at least `min_cells_per_neighbor` cells each."
   ]
  },
  {
   "cell_type": "code",
   "execution_count": 85,
   "metadata": {},
   "outputs": [],
   "source": [
    "min_cells = 3\n",
    "min_nonzeros = 2 # max 6 neighbors per well\n",
    "min_cells_per_neighbor = 3"
   ]
  },
  {
   "cell_type": "code",
   "execution_count": 79,
   "metadata": {},
   "outputs": [
    {
     "data": {
      "application/vnd.jupyter.widget-view+json": {
       "model_id": "85957c2f66cc4825b3c99534a8a075d4",
       "version_major": 2,
       "version_minor": 0
      },
      "text/plain": [
       "HBox(children=(IntProgress(value=0, max=3024), HTML(value='')))"
      ]
     },
     "metadata": {},
     "output_type": "display_data"
    },
    {
     "name": "stdout",
     "output_type": "stream",
     "text": [
      "\n"
     ]
    }
   ],
   "source": [
    "# doing percent hepato\n",
    "n_means = list() # means of neighbors\n",
    "n_vars = list() # variances of neighbors\n",
    "\n",
    "for i in tqdm(counts.index):\n",
    "    \n",
    "    # check if the well in question has at least min_cells\n",
    "    if counts.loc[i,'Tot'] < min_cells:\n",
    "        n_means.append(-1)\n",
    "        n_vars.append(-1)\n",
    "        continue\n",
    "    \n",
    "\n",
    "    # define useful variables\n",
    "    batch = i[-1]\n",
    "    n_list = list()\n",
    "    idxs = list()\n",
    "    \n",
    "    for n_i in counts.loc[i, 'neighbors']: # for the n_i = index of each neighbor\n",
    "        idxs.append(tuple(np.append(n_i, batch)))\n",
    "    \n",
    "    # subset the counts dataframe\n",
    "    counts_sub = counts.loc[idxs]\n",
    "    \n",
    "    # make a mask for nonzero wells\n",
    "    nonzero_mask = counts_sub['Tot'] != 0\n",
    "    \n",
    "    if nonzero_mask.sum() >= min_nonzeros: # check that we have enough nonzero neighbors\n",
    "        # only use those neighbors that are nonzero\n",
    "        counts_sub = counts_sub.loc[nonzero_mask]\n",
    "        \n",
    "        # only use those \n",
    "        counts_sub = counts_sub[counts_sub['Tot'] > min_cells_per_neighbor]\n",
    "        if len(counts_sub) == 0:\n",
    "            # Don't take the mean of an empty slice or variance of a slice of length 1\n",
    "            # Really only need this when num_nonzeros == 0\n",
    "            n_means.append(-1)\n",
    "            n_vars.append(-1)\n",
    "            continue\n",
    "        elif len(counts_sub) == 1:\n",
    "            n_means.append(counts_sub['%Hep'].mean())\n",
    "            n_vars.append(0)\n",
    "            continue\n",
    "        mean = counts_sub['%Hep'].mean()\n",
    "        var = counts_sub['%Hep'].var()\n",
    "        n_means.append(mean)\n",
    "        n_vars.append(var)\n",
    "    else:\n",
    "        n_means.append(-1)\n",
    "        n_vars.append(-1)\n",
    "        continue"
   ]
  },
  {
   "cell_type": "code",
   "execution_count": 86,
   "metadata": {},
   "outputs": [],
   "source": [
    "counts['n_means'] = n_means\n",
    "counts['n_vars'] = n_vars"
   ]
  },
  {
   "cell_type": "code",
   "execution_count": 87,
   "metadata": {},
   "outputs": [],
   "source": [
    "a = counts[(counts['n_means'] != -1) & # I've marked ones that we don't want to include or that would have produced a NaN as having a mean of -1, so get rid of those\n",
    "           (counts['%Hep'] != 0) & # we only want mixed wells, so not %Hepatocyte == 0\n",
    "           (counts['%Hep'] != 1)] # we only want mixed wells, so not %Hepatocyte == 1"
   ]
  },
  {
   "cell_type": "code",
   "execution_count": 88,
   "metadata": {},
   "outputs": [
    {
     "data": {
      "text/plain": [
       "(352, 11)"
      ]
     },
     "execution_count": 88,
     "metadata": {},
     "output_type": "execute_result"
    }
   ],
   "source": [
    "a.shape"
   ]
  },
  {
   "cell_type": "code",
   "execution_count": 89,
   "metadata": {},
   "outputs": [
    {
     "data": {
      "image/png": "[encoded data removed]",
      "text/plain": [
       "<Figure size 576x576 with 1 Axes>"
      ]
     },
     "metadata": {
      "needs_background": "light"
     },
     "output_type": "display_data"
    }
   ],
   "source": [
    "plt.figure(figsize=(8,8))\n",
    "plt.scatter(a['%Hep'].values, a['n_means'].values, s=a['Tot'], c=a['n_vars'].values);\n",
    "plt.title('Spatial Dependence of Wells')\n",
    "plt.xlabel('Percentage Hepatocyte Cells')\n",
    "plt.ylabel('Mean Percentage Hepatocyte Cells of Neighboring Wells');"
   ]
  },
  {
   "cell_type": "code",
   "execution_count": 90,
   "metadata": {},
   "outputs": [
    {
     "data": {
      "text/plain": [
       "0.7684001903735547"
      ]
     },
     "execution_count": 90,
     "metadata": {},
     "output_type": "execute_result"
    }
   ],
   "source": [
    "a.corr().loc['%Hep','n_means']"
   ]
  },
  {
   "cell_type": "code",
   "execution_count": 136,
   "metadata": {},
   "outputs": [
    {
     "data": {
      "image/png": "[encoded data removed]",
      "text/plain": [
       "<Figure size 432x288 with 1 Axes>"
      ]
     },
     "metadata": {
      "needs_background": "light"
     },
     "output_type": "display_data"
    }
   ],
   "source": [
    "plt.hist(a['n_vars'].values,bins=50);\n",
    "plt.yscale('log')"
   ]
  },
  {
   "cell_type": "markdown",
   "metadata": {},
   "source": [
    "I'd like to show that the number of wells with high variance increases towards the center of the distribution (at around 50%)."
   ]
  },
  {
   "cell_type": "code",
   "execution_count": 91,
   "metadata": {},
   "outputs": [],
   "source": [
    "thresh = 0.05\n",
    "bin_size = 0.04"
   ]
  },
  {
   "cell_type": "code",
   "execution_count": 92,
   "metadata": {},
   "outputs": [
    {
     "data": {
      "image/png": "[encoded data removed]",
      "text/plain": [
       "<Figure size 576x144 with 1 Axes>"
      ]
     },
     "metadata": {
      "needs_background": "light"
     },
     "output_type": "display_data"
    }
   ],
   "source": [
    "bins = np.arange(0.0, 1 + bin_size, bin_size)\n",
    "vals = list()\n",
    "plt.figure(figsize=(8,2))\n",
    "for i in range(len(bins) - 1):\n",
    "    a_sub = a[(a['%Hep'] >= bins[i]) & (a['%Hep'] < bins[i+1])]\n",
    "    vals.append((a_sub['n_vars'] > thresh).sum()/len(a_sub))\n",
    "plt.bar(bins[:-1] + bin_size/2, vals, width=bin_size);\n",
    "plt.ylabel('Proportion of wells with variance\\nof neighboring wells > %s' % thresh)\n",
    "plt.tick_params(axis='x', which='both', bottom=False, top=False, labelbottom=False)"
   ]
  },
  {
   "cell_type": "code",
   "execution_count": 93,
   "metadata": {},
   "outputs": [
    {
     "data": {
      "image/png": "[encoded data removed]",
      "text/plain": [
       "<Figure size 576x144 with 1 Axes>"
      ]
     },
     "metadata": {
      "needs_background": "light"
     },
     "output_type": "display_data"
    }
   ],
   "source": [
    "bins = np.arange(0.0, 1 + bin_size, bin_size)\n",
    "vals = list()\n",
    "plt.figure(figsize=(8,2))\n",
    "for i in range(len(bins) - 1):\n",
    "    a_sub = a[(a['n_means'] >= bins[i]) & (a['n_means'] < bins[i+1])]\n",
    "    vals.append((a_sub['n_vars'] > thresh).sum()/len(a_sub))\n",
    "plt.bar(bins[:-1] + bin_size/2, vals, width=bin_size);\n",
    "plt.ylabel('Proportion of wells\\nwith variance of\\nneighboring wells\\n> %s' % thresh)\n",
    "plt.tick_params(axis='x', which='both', bottom=False, top=False, labelbottom=False)"
   ]
  },
  {
   "cell_type": "markdown",
   "metadata": {},
   "source": [
    "The plot looks like it would fit a logit curve. I will try to fit it to one."
   ]
  },
  {
   "cell_type": "code",
   "execution_count": 94,
   "metadata": {},
   "outputs": [],
   "source": [
    "from scipy.optimize import curve_fit\n",
    "from sklearn.metrics import r2_score"
   ]
  },
  {
   "cell_type": "code",
   "execution_count": 95,
   "metadata": {},
   "outputs": [],
   "source": [
    "def func(x, a, b):\n",
    "    return a*(np.log((x/(1-x))) + b)"
   ]
  },
  {
   "cell_type": "code",
   "execution_count": 96,
   "metadata": {},
   "outputs": [],
   "source": [
    "popt, pcov = curve_fit(func, a['%Hep'].values, a['n_means'].values)"
   ]
  },
  {
   "cell_type": "code",
   "execution_count": 99,
   "metadata": {},
   "outputs": [
    {
     "data": {
      "text/plain": [
       "0.5998848250100088"
      ]
     },
     "execution_count": 99,
     "metadata": {},
     "output_type": "execute_result"
    }
   ],
   "source": [
    "r2_score(a['n_means'].values, np.apply_along_axis(func, 0, a['%Hep'].values, *popt))"
   ]
  },
  {
   "cell_type": "code",
   "execution_count": 101,
   "metadata": {},
   "outputs": [
    {
     "data": {
      "image/png": "[encoded data removed]",
      "text/plain": [
       "<Figure size 576x576 with 1 Axes>"
      ]
     },
     "metadata": {
      "needs_background": "light"
     },
     "output_type": "display_data"
    }
   ],
   "source": [
    "plt.figure(figsize=(8,8))\n",
    "plt.scatter(a['%Hep'].values, a['n_means'].values, s=a['Tot'], c='k');\n",
    "plt.scatter(a['%Hep'].values, np.apply_along_axis(func, 0, a['%Hep'].values, *popt), s=1, c='red')\n",
    "plt.title('Spatial Dependence of Wells')\n",
    "plt.xlabel('Percentage Hepatocyte Cells')\n",
    "plt.ylabel('Mean Percentage Hepatocyte Cells of Neighboring Wells');"
   ]
  },
  {
   "cell_type": "markdown",
   "metadata": {},
   "source": [
    "### 3.2 Method 2"
   ]
  },
  {
   "cell_type": "markdown",
   "metadata": {},
   "source": [
    "#### Build a Counts DataFrame"
   ]
  },
  {
   "cell_type": "markdown",
   "metadata": {},
   "source": [
    "This method uses a list of differentially expressed genes between MC38 and Hepatocytes to mark the regions. The benefit of this method is that we now have a much larger set of images to use for alignment."
   ]
  },
  {
   "cell_type": "code",
   "execution_count": 102,
   "metadata": {},
   "outputs": [],
   "source": [
    "with open('/myvol/data2/deep2/reg_genes_dict.pkl','rb') as file:\n",
    "    genes_dict = pkl.load(file)"
   ]
  },
  {
   "cell_type": "markdown",
   "metadata": {},
   "source": [
    "Make a flat list from the dictionary:"
   ]
  },
  {
   "cell_type": "code",
   "execution_count": 103,
   "metadata": {},
   "outputs": [],
   "source": [
    "genes = [i for j in list(genes_dict.values()) for i in j]"
   ]
  },
  {
   "cell_type": "markdown",
   "metadata": {},
   "source": [
    "Confirm that the genes are unique:"
   ]
  },
  {
   "cell_type": "code",
   "execution_count": 104,
   "metadata": {},
   "outputs": [
    {
     "name": "stdout",
     "output_type": "stream",
     "text": [
      "386\n",
      "386\n"
     ]
    }
   ],
   "source": [
    "print(len(genes))\n",
    "print(len(np.unique(genes)))"
   ]
  },
  {
   "cell_type": "code",
   "execution_count": 105,
   "metadata": {},
   "outputs": [],
   "source": [
    "adata_sub = adata[:,genes].copy()"
   ]
  },
  {
   "cell_type": "code",
   "execution_count": 106,
   "metadata": {},
   "outputs": [],
   "source": [
    "adata_subs = dict()"
   ]
  },
  {
   "cell_type": "code",
   "execution_count": 107,
   "metadata": {},
   "outputs": [],
   "source": [
    "batches = adata_sub.obs['batch'].values.unique()"
   ]
  },
  {
   "cell_type": "code",
   "execution_count": 108,
   "metadata": {},
   "outputs": [],
   "source": [
    "for batch in batches:\n",
    "    adata_subs[batch] = adata_sub[adata_sub.obs['batch'] == batch].copy()"
   ]
  },
  {
   "cell_type": "code",
   "execution_count": 117,
   "metadata": {},
   "outputs": [],
   "source": [
    "counts = pd.DataFrame(0,index=pd.MultiIndex.from_product([batches,range(1,43),range(1,19)],names=['batch','X','Y']),columns=genes)"
   ]
  },
  {
   "cell_type": "code",
   "execution_count": 118,
   "metadata": {},
   "outputs": [
    {
     "data": {
      "application/vnd.jupyter.widget-view+json": {
       "model_id": "e7e6319752554210a397ef5ffaaa0887",
       "version_major": 2,
       "version_minor": 0
      },
      "text/plain": [
       "HBox(children=(IntProgress(value=0, max=3024), HTML(value='')))"
      ]
     },
     "metadata": {},
     "output_type": "display_data"
    },
    {
     "name": "stdout",
     "output_type": "stream",
     "text": [
      "\n"
     ]
    }
   ],
   "source": [
    "for batch, x, y in tqdm(counts.index):\n",
    "    xyadata = adata_subs[batch][(adata_subs[batch].obs['X'] == x) & (adata_subs[batch].obs['Y'] == y)].copy()\n",
    "    for i in range(len(counts.columns)):\n",
    "        gene = genes[i]\n",
    "        # try block here is to avoid an index error with obs_vector, it fails when the number of observations is 1\n",
    "        # at that point, the .X underlying array is a single row by # of genes, so just choose the value as the sum\n",
    "        try: \n",
    "            counts.loc[(batch, x, y),gene] = xyadata.obs_vector(gene).sum()\n",
    "        except IndexError:\n",
    "            counts.loc[(batch, x, y),gene] = xyadata.X[i]"
   ]
  },
  {
   "cell_type": "markdown",
   "metadata": {},
   "source": [
    "This took a while to fill in so I'm going to dump it into a pkl."
   ]
  },
  {
   "cell_type": "code",
   "execution_count": 119,
   "metadata": {},
   "outputs": [],
   "source": [
    "# with open('/myvol/data2/deep2/counts.pkl', 'wb') as file:\n",
    "#     pkl.dump(counts,file)\n",
    "with open('/myvol/data2/deep2/counts.pkl', 'rb') as file:\n",
    "    counts = pkl.load(file)"
   ]
  },
  {
   "cell_type": "markdown",
   "metadata": {},
   "source": [
    "#### Fill in the Hexarray with Color Values"
   ]
  },
  {
   "cell_type": "code",
   "execution_count": 120,
   "metadata": {},
   "outputs": [],
   "source": [
    "def get_colors(s):\n",
    "    '''\n",
    "    So this function I found is a nice way to divide up the bimodal distribution of the pixel values generated from gene values.\n",
    "    Block 1 generates a distribution where a huge mode gets generated right at the where the negative distribution ends.\n",
    "    Block 2 finds where that mode and clips anything below it to zero, then rescales to 255.\n",
    "    Together, they produce a nice distribution that matches the histology slides.\n",
    "    '''\n",
    "    # Block 1\n",
    "    colors = s.values\n",
    "    colors = (colors - colors.min())\n",
    "    colors /= colors.max()\n",
    "    colors *= 255\n",
    "    \n",
    "    # Block 2\n",
    "    n, bins, patches = plt.hist(colors,bins=256);\n",
    "    plt.close()\n",
    "    offset = bins[n.argmax()+1]\n",
    "    colors -= offset\n",
    "    colors = np.clip(colors,0,colors.max())\n",
    "    colors /= colors.max()\n",
    "    colors *= 255\n",
    "    \n",
    "    s = pd.Series(colors,index=s.index,name='color')\n",
    "    s = s[s!=0].copy()\n",
    "    \n",
    "    return s"
   ]
  },
  {
   "cell_type": "code",
   "execution_count": 121,
   "metadata": {},
   "outputs": [],
   "source": [
    "def get_image(colors):\n",
    "    '''\n",
    "    df is a dataframe with multiindex of names X and Y, and a single column containing the counts of the genes in each well\n",
    "    '''\n",
    "    \n",
    "    df = hex_coords.join(colors)\n",
    "    df.dropna(inplace=True) # I would convert nans to zeros anyways, and my array is going to be initialized with zeros anyway\n",
    "    \n",
    "    img = np.zeros((222,399)) # this was the calculated size of my 12 pixel hexagons perfectly stacked\n",
    "    \n",
    "    for i in df.index:\n",
    "        hex_ystart = int(df.loc[i,'hex_ystart'])\n",
    "        hex_yend = hex_ystart + 12\n",
    "\n",
    "        hex_xstart = int(df.loc[i,'hex_xstart'])\n",
    "        hex_xend = hex_xstart + 12\n",
    "        \n",
    "        current_hex = img[hex_ystart:hex_yend,hex_xstart:hex_xend]\n",
    "        img[hex_ystart:hex_yend, hex_xstart:hex_xend] = np.where(myhex, df.loc[i,'color'], current_hex)\n",
    "    return img"
   ]
  },
  {
   "cell_type": "code",
   "execution_count": 145,
   "metadata": {},
   "outputs": [
    {
     "data": {
      "application/vnd.jupyter.widget-view+json": {
       "model_id": "bf1b2380d32248f597ee2e13a7af2ae0",
       "version_major": 2,
       "version_minor": 0
      },
      "text/plain": [
       "HBox(children=(IntProgress(value=0, max=4), HTML(value='')))"
      ]
     },
     "metadata": {},
     "output_type": "display_data"
    },
    {
     "data": {
      "application/vnd.jupyter.widget-view+json": {
       "model_id": "7b6769b933d54828973dd564258d4069",
       "version_major": 2,
       "version_minor": 0
      },
      "text/plain": [
       "HBox(children=(IntProgress(value=0, max=386), HTML(value='')))"
      ]
     },
     "metadata": {},
     "output_type": "display_data"
    },
    {
     "name": "stdout",
     "output_type": "stream",
     "text": [
      "\n"
     ]
    },
    {
     "data": {
      "application/vnd.jupyter.widget-view+json": {
       "model_id": "4c1e8ac9a0bf47cbb7d1872e76148b22",
       "version_major": 2,
       "version_minor": 0
      },
      "text/plain": [
       "HBox(children=(IntProgress(value=0, max=386), HTML(value='')))"
      ]
     },
     "metadata": {},
     "output_type": "display_data"
    },
    {
     "name": "stdout",
     "output_type": "stream",
     "text": [
      "\n"
     ]
    },
    {
     "data": {
      "application/vnd.jupyter.widget-view+json": {
       "model_id": "965c82b5205b48f69a9f0b6beedb6f5b",
       "version_major": 2,
       "version_minor": 0
      },
      "text/plain": [
       "HBox(children=(IntProgress(value=0, max=386), HTML(value='')))"
      ]
     },
     "metadata": {},
     "output_type": "display_data"
    },
    {
     "name": "stdout",
     "output_type": "stream",
     "text": [
      "\n"
     ]
    },
    {
     "data": {
      "application/vnd.jupyter.widget-view+json": {
       "model_id": "da19a21a440b43cea2f9446119f5bbcd",
       "version_major": 2,
       "version_minor": 0
      },
      "text/plain": [
       "HBox(children=(IntProgress(value=0, max=386), HTML(value='')))"
      ]
     },
     "metadata": {},
     "output_type": "display_data"
    },
    {
     "name": "stdout",
     "output_type": "stream",
     "text": [
      "\n",
      "\n"
     ]
    }
   ],
   "source": [
    "images_list = list()\n",
    "for batch in tqdm(counts.index.get_level_values('batch').unique()):\n",
    "    images = list()\n",
    "    for gene in tqdm(counts.loc[batch].columns):\n",
    "        colors = get_colors(counts.loc[batch, gene])\n",
    "        img = get_image(colors)\n",
    "        images.append(img) # make the nans zeros\n",
    "\n",
    "    # using an array of csr_matrices will save a ton of memory, since these images are zero inflated\n",
    "    images_list.append(np.array(list(map(csr_matrix,images))))"
   ]
  },
  {
   "cell_type": "markdown",
   "metadata": {},
   "source": [
    "This took a while to build so I'm going to dump it into a pkl. I will do analysis in a separate notebook."
   ]
  },
  {
   "cell_type": "code",
   "execution_count": 146,
   "metadata": {},
   "outputs": [],
   "source": [
    "with open('/myvol/data2/deep2/images.pkl', 'wb') as file:\n",
    "    pkl.dump(images_list,file)"
   ]
  }
 ],
 "metadata": {
  "kernelspec": {
   "display_name": "Python 3",
   "language": "python",
   "name": "python3"
  },
  "language_info": {
   "codemirror_mode": {
    "name": "ipython",
    "version": 3
   },
   "file_extension": ".py",
   "mimetype": "text/x-python",
   "name": "python",
   "nbconvert_exporter": "python",
   "pygments_lexer": "ipython3",
   "version": "3.6.8"
  }
 },
 "nbformat": 4,
 "nbformat_minor": 4
}
