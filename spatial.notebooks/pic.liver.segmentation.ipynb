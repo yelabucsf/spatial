{
 "cells": [
  {
   "cell_type": "code",
   "execution_count": 1,
   "metadata": {},
   "outputs": [],
   "source": [
    "import numpy as np\n",
    "import pandas as pd\n",
    "import itertools as it\n",
    "\n",
    "import matplotlib.pyplot as plt\n",
    "\n",
    "from scipy import stats\n",
    "\n",
    "from PIL import Image, ImageEnhance\n",
    "import imageio\n",
    "import scipy.ndimage as spimg\n",
    "import skimage as skimg\n",
    "from skimage.segmentation import slic"
   ]
  },
  {
   "cell_type": "code",
   "execution_count": 2,
   "metadata": {},
   "outputs": [],
   "source": [
    "%config Completer.use_jedi = False"
   ]
  },
  {
   "cell_type": "markdown",
   "metadata": {},
   "source": [
    "## HexArray"
   ]
  },
  {
   "cell_type": "code",
   "execution_count": 3,
   "metadata": {},
   "outputs": [],
   "source": [
    "myhex = np.zeros((12,12)) "
   ]
  },
  {
   "cell_type": "code",
   "execution_count": 4,
   "metadata": {},
   "outputs": [],
   "source": [
    "myhex[0:1,3:9] = 1\n",
    "myhex[1:3,2:10] = 1\n",
    "myhex[3:5,1:11] = 1\n",
    "myhex[5:7,:12] = 1\n",
    "myhex[7:9,1:11] = 1\n",
    "myhex[9:11,2:10] = 1\n",
    "myhex[11:12,3:9] = 1"
   ]
  },
  {
   "cell_type": "code",
   "execution_count": 5,
   "metadata": {},
   "outputs": [
    {
     "data": {
      "image/png": "[encoded data removed]",
      "text/plain": [
       "<Figure size 432x288 with 1 Axes>"
      ]
     },
     "metadata": {
      "needs_background": "light"
     },
     "output_type": "display_data"
    }
   ],
   "source": [
    "plt.imshow(myhex, cmap='binary');"
   ]
  },
  {
   "cell_type": "code",
   "execution_count": 6,
   "metadata": {},
   "outputs": [],
   "source": [
    "hex_array = np.ones((222,399), dtype=int)*255\n",
    "hex_coords = pd.DataFrame(0,index=pd.MultiIndex.from_product([range(1,45), range(1,19)], names=['X','Y']),columns=['hex_xstart','hex_ystart','center_start'])"
   ]
  },
  {
   "cell_type": "code",
   "execution_count": 7,
   "metadata": {},
   "outputs": [],
   "source": [
    "def make_low_res(arr, background=255):\n",
    "    def run_through_2d(channel):\n",
    "        hex_array = np.ones((222,399), dtype=int)*background\n",
    "        for y, x in it.product(range(1,19),range(1,45)):\n",
    "            xstart = int(6*(x-1)*1.5) # please don't ask me how I figured this equation out, it works\n",
    "            ystart = (y-1)*12\n",
    "            if x % 2 == 0:  \n",
    "                ystart = ystart + 6\n",
    "\n",
    "            hex_coords.loc[(x,y),'hex_xstart'] = xstart\n",
    "            hex_coords.loc[(x,y),'hex_ystart'] = ystart\n",
    "            hex_coords.loc[(x,y),'center_xstart'] = xstart + 5\n",
    "            hex_coords.loc[(x,y),'center_ystart'] = ystart + 5\n",
    "\n",
    "            yend = ystart + 12\n",
    "            xend = xstart + 12\n",
    "\n",
    "            # val should be adjusted depending on what is to be plotted\n",
    "            val = int(channel[ystart:yend,xstart:xend].mean())\n",
    "            \n",
    "            current_hex = hex_array[ystart:yend,xstart:xend]\n",
    "            hex_array[ystart:yend,xstart:xend] = np.where(myhex, val, current_hex)\n",
    "        return hex_array\n",
    "\n",
    "    shape = arr.shape\n",
    "    \n",
    "    if len(shape) == 2:\n",
    "        new_arr = run_through_2d(arr)\n",
    "        return new_arr\n",
    "    elif len(shape) == 3:\n",
    "        numchan = arr.shape[-1]\n",
    "        lowres_list = list()\n",
    "        for channel_num in range(numchan):\n",
    "            channel = arr[:,:,channel_num]\n",
    "            new_channel = run_through_2d(channel)\n",
    "            lowres_list.append(new_channel)\n",
    "        new_arr = np.stack(lowres_list,axis=2)\n",
    "        return new_arr\n",
    "    else:\n",
    "        print('Only arrays of 2 or 3 dimensions supported.')\n",
    "        return"
   ]
  },
  {
   "cell_type": "markdown",
   "metadata": {},
   "source": [
    "## Importing and Fixing up Liver Image"
   ]
  },
  {
   "cell_type": "markdown",
   "metadata": {},
   "source": [
    "### L10C"
   ]
  },
  {
   "cell_type": "code",
   "execution_count": 8,
   "metadata": {},
   "outputs": [],
   "source": [
    "tissue = 'L10C'"
   ]
  },
  {
   "cell_type": "code",
   "execution_count": 9,
   "metadata": {},
   "outputs": [],
   "source": [
    "liver_origI = Image.open('/myvol/data2/pics/%s.cropped.isolated.sat.seg.tif' % tissue).convert('RGB')\n",
    "liver_origA = np.array(liver_origI)"
   ]
  },
  {
   "cell_type": "code",
   "execution_count": 10,
   "metadata": {},
   "outputs": [
    {
     "data": {
      "image/png": "[encoded data removed]",
      "text/plain": [
       "<Figure size 432x288 with 1 Axes>"
      ]
     },
     "metadata": {
      "needs_background": "light"
     },
     "output_type": "display_data"
    }
   ],
   "source": [
    "plt.imshow(liver_origA);\n",
    "plt.axis('off');"
   ]
  },
  {
   "cell_type": "code",
   "execution_count": 11,
   "metadata": {},
   "outputs": [
    {
     "data": {
      "text/plain": [
       "(222, 399)"
      ]
     },
     "execution_count": 11,
     "metadata": {},
     "output_type": "execute_result"
    }
   ],
   "source": [
    "hex_shape = hex_array.shape\n",
    "hex_shape"
   ]
  },
  {
   "cell_type": "code",
   "execution_count": 12,
   "metadata": {},
   "outputs": [
    {
     "data": {
      "text/plain": [
       "(744, 1136, 3)"
      ]
     },
     "execution_count": 12,
     "metadata": {},
     "output_type": "execute_result"
    }
   ],
   "source": [
    "liver_shape = liver_origA.shape\n",
    "liver_shape"
   ]
  },
  {
   "cell_type": "markdown",
   "metadata": {},
   "source": [
    "Liver needs to be resized (with the same aspect ratio). First, confirm which dimension to shrink by and then use the `thumbnail()` function to shrink."
   ]
  },
  {
   "cell_type": "code",
   "execution_count": 13,
   "metadata": {},
   "outputs": [
    {
     "name": "stdout",
     "output_type": "stream",
     "text": [
      "True\n"
     ]
    }
   ],
   "source": [
    "print(int((hex_shape[0]/liver_shape[0])*liver_shape[1]) < liver_shape[1])"
   ]
  },
  {
   "cell_type": "markdown",
   "metadata": {},
   "source": [
    "Shrink using second axis."
   ]
  },
  {
   "cell_type": "code",
   "execution_count": 14,
   "metadata": {},
   "outputs": [],
   "source": [
    "liver_origI.thumbnail((1e6, hex_shape[0]))"
   ]
  },
  {
   "cell_type": "code",
   "execution_count": 15,
   "metadata": {},
   "outputs": [],
   "source": [
    "liver_origA = np.array(liver_origI)"
   ]
  },
  {
   "cell_type": "code",
   "execution_count": 16,
   "metadata": {},
   "outputs": [
    {
     "data": {
      "image/png": "[encoded data removed]",
      "text/plain": [
       "<Figure size 432x288 with 1 Axes>"
      ]
     },
     "metadata": {
      "needs_background": "light"
     },
     "output_type": "display_data"
    }
   ],
   "source": [
    "plt.imshow(liver_origA[:,:,2] == 255);\n",
    "# plt.axis('off');"
   ]
  },
  {
   "cell_type": "markdown",
   "metadata": {},
   "source": [
    "And now pad to get to actual size of the array and then center:"
   ]
  },
  {
   "cell_type": "code",
   "execution_count": 17,
   "metadata": {},
   "outputs": [],
   "source": [
    "pad_length = int((hex_array.shape[1] - liver_origA.shape[1])/2)\n",
    "liver_origA = np.pad(liver_origA, ((0,0), (pad_length, pad_length), (0,0)), mode='constant', constant_values=0)"
   ]
  },
  {
   "cell_type": "code",
   "execution_count": 18,
   "metadata": {},
   "outputs": [
    {
     "data": {
      "image/png": "[encoded data removed]",
      "text/plain": [
       "<Figure size 432x288 with 1 Axes>"
      ]
     },
     "metadata": {
      "needs_background": "light"
     },
     "output_type": "display_data"
    }
   ],
   "source": [
    "selem = skimg.morphology.disk(5)\n",
    "plt.imshow(skimg.morphology.closing(liver_origA[:,:,2] == 255, selem=selem));"
   ]
  },
  {
   "cell_type": "code",
   "execution_count": 19,
   "metadata": {},
   "outputs": [],
   "source": [
    "binary = liver_origA[:,:,2] == 255"
   ]
  },
  {
   "cell_type": "markdown",
   "metadata": {},
   "source": [
    "## Segmentation"
   ]
  },
  {
   "cell_type": "code",
   "execution_count": 22,
   "metadata": {},
   "outputs": [],
   "source": [
    "def segment(array_input, method='median', n_segments=400, compactness=10, channels=range(3)):\n",
    "    liverA_seg = slic(array_input, n_segments=n_segments, compactness=compactness) #400, 10\n",
    "    segs = np.arange(liverA_seg.flatten().max()+1)\n",
    "    \n",
    "    if method == 'median':\n",
    "        valfun = lambda x: np.median(x).astype(np.uint8)\n",
    "\n",
    "    elif method == 'mean':\n",
    "        valfun = lambda x: x.mean(dtype=np.uint8)\n",
    "\n",
    "    elif method == 'mode':\n",
    "        valfun = lambda x: stats.mode(x).mode[0]\n",
    "\n",
    "    elif method == 'min':\n",
    "        valfun = lambda x: x.min().astype(np.uint8)\n",
    "        \n",
    "    elif method == 'mean_mid50':\n",
    "        def valfun(x):\n",
    "            length = len(x)\n",
    "            return np.sort(x)[int(length/4):int((3/4)*length)].mean(dtype=np.uint8)\n",
    "        \n",
    "    liverA_seg_color = list()\n",
    "    for chan in channels:\n",
    "        liverA_seg_chan = liverA_seg.copy()\n",
    "        for i in segs:\n",
    "            pixel_vals = array_input[:,:,chan][liverA_seg_chan == i]\n",
    "            \n",
    "            val = valfun(pixel_vals)\n",
    "            \n",
    "            liverA_seg_chan = np.where(liverA_seg_chan == i, val, liverA_seg_chan)\n",
    "        liverA_seg_color.append(liverA_seg_chan)\n",
    "    \n",
    "    if len(channels) > 1:\n",
    "        liverA_seg_color = np.stack(liverA_seg_color, axis=2)\n",
    "        if len(channels) == 2:\n",
    "            # won't be able to imshow an array with only 2 channels, need to make a 3rd channel with zero\n",
    "            liverA_seg_color = np.concatenate([liverA_seg_color, np.zeros((liverA_seg_color.shape[0],\n",
    "                                                                           liverA_seg_color.shape[1],\n",
    "                                                                           1))], axis=2).astype(np.uint8)\n",
    "    else:\n",
    "        liverA_seg_color = liverA_seg_color[0]\n",
    "    liverA_seg_color = liverA_seg_color.astype(np.uint8)\n",
    "\n",
    "\n",
    "    random_segs = segs.copy()\n",
    "    np.random.shuffle(random_segs)\n",
    "    liverA_seg_rand = liverA_seg.copy()\n",
    "    for i, j in zip(segs, random_segs):\n",
    "        liverA_seg_rand = np.where(liverA_seg_rand == i, j, liverA_seg_rand)\n",
    "    return liverA_seg_rand, liverA_seg_color"
   ]
  },
  {
   "cell_type": "code",
   "execution_count": 23,
   "metadata": {},
   "outputs": [],
   "source": [
    "# array_input = spimg.rotate(liver_origA,180)\n",
    "array_input = liver_origA"
   ]
  },
  {
   "cell_type": "code",
   "execution_count": 24,
   "metadata": {},
   "outputs": [],
   "source": [
    "liverA_seg_rand, liverA_seg_color = segment(array_input, n_segments=50, compactness=20)"
   ]
  },
  {
   "cell_type": "code",
   "execution_count": 25,
   "metadata": {},
   "outputs": [
    {
     "data": {
      "image/png": "[encoded data removed]",
      "text/plain": [
       "<Figure size 1800x360 with 3 Axes>"
      ]
     },
     "metadata": {
      "needs_background": "light"
     },
     "output_type": "display_data"
    }
   ],
   "source": [
    "fig, axes = plt.subplots(1,3,figsize=(25,5))\n",
    "\n",
    "axes[0].imshow(array_input);\n",
    "axes[0].axis('off');\n",
    "\n",
    "axes[1].imshow(liverA_seg_rand);\n",
    "axes[1].axis('off');\n",
    "\n",
    "axes[2].imshow(liverA_seg_color);\n",
    "axes[2].axis('off');"
   ]
  },
  {
   "cell_type": "markdown",
   "metadata": {},
   "source": [
    "Export to a png for manipulation in Fiji/ImageJ."
   ]
  },
  {
   "cell_type": "code",
   "execution_count": 303,
   "metadata": {},
   "outputs": [],
   "source": [
    "imageio.imwrite('/myvol/data2/pics/%s.sat.tissue.only.seg.png' % tissue, liverA_seg_color)"
   ]
  }
 ],
 "metadata": {
  "kernelspec": {
   "display_name": "Python 3",
   "language": "python",
   "name": "python3"
  },
  "language_info": {
   "codemirror_mode": {
    "name": "ipython",
    "version": 3
   },
   "file_extension": ".py",
   "mimetype": "text/x-python",
   "name": "python",
   "nbconvert_exporter": "python",
   "pygments_lexer": "ipython3",
   "version": "3.6.8"
  }
 },
 "nbformat": 4,
 "nbformat_minor": 4
}
