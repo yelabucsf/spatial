{
 "cells": [
  {
   "cell_type": "code",
   "execution_count": 1,
   "metadata": {},
   "outputs": [],
   "source": [
    "import ctypes\n",
    "import logging\n",
    "import multiprocessing as mp"
   ]
  },
  {
   "cell_type": "code",
   "execution_count": 2,
   "metadata": {},
   "outputs": [],
   "source": [
    "from contextlib import closing"
   ]
  },
  {
   "cell_type": "code",
   "execution_count": 3,
   "metadata": {},
   "outputs": [],
   "source": [
    "import numpy as np"
   ]
  },
  {
   "cell_type": "code",
   "execution_count": 4,
   "metadata": {},
   "outputs": [],
   "source": [
    "info = mp.get_logger().info"
   ]
  },
  {
   "cell_type": "code",
   "execution_count": 6,
   "metadata": {},
   "outputs": [],
   "source": [
    "def init(shared_arr_):\n",
    "    global shared_arr\n",
    "    shared_arr = shared_arr_ # must be inherited, not passed as an argument"
   ]
  },
  {
   "cell_type": "code",
   "execution_count": 7,
   "metadata": {},
   "outputs": [],
   "source": [
    "def tonumpyarray(mp_arr):\n",
    "    return np.frombuffer(mp_arr.get_obj())"
   ]
  },
  {
   "cell_type": "code",
   "execution_count": 8,
   "metadata": {},
   "outputs": [],
   "source": [
    "def f(i):\n",
    "    \"\"\"synchronized.\"\"\"\n",
    "    with shared_arr.get_lock(): # synchronize access\n",
    "        g(i)"
   ]
  },
  {
   "cell_type": "code",
   "execution_count": 9,
   "metadata": {},
   "outputs": [],
   "source": [
    "def g(i):\n",
    "    \"\"\"no synchronization.\"\"\"\n",
    "    info(\"start %s\" % (i,))\n",
    "    arr = tonumpyarray(shared_arr)\n",
    "    arr[i] = -1 * arr[i]\n",
    "    info(\"end   %s\" % (i,))"
   ]
  },
  {
   "cell_type": "code",
   "execution_count": 12,
   "metadata": {},
   "outputs": [
    {
     "name": "stderr",
     "output_type": "stream",
     "text": [
      "[INFO/ForkPoolWorker-5] child process calling self.run()\n",
      "[INFO/ForkPoolWorker-6] child process calling self.run()\n",
      "[INFO/ForkPoolWorker-5] child process calling self.run()\n",
      "[INFO/ForkPoolWorker-7] child process calling self.run()\n",
      "[INFO/ForkPoolWorker-6] child process calling self.run()\n",
      "[INFO/ForkPoolWorker-7] child process calling self.run()\n",
      "[INFO/ForkPoolWorker-8] child process calling self.run()\n",
      "[INFO/ForkPoolWorker-8] child process calling self.run()\n",
      "[INFO/ForkPoolWorker-5] start slice(None, 10, None)\n",
      "[INFO/ForkPoolWorker-5] start slice(None, 10, None)\n",
      "[INFO/ForkPoolWorker-5] end   slice(None, 10, None)\n",
      "[INFO/ForkPoolWorker-5] end   slice(None, 10, None)\n",
      "[INFO/ForkPoolWorker-5] start slice(None, 10, None)\n",
      "[INFO/ForkPoolWorker-5] start slice(None, 10, None)\n",
      "[INFO/ForkPoolWorker-5] end   slice(None, 10, None)\n",
      "[INFO/ForkPoolWorker-5] end   slice(None, 10, None)\n",
      "[INFO/ForkPoolWorker-6] start slice(None, 10, None)\n",
      "[INFO/ForkPoolWorker-6] start slice(None, 10, None)\n",
      "[INFO/ForkPoolWorker-6] end   slice(None, 10, None)\n",
      "[INFO/ForkPoolWorker-6] end   slice(None, 10, None)\n",
      "[INFO/ForkPoolWorker-8] start slice(None, 10, None)\n",
      "[INFO/ForkPoolWorker-8] start slice(None, 10, None)\n",
      "[INFO/ForkPoolWorker-8] end   slice(None, 10, None)\n",
      "[INFO/ForkPoolWorker-8] end   slice(None, 10, None)\n",
      "[INFO/ForkPoolWorker-7] start slice(None, 10, None)\n",
      "[INFO/ForkPoolWorker-7] start slice(None, 10, None)\n",
      "[INFO/ForkPoolWorker-7] end   slice(None, 10, None)\n",
      "[INFO/ForkPoolWorker-7] end   slice(None, 10, None)\n",
      "[INFO/ForkPoolWorker-5] start slice(None, 10, None)\n",
      "[INFO/ForkPoolWorker-5] start slice(None, 10, None)\n",
      "[INFO/ForkPoolWorker-5] end   slice(None, 10, None)\n",
      "[INFO/ForkPoolWorker-5] end   slice(None, 10, None)\n",
      "[INFO/ForkPoolWorker-6] start slice(None, 10, None)\n",
      "[INFO/ForkPoolWorker-6] start slice(None, 10, None)\n",
      "[INFO/ForkPoolWorker-6] end   slice(None, 10, None)\n",
      "[INFO/ForkPoolWorker-6] end   slice(None, 10, None)\n",
      "[INFO/ForkPoolWorker-8] start slice(None, 10, None)\n",
      "[INFO/ForkPoolWorker-8] start slice(None, 10, None)\n",
      "[INFO/ForkPoolWorker-8] end   slice(None, 10, None)\n",
      "[INFO/ForkPoolWorker-8] end   slice(None, 10, None)\n",
      "[INFO/ForkPoolWorker-7] start slice(None, 10, None)\n",
      "[INFO/ForkPoolWorker-8] start slice(10, 20, None)\n",
      "[INFO/ForkPoolWorker-7] start slice(None, 10, None)\n",
      "[INFO/ForkPoolWorker-8] start slice(10, 20, None)\n",
      "[INFO/ForkPoolWorker-7] end   slice(None, 10, None)\n",
      "[INFO/ForkPoolWorker-7] end   slice(None, 10, None)\n",
      "[INFO/ForkPoolWorker-5] start slice(None, 10, None)\n",
      "[INFO/ForkPoolWorker-7] start slice(20, 30, None)\n",
      "[INFO/ForkPoolWorker-5] start slice(None, 10, None)\n",
      "[INFO/ForkPoolWorker-7] start slice(20, 30, None)\n",
      "[INFO/ForkPoolWorker-8] end   slice(10, 20, None)\n",
      "[INFO/ForkPoolWorker-7] end   slice(20, 30, None)\n",
      "[INFO/ForkPoolWorker-8] end   slice(10, 20, None)\n",
      "[INFO/ForkPoolWorker-7] end   slice(20, 30, None)\n",
      "[INFO/ForkPoolWorker-8] start slice(30, 40, None)\n",
      "[INFO/ForkPoolWorker-8] start slice(30, 40, None)\n",
      "[INFO/ForkPoolWorker-8] end   slice(30, 40, None)\n",
      "[INFO/ForkPoolWorker-8] end   slice(30, 40, None)\n",
      "[INFO/ForkPoolWorker-7] start slice(40, 50, None)\n",
      "[INFO/ForkPoolWorker-5] end   slice(None, 10, None)\n",
      "[INFO/ForkPoolWorker-7] start slice(40, 50, None)\n",
      "[INFO/ForkPoolWorker-5] end   slice(None, 10, None)\n",
      "[INFO/ForkPoolWorker-6] start slice(None, 10, None)\n",
      "[INFO/ForkPoolWorker-5] start slice(60, 70, None)\n",
      "[INFO/ForkPoolWorker-7] end   slice(40, 50, None)\n",
      "[INFO/ForkPoolWorker-6] start slice(None, 10, None)\n",
      "[INFO/ForkPoolWorker-5] start slice(60, 70, None)\n",
      "[INFO/ForkPoolWorker-6] end   slice(None, 10, None)\n",
      "[INFO/ForkPoolWorker-5] end   slice(60, 70, None)\n",
      "[INFO/ForkPoolWorker-6] end   slice(None, 10, None)\n",
      "[INFO/ForkPoolWorker-5] end   slice(60, 70, None)\n",
      "[INFO/ForkPoolWorker-6] start slice(70, 80, None)\n",
      "[INFO/ForkPoolWorker-5] start slice(80, 90, None)\n",
      "[INFO/ForkPoolWorker-5] start slice(80, 90, None)\n",
      "[INFO/ForkPoolWorker-7] end   slice(40, 50, None)\n",
      "[INFO/ForkPoolWorker-6] start slice(70, 80, None)\n",
      "[INFO/ForkPoolWorker-5] end   slice(80, 90, None)\n",
      "[INFO/ForkPoolWorker-7] start slice(90, 100, None)\n",
      "[INFO/ForkPoolWorker-5] end   slice(80, 90, None)\n",
      "[INFO/ForkPoolWorker-8] start slice(50, 60, None)\n",
      "[INFO/ForkPoolWorker-7] start slice(90, 100, None)\n",
      "[INFO/ForkPoolWorker-8] start slice(50, 60, None)\n",
      "[INFO/ForkPoolWorker-6] end   slice(70, 80, None)\n",
      "[INFO/ForkPoolWorker-7] end   slice(90, 100, None)\n",
      "[INFO/ForkPoolWorker-6] end   slice(70, 80, None)\n",
      "[INFO/ForkPoolWorker-7] end   slice(90, 100, None)\n",
      "[INFO/ForkPoolWorker-8] end   slice(50, 60, None)\n",
      "[INFO/ForkPoolWorker-8] end   slice(50, 60, None)\n",
      "[INFO/ForkPoolWorker-5] process shutting down\n",
      "[INFO/ForkPoolWorker-6] process shutting down\n",
      "[INFO/ForkPoolWorker-5] process shutting down\n",
      "[INFO/ForkPoolWorker-7] process shutting down\n",
      "[INFO/ForkPoolWorker-8] process shutting down\n",
      "[INFO/ForkPoolWorker-6] process shutting down\n",
      "[INFO/ForkPoolWorker-5] process exiting with exitcode 0\n",
      "[INFO/ForkPoolWorker-7] process shutting down\n",
      "[INFO/ForkPoolWorker-8] process shutting down\n",
      "[INFO/ForkPoolWorker-7] process exiting with exitcode 0\n",
      "[INFO/ForkPoolWorker-8] process exiting with exitcode 0\n",
      "[INFO/ForkPoolWorker-7] process exiting with exitcode 0\n",
      "[INFO/ForkPoolWorker-8] process exiting with exitcode 0\n",
      "[INFO/ForkPoolWorker-6] process exiting with exitcode 0\n",
      "[INFO/ForkPoolWorker-6] process exiting with exitcode 0\n",
      "[INFO/ForkPoolWorker-5] process exiting with exitcode 0\n"
     ]
    }
   ],
   "source": [
    "logger = mp.log_to_stderr()\n",
    "logger.setLevel(logging.INFO)\n",
    "\n",
    "# create shared array\n",
    "N, M = 100, 11\n",
    "shared_arr = mp.Array(ctypes.c_double, N)\n",
    "arr = tonumpyarray(shared_arr)\n",
    "\n",
    "# fill with random values\n",
    "arr[:] = np.random.uniform(size=N)\n",
    "arr_orig = arr.copy()\n",
    "\n",
    "# write to arr from different processes\n",
    "with closing(mp.Pool(initializer=init, initargs=(shared_arr,))) as p:\n",
    "    # many processes access the same slice\n",
    "    stop_f = N // 10\n",
    "    p.map_async(f, [slice(stop_f)]*M)\n",
    "\n",
    "    # many processes access different slices of the same array\n",
    "    assert M % 2 # odd\n",
    "    step = N // 10\n",
    "    p.map_async(g, [slice(i, i + step) for i in range(stop_f, N, step)])\n",
    "p.join()\n",
    "assert np.allclose(((-1)**M)*tonumpyarray(shared_arr), arr_orig)"
   ]
  },
  {
   "cell_type": "code",
   "execution_count": 13,
   "metadata": {},
   "outputs": [
    {
     "data": {
      "text/plain": [
       "array([0.81235282, 0.07049956, 0.02825088, 0.4797466 , 0.47677211,\n",
       "       0.19260485, 0.69172726, 0.64004277, 0.83442437, 0.50813729,\n",
       "       0.59392831, 0.66794082, 0.51850246, 0.6573046 , 0.72155607,\n",
       "       0.84347469, 0.65087229, 0.99698912, 0.370602  , 0.95360093,\n",
       "       0.77154428, 0.29328912, 0.60508574, 0.22717858, 0.13736395,\n",
       "       0.36327716, 0.53053062, 0.91457096, 0.80032898, 0.89320931,\n",
       "       0.26307755, 0.4332307 , 0.16362037, 0.37069002, 0.92491644,\n",
       "       0.61540368, 0.69626279, 0.46966663, 0.50475734, 0.93958009,\n",
       "       0.512688  , 0.35517291, 0.92269323, 0.77766588, 0.00396624,\n",
       "       0.53946525, 0.22925286, 0.82863941, 0.23205913, 0.23716827,\n",
       "       0.01597257, 0.8499676 , 0.13750062, 0.94832543, 0.5938323 ,\n",
       "       0.48080329, 0.73428766, 0.95581715, 0.21599714, 0.94526026,\n",
       "       0.99889974, 0.66622197, 0.99345008, 0.63495788, 0.6895107 ,\n",
       "       0.31927795, 0.21703643, 0.25976639, 0.03844828, 0.43307857,\n",
       "       0.52127856, 0.45545947, 0.44986354, 0.28187139, 0.3500265 ,\n",
       "       0.27096584, 0.31703963, 0.54631065, 0.43953767, 0.72275242,\n",
       "       0.82218164, 0.33802454, 0.09072271, 0.13585377, 0.44654695,\n",
       "       0.29800961, 0.56832739, 0.83153714, 0.9743235 , 0.59827453,\n",
       "       0.50158774, 0.76575916, 0.37711749, 0.73716556, 0.30524824,\n",
       "       0.78321524, 0.79501907, 0.02163714, 0.24327478, 0.38094494])"
      ]
     },
     "execution_count": 13,
     "metadata": {},
     "output_type": "execute_result"
    }
   ],
   "source": [
    "arr_orig"
   ]
  },
  {
   "cell_type": "code",
   "execution_count": 16,
   "metadata": {},
   "outputs": [
    {
     "data": {
      "text/plain": [
       "4"
      ]
     },
     "execution_count": 16,
     "metadata": {},
     "output_type": "execute_result"
    }
   ],
   "source": []
  },
  {
   "cell_type": "code",
   "execution_count": null,
   "metadata": {},
   "outputs": [],
   "source": []
  }
 ],
 "metadata": {
  "kernelspec": {
   "display_name": "Python 3",
   "language": "python",
   "name": "python3"
  },
  "language_info": {
   "codemirror_mode": {
    "name": "ipython",
    "version": 3
   },
   "file_extension": ".py",
   "mimetype": "text/x-python",
   "name": "python",
   "nbconvert_exporter": "python",
   "pygments_lexer": "ipython3",
   "version": "3.6.7"
  }
 },
 "nbformat": 4,
 "nbformat_minor": 2
}
