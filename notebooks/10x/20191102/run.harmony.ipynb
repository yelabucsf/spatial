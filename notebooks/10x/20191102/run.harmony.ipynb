{
 "cells": [
  {
   "cell_type": "code",
   "execution_count": 55,
   "metadata": {},
   "outputs": [],
   "source": [
    "library(harmony)\n",
    "library(Seurat)\n",
    "library(data.table)"
   ]
  },
  {
   "cell_type": "code",
   "execution_count": 89,
   "metadata": {},
   "outputs": [
    {
     "name": "stderr",
     "output_type": "stream",
     "text": [
      "Pulling expression matrices and metadata\n",
      "Data is unscaled\n",
      "Creating assay object\n",
      "Storing X as raw and raw as counts\n",
      "No variable feature expression found in h5ad file\n",
      "No dimensional reduction information found\n",
      "Assembling Seurat object\n",
      "No nearest-neighbor graph\n"
     ]
    }
   ],
   "source": [
    "adata = ReadH5AD(\"/myvol/data2/10x/20191102/concat.h5ad\")"
   ]
  },
  {
   "cell_type": "code",
   "execution_count": 90,
   "metadata": {},
   "outputs": [],
   "source": [
    "adata <- NormalizeData(adata, normalization.method = 'LogNormalize', scale.factor = 1e6)"
   ]
  },
  {
   "cell_type": "code",
   "execution_count": 91,
   "metadata": {},
   "outputs": [],
   "source": [
    "adata <- FindVariableFeatures(adata, selection.method = \"vst\", nfeatures = 8000)"
   ]
  },
  {
   "cell_type": "code",
   "execution_count": 92,
   "metadata": {},
   "outputs": [
    {
     "name": "stderr",
     "output_type": "stream",
     "text": [
      "Centering and scaling data matrix\n"
     ]
    }
   ],
   "source": [
    "adata <- ScaleData(adata)"
   ]
  },
  {
   "cell_type": "code",
   "execution_count": 93,
   "metadata": {},
   "outputs": [
    {
     "name": "stdout",
     "output_type": "stream",
     "text": [
      "PC_ 1 \n",
      "Positive:  Snx24, Foxp4, Camk1d, Immp2l, Ctif, Spata5, St3gal4, Fgfr2, Ppara, Foxn3 \n",
      "\t   Bicd1, Ido2, Wwox, Akap10, Gphn, Adgrl3, Slc9a9, Galnt10, Park2, Arhgap26 \n",
      "\t   Ptprj, Pde7b, Inpp4b, Zfpm2, Afap1, Clasp1, Vti1a, Myo1f, Nrxn1, Aoah \n",
      "Negative:  mt-Co3, mt-Atp6, mt-Co2, mt-Co1, Rpl23, Tpt1, Ftl1, Rpl41, Rps8, Rpl19 \n",
      "\t   mt-Nd4, Hspa8, Rps27a, Rpl35a, Rps29, Rpl37, Rpl27a, Ddx5, Ly6e, Rps2 \n",
      "\t   Rpl37a, Apoa2, B2m, Rps20, Rpl13, Rps23, Rps18, Rpl6, H2-K1, mt-Nd2 \n",
      "PC_ 2 \n",
      "Positive:  Snx24, Ppara, Dpyd, Ghr, Sox5, Abcc2, Immp2l, Mlxipl, Gphn, Wwox \n",
      "\t   Foxp4, Sorbs2, Nav2, Rapgef4, Cped1, Dennd5b, Glt1d1, Fam214a, Gm26917, Ptprd \n",
      "\t   St3gal4, Ptprk, Magi1, Vwa8, A1cf, 9030622O22Rik, BC005561, Rabgap1l, Adk, Shroom3 \n",
      "Negative:  mt-Atp6, mt-Co3, mt-Co2, Tpt1, S100a6, Rpl23, Rpl19, Rpl37, Rps23, mt-Co1 \n",
      "\t   Rpl37a, Rpl35a, Rpl38, Rps29, Rps27a, Rpl27a, Lgals1, Rps16, Gapdh, Rps2 \n",
      "\t   Actg1, Rps8, Rps3a1, Rps20, Rpl41, Rps12, Rplp2, Rpl13, Rps6, Ppia \n",
      "PC_ 3 \n",
      "Positive:  Zfpm2, Il34, Pvt1, Trps1, Runx1, Frmd4a, Cdk14, Slit2, AU020206, Ldlrad4 \n",
      "\t   Zeb2, Cacna2d1, Lrrk1, Dst, Ano6, Dpysl3, Dclk1, Ccdc88a, Gm12216, Nav1 \n",
      "\t   Hmga2, Lhfp, Nbea, Gse1, Cep112, Samd4, Akt3, Fam19a1, Gli3, Ext1 \n",
      "Negative:  Ahsg, Alb, Apob, Mug1, Gc, Pzp, Trf, Apoa1, Fgb, Mug2 \n",
      "\t   Itih3, Ttr, Apoc1, C3, Pck1, Apoa2, Kng1, Fga, H2-Q10, Fgg \n",
      "\t   Cps1, Slco1b2, Hamp, Ces1c, Cp, Cyp3a25, Cfh, Plg, Apoc3, Abcc2 \n",
      "PC_ 4 \n",
      "Positive:  Cd84, Inpp5d, Ptprc, Dock10, Lair1, Csf2ra, Pou2f2, Fgd2, Neurl3, Gm26740 \n",
      "\t   Arhgap15, Arrb2, Pld4, Arhgap30, Dock2, Fyb, Hmha1, Tm6sf1, Hpgds, P2ry6 \n",
      "\t   Pydc4, Ccr5, Lilrb4a, Ifi203, Rasa4, Cyth4, Cd300lf, Rhoh, Ifi204, Csf1r \n",
      "Negative:  Rbfox2, Dpysl3, Il34, Zfpm2, Hmga2, Fstl1, Cald1, Cacna2d1, Dclk1, Fbn1 \n",
      "\t   Slit2, Map1b, Myo10, Zeb1, Apbb2, Vcan, Tead1, Ddr2, Plec, Col6a3 \n",
      "\t   Tenm3, Sh3d19, Col3a1, Ahnak, Sparc, Gli3, Samd4, Pcdh19, Col5a1, Fam19a1 \n",
      "PC_ 5 \n",
      "Positive:  Immp2l, Ppara, Adk, Gc, Egfr, Malat1, Alb, Trf, 9030622O22Rik, Ido2 \n",
      "\t   Pzp, Apob, Agmo, Thrb, Ahsg, Iqgap2, Ghr, Dpyd, Gphn, Tox \n",
      "\t   Apoe, Sox5, Mtss1, Mug1, Nr1h4, Cyp2e1, Akr1c6, Fgb, Chd9, Abcc2 \n",
      "Negative:  Pabpn1, Tmem150a, Slc25a22, Peg3, Gm26518, Gm16586, Tob1, Ccdc28a, Slc17a4, Ulk1 \n",
      "\t   Sirt7, Atat1, Sik1, Dhps, Rnf170, Etfdh, Trp53inp1, Abcg5, Zfp945, Mafg \n",
      "\t   Plk3, Chkb, Klhdc8b, Cgn, Zfp598, Abcg8, Zfp871, Angptl8, Crebzf, Dvl1 \n"
     ]
    }
   ],
   "source": [
    "adata <- RunPCA(adata)"
   ]
  },
  {
   "cell_type": "code",
   "execution_count": 94,
   "metadata": {},
   "outputs": [
    {
     "name": "stderr",
     "output_type": "stream",
     "text": [
      "Harmony 1/10\n",
      "Harmony 2/10\n",
      "Harmony 3/10\n",
      "Harmony converged after 3 iterations\n"
     ]
    }
   ],
   "source": [
    "adata <- harmony::RunHarmony(adata, 'batch')"
   ]
  },
  {
   "cell_type": "code",
   "execution_count": 95,
   "metadata": {},
   "outputs": [],
   "source": [
    "harmony_embeddings <- Embeddings(adata, 'harmony')"
   ]
  },
  {
   "cell_type": "code",
   "execution_count": 96,
   "metadata": {},
   "outputs": [],
   "source": [
    "data_to_write_out <- as.data.frame(as.matrix(harmony_embeddings))\n",
    "fwrite(x = data_to_write_out, file = \"/myvol/data2/10x/20191102/harmony.embeddings.8k.hvg.csv\")"
   ]
  }
 ],
 "metadata": {
  "kernelspec": {
   "display_name": "R",
   "language": "R",
   "name": "ir"
  },
  "language_info": {
   "codemirror_mode": "r",
   "file_extension": ".r",
   "mimetype": "text/x-r-source",
   "name": "R",
   "pygments_lexer": "r",
   "version": "3.6.1"
  }
 },
 "nbformat": 4,
 "nbformat_minor": 4
}
