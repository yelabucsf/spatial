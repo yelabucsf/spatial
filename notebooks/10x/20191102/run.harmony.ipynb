{
 "cells": [
  {
   "cell_type": "code",
   "execution_count": 144,
   "metadata": {},
   "outputs": [],
   "source": [
    "library(harmony)\n",
    "library(Seurat)\n",
    "library(data.table)"
   ]
  },
  {
   "cell_type": "code",
   "execution_count": 145,
   "metadata": {},
   "outputs": [],
   "source": [
    "prefix <- '/data/xyzeq/'"
   ]
  },
  {
   "cell_type": "code",
   "execution_count": 146,
   "metadata": {},
   "outputs": [
    {
     "name": "stderr",
     "output_type": "stream",
     "text": [
      "Pulling expression matrices and metadata\n",
      "\n",
      "Data is unscaled\n",
      "\n",
      "Creating assay object\n",
      "\n",
      "Storing X as raw and raw as counts\n",
      "\n",
      "No variable feature expression found in h5ad file\n",
      "\n",
      "No dimensional reduction information found\n",
      "\n",
      "Assembling Seurat object\n",
      "\n",
      "No nearest-neighbor graph\n",
      "\n",
      "No additional layers found\n",
      "\n"
     ]
    }
   ],
   "source": [
    "adata <- ReadH5AD(paste(prefix, '10x/20191102/concat.liver1.L20C1.h5ad', sep=\"\"))"
   ]
  },
  {
   "cell_type": "code",
   "execution_count": 147,
   "metadata": {},
   "outputs": [],
   "source": [
    "adata <- NormalizeData(adata, normalization.method = 'LogNormalize', scale.factor = 1e6)"
   ]
  },
  {
   "cell_type": "code",
   "execution_count": 148,
   "metadata": {},
   "outputs": [],
   "source": [
    "adata <- FindVariableFeatures(adata, selection.method = \"vst\", nfeatures = 1000)"
   ]
  },
  {
   "cell_type": "code",
   "execution_count": 149,
   "metadata": {},
   "outputs": [
    {
     "name": "stderr",
     "output_type": "stream",
     "text": [
      "Centering and scaling data matrix\n",
      "\n"
     ]
    }
   ],
   "source": [
    "adata <- ScaleData(adata)"
   ]
  },
  {
   "cell_type": "code",
   "execution_count": 150,
   "metadata": {},
   "outputs": [
    {
     "name": "stderr",
     "output_type": "stream",
     "text": [
      "PC_ 1 \n",
      "Positive:  Apoa2, C3, mt-Co3, mt-Co2, mt-Atp6, Pck1, Mug2, Cd74, Uox, Glul \n",
      "\t   Hbb-bs, G6pc, Slc40a1, Errfi1, Cd5l, Oat, Nr1i3, Marco, Trp53inp1, Dpyd \n",
      "\t   Etnppl, Peg3, Ptprb, Cyp2b13, Ppara, Slfn4, Pcsk6, Sult3a1, As3mt, Fgr \n",
      "Negative:  Zfpm2, Il34, Ldlrad4, Gm38399, Pvt1, Slit2, Samd4, Fbxl7, Fam19a1, Pakap \n",
      "\t   Cacna2d1, Hs3st5, Lhfp, Gse1, Gli3, Magi2, Ext1, Zeb1, Rad51b, Airn \n",
      "\t   Cep112, Dclk1, Hmga2, Schip1, Sdk1, Ngf, Igf1r, Adamts12, Tead1, Pde4d \n",
      "PC_ 2 \n",
      "Positive:  mt-Atp6, mt-Co3, mt-Co2, Cd74, Col3a1, Apoa2, Ahnak, Htra1, C3, Erdr1 \n",
      "\t   Col1a1, Pck1, Col5a1, Gpc1, Hmga2, Hbb-bs, Igfbp6, Bgn, Dclk1, Efemp2 \n",
      "\t   Pgs1, Frmd4a, Clspn, Cdc25b, Glrx3, Kcnn4, Mmp2, Cenpe, Tead1, Snx17 \n",
      "Negative:  Cmss1, Sema5a, Ppara, Immp2l, Hnf1aos1, Erbb4, Dpyd, Prr16, Pik3c2g-1, Chsy3 \n",
      "\t   Agmo, Pik3c2g, Shroom3, Tshz2, Esrrg, Kalrn, Colec12, Ror1, Gm21973, Pde4d \n",
      "\t   Pdzrn3, 1700112E06Rik, Cyp2b13, Prkg1, Macrod1, Grid1, Gm11266, Platr22, Rarb, Ank3 \n",
      "PC_ 3 \n",
      "Positive:  Cmss1, Sema5a, Zfpm2, 1700112E06Rik, Gab2, Aoah, Fbxl7, Pakap, Pvt1, Prkch \n",
      "\t   Il34, Itgam-1, Gpr141, Hck, Ciita, Gm38399, Elmo1, Fmnl2, Fam19a1, Inpp4b \n",
      "\t   Vav1, Disc1, Hmga2, Zfp366, Arhgap22, Npas3, Skap1, Magi2, Gbp6, Atn1 \n",
      "Negative:  Nr1i3, Errfi1, Neat1, Mug2, G6pc, Peg3, Xist, Dpyd, Pck1, Chka \n",
      "\t   Uox, Malat1, Trp53inp1, Pik3c2g, Ppara, Shroom3, Cyp2b13, C3, Eva1a, Gm26917 \n",
      "\t   Etnppl, Apoa2, Agmo, mt-Co3, Cdc42bpa, Prr16, mt-Atp6, mt-Co2, Hnf1aos1, Erdr1 \n",
      "PC_ 4 \n",
      "Positive:  Fam19a1, Hmga2, Erdr1, Immp2l, Hs3st5, Il34, Ppara, Ank, Slc35f1, Sdk1 \n",
      "\t   Dpyd, Prune2, Hnf1aos1, Tenm4, Slit2, Arhgap22, Bahcc1, Rad51b, Pik3c2g, Ldlrad4 \n",
      "\t   Prr16, Pvt1, Erbb4, Gli3, Zfand4-1, Fbxl7, Zfand4, Lrp8, Pik3c2g-1, Gse1 \n",
      "Negative:  C1qtnf7, Timp3, Col5a2, Eln, Ccdc80, Pde3a, Adamts2, Bicc1, Prkg1, Mir143hg \n",
      "\t   Plxna4, Tmtc1, Adam12, Clstn2, Plxdc2, Sntg1, Bgn, Rbms3, Smoc2, Col1a2 \n",
      "\t   Rspo3, Pdgfrb, Pdzrn3, Pcdh11x, Adamtsl1, Tshz2, Palm2, Slit3, Kif26b, Col15a1 \n",
      "PC_ 5 \n",
      "Positive:  Elmo1, Tbxas1, Hck, Ppm1h, Aoah, Ciita, 1700112E06Rik, Fgr, Gab2, Xist \n",
      "\t   Slfn4, Prkch, Vav1, Disc1, Spon1, Kif21b, Cd244, Itgam, Gpr141, Dennd4b \n",
      "\t   Pstpip1, Skap1, Sh3bp2, Inpp4b, 1810011H11Rik, Pik3r5, Mfsd12, Ppp1r16b, Gm26917, Malat1 \n",
      "Negative:  Col3a1, C3, Apoa2, Pck1, Mug2, Ahnak, Sdc2, Il34, Col5a1, Col1a1 \n",
      "\t   Hmga2, Htra1, Lhfp, Hbb-bs, Zfpm2, Cacna2d1, Oat, Dclk1, Uox, Tead1 \n",
      "\t   Ank, Gpc1, Bgn, Dpyd, Pakap, mt-Atp6, Slit2, Fbxl7, Samd4, mt-Co3 \n",
      "\n"
     ]
    }
   ],
   "source": [
    "adata <- RunPCA(adata)"
   ]
  },
  {
   "cell_type": "code",
   "execution_count": 151,
   "metadata": {},
   "outputs": [
    {
     "name": "stderr",
     "output_type": "stream",
     "text": [
      "Harmony 1/10\n",
      "\n",
      "Harmony 2/10\n",
      "\n",
      "Harmony converged after 2 iterations\n",
      "\n"
     ]
    }
   ],
   "source": [
    "adata <- harmony::RunHarmony(adata, 'batch')"
   ]
  },
  {
   "cell_type": "code",
   "execution_count": 152,
   "metadata": {},
   "outputs": [],
   "source": [
    "harmony_embeddings <- Embeddings(adata, 'harmony')"
   ]
  },
  {
   "cell_type": "code",
   "execution_count": 153,
   "metadata": {},
   "outputs": [],
   "source": [
    "data_to_write_out <- as.data.frame(as.matrix(harmony_embeddings))\n",
    "fwrite(x = data_to_write_out, file = paste(prefix, '10x/20191102/harmony.embeddings.liver1.L20C1.default.hvg.csv',sep=''))"
   ]
  }
 ],
 "metadata": {
  "kernelspec": {
   "display_name": "R",
   "language": "R",
   "name": "ir"
  },
  "language_info": {
   "codemirror_mode": "r",
   "file_extension": ".r",
   "mimetype": "text/x-r-source",
   "name": "R",
   "pygments_lexer": "r",
   "version": "3.5.3"
  }
 },
 "nbformat": 4,
 "nbformat_minor": 4
}
