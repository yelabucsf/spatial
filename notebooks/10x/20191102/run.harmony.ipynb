{
 "cells": [
  {
   "cell_type": "code",
   "execution_count": 1,
   "metadata": {},
   "outputs": [],
   "source": [
    "library(harmony)\n",
    "library(Seurat)\n",
    "library(data.table)\n",
    "\n",
    "prefix <- '/data/xyzeq/'\n",
    "\n",
    "adata <- ReadH5AD(paste(prefix, '10x/20191102/concat.liver1.L20C1.derek.h5ad', sep=\"\"))\n",
    "\n",
    "adata <- NormalizeData(adata, normalization.method = 'LogNormalize', scale.factor = 1e6)\n",
    "\n",
    "adata <- FindVariableFeatures(adata, selection.method = \"vst\", nfeatures = 10000000) # set this very high to just use all features\n",
    "\n",
    "adata <- ScaleData(adata)\n",
    "\n",
    "adata <- RunPCA(adata)\n",
    "\n",
    "adata <- harmony::RunHarmony(adata, 'batch')\n",
    "\n",
    "harmony_embeddings <- Embeddings(adata, 'harmony')\n",
    "\n",
    "data_to_write_out <- as.data.frame(as.matrix(harmony_embeddings))\n",
    "fwrite(x = data_to_write_out, file = paste(prefix, '10x/20191102/harmony.embeddings.liver1.L20C1.derek.all.csv',sep=''))"
   ]
  },
  {
   "cell_type": "code",
   "execution_count": null,
   "metadata": {},
   "outputs": [],
   "source": []
  }
 ],
 "metadata": {
  "kernelspec": {
   "display_name": "R",
   "language": "R",
   "name": "ir"
  },
  "language_info": {
   "codemirror_mode": "r",
   "file_extension": ".r",
   "mimetype": "text/x-r-source",
   "name": "R",
   "pygments_lexer": "r",
   "version": "3.6.0"
  }
 },
 "nbformat": 4,
 "nbformat_minor": 4
}
