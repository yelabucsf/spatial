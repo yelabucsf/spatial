{
 "cells": [
  {
   "cell_type": "code",
   "execution_count": 1,
   "metadata": {},
   "outputs": [],
   "source": [
    "library(harmony)\n",
    "library(Seurat)\n",
    "library(data.table)"
   ]
  },
  {
   "cell_type": "code",
   "execution_count": 19,
   "metadata": {},
   "outputs": [],
   "source": [
    "prefix <- '/data/xyzeq/'"
   ]
  },
  {
   "cell_type": "code",
   "execution_count": 26,
   "metadata": {},
   "outputs": [
    {
     "name": "stderr",
     "output_type": "stream",
     "text": [
      "Pulling expression matrices and metadata\n",
      "\n",
      "Data is unscaled\n",
      "\n",
      "Creating assay object\n",
      "\n",
      "Storing X as raw and raw as counts\n",
      "\n",
      "No variable feature expression found in h5ad file\n",
      "\n",
      "No dimensional reduction information found\n",
      "\n",
      "Assembling Seurat object\n",
      "\n",
      "No nearest-neighbor graph\n",
      "\n",
      "No additional layers found\n",
      "\n"
     ]
    }
   ],
   "source": [
    "adata <- ReadH5AD(paste(prefix, '10x/20191102/concat.liver1.L20C1.derek.h5ad', sep=\"\"))"
   ]
  },
  {
   "cell_type": "code",
   "execution_count": 27,
   "metadata": {},
   "outputs": [],
   "source": [
    "adata <- NormalizeData(adata, normalization.method = 'LogNormalize', scale.factor = 1e6)"
   ]
  },
  {
   "cell_type": "code",
   "execution_count": 28,
   "metadata": {},
   "outputs": [],
   "source": [
    "adata <- FindVariableFeatures(adata, selection.method = \"vst\", nfeatures = 10000000) # set this very high to just use all features"
   ]
  },
  {
   "cell_type": "code",
   "execution_count": 29,
   "metadata": {},
   "outputs": [
    {
     "name": "stderr",
     "output_type": "stream",
     "text": [
      "Centering and scaling data matrix\n",
      "\n"
     ]
    }
   ],
   "source": [
    "adata <- ScaleData(adata)"
   ]
  },
  {
   "cell_type": "code",
   "execution_count": 30,
   "metadata": {},
   "outputs": [
    {
     "name": "stderr",
     "output_type": "stream",
     "text": [
      "PC_ 1 \n",
      "Positive:  Snx24, Cmss1, Sema5a, Foxp4, Rnf152, Galnt18, A530064D06Rik, Kif5c, 4930570N18Rik, Pebp4 \n",
      "\t   Gm29328, Camk1d, Il31ra, Arl15, Rab3c, March3, Ntrk2, Dlgap1, Erbb4, Fam163a \n",
      "\t   Lingo2, Ppara, Immp2l, Dhrs2, Skint6, Hnf1aos1, Angpt1, St3gal4, Zmat4, 9330185C12Rik \n",
      "Negative:  mt-Atp6, mt-Co3, mt-Co2, mt-Co1, Rpl23, mt-Nd4, AY036118, Rps8, Tpt1, Rpl19 \n",
      "\t   Rps27a, Rpl41, Ftl1, Ly6e, Rpl37, Rps2, Rps29, Rpl35a, Rpl27a, Rpl37a \n",
      "\t   Rps20, Rpl13, Hspa8, Ddx5, Rps18, Lgals1, Rpl30, Rps23, Rplp2, mt-Nd2 \n",
      "PC_ 2 \n",
      "Positive:  Snx24, Cmss1, Rnf152, Foxp4, Sema5a, Galnt18, Arl15, Wwox, 4930570N18Rik, Kif5c \n",
      "\t   A530064D06Rik, Gphn, Gm20388, Ldlrad4, Pde4d, Immp2l, Pebp4, Ghr, Atxn1, Fam19a1 \n",
      "\t   Tenm3, Gm26917, Gm29328, Ube2e2, Zfpm2, Camk1d, Samd4, Ntrk2, Kansl1, St3gal4 \n",
      "Negative:  mt-Co3, mt-Atp6, mt-Co2, Tpt1, AY036118, mt-Co1, Rps23, Rpl19, Rpl37a, Rpl23 \n",
      "\t   Rpl35a, Rps29, Rpl27a, Rpl37, Rps27a, Apoa2, S100a6, Gapdh, Ftl1, Rps16 \n",
      "\t   Rpl38, Actg1, Rps2, Rplp2, Ppia, Rpl41, Rps3a1, Hspa8, Rps18, Apoc1 \n",
      "PC_ 3 \n",
      "Positive:  Zfpm2, Il34, Trps1, Dpysl3, AU020206, Cacna2d1, Runx1, Cdk14, Pvt1, Hmga2 \n",
      "\t   Map1b, Slit2, Nav1, Gm38399, Ano6, Ahnak, Dclk1, Fbn1, Frmd4a, Msn \n",
      "\t   Gli3, Col5a1, Pmepa1, Fstl1, Col6a3, Ccdc88a, Lrrk1, Lhfp, Pcdh19, Vcan \n",
      "Negative:  Mlxipl, Abcc2, Mug1, Mug2, Cyp3a25, Nr1i3, Pzp, Sema4g, Dpyd, Slc22a30 \n",
      "\t   Slc38a3, Itih3, Slc17a2, Aox3, Ahsg, Prlr, G6pc, Nlrp6, Echdc2, Gckr \n",
      "\t   Slco1b2, Abcb11, Gm12909, Cyp2b9, Rapgef4, Uox, Apob, Aspg, Glt1d1, Etnk2 \n",
      "PC_ 4 \n",
      "Positive:  Fstl1, Cald1, Myo10, Rbfox2, Dpysl3, Serpinh1, Htra1, Gpc1, Sdc2, Map1b \n",
      "\t   Col16a1, Pcdh19, Vcan, Col6a3, Col5a1, Fbn1, Ddr2, Sparc, Nedd4, Ptrf \n",
      "\t   Emp1, Col3a1, Col6a2, Hmga2, Tuba1a, Cd34, Lrig1, Hspg2, Plec, Ghr \n",
      "Negative:  Cd84, Inpp5d, Ptprc, Dock10, Csf2ra, Lair1, Neurl3, Arhgap15, Fgd2, Hmha1 \n",
      "\t   Arrb2, Pou2f2, Pld4, Gm26740, Arhgap30, Dock2, P2ry6, Fyb, Rhoh, Pydc4 \n",
      "\t   Cd300lf, Hpgds, Rasa4, Ifi203, Lilrb4a, Zeb2, Tgfbr1, Tm6sf1, Stab1, Ccr5 \n",
      "PC_ 5 \n",
      "Positive:  Gc, Trf, C3, Alb, Fgb, Apoe, Apob, Ahsg, Fga, mt-Nd2 \n",
      "\t   Apoa1, Immp2l, Ttr, Apoc1, Prr16, Kng1, Pzp, Fabp1, Scp2, Lars2 \n",
      "\t   Pik3c2g-1, Hnf1aos1, mt-Nd1, Cyp2e1, Fhit, Adh1, Ass1, Egfr, mt-Cytb, Erbb4 \n",
      "Negative:  Gm26518, Gm12909, E130102H24Rik, Gm6483, Ugt1a6a, Tsix, Egfros, Pabpn1, A330017A19Rik, Gm26853 \n",
      "\t   Sco2, Gm21887, C730034F03Rik, Plpp5, Gm16586, Tmem150a, Mterf1a, Gm26724, Itfg2, 6720427I07Rik \n",
      "\t   Spaca6, Smlr1, Dhps, Zfp101, Sirt7, Zfp146, Rtp3, Pcdhgc5, Gadd45g, Atat1 \n",
      "\n"
     ]
    }
   ],
   "source": [
    "adata <- RunPCA(adata)"
   ]
  },
  {
   "cell_type": "code",
   "execution_count": 31,
   "metadata": {},
   "outputs": [
    {
     "name": "stderr",
     "output_type": "stream",
     "text": [
      "Harmony 1/10\n",
      "\n",
      "Harmony 2/10\n",
      "\n",
      "Harmony 3/10\n",
      "\n",
      "Harmony converged after 3 iterations\n",
      "\n"
     ]
    }
   ],
   "source": [
    "adata <- harmony::RunHarmony(adata, 'batch')"
   ]
  },
  {
   "cell_type": "code",
   "execution_count": 32,
   "metadata": {},
   "outputs": [],
   "source": [
    "harmony_embeddings <- Embeddings(adata, 'harmony')"
   ]
  },
  {
   "cell_type": "code",
   "execution_count": 34,
   "metadata": {},
   "outputs": [],
   "source": [
    "data_to_write_out <- as.data.frame(as.matrix(harmony_embeddings))\n",
    "fwrite(x = data_to_write_out, file = paste(prefix, '10x/20191102/harmony.embeddings.liver1.L20C1.derek.all.csv',sep=''))"
   ]
  },
  {
   "cell_type": "code",
   "execution_count": null,
   "metadata": {},
   "outputs": [],
   "source": []
  }
 ],
 "metadata": {
  "kernelspec": {
   "display_name": "R",
   "language": "R",
   "name": "ir"
  },
  "language_info": {
   "codemirror_mode": "r",
   "file_extension": ".r",
   "mimetype": "text/x-r-source",
   "name": "R",
   "pygments_lexer": "r",
   "version": "3.5.3"
  }
 },
 "nbformat": 4,
 "nbformat_minor": 4
}
