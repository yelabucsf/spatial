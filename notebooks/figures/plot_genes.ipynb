{
 "cells": [
  {
   "cell_type": "code",
   "execution_count": 1,
   "metadata": {},
   "outputs": [
    {
     "name": "stderr",
     "output_type": "stream",
     "text": [
      "/home/ghartoularos/anaconda3/envs/xyzeq/lib/python3.6/site-packages/tensorflow/python/framework/dtypes.py:516: FutureWarning: Passing (type, 1) or '1type' as a synonym of type is deprecated; in a future version of numpy, it will be understood as (type, (1,)) / '(1,)type'.\n",
      "  _np_qint8 = np.dtype([(\"qint8\", np.int8, 1)])\n",
      "/home/ghartoularos/anaconda3/envs/xyzeq/lib/python3.6/site-packages/tensorflow/python/framework/dtypes.py:517: FutureWarning: Passing (type, 1) or '1type' as a synonym of type is deprecated; in a future version of numpy, it will be understood as (type, (1,)) / '(1,)type'.\n",
      "  _np_quint8 = np.dtype([(\"quint8\", np.uint8, 1)])\n",
      "/home/ghartoularos/anaconda3/envs/xyzeq/lib/python3.6/site-packages/tensorflow/python/framework/dtypes.py:518: FutureWarning: Passing (type, 1) or '1type' as a synonym of type is deprecated; in a future version of numpy, it will be understood as (type, (1,)) / '(1,)type'.\n",
      "  _np_qint16 = np.dtype([(\"qint16\", np.int16, 1)])\n",
      "/home/ghartoularos/anaconda3/envs/xyzeq/lib/python3.6/site-packages/tensorflow/python/framework/dtypes.py:519: FutureWarning: Passing (type, 1) or '1type' as a synonym of type is deprecated; in a future version of numpy, it will be understood as (type, (1,)) / '(1,)type'.\n",
      "  _np_quint16 = np.dtype([(\"quint16\", np.uint16, 1)])\n",
      "/home/ghartoularos/anaconda3/envs/xyzeq/lib/python3.6/site-packages/tensorflow/python/framework/dtypes.py:520: FutureWarning: Passing (type, 1) or '1type' as a synonym of type is deprecated; in a future version of numpy, it will be understood as (type, (1,)) / '(1,)type'.\n",
      "  _np_qint32 = np.dtype([(\"qint32\", np.int32, 1)])\n",
      "/home/ghartoularos/anaconda3/envs/xyzeq/lib/python3.6/site-packages/tensorflow/python/framework/dtypes.py:525: FutureWarning: Passing (type, 1) or '1type' as a synonym of type is deprecated; in a future version of numpy, it will be understood as (type, (1,)) / '(1,)type'.\n",
      "  np_resource = np.dtype([(\"resource\", np.ubyte, 1)])\n",
      "/home/ghartoularos/anaconda3/envs/xyzeq/lib/python3.6/site-packages/tensorboard/compat/tensorflow_stub/dtypes.py:541: FutureWarning: Passing (type, 1) or '1type' as a synonym of type is deprecated; in a future version of numpy, it will be understood as (type, (1,)) / '(1,)type'.\n",
      "  _np_qint8 = np.dtype([(\"qint8\", np.int8, 1)])\n",
      "/home/ghartoularos/anaconda3/envs/xyzeq/lib/python3.6/site-packages/tensorboard/compat/tensorflow_stub/dtypes.py:542: FutureWarning: Passing (type, 1) or '1type' as a synonym of type is deprecated; in a future version of numpy, it will be understood as (type, (1,)) / '(1,)type'.\n",
      "  _np_quint8 = np.dtype([(\"quint8\", np.uint8, 1)])\n",
      "/home/ghartoularos/anaconda3/envs/xyzeq/lib/python3.6/site-packages/tensorboard/compat/tensorflow_stub/dtypes.py:543: FutureWarning: Passing (type, 1) or '1type' as a synonym of type is deprecated; in a future version of numpy, it will be understood as (type, (1,)) / '(1,)type'.\n",
      "  _np_qint16 = np.dtype([(\"qint16\", np.int16, 1)])\n",
      "/home/ghartoularos/anaconda3/envs/xyzeq/lib/python3.6/site-packages/tensorboard/compat/tensorflow_stub/dtypes.py:544: FutureWarning: Passing (type, 1) or '1type' as a synonym of type is deprecated; in a future version of numpy, it will be understood as (type, (1,)) / '(1,)type'.\n",
      "  _np_quint16 = np.dtype([(\"quint16\", np.uint16, 1)])\n",
      "/home/ghartoularos/anaconda3/envs/xyzeq/lib/python3.6/site-packages/tensorboard/compat/tensorflow_stub/dtypes.py:545: FutureWarning: Passing (type, 1) or '1type' as a synonym of type is deprecated; in a future version of numpy, it will be understood as (type, (1,)) / '(1,)type'.\n",
      "  _np_qint32 = np.dtype([(\"qint32\", np.int32, 1)])\n",
      "/home/ghartoularos/anaconda3/envs/xyzeq/lib/python3.6/site-packages/tensorboard/compat/tensorflow_stub/dtypes.py:550: FutureWarning: Passing (type, 1) or '1type' as a synonym of type is deprecated; in a future version of numpy, it will be understood as (type, (1,)) / '(1,)type'.\n",
      "  np_resource = np.dtype([(\"resource\", np.ubyte, 1)])\n"
     ]
    },
    {
     "name": "stdout",
     "output_type": "stream",
     "text": [
      "diffpy version v0.6.13\n"
     ]
    }
   ],
   "source": [
    "import diffxpy.api as de\n",
    "print(\"diffpy version \"+de.__version__)\n",
    "import scanpy as sc\n",
    "import numpy as np\n",
    "import pandas as pd"
   ]
  },
  {
   "cell_type": "code",
   "execution_count": 2,
   "metadata": {},
   "outputs": [],
   "source": [
    "import scanpy as sc\n",
    "\n",
    "adata=sc.read_loom('/data/xyzeq/xyzeq/individual.raw.and.proc.h5ads/data_for_figure.loom')"
   ]
  },
  {
   "cell_type": "code",
   "execution_count": 6,
   "metadata": {},
   "outputs": [],
   "source": [
    "sc.__version__"
   ]
  },
  {
   "cell_type": "code",
   "execution_count": 3,
   "metadata": {},
   "outputs": [
    {
     "name": "stderr",
     "output_type": "stream",
     "text": [
      "Trying to set attribute `.obs` of view, making a copy.\n"
     ]
    }
   ],
   "source": [
    "adata_new = adata[~adata.obs['Percent_Tumor_1'].isnull()]\n",
    "\n",
    "adata_new.obs['time'] = adata_new.obs['Percent_Tumor_1']\n",
    "\n",
    "# Alternatively, you can use your proximity score\n",
    "\n",
    "# adata_new = adata[~adata.obs['prox_2'].isnull()]\n",
    "#adata_new.obs['time'] = adata_new.obs['prox_2']\n"
   ]
  },
  {
   "cell_type": "code",
   "execution_count": 4,
   "metadata": {},
   "outputs": [
    {
     "name": "stdout",
     "output_type": "stream",
     "text": [
      "WARNING:tensorflow:\n",
      "The TensorFlow contrib module will not be included in TensorFlow 2.0.\n",
      "For more information, please see:\n",
      "  * https://github.com/tensorflow/community/blob/master/rfcs/20180907-contrib-sunset.md\n",
      "  * https://github.com/tensorflow/addons\n",
      "  * https://github.com/tensorflow/io (for I/O related ops)\n",
      "If you depend on functionality not listed there, please file an issue.\n",
      "\n",
      "WARNING:tensorflow:From /home/ghartoularos/tools/batchglm-0.6.8/batchglm/train/tf/base_glm/estimator_graph.py:907: add_dispatch_support.<locals>.wrapper (from tensorflow.python.ops.array_ops) is deprecated and will be removed in a future version.\n",
      "Instructions for updating:\n",
      "Use tf.where in 2.0, which has the same broadcast rule as np.where\n",
      "WARNING:tensorflow:The dtype of the watched tensor must be floating (e.g. tf.float32), got tf.int32\n",
      "WARNING:tensorflow:The dtype of the watched tensor must be floating (e.g. tf.float32), got tf.int32\n",
      "WARNING:tensorflow:The dtype of the watched tensor must be floating (e.g. tf.float32), got tf.int32\n",
      "WARNING:tensorflow:The dtype of the watched tensor must be floating (e.g. tf.float32), got tf.int32\n",
      "WARNING:tensorflow:The dtype of the watched tensor must be floating (e.g. tf.float32), got tf.int32\n",
      "INFO:tensorflow:Step: 0 loss: 1308.309191 models converged 0\n",
      "INFO:tensorflow:Step: 1 loss: 1302.660836, converged 0 in 1.288 sec., updated 2421, {f: 0, g: 0, x: 0}\n",
      "INFO:tensorflow:Step: 2 loss: 1301.996422, converged 0 in 0.852 sec., updated 2409, {f: 0, g: 0, x: 0}\n",
      "INFO:tensorflow:Step: 3 loss: 1301.711028, converged 0 in 0.845 sec., updated 2403, {f: 0, g: 0, x: 0}\n",
      "INFO:tensorflow:Step: 4 loss: 1301.524590, converged 0 in 0.849 sec., updated 2401, {f: 0, g: 0, x: 0}\n",
      "INFO:tensorflow:Step: 5 loss: 1301.400268, converged 0 in 0.86 sec., updated 2401, {f: 0, g: 0, x: 0}\n",
      "INFO:tensorflow:Step: 6 loss: 1301.307096, converged 0 in 0.867 sec., updated 2405, {f: 0, g: 0, x: 0}\n",
      "INFO:tensorflow:Step: 7 loss: 1301.231198, converged 0 in 0.856 sec., updated 2407, {f: 0, g: 0, x: 0}\n",
      "INFO:tensorflow:Step: 8 loss: 1301.165686, converged 2 in 0.853 sec., updated 2420, {f: 2, g: 0, x: 0}\n",
      "INFO:tensorflow:Step: 9 loss: 1301.108022, converged 2 in 0.863 sec., updated 2423, {f: 0, g: 0, x: 0}\n",
      "INFO:tensorflow:Step: 10 loss: 1301.056509, converged 2 in 0.851 sec., updated 2425, {f: 0, g: 0, x: 0}\n",
      "INFO:tensorflow:Step: 11 loss: 1301.010132, converged 3 in 0.856 sec., updated 2424, {f: 1, g: 0, x: 0}\n",
      "INFO:tensorflow:Step: 12 loss: 1300.968114, converged 3 in 0.859 sec., updated 2424, {f: 0, g: 0, x: 0}\n",
      "INFO:tensorflow:Step: 13 loss: 1300.929916, converged 5 in 0.861 sec., updated 2424, {f: 2, g: 0, x: 0}\n",
      "INFO:tensorflow:Step: 14 loss: 1300.896109, converged 5 in 0.857 sec., updated 2423, {f: 0, g: 0, x: 0}\n",
      "INFO:tensorflow:Step: 15 loss: 1300.869256, converged 5 in 0.858 sec., updated 2423, {f: 0, g: 0, x: 0}\n",
      "INFO:tensorflow:Step: 16 loss: 1300.852374, converged 6 in 0.846 sec., updated 2423, {f: 1, g: 0, x: 0}\n",
      "INFO:tensorflow:Step: 17 loss: 1300.843373, converged 7 in 0.85 sec., updated 2422, {f: 1, g: 0, x: 0}\n",
      "INFO:tensorflow:Step: 18 loss: 1300.838789, converged 12 in 0.857 sec., updated 2421, {f: 5, g: 0, x: 0}\n",
      "INFO:tensorflow:Step: 19 loss: 1300.836466, converged 16 in 0.854 sec., updated 2416, {f: 4, g: 0, x: 0}\n",
      "INFO:tensorflow:Step: 20 loss: 1300.835293, converged 16 in 0.856 sec., updated 2412, {f: 0, g: 0, x: 0}\n",
      "INFO:tensorflow:Step: 21 loss: 1300.834704, converged 19 in 0.849 sec., updated 2412, {f: 3, g: 0, x: 0}\n",
      "INFO:tensorflow:Step: 22 loss: 1300.834407, converged 19 in 0.853 sec., updated 2409, {f: 0, g: 0, x: 0}\n",
      "INFO:tensorflow:Step: 23 loss: 1300.834258, converged 28 in 0.849 sec., updated 2409, {f: 9, g: 0, x: 0}\n",
      "INFO:tensorflow:Step: 24 loss: 1300.834183, converged 36 in 0.845 sec., updated 2400, {f: 8, g: 0, x: 0}\n",
      "INFO:tensorflow:Step: 25 loss: 1300.834145, converged 46 in 0.847 sec., updated 2392, {f: 10, g: 0, x: 0}\n",
      "INFO:tensorflow:Step: 26 loss: 1300.834126, converged 58 in 0.848 sec., updated 2382, {f: 12, g: 0, x: 0}\n",
      "INFO:tensorflow:Step: 27 loss: 1300.834117, converged 75 in 0.849 sec., updated 2370, {f: 17, g: 0, x: 0}\n",
      "INFO:tensorflow:Step: 28 loss: 1300.834112, converged 101 in 0.844 sec., updated 2353, {f: 26, g: 0, x: 0}\n",
      "INFO:tensorflow:Step: 29 loss: 1300.834110, converged 157 in 0.854 sec., updated 2327, {f: 56, g: 0, x: 0}\n",
      "INFO:tensorflow:Step: 30 loss: 1300.834109, converged 246 in 0.858 sec., updated 2271, {f: 89, g: 0, x: 0}\n",
      "INFO:tensorflow:Step: 31 loss: 1300.834108, converged 403 in 0.852 sec., updated 2182, {f: 154, g: 0, x: 3}\n",
      "INFO:tensorflow:Step: 32 loss: 1300.834108, converged 700 in 0.84 sec., updated 2025, {f: 262, g: 0, x: 47}\n",
      "INFO:tensorflow:Step: 33 loss: 1300.834108, converged 1220 in 0.854 sec., updated 1728, {f: 423, g: 0, x: 143}\n",
      "INFO:tensorflow:Step: 34 loss: 1300.834107, converged 1810 in 0.853 sec., updated 1208, {f: 526, g: 0, x: 136}\n",
      "INFO:tensorflow:Step: 35 loss: 1300.834107, converged 2404 in 0.85 sec., updated 618, {f: 448, g: 0, x: 553}\n",
      "INFO:tensorflow:Step: 36 loss: 1300.834107, converged 2420 in 0.85 sec., updated 24, {f: 16, g: 0, x: 7}\n",
      "INFO:tensorflow:Step: 37 loss: 1300.834107, converged 2424 in 0.849 sec., updated 8, {f: 4, g: 0, x: 0}\n",
      "INFO:tensorflow:Step: 38 loss: 1300.834107, converged 2428 in 0.849 sec., updated 4, {f: 4, g: 0, x: 0}\n"
     ]
    },
    {
     "data": {
      "text/html": [
       "<div>\n",
       "<style scoped>\n",
       "    .dataframe tbody tr th:only-of-type {\n",
       "        vertical-align: middle;\n",
       "    }\n",
       "\n",
       "    .dataframe tbody tr th {\n",
       "        vertical-align: top;\n",
       "    }\n",
       "\n",
       "    .dataframe thead th {\n",
       "        text-align: right;\n",
       "    }\n",
       "</style>\n",
       "<table border=\"1\" class=\"dataframe\">\n",
       "  <thead>\n",
       "    <tr style=\"text-align: right;\">\n",
       "      <th></th>\n",
       "      <th>gene</th>\n",
       "      <th>pval</th>\n",
       "      <th>qval</th>\n",
       "      <th>log2fc</th>\n",
       "      <th>mean</th>\n",
       "      <th>zero_mean</th>\n",
       "      <th>grad</th>\n",
       "      <th>ll</th>\n",
       "    </tr>\n",
       "  </thead>\n",
       "  <tbody>\n",
       "    <tr>\n",
       "      <th>0</th>\n",
       "      <td>mm10_Lypla1</td>\n",
       "      <td>0.094357</td>\n",
       "      <td>0.412049</td>\n",
       "      <td>2.122332</td>\n",
       "      <td>0.173655</td>\n",
       "      <td>False</td>\n",
       "      <td>0.003730</td>\n",
       "      <td>-729.143050</td>\n",
       "    </tr>\n",
       "    <tr>\n",
       "      <th>1</th>\n",
       "      <td>mm10_Rb1cc1</td>\n",
       "      <td>0.899636</td>\n",
       "      <td>0.950776</td>\n",
       "      <td>1.726656</td>\n",
       "      <td>0.316807</td>\n",
       "      <td>False</td>\n",
       "      <td>0.002495</td>\n",
       "      <td>-1243.090567</td>\n",
       "    </tr>\n",
       "    <tr>\n",
       "      <th>2</th>\n",
       "      <td>mm10_Pcmtd1</td>\n",
       "      <td>0.228792</td>\n",
       "      <td>0.597049</td>\n",
       "      <td>4.922068</td>\n",
       "      <td>0.286833</td>\n",
       "      <td>False</td>\n",
       "      <td>0.003871</td>\n",
       "      <td>-1210.359063</td>\n",
       "    </tr>\n",
       "    <tr>\n",
       "      <th>3</th>\n",
       "      <td>mm10_Adhfe1</td>\n",
       "      <td>0.235727</td>\n",
       "      <td>0.605245</td>\n",
       "      <td>19.337552</td>\n",
       "      <td>0.192818</td>\n",
       "      <td>False</td>\n",
       "      <td>0.000174</td>\n",
       "      <td>-803.950823</td>\n",
       "    </tr>\n",
       "    <tr>\n",
       "      <th>4</th>\n",
       "      <td>mm10_Vcpip1</td>\n",
       "      <td>0.900261</td>\n",
       "      <td>0.950776</td>\n",
       "      <td>6.112785</td>\n",
       "      <td>0.153945</td>\n",
       "      <td>False</td>\n",
       "      <td>0.002664</td>\n",
       "      <td>-828.845561</td>\n",
       "    </tr>\n",
       "  </tbody>\n",
       "</table>\n",
       "</div>"
      ],
      "text/plain": [
       "          gene      pval      qval     log2fc      mean  zero_mean      grad  \\\n",
       "0  mm10_Lypla1  0.094357  0.412049   2.122332  0.173655      False  0.003730   \n",
       "1  mm10_Rb1cc1  0.899636  0.950776   1.726656  0.316807      False  0.002495   \n",
       "2  mm10_Pcmtd1  0.228792  0.597049   4.922068  0.286833      False  0.003871   \n",
       "3  mm10_Adhfe1  0.235727  0.605245  19.337552  0.192818      False  0.000174   \n",
       "4  mm10_Vcpip1  0.900261  0.950776   6.112785  0.153945      False  0.002664   \n",
       "\n",
       "            ll  \n",
       "0  -729.143050  \n",
       "1 -1243.090567  \n",
       "2 -1210.359063  \n",
       "3  -803.950823  \n",
       "4  -828.845561  "
      ]
     },
     "execution_count": 4,
     "metadata": {},
     "output_type": "execute_result"
    }
   ],
   "source": [
    "det = de.test.continuous_1d(\n",
    "    data=adata_new.X,\n",
    "    sample_description=adata_new.obs,\n",
    "    gene_names=adata_new.var_names,\n",
    "    formula_loc=\"~ 1 + time\",\n",
    "    formula_scale=\"~ 1\",\n",
    "    factor_loc_totest=\"time\",\n",
    "    continuous=\"time\",\n",
    "    size_factors=np.random.uniform(0.2, 2, adata_new.n_obs),\n",
    "    df=4,\n",
    "    quick_scale=False\n",
    ")\n",
    "det.summary().iloc[:5, :]"
   ]
  },
  {
   "cell_type": "code",
   "execution_count": 5,
   "metadata": {},
   "outputs": [
    {
     "data": {
      "image/png": "[encoded data removed]",
      "text/plain": [
       "<Figure size 432x374.4 with 1 Axes>"
      ]
     },
     "metadata": {
      "needs_background": "light"
     },
     "output_type": "display_data"
    }
   ],
   "source": [
    "# plot_genes does not give me the desired plot\n",
    "det.plot_genes(\n",
    "    genes= adata_new.var_names[:1] ,#      adata_macrophage.var_names[:3],\n",
    "    log=True\n",
    ")"
   ]
  },
  {
   "cell_type": "code",
   "execution_count": null,
   "metadata": {},
   "outputs": [],
   "source": []
  }
 ],
 "metadata": {
  "kernelspec": {
   "display_name": "xyzeq",
   "language": "python",
   "name": "xyzeq"
  },
  "language_info": {
   "codemirror_mode": {
    "name": "ipython",
    "version": 3
   },
   "file_extension": ".py",
   "mimetype": "text/x-python",
   "name": "python",
   "nbconvert_exporter": "python",
   "pygments_lexer": "ipython3",
   "version": "3.6.7"
  }
 },
 "nbformat": 4,
 "nbformat_minor": 4
}
