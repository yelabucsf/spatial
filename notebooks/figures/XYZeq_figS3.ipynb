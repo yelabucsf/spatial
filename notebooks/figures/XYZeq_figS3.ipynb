{
 "cells": [
  {
   "cell_type": "markdown",
   "metadata": {},
   "source": [
    "# Reproducing Figure S3"
   ]
  },
  {
   "cell_type": "markdown",
   "metadata": {},
   "source": [
    "_04SEP20_: \n",
    "\n",
    "To address reviewer concerns and incorporating suggestions from the group, we decided to:\n",
    "1. Downsample the 10x data to recreate the tSNE in Figure S3A\n",
    "2. Remove the Harmony analysis and simply show a side-by-side of the 10x tSNE with the XYZeq tSNE.\n",
    "\n",
    "If the 10x tSNE seems to better match the results from XYZeq, we will likely also adjust the cell type proportion correlations in FigS3C and the heatmap in Figure 3C."
   ]
  },
  {
   "cell_type": "code",
   "execution_count": null,
   "metadata": {},
   "outputs": [],
   "source": []
  }
 ],
 "metadata": {
  "kernelspec": {
   "display_name": "xyzeq",
   "language": "python",
   "name": "xyzeq"
  },
  "language_info": {
   "codemirror_mode": {
    "name": "ipython",
    "version": 3
   },
   "file_extension": ".py",
   "mimetype": "text/x-python",
   "name": "python",
   "nbconvert_exporter": "python",
   "pygments_lexer": "ipython3",
   "version": "3.6.10"
  }
 },
 "nbformat": 4,
 "nbformat_minor": 4
}
