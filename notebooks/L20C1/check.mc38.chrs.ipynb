{
 "cells": [
  {
   "cell_type": "markdown",
   "metadata": {},
   "source": [
    "## Check MC38 Chromosomes\n",
    "Check the expression of genes on certain MC38 chromosomes."
   ]
  },
  {
   "cell_type": "code",
   "execution_count": 1,
   "metadata": {},
   "outputs": [],
   "source": [
    "import pandas as pd\n",
    "import numpy as np\n",
    "import scanpy as sc\n",
    "from tqdm.notebook import tqdm\n",
    "import itertools as it\n",
    "import seaborn as sns\n",
    "import matplotlib.pyplot as plt"
   ]
  },
  {
   "cell_type": "code",
   "execution_count": 2,
   "metadata": {},
   "outputs": [],
   "source": [
    "box_prefix = '/data/xyzeq/box.data/data/'\n",
    "original_prefix = '/data/xyzeq/'"
   ]
  },
  {
   "cell_type": "code",
   "execution_count": 3,
   "metadata": {},
   "outputs": [],
   "source": [
    "adata = sc.read_h5ad(box_prefix + 'all_batches_mouse_liver_tumor.h5ad')"
   ]
  },
  {
   "cell_type": "code",
   "execution_count": 4,
   "metadata": {},
   "outputs": [],
   "source": [
    "batches = list()\n",
    "for idx in adata.obs.index.str.split('_'):\n",
    "    batches.append(idx[0])\n",
    "adata.obs['batch'] = batches"
   ]
  },
  {
   "cell_type": "code",
   "execution_count": 5,
   "metadata": {},
   "outputs": [
    {
     "data": {
      "text/plain": [
       "L20T     27926\n",
       "L20C1    26436\n",
       "S15C     24410\n",
       "L20C       153\n",
       "Name: batch, dtype: int64"
      ]
     },
     "execution_count": 5,
     "metadata": {},
     "output_type": "execute_result"
    }
   ],
   "source": [
    "adata.obs['batch'].value_counts()"
   ]
  },
  {
   "cell_type": "code",
   "execution_count": 6,
   "metadata": {},
   "outputs": [
    {
     "name": "stderr",
     "output_type": "stream",
     "text": [
      "/home/ssm-user/anaconda3/envs/xyzeq/lib/python3.6/site-packages/anndata/compat/__init__.py:161: FutureWarning: Moving element from .uns['neighbors']['distances'] to .obsp['distances'].\n",
      "\n",
      "This is where adjacency matrices should go now.\n",
      "  FutureWarning,\n",
      "/home/ssm-user/anaconda3/envs/xyzeq/lib/python3.6/site-packages/anndata/compat/__init__.py:161: FutureWarning: Moving element from .uns['neighbors']['connectivities'] to .obsp['connectivities'].\n",
      "\n",
      "This is where adjacency matrices should go now.\n",
      "  FutureWarning,\n"
     ]
    }
   ],
   "source": [
    "adata_with_annot = sc.read_h5ad(original_prefix + 'xyzeq/concatenated.deep/deep2/concat.deep.adata.m.and.h.combatted.dimred.subsetted.dimred.h5ad')"
   ]
  },
  {
   "cell_type": "code",
   "execution_count": 7,
   "metadata": {},
   "outputs": [],
   "source": [
    "adata = adata[adata.obs['batch'] == 'L20C1'].copy()"
   ]
  },
  {
   "cell_type": "code",
   "execution_count": 8,
   "metadata": {},
   "outputs": [],
   "source": [
    "adata.obs_names = [i + '-1' for i in adata.obs_names]"
   ]
  },
  {
   "cell_type": "code",
   "execution_count": 9,
   "metadata": {},
   "outputs": [],
   "source": [
    "adata.obs = adata.obs.join(adata_with_annot.obs[['celltype1', 'celltype2']])"
   ]
  },
  {
   "cell_type": "code",
   "execution_count": 10,
   "metadata": {},
   "outputs": [],
   "source": [
    "adata = adata[~(adata.obs['celltype1'].isna()),:]"
   ]
  },
  {
   "cell_type": "code",
   "execution_count": 11,
   "metadata": {},
   "outputs": [],
   "source": [
    "gtf = pd.read_csv(original_prefix + 'refdata-cellranger-mm10-3.0.0/genes/genes.gtf', \n",
    "                  sep='\\t', skiprows=5, low_memory=False, \n",
    "                  header=None)"
   ]
  },
  {
   "cell_type": "code",
   "execution_count": 12,
   "metadata": {},
   "outputs": [],
   "source": [
    "gtf.columns = [\"seqname\", \"source\", \"feature\", \"start\", \"end\", \"score\", \"strand\", \"frame\", \"attribute\"]"
   ]
  },
  {
   "cell_type": "code",
   "execution_count": 13,
   "metadata": {},
   "outputs": [],
   "source": [
    "chr_genes = dict()\n",
    "chr_starts = dict()"
   ]
  },
  {
   "cell_type": "code",
   "execution_count": 14,
   "metadata": {},
   "outputs": [],
   "source": [
    "additional_string = 'mm10___'"
   ]
  },
  {
   "cell_type": "code",
   "execution_count": 15,
   "metadata": {},
   "outputs": [
    {
     "data": {
      "application/vnd.jupyter.widget-view+json": {
       "model_id": "e9efe593ebe840efaf23ad7730cad19f",
       "version_major": 2,
       "version_minor": 0
      },
      "text/plain": [
       "HBox(children=(FloatProgress(value=0.0, max=19.0), HTML(value='')))"
      ]
     },
     "metadata": {},
     "output_type": "display_data"
    },
    {
     "name": "stdout",
     "output_type": "stream",
     "text": [
      "\n"
     ]
    }
   ],
   "source": [
    "for chrom in tqdm(range(1,20)):\n",
    "    chr_df = gtf[(gtf['seqname'] == str(chrom)) & (gtf['feature'] == 'exon')].copy()\n",
    "    chr_genes[str(chrom)] = list()\n",
    "    chr_starts[str(chrom)] = list()\n",
    "    for attribute, start in zip(chr_df['attribute'].str.split(\"; \"), chr_df['start']):\n",
    "        \n",
    "        # only take first 10 elements, last few cause problems\n",
    "        chr_genes[str(chrom)].append(dict([tuple(j.split(' ')) for j in attribute][:10])['gene_name'].strip('\"')) \n",
    "        \n",
    "        chr_starts[str(chrom)].append(start)\n",
    "    common_genes = np.intersect1d(adata.var_names.values, np.unique([additional_string + i for i in chr_genes[str(chrom)]]))\n",
    "    bool_keep = [i in common_genes for i in [additional_string + i for i in chr_genes[str(chrom)]]]\n",
    "    chr_genes[str(chrom)] = np.array(chr_genes[str(chrom)])[bool_keep]\n",
    "    chr_starts[str(chrom)] = np.array(chr_starts[str(chrom)])[bool_keep]"
   ]
  },
  {
   "cell_type": "code",
   "execution_count": 16,
   "metadata": {},
   "outputs": [],
   "source": [
    "adata_mouse = adata[adata.obs['celltype1'] != 'Human'].copy()"
   ]
  },
  {
   "cell_type": "code",
   "execution_count": 17,
   "metadata": {},
   "outputs": [],
   "source": [
    "cts = adata_mouse.obs['celltype1'].dtype.categories\n",
    "chr_counts = pd.DataFrame(0, index=range(1,20), columns=cts)"
   ]
  },
  {
   "cell_type": "code",
   "execution_count": 18,
   "metadata": {},
   "outputs": [
    {
     "data": {
      "application/vnd.jupyter.widget-view+json": {
       "model_id": "536f923fd7fc43d3ba6e6c89a1a05b2f",
       "version_major": 2,
       "version_minor": 0
      },
      "text/plain": [
       "HBox(children=(FloatProgress(value=1.0, bar_style='info', max=1.0), HTML(value='')))"
      ]
     },
     "metadata": {},
     "output_type": "display_data"
    },
    {
     "name": "stdout",
     "output_type": "stream",
     "text": [
      "\n"
     ]
    }
   ],
   "source": [
    "for chrom, ct in tqdm(it.product(chr_counts.index.values, chr_counts.columns.values)):\n",
    "    genes = ['mm10___' + i for i in np.unique(chr_genes[str(chrom)])]\n",
    "    chr_counts.loc[chrom, ct] = adata_mouse[adata_mouse.obs['celltype1'] == ct][:,genes].X.mean()"
   ]
  },
  {
   "cell_type": "code",
   "execution_count": 19,
   "metadata": {},
   "outputs": [
    {
     "data": {
      "text/plain": [
       "0.07760271"
      ]
     },
     "execution_count": 19,
     "metadata": {},
     "output_type": "execute_result"
    }
   ],
   "source": [
    "adata_mouse[adata_mouse.obs['celltype1'] == ct][:,genes].X.mean()"
   ]
  },
  {
   "cell_type": "code",
   "execution_count": 20,
   "metadata": {},
   "outputs": [],
   "source": [
    "tidy_counts_hepato_mc38 = chr_counts[['MC38', 'Hepato']]\n",
    "tidy_counts_hepato_mc38.index = tidy_counts_hepato_mc38.index.rename('chr')\n",
    "tidy_counts_hepato_mc38 = tidy_counts_hepato_mc38.reset_index()\n",
    "tidy_counts_hepato_mc38 = tidy_counts_hepato_mc38.melt(id_vars='chr')\n",
    "tidy_counts_hepato_mc38.columns = ['chr', 'ct', 'counts']"
   ]
  },
  {
   "cell_type": "code",
   "execution_count": 21,
   "metadata": {},
   "outputs": [
    {
     "data": {
      "text/html": [
       "<div>\n",
       "<style scoped>\n",
       "    .dataframe tbody tr th:only-of-type {\n",
       "        vertical-align: middle;\n",
       "    }\n",
       "\n",
       "    .dataframe tbody tr th {\n",
       "        vertical-align: top;\n",
       "    }\n",
       "\n",
       "    .dataframe thead th {\n",
       "        text-align: right;\n",
       "    }\n",
       "</style>\n",
       "<table border=\"1\" class=\"dataframe\">\n",
       "  <thead>\n",
       "    <tr style=\"text-align: right;\">\n",
       "      <th></th>\n",
       "      <th>chr</th>\n",
       "      <th>ct</th>\n",
       "      <th>counts</th>\n",
       "    </tr>\n",
       "  </thead>\n",
       "  <tbody>\n",
       "    <tr>\n",
       "      <th>0</th>\n",
       "      <td>1</td>\n",
       "      <td>MC38</td>\n",
       "      <td>0.045924</td>\n",
       "    </tr>\n",
       "    <tr>\n",
       "      <th>1</th>\n",
       "      <td>2</td>\n",
       "      <td>MC38</td>\n",
       "      <td>0.038992</td>\n",
       "    </tr>\n",
       "    <tr>\n",
       "      <th>2</th>\n",
       "      <td>3</td>\n",
       "      <td>MC38</td>\n",
       "      <td>0.041771</td>\n",
       "    </tr>\n",
       "    <tr>\n",
       "      <th>3</th>\n",
       "      <td>4</td>\n",
       "      <td>MC38</td>\n",
       "      <td>0.044252</td>\n",
       "    </tr>\n",
       "    <tr>\n",
       "      <th>4</th>\n",
       "      <td>5</td>\n",
       "      <td>MC38</td>\n",
       "      <td>0.046442</td>\n",
       "    </tr>\n",
       "    <tr>\n",
       "      <th>5</th>\n",
       "      <td>6</td>\n",
       "      <td>MC38</td>\n",
       "      <td>0.046731</td>\n",
       "    </tr>\n",
       "    <tr>\n",
       "      <th>6</th>\n",
       "      <td>7</td>\n",
       "      <td>MC38</td>\n",
       "      <td>0.028000</td>\n",
       "    </tr>\n",
       "    <tr>\n",
       "      <th>7</th>\n",
       "      <td>8</td>\n",
       "      <td>MC38</td>\n",
       "      <td>0.048962</td>\n",
       "    </tr>\n",
       "    <tr>\n",
       "      <th>8</th>\n",
       "      <td>9</td>\n",
       "      <td>MC38</td>\n",
       "      <td>0.041564</td>\n",
       "    </tr>\n",
       "    <tr>\n",
       "      <th>9</th>\n",
       "      <td>10</td>\n",
       "      <td>MC38</td>\n",
       "      <td>0.056066</td>\n",
       "    </tr>\n",
       "    <tr>\n",
       "      <th>10</th>\n",
       "      <td>11</td>\n",
       "      <td>MC38</td>\n",
       "      <td>0.060295</td>\n",
       "    </tr>\n",
       "    <tr>\n",
       "      <th>11</th>\n",
       "      <td>12</td>\n",
       "      <td>MC38</td>\n",
       "      <td>0.065488</td>\n",
       "    </tr>\n",
       "    <tr>\n",
       "      <th>12</th>\n",
       "      <td>13</td>\n",
       "      <td>MC38</td>\n",
       "      <td>0.041842</td>\n",
       "    </tr>\n",
       "    <tr>\n",
       "      <th>13</th>\n",
       "      <td>14</td>\n",
       "      <td>MC38</td>\n",
       "      <td>0.041110</td>\n",
       "    </tr>\n",
       "    <tr>\n",
       "      <th>14</th>\n",
       "      <td>15</td>\n",
       "      <td>MC38</td>\n",
       "      <td>0.113951</td>\n",
       "    </tr>\n",
       "    <tr>\n",
       "      <th>15</th>\n",
       "      <td>16</td>\n",
       "      <td>MC38</td>\n",
       "      <td>0.070094</td>\n",
       "    </tr>\n",
       "    <tr>\n",
       "      <th>16</th>\n",
       "      <td>17</td>\n",
       "      <td>MC38</td>\n",
       "      <td>0.058833</td>\n",
       "    </tr>\n",
       "    <tr>\n",
       "      <th>17</th>\n",
       "      <td>18</td>\n",
       "      <td>MC38</td>\n",
       "      <td>0.099528</td>\n",
       "    </tr>\n",
       "    <tr>\n",
       "      <th>18</th>\n",
       "      <td>19</td>\n",
       "      <td>MC38</td>\n",
       "      <td>0.077603</td>\n",
       "    </tr>\n",
       "    <tr>\n",
       "      <th>19</th>\n",
       "      <td>1</td>\n",
       "      <td>Hepato</td>\n",
       "      <td>0.016955</td>\n",
       "    </tr>\n",
       "    <tr>\n",
       "      <th>20</th>\n",
       "      <td>2</td>\n",
       "      <td>Hepato</td>\n",
       "      <td>0.012165</td>\n",
       "    </tr>\n",
       "    <tr>\n",
       "      <th>21</th>\n",
       "      <td>3</td>\n",
       "      <td>Hepato</td>\n",
       "      <td>0.014827</td>\n",
       "    </tr>\n",
       "    <tr>\n",
       "      <th>22</th>\n",
       "      <td>4</td>\n",
       "      <td>Hepato</td>\n",
       "      <td>0.012786</td>\n",
       "    </tr>\n",
       "    <tr>\n",
       "      <th>23</th>\n",
       "      <td>5</td>\n",
       "      <td>Hepato</td>\n",
       "      <td>0.016838</td>\n",
       "    </tr>\n",
       "    <tr>\n",
       "      <th>24</th>\n",
       "      <td>6</td>\n",
       "      <td>Hepato</td>\n",
       "      <td>0.016666</td>\n",
       "    </tr>\n",
       "    <tr>\n",
       "      <th>25</th>\n",
       "      <td>7</td>\n",
       "      <td>Hepato</td>\n",
       "      <td>0.011396</td>\n",
       "    </tr>\n",
       "    <tr>\n",
       "      <th>26</th>\n",
       "      <td>8</td>\n",
       "      <td>Hepato</td>\n",
       "      <td>0.015289</td>\n",
       "    </tr>\n",
       "    <tr>\n",
       "      <th>27</th>\n",
       "      <td>9</td>\n",
       "      <td>Hepato</td>\n",
       "      <td>0.017018</td>\n",
       "    </tr>\n",
       "    <tr>\n",
       "      <th>28</th>\n",
       "      <td>10</td>\n",
       "      <td>Hepato</td>\n",
       "      <td>0.015802</td>\n",
       "    </tr>\n",
       "    <tr>\n",
       "      <th>29</th>\n",
       "      <td>11</td>\n",
       "      <td>Hepato</td>\n",
       "      <td>0.011934</td>\n",
       "    </tr>\n",
       "    <tr>\n",
       "      <th>30</th>\n",
       "      <td>12</td>\n",
       "      <td>Hepato</td>\n",
       "      <td>0.023589</td>\n",
       "    </tr>\n",
       "    <tr>\n",
       "      <th>31</th>\n",
       "      <td>13</td>\n",
       "      <td>Hepato</td>\n",
       "      <td>0.014057</td>\n",
       "    </tr>\n",
       "    <tr>\n",
       "      <th>32</th>\n",
       "      <td>14</td>\n",
       "      <td>Hepato</td>\n",
       "      <td>0.015739</td>\n",
       "    </tr>\n",
       "    <tr>\n",
       "      <th>33</th>\n",
       "      <td>15</td>\n",
       "      <td>Hepato</td>\n",
       "      <td>0.021887</td>\n",
       "    </tr>\n",
       "    <tr>\n",
       "      <th>34</th>\n",
       "      <td>16</td>\n",
       "      <td>Hepato</td>\n",
       "      <td>0.031947</td>\n",
       "    </tr>\n",
       "    <tr>\n",
       "      <th>35</th>\n",
       "      <td>17</td>\n",
       "      <td>Hepato</td>\n",
       "      <td>0.020002</td>\n",
       "    </tr>\n",
       "    <tr>\n",
       "      <th>36</th>\n",
       "      <td>18</td>\n",
       "      <td>Hepato</td>\n",
       "      <td>0.038242</td>\n",
       "    </tr>\n",
       "    <tr>\n",
       "      <th>37</th>\n",
       "      <td>19</td>\n",
       "      <td>Hepato</td>\n",
       "      <td>0.025882</td>\n",
       "    </tr>\n",
       "  </tbody>\n",
       "</table>\n",
       "</div>"
      ],
      "text/plain": [
       "    chr      ct    counts\n",
       "0     1    MC38  0.045924\n",
       "1     2    MC38  0.038992\n",
       "2     3    MC38  0.041771\n",
       "3     4    MC38  0.044252\n",
       "4     5    MC38  0.046442\n",
       "5     6    MC38  0.046731\n",
       "6     7    MC38  0.028000\n",
       "7     8    MC38  0.048962\n",
       "8     9    MC38  0.041564\n",
       "9    10    MC38  0.056066\n",
       "10   11    MC38  0.060295\n",
       "11   12    MC38  0.065488\n",
       "12   13    MC38  0.041842\n",
       "13   14    MC38  0.041110\n",
       "14   15    MC38  0.113951\n",
       "15   16    MC38  0.070094\n",
       "16   17    MC38  0.058833\n",
       "17   18    MC38  0.099528\n",
       "18   19    MC38  0.077603\n",
       "19    1  Hepato  0.016955\n",
       "20    2  Hepato  0.012165\n",
       "21    3  Hepato  0.014827\n",
       "22    4  Hepato  0.012786\n",
       "23    5  Hepato  0.016838\n",
       "24    6  Hepato  0.016666\n",
       "25    7  Hepato  0.011396\n",
       "26    8  Hepato  0.015289\n",
       "27    9  Hepato  0.017018\n",
       "28   10  Hepato  0.015802\n",
       "29   11  Hepato  0.011934\n",
       "30   12  Hepato  0.023589\n",
       "31   13  Hepato  0.014057\n",
       "32   14  Hepato  0.015739\n",
       "33   15  Hepato  0.021887\n",
       "34   16  Hepato  0.031947\n",
       "35   17  Hepato  0.020002\n",
       "36   18  Hepato  0.038242\n",
       "37   19  Hepato  0.025882"
      ]
     },
     "execution_count": 21,
     "metadata": {},
     "output_type": "execute_result"
    }
   ],
   "source": [
    "tidy_counts_hepato_mc38"
   ]
  },
  {
   "cell_type": "code",
   "execution_count": 22,
   "metadata": {},
   "outputs": [
    {
     "data": {
      "image/png": "[encoded data removed]",
      "text/plain": [
       "<Figure size 720x288 with 1 Axes>"
      ]
     },
     "metadata": {
      "needs_background": "light"
     },
     "output_type": "display_data"
    }
   ],
   "source": [
    "plt.figure(figsize=(10, 4))\n",
    "sns.barplot(data=tidy_counts_hepato_mc38, x='chr', y='counts', hue='ct');"
   ]
  },
  {
   "cell_type": "code",
   "execution_count": 37,
   "metadata": {},
   "outputs": [
    {
     "data": {
      "image/png": "[encoded data removed]",
      "text/plain": [
       "<Figure size 432x288 with 1 Axes>"
      ]
     },
     "metadata": {
      "needs_background": "light"
     },
     "output_type": "display_data"
    }
   ],
   "source": [
    "plt.bar(np.arange(1,20).astype(str), chr_counts['MC38'].divide(chr_counts['Hepato']).values, color='navy');\n",
    "plt.xlabel('Chromosome')\n",
    "plt.ylabel('Fold Change of Mean expression')\n",
    "plt.title('Mean expression of MC38\\ncompared to Hepatocytes');"
   ]
  },
  {
   "cell_type": "code",
   "execution_count": 33,
   "metadata": {},
   "outputs": [
    {
     "data": {
      "image/png": "[encoded data removed]",
      "text/plain": [
       "<Figure size 288x720 with 4 Axes>"
      ]
     },
     "metadata": {
      "needs_background": "light"
     },
     "output_type": "display_data"
    }
   ],
   "source": [
    "sns.clustermap(chr_counts, standard_scale=1, row_cluster=False, col_cluster=False, figsize=(4,10));\n",
    "plt.tight_layout()\n",
    "# plt.savefig(fname=original_prefix + 'xyzeq/figures/mc38.expression.by.chr.svg', dpi=80)"
   ]
  },
  {
   "cell_type": "code",
   "execution_count": 124,
   "metadata": {},
   "outputs": [],
   "source": []
  },
  {
   "cell_type": "code",
   "execution_count": 124,
   "metadata": {},
   "outputs": [
    {
     "data": {
      "application/vnd.jupyter.widget-view+json": {
       "model_id": "17f8ed9cd8db4802b79aaf54078cc988",
       "version_major": 2,
       "version_minor": 0
      },
      "text/plain": [
       "HBox(children=(FloatProgress(value=1.0, bar_style='info', max=1.0), HTML(value='')))"
      ]
     },
     "metadata": {},
     "output_type": "display_data"
    },
    {
     "name": "stdout",
     "output_type": "stream",
     "text": [
      "\n"
     ]
    },
    {
     "data": {
      "image/png": "[encoded data removed]",
      "text/plain": [
       "<Figure size 1440x288 with 1 Axes>"
      ]
     },
     "metadata": {
      "needs_background": "light"
     },
     "output_type": "display_data"
    }
   ],
   "source": [
    "chrom = '15'\n",
    "plt.figure(figsize=(20,4))\n",
    "for ct, color in tqdm(zip(cts, sc.pl.palettes.default_20[:len(cts)])):\n",
    "    counts = np.array(adata_mouse[adata_mouse.obs['celltype1'] == ct][:,[additional_string + i for i in chr_genes[chrom]]].X.sum(0))[0]\n",
    "    starts = chr_starts[chrom]\n",
    "    sample_number = 5000\n",
    "    idxs = np.random.choice(np.arange(len(counts)), size=sample_number, replace=False)\n",
    "\n",
    "    plot_counts = counts[idxs]\n",
    "    plot_starts = starts[idxs]\n",
    "\n",
    "    plt.bar(plot_starts, plot_counts, width=500000, alpha=0.2, color=color, label=ct)\n",
    "plt.legend()\n",
    "plt.show()"
   ]
  },
  {
   "cell_type": "code",
   "execution_count": 126,
   "metadata": {},
   "outputs": [
    {
     "data": {
      "application/vnd.jupyter.widget-view+json": {
       "model_id": "a56df08b96ee4b83915933efd67cbcb5",
       "version_major": 2,
       "version_minor": 0
      },
      "text/plain": [
       "HBox(children=(FloatProgress(value=1.0, bar_style='info', max=1.0), HTML(value='')))"
      ]
     },
     "metadata": {},
     "output_type": "display_data"
    },
    {
     "name": "stdout",
     "output_type": "stream",
     "text": [
      "\n"
     ]
    },
    {
     "data": {
      "image/png": "[encoded data removed]",
      "text/plain": [
       "<Figure size 1440x288 with 1 Axes>"
      ]
     },
     "metadata": {
      "needs_background": "light"
     },
     "output_type": "display_data"
    }
   ],
   "source": [
    "chrom = '14'\n",
    "plt.figure(figsize=(20,4))\n",
    "for ct, color in tqdm(zip(cts, sc.pl.palettes.default_20[:len(cts)])):\n",
    "    counts = np.array(adata_mouse[adata_mouse.obs['celltype1'] == ct][:,[additional_string + i for i in chr_genes[chrom]]].X.sum(0))[0]\n",
    "    starts = chr_starts[chrom]\n",
    "    sample_number = 5000\n",
    "    idxs = np.random.choice(np.arange(len(counts)), size=sample_number, replace=False)\n",
    "\n",
    "    plot_counts = counts[idxs]\n",
    "    plot_starts = starts[idxs]\n",
    "\n",
    "    plt.bar(plot_starts, plot_counts, width=500000, alpha=0.2, color=color, label=ct)\n",
    "plt.legend()\n",
    "plt.show()"
   ]
  },
  {
   "cell_type": "code",
   "execution_count": 130,
   "metadata": {},
   "outputs": [
    {
     "data": {
      "text/plain": [
       "[('Hepato', '#1f77b4'),\n",
       " ('Immune', '#ff7f0e'),\n",
       " ('Liver Special', '#279e68'),\n",
       " ('MC38', '#d62728')]"
      ]
     },
     "execution_count": 130,
     "metadata": {},
     "output_type": "execute_result"
    }
   ],
   "source": [
    "list(zip(cts, sc.pl.palettes.default_20[:len(cts)]))"
   ]
  },
  {
   "cell_type": "code",
   "execution_count": 126,
   "metadata": {},
   "outputs": [
    {
     "data": {
      "text/plain": [
       "index\n",
       "L10C_P1A01F.AGACGTCCTCCGCCTA-0    Hepato\n",
       "L10C_P1A01F.AGCACTGCATGGCCAG-0    Immune\n",
       "L10C_P1A01F.ATCCAGTGCTTACTCT-0    Hepato\n",
       "L10C_P1A01F.ATTCGCACGCGGCTTC-0    Hepato\n",
       "L10C_P1A01F.CACGACCTCACGACTA-0    Immune\n",
       "                                   ...  \n",
       "L30C_P2H12F.TACAGTGTCGCGCTTA-3      MC38\n",
       "L30C_P2H12F.TATAAGCCGACGACGC-3      MC38\n",
       "L30C_P2H12F.TCTTACCAAGAGGCTT-3    Immune\n",
       "L30C_P2H12F.TTCTTACGTCCATGAG-3    Hepato\n",
       "L30C_P2H12F.TTGGACGTGAGATAGT-3    Hepato\n",
       "Name: celltype1, Length: 30206, dtype: category\n",
       "Categories (4, object): [Hepato, Immune, Liver Special, MC38]"
      ]
     },
     "execution_count": 126,
     "metadata": {},
     "output_type": "execute_result"
    }
   ],
   "source": []
  },
  {
   "cell_type": "code",
   "execution_count": null,
   "metadata": {},
   "outputs": [],
   "source": []
  }
 ],
 "metadata": {
  "kernelspec": {
   "display_name": "xyzeq",
   "language": "python",
   "name": "xyzeq"
  },
  "language_info": {
   "codemirror_mode": {
    "name": "ipython",
    "version": 3
   },
   "file_extension": ".py",
   "mimetype": "text/x-python",
   "name": "python",
   "nbconvert_exporter": "python",
   "pygments_lexer": "ipython3",
   "version": "3.6.10"
  }
 },
 "nbformat": 4,
 "nbformat_minor": 4
}
