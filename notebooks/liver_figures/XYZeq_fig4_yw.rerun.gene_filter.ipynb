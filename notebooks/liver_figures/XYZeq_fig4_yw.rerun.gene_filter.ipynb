{
 "cells": [
  {
   "cell_type": "code",
   "execution_count": 1,
   "metadata": {},
   "outputs": [
    {
     "name": "stderr",
     "output_type": "stream",
     "text": [
      "\n",
      "Bad key \"text.kerning_factor\" on line 4 in\n",
      "/Library/Frameworks/Python.framework/Versions/3.7/lib/python3.7/site-packages/matplotlib/mpl-data/stylelib/_classic_test_patch.mplstyle.\n",
      "You probably need to get an updated matplotlibrc file from\n",
      "http://github.com/matplotlib/matplotlib/blob/master/matplotlibrc.template\n",
      "or from the matplotlib source distribution\n",
      "/Library/Frameworks/Python.framework/Versions/3.7/lib/python3.7/site-packages/anndata/_core/anndata.py:21: FutureWarning: pandas.core.index is deprecated and will be removed in a future version.  The public classes are available in the top-level namespace.\n",
      "  from pandas.core.index import RangeIndex\n",
      "/Library/Frameworks/Python.framework/Versions/3.7/lib/python3.7/site-packages/tensorflow/python/framework/dtypes.py:516: FutureWarning: Passing (type, 1) or '1type' as a synonym of type is deprecated; in a future version of numpy, it will be understood as (type, (1,)) / '(1,)type'.\n",
      "  _np_qint8 = np.dtype([(\"qint8\", np.int8, 1)])\n",
      "/Library/Frameworks/Python.framework/Versions/3.7/lib/python3.7/site-packages/tensorflow/python/framework/dtypes.py:517: FutureWarning: Passing (type, 1) or '1type' as a synonym of type is deprecated; in a future version of numpy, it will be understood as (type, (1,)) / '(1,)type'.\n",
      "  _np_quint8 = np.dtype([(\"quint8\", np.uint8, 1)])\n",
      "/Library/Frameworks/Python.framework/Versions/3.7/lib/python3.7/site-packages/tensorflow/python/framework/dtypes.py:518: FutureWarning: Passing (type, 1) or '1type' as a synonym of type is deprecated; in a future version of numpy, it will be understood as (type, (1,)) / '(1,)type'.\n",
      "  _np_qint16 = np.dtype([(\"qint16\", np.int16, 1)])\n",
      "/Library/Frameworks/Python.framework/Versions/3.7/lib/python3.7/site-packages/tensorflow/python/framework/dtypes.py:519: FutureWarning: Passing (type, 1) or '1type' as a synonym of type is deprecated; in a future version of numpy, it will be understood as (type, (1,)) / '(1,)type'.\n",
      "  _np_quint16 = np.dtype([(\"quint16\", np.uint16, 1)])\n",
      "/Library/Frameworks/Python.framework/Versions/3.7/lib/python3.7/site-packages/tensorflow/python/framework/dtypes.py:520: FutureWarning: Passing (type, 1) or '1type' as a synonym of type is deprecated; in a future version of numpy, it will be understood as (type, (1,)) / '(1,)type'.\n",
      "  _np_qint32 = np.dtype([(\"qint32\", np.int32, 1)])\n",
      "/Library/Frameworks/Python.framework/Versions/3.7/lib/python3.7/site-packages/tensorflow/python/framework/dtypes.py:525: FutureWarning: Passing (type, 1) or '1type' as a synonym of type is deprecated; in a future version of numpy, it will be understood as (type, (1,)) / '(1,)type'.\n",
      "  np_resource = np.dtype([(\"resource\", np.ubyte, 1)])\n",
      "/Library/Frameworks/Python.framework/Versions/3.7/lib/python3.7/site-packages/tensorboard/compat/tensorflow_stub/dtypes.py:541: FutureWarning: Passing (type, 1) or '1type' as a synonym of type is deprecated; in a future version of numpy, it will be understood as (type, (1,)) / '(1,)type'.\n",
      "  _np_qint8 = np.dtype([(\"qint8\", np.int8, 1)])\n",
      "/Library/Frameworks/Python.framework/Versions/3.7/lib/python3.7/site-packages/tensorboard/compat/tensorflow_stub/dtypes.py:542: FutureWarning: Passing (type, 1) or '1type' as a synonym of type is deprecated; in a future version of numpy, it will be understood as (type, (1,)) / '(1,)type'.\n",
      "  _np_quint8 = np.dtype([(\"quint8\", np.uint8, 1)])\n",
      "/Library/Frameworks/Python.framework/Versions/3.7/lib/python3.7/site-packages/tensorboard/compat/tensorflow_stub/dtypes.py:543: FutureWarning: Passing (type, 1) or '1type' as a synonym of type is deprecated; in a future version of numpy, it will be understood as (type, (1,)) / '(1,)type'.\n",
      "  _np_qint16 = np.dtype([(\"qint16\", np.int16, 1)])\n",
      "/Library/Frameworks/Python.framework/Versions/3.7/lib/python3.7/site-packages/tensorboard/compat/tensorflow_stub/dtypes.py:544: FutureWarning: Passing (type, 1) or '1type' as a synonym of type is deprecated; in a future version of numpy, it will be understood as (type, (1,)) / '(1,)type'.\n",
      "  _np_quint16 = np.dtype([(\"quint16\", np.uint16, 1)])\n",
      "/Library/Frameworks/Python.framework/Versions/3.7/lib/python3.7/site-packages/tensorboard/compat/tensorflow_stub/dtypes.py:545: FutureWarning: Passing (type, 1) or '1type' as a synonym of type is deprecated; in a future version of numpy, it will be understood as (type, (1,)) / '(1,)type'.\n",
      "  _np_qint32 = np.dtype([(\"qint32\", np.int32, 1)])\n",
      "/Library/Frameworks/Python.framework/Versions/3.7/lib/python3.7/site-packages/tensorboard/compat/tensorflow_stub/dtypes.py:550: FutureWarning: Passing (type, 1) or '1type' as a synonym of type is deprecated; in a future version of numpy, it will be understood as (type, (1,)) / '(1,)type'.\n",
      "  np_resource = np.dtype([(\"resource\", np.ubyte, 1)])\n"
     ]
    },
    {
     "name": "stdout",
     "output_type": "stream",
     "text": [
      "\n",
      "numpy version 1.18.2\n",
      "tensorflow version 1.14.0\n",
      "batchglm version v0.6.8\n",
      "diffpy version v0.6.13\n"
     ]
    }
   ],
   "source": [
    "%matplotlib inline\n",
    "\n",
    "%load_ext autoreload\n",
    "%autoreload 2\n",
    "\n",
    "import anndata\n",
    "import matplotlib.pyplot as plt\n",
    "import seaborn as sns\n",
    "import logging\n",
    "import numpy as np\n",
    "import pandas as pd\n",
    "import scipy.stats\n",
    "import tensorflow as tf\n",
    "#import tensorflow_probability as tfp\n",
    "import scanpy as sc\n",
    "\n",
    "print()\n",
    "print(\"numpy version \"+np.__version__)\n",
    "print(\"tensorflow version \"+tf.__version__)\n",
    "#print(\"tensorflow_probability version \"+tfp.__version__)\n",
    "\n",
    "\n",
    "import batchglm.api as glm\n",
    "import diffxpy.api as de\n",
    "\n",
    "print(\"batchglm version \"+glm.__version__)\n",
    "print(\"diffpy version \"+de.__version__)"
   ]
  },
  {
   "cell_type": "code",
   "execution_count": null,
   "metadata": {},
   "outputs": [],
   "source": []
  },
  {
   "cell_type": "markdown",
   "metadata": {},
   "source": [
    "# load annotated data"
   ]
  },
  {
   "cell_type": "markdown",
   "metadata": {},
   "source": [
    "The processed file has all the annotations, including the 1D spatial scores."
   ]
  },
  {
   "cell_type": "code",
   "execution_count": 2,
   "metadata": {},
   "outputs": [],
   "source": [
    "annot = sc.read_h5ad('/Users/yolanda/Documents/projects/spatial-genomics/data/Processed_Liver_All_Batches_mouse_deconV2_spatial.h5ad')"
   ]
  },
  {
   "cell_type": "markdown",
   "metadata": {},
   "source": [
    "The raw counts file is the decontaminated data without log normalizing."
   ]
  },
  {
   "cell_type": "code",
   "execution_count": 3,
   "metadata": {},
   "outputs": [],
   "source": [
    "adata_matrix = sc.read_h5ad('/Users/yolanda/Documents/projects/spatial-genomics/data/Liver_All_Batches_mouse_deconV2_raw_counts.h5ad')"
   ]
  },
  {
   "cell_type": "markdown",
   "metadata": {},
   "source": [
    "Among 24914 mm10 transcripts and 5434 cells, filter to retain genes with high expression, and then select the top 2000 most variable genes. \n",
    "\n",
    "R scripts:\n",
    "\n",
    "dim(liver_mat) # 24917 genes by 5434 cells\n",
    "\n",
    "genes_to_keep <- which(rowSums(edgeR::cpm(liver_mat) > 5) >= 15)\n",
    "\n",
    "liver_mat_filter_raw <- liver_mat[genes_to_keep, ]\n",
    "\n",
    "convert to log 2 counts per million\n",
    "\n",
    "liver_mat_log2 <- edgeR::cpm(liver_mat_filter_raw, log = TRUE)\n",
    "\n",
    "dim(liver_mat_log2) # 14222 by 5434\n",
    "\n",
    "Calc_CV <- function(x){sd(x) / mean(x)}\n",
    "\n",
    "liver_gene_cv <- apply(liver_mat_log2, 1, Calc_CV)\n",
    "\n",
    "summary(liver_gene_cv)\n",
    "\n",
    "liver_mat_filter <- liver_mat_log2[which(rank(liver_gene_cv) > length(liver_gene_cv) - 2000), ]"
   ]
  },
  {
   "cell_type": "code",
   "execution_count": 4,
   "metadata": {},
   "outputs": [
    {
     "data": {
      "text/plain": [
       "0        mm10_Lypla1\n",
       "1       mm10_Gm37988\n",
       "2       mm10_Atp6v1h\n",
       "3        mm10_Rb1cc1\n",
       "4        mm10_Pcmtd1\n",
       "            ...     \n",
       "4995     mm10_Zfp950\n",
       "4996     mm10_mt-Co1\n",
       "4997     mm10_mt-Nd5\n",
       "4998       mm10_PISD\n",
       "4999      mm10_DHRSX\n",
       "Name: x, Length: 5000, dtype: object"
      ]
     },
     "execution_count": 4,
     "metadata": {},
     "output_type": "execute_result"
    }
   ],
   "source": [
    "num_genes = 5000 # 2000 or 5000\n",
    "top_variable_genes = pd.read_csv('/Users/yolanda/Documents/projects/spatial-genomics/data/fig4c_top_genes/top_%i_genes.csv' %num_genes)\n",
    "top_variable_genes['x']"
   ]
  },
  {
   "cell_type": "code",
   "execution_count": 5,
   "metadata": {},
   "outputs": [],
   "source": [
    "adata = adata_matrix[adata_matrix.obs.index.isin(annot.obs.index.to_list())]"
   ]
  },
  {
   "cell_type": "code",
   "execution_count": 6,
   "metadata": {},
   "outputs": [],
   "source": [
    "##set annotations\n",
    "adata.obs = annot.obs\n",
    "\n",
    "adata.uns = annot.uns"
   ]
  },
  {
   "cell_type": "code",
   "execution_count": 7,
   "metadata": {},
   "outputs": [
    {
     "data": {
      "text/plain": [
       "AnnData object with n_obs × n_vars = 5434 × 55287 \n",
       "    obs: 'batch', 'n_counts', 'log_counts', 'n_genes', 'percent_mito_mouse', 'percent_mito_human', 'mouse_counts', 'human_counts', 'ratio', 'cell_call', 'contam_post', 'contam_init', 'tsne_density', 'leiden', 'CellType', '__is_in_cluster__', 'barcode', 'X', 'Y', 'prox_1', 'prox_2', 'bins_1'\n",
       "    uns: 'CellType_colors', 'batch_colors', 'dendrogram_CellType', 'leiden', 'leiden_colors', 'neighbors', 'pca', 'rank_genes_groups', 'rank_genes_groups_filtered', 'tsne_density_params', 'umap'\n",
       "    obsm: 'X_pca', 'X_tsne', 'X_umap'"
      ]
     },
     "execution_count": 7,
     "metadata": {},
     "output_type": "execute_result"
    }
   ],
   "source": [
    "adata"
   ]
  },
  {
   "cell_type": "code",
   "execution_count": null,
   "metadata": {},
   "outputs": [],
   "source": []
  },
  {
   "cell_type": "code",
   "execution_count": null,
   "metadata": {},
   "outputs": [],
   "source": []
  },
  {
   "cell_type": "code",
   "execution_count": 8,
   "metadata": {},
   "outputs": [
    {
     "data": {
      "image/png": "[encoded data removed]",
      "text/plain": [
       "<Figure size 842.4x360 with 3 Axes>"
      ]
     },
     "metadata": {
      "needs_background": "light"
     },
     "output_type": "display_data"
    }
   ],
   "source": [
    "plt.rcParams['figure.figsize'] = [5, 5]\n",
    "\n",
    "sc.pl.tsne(adata,\n",
    "          color=['CellType','mm10_Ptprc'],\n",
    "          legend_loc = 'on data'\n",
    "          )\n"
   ]
  },
  {
   "cell_type": "code",
   "execution_count": 9,
   "metadata": {},
   "outputs": [],
   "source": [
    "## convert float32 matrix to integers \n",
    "adata.X =  adata.X.astype(int) "
   ]
  },
  {
   "cell_type": "code",
   "execution_count": 10,
   "metadata": {},
   "outputs": [
    {
     "data": {
      "text/plain": [
       "array([[0, 0, 0, ..., 0, 0, 0],\n",
       "       [0, 0, 0, ..., 0, 0, 0],\n",
       "       [0, 0, 0, ..., 0, 0, 0],\n",
       "       ...,\n",
       "       [0, 0, 0, ..., 0, 0, 0],\n",
       "       [0, 0, 0, ..., 0, 0, 0],\n",
       "       [0, 0, 0, ..., 0, 0, 0]])"
      ]
     },
     "execution_count": 10,
     "metadata": {},
     "output_type": "execute_result"
    }
   ],
   "source": [
    "adata.X"
   ]
  },
  {
   "cell_type": "code",
   "execution_count": 11,
   "metadata": {},
   "outputs": [
    {
     "data": {
      "text/plain": [
       "AnnData object with n_obs × n_vars = 5434 × 55287 \n",
       "    obs: 'batch', 'n_counts', 'log_counts', 'n_genes', 'percent_mito_mouse', 'percent_mito_human', 'mouse_counts', 'human_counts', 'ratio', 'cell_call', 'contam_post', 'contam_init', 'tsne_density', 'leiden', 'CellType', '__is_in_cluster__', 'barcode', 'X', 'Y', 'prox_1', 'prox_2', 'bins_1'\n",
       "    uns: 'CellType_colors', 'batch_colors', 'dendrogram_CellType', 'leiden', 'leiden_colors', 'neighbors', 'pca', 'rank_genes_groups', 'rank_genes_groups_filtered', 'tsne_density_params', 'umap'\n",
       "    obsm: 'X_pca', 'X_tsne', 'X_umap'"
      ]
     },
     "execution_count": 11,
     "metadata": {},
     "output_type": "execute_result"
    }
   ],
   "source": [
    "adata"
   ]
  },
  {
   "cell_type": "code",
   "execution_count": 12,
   "metadata": {},
   "outputs": [],
   "source": [
    "##log normalize \n",
    "adata = sc.pp.log1p(adata, copy=True)"
   ]
  },
  {
   "cell_type": "code",
   "execution_count": null,
   "metadata": {},
   "outputs": [],
   "source": []
  },
  {
   "cell_type": "code",
   "execution_count": 13,
   "metadata": {},
   "outputs": [],
   "source": [
    "## name continuous variable \"time\" - necessary for diffxpy bug\n",
    "adata.obs['time'] = adata.obs['prox_2']"
   ]
  },
  {
   "cell_type": "code",
   "execution_count": 14,
   "metadata": {},
   "outputs": [
    {
     "data": {
      "text/plain": [
       "View of AnnData object with n_obs × n_vars = 5434 × 24917 \n",
       "    obs: 'batch', 'n_counts', 'log_counts', 'n_genes', 'percent_mito_mouse', 'percent_mito_human', 'mouse_counts', 'human_counts', 'ratio', 'cell_call', 'contam_post', 'contam_init', 'tsne_density', 'leiden', 'CellType', '__is_in_cluster__', 'barcode', 'X', 'Y', 'prox_1', 'prox_2', 'bins_1', 'time'\n",
       "    uns: 'CellType_colors', 'batch_colors', 'dendrogram_CellType', 'leiden', 'leiden_colors', 'neighbors', 'pca', 'rank_genes_groups', 'rank_genes_groups_filtered', 'tsne_density_params', 'umap', 'log1p'\n",
       "    obsm: 'X_pca', 'X_tsne', 'X_umap'"
      ]
     },
     "execution_count": 14,
     "metadata": {},
     "output_type": "execute_result"
    }
   ],
   "source": [
    "##filter out human genes\n",
    "\n",
    "adata = adata[:,adata.var_names.str.startswith('mm10_')]\n",
    "adata"
   ]
  },
  {
   "cell_type": "code",
   "execution_count": 15,
   "metadata": {},
   "outputs": [
    {
     "data": {
      "text/plain": [
       "View of AnnData object with n_obs × n_vars = 5434 × 5000 \n",
       "    obs: 'batch', 'n_counts', 'log_counts', 'n_genes', 'percent_mito_mouse', 'percent_mito_human', 'mouse_counts', 'human_counts', 'ratio', 'cell_call', 'contam_post', 'contam_init', 'tsne_density', 'leiden', 'CellType', '__is_in_cluster__', 'barcode', 'X', 'Y', 'prox_1', 'prox_2', 'bins_1', 'time'\n",
       "    uns: 'CellType_colors', 'batch_colors', 'dendrogram_CellType', 'leiden', 'leiden_colors', 'neighbors', 'pca', 'rank_genes_groups', 'rank_genes_groups_filtered', 'tsne_density_params', 'umap', 'log1p'\n",
       "    obsm: 'X_pca', 'X_tsne', 'X_umap'"
      ]
     },
     "execution_count": 15,
     "metadata": {},
     "output_type": "execute_result"
    }
   ],
   "source": [
    "## filter to retain top most variable genes\n",
    "adata = adata[:, top_variable_genes['x']]\n",
    "adata"
   ]
  },
  {
   "cell_type": "code",
   "execution_count": 16,
   "metadata": {},
   "outputs": [],
   "source": [
    "## remove cell with nan prox_2 values\n",
    "adata = adata[~adata.obs['time'].isnull()]"
   ]
  },
  {
   "cell_type": "code",
   "execution_count": null,
   "metadata": {},
   "outputs": [],
   "source": []
  },
  {
   "cell_type": "code",
   "execution_count": 17,
   "metadata": {},
   "outputs": [],
   "source": [
    "##create species specific matricies\n",
    "\n",
    "adata_Myeloid = adata[adata.obs['CellType'] == 'Myeloid']\n",
    "\n",
    "adata_lymphocyte = adata[adata.obs['CellType'] == 'Lymphocyte']\n",
    "\n",
    "adata_hepatocyte = adata[adata.obs['CellType'] == 'Hepatocyte']\n",
    "\n",
    "adata_mc38 = adata[adata.obs['CellType'] == 'mc38']\n"
   ]
  },
  {
   "cell_type": "code",
   "execution_count": 18,
   "metadata": {},
   "outputs": [
    {
     "name": "stderr",
     "output_type": "stream",
     "text": [
      "Trying to set attribute `.obs` of view, copying.\n",
      "Trying to set attribute `.obs` of view, copying.\n",
      "Trying to set attribute `.obs` of view, copying.\n"
     ]
    }
   ],
   "source": [
    "\n",
    "##reassign to fix other diffxpy bug\n",
    "\n",
    "\n",
    "## name continuous variable \"time\" - necessary for diffxpy bug\n",
    "adata_hepatocyte.obs['time'] = adata_hepatocyte.obs['prox_2']\n",
    "\n",
    "adata_mc38.obs['time'] = adata_mc38.obs['prox_2']\n",
    "\n",
    "adata_Myeloid.obs['time'] = adata_Myeloid.obs['prox_2']\n",
    "\n"
   ]
  },
  {
   "cell_type": "code",
   "execution_count": 25,
   "metadata": {},
   "outputs": [],
   "source": [
    "# filter cells based on 1d proximity score\n",
    "adata_Myeloid = adata_Myeloid[adata_Myeloid.obs['time'] < 0.6]\n",
    "adata_mc38 = adata_mc38[adata_mc38.obs['time'] < 0.6]\n",
    "adata_hepatocyte = adata_hepatocyte[adata_hepatocyte.obs['time'] > 0.4]"
   ]
  },
  {
   "cell_type": "code",
   "execution_count": 26,
   "metadata": {},
   "outputs": [],
   "source": [
    "### fix integer issue - after log transforming\n",
    "\n",
    "adata_hepatocyte.X =  adata_hepatocyte.X.astype(int) \n",
    "\n",
    "adata_mc38.X =  adata_mc38.X.astype(int) \n",
    "\n",
    "adata_Myeloid.X =  adata_Myeloid.X.astype(int) "
   ]
  },
  {
   "cell_type": "code",
   "execution_count": 29,
   "metadata": {},
   "outputs": [
    {
     "data": {
      "text/plain": [
       "ArrayView([[0, 0, 0, ..., 0, 0, 0],\n",
       "           [0, 0, 0, ..., 1, 0, 0],\n",
       "           [0, 0, 0, ..., 0, 0, 0],\n",
       "           ...,\n",
       "           [0, 0, 0, ..., 0, 0, 0],\n",
       "           [0, 0, 0, ..., 0, 0, 0],\n",
       "           [0, 0, 0, ..., 0, 0, 0]])"
      ]
     },
     "execution_count": 29,
     "metadata": {},
     "output_type": "execute_result"
    }
   ],
   "source": [
    "adata_Myeloid.X"
   ]
  },
  {
   "cell_type": "code",
   "execution_count": 30,
   "metadata": {
    "scrolled": true
   },
   "outputs": [
    {
     "name": "stdout",
     "output_type": "stream",
     "text": [
      "WARNING:tensorflow:\n",
      "The TensorFlow contrib module will not be included in TensorFlow 2.0.\n",
      "For more information, please see:\n",
      "  * https://github.com/tensorflow/community/blob/master/rfcs/20180907-contrib-sunset.md\n",
      "  * https://github.com/tensorflow/addons\n",
      "  * https://github.com/tensorflow/io (for I/O related ops)\n",
      "If you depend on functionality not listed there, please file an issue.\n",
      "\n",
      "WARNING:tensorflow:From /Library/Frameworks/Python.framework/Versions/3.7/lib/python3.7/site-packages/batchglm/train/tf/base_glm/estimator_graph.py:907: add_dispatch_support.<locals>.wrapper (from tensorflow.python.ops.array_ops) is deprecated and will be removed in a future version.\n",
      "Instructions for updating:\n",
      "Use tf.where in 2.0, which has the same broadcast rule as np.where\n",
      "WARNING:tensorflow:The dtype of the watched tensor must be floating (e.g. tf.float32), got tf.int32\n",
      "WARNING:tensorflow:The dtype of the watched tensor must be floating (e.g. tf.float32), got tf.int32\n",
      "WARNING:tensorflow:The dtype of the watched tensor must be floating (e.g. tf.float32), got tf.int32\n",
      "WARNING:tensorflow:The dtype of the watched tensor must be floating (e.g. tf.float32), got tf.int32\n",
      "WARNING:tensorflow:The dtype of the watched tensor must be floating (e.g. tf.float32), got tf.int32\n",
      "INFO:tensorflow:Step: 0 loss: 743.348147 models converged 0\n",
      "INFO:tensorflow:Step: 1 loss: 731.104117, converged 121 in 3.189 sec., updated 4964, {f: 0, g: 121, x: 0}\n",
      "INFO:tensorflow:Step: 2 loss: 729.287565, converged 121 in 2.536 sec., updated 4618, {f: 0, g: 0, x: 0}\n",
      "INFO:tensorflow:Step: 3 loss: 728.934955, converged 121 in 2.684 sec., updated 4633, {f: 0, g: 0, x: 0}\n"
     ]
    },
    {
     "name": "stderr",
     "output_type": "stream",
     "text": [
      "/Library/Frameworks/Python.framework/Versions/3.7/lib/python3.7/site-packages/batchglm/train/tf/base/estimator.py:285: RuntimeWarning: invalid value encountered in true_divide\n",
      "  ll_converged = (ll_prev - ll_current) / ll_prev < pkg_constants.LLTOL_BY_FEATURE\n",
      "/Library/Frameworks/Python.framework/Versions/3.7/lib/python3.7/site-packages/batchglm/train/tf/base/estimator.py:285: RuntimeWarning: invalid value encountered in less\n",
      "  ll_converged = (ll_prev - ll_current) / ll_prev < pkg_constants.LLTOL_BY_FEATURE\n"
     ]
    },
    {
     "name": "stdout",
     "output_type": "stream",
     "text": [
      "INFO:tensorflow:Step: 4 loss: 728.800083, converged 121 in 2.665 sec., updated 4630, {f: 0, g: 0, x: 0}\n",
      "INFO:tensorflow:Step: 5 loss: 728.725142, converged 121 in 2.669 sec., updated 4631, {f: 0, g: 0, x: 0}\n",
      "INFO:tensorflow:Step: 6 loss: 728.677764, converged 121 in 2.626 sec., updated 4630, {f: 0, g: 0, x: 0}\n",
      "INFO:tensorflow:Step: 7 loss: 728.643897, converged 121 in 2.829 sec., updated 4630, {f: 0, g: 0, x: 0}\n",
      "INFO:tensorflow:Step: 8 loss: 728.615996, converged 121 in 2.789 sec., updated 4628, {f: 0, g: 0, x: 0}\n",
      "INFO:tensorflow:Step: 9 loss: 728.591067, converged 121 in 2.71 sec., updated 4624, {f: 0, g: 0, x: 0}\n",
      "INFO:tensorflow:Step: 10 loss: 728.567498, converged 121 in 2.758 sec., updated 4619, {f: 0, g: 0, x: 0}\n",
      "INFO:tensorflow:Step: 11 loss: 728.544387, converged 121 in 2.659 sec., updated 4623, {f: 0, g: 0, x: 0}\n",
      "INFO:tensorflow:Step: 12 loss: 728.521579, converged 121 in 2.79 sec., updated 4623, {f: 0, g: 0, x: 0}\n",
      "INFO:tensorflow:Step: 13 loss: 728.493059, converged 121 in 2.621 sec., updated 4626, {f: 0, g: 0, x: 0}\n",
      "INFO:tensorflow:Step: 14 loss: 728.470820, converged 121 in 3.042 sec., updated 4623, {f: 0, g: 0, x: 0}\n",
      "INFO:tensorflow:Step: 15 loss: 728.449737, converged 121 in 3.14 sec., updated 4624, {f: 0, g: 0, x: 0}\n",
      "INFO:tensorflow:Step: 16 loss: 728.433462, converged 121 in 2.878 sec., updated 4623, {f: 0, g: 0, x: 0}\n",
      "INFO:tensorflow:Step: 17 loss: 728.423169, converged 121 in 2.651 sec., updated 4632, {f: 0, g: 0, x: 0}\n",
      "INFO:tensorflow:Step: 18 loss: 728.417236, converged 121 in 2.804 sec., updated 4662, {f: 0, g: 0, x: 0}\n",
      "INFO:tensorflow:Step: 19 loss: 728.413757, converged 121 in 2.972 sec., updated 4684, {f: 0, g: 0, x: 0}\n",
      "INFO:tensorflow:Step: 20 loss: 728.411766, converged 121 in 3.144 sec., updated 4685, {f: 0, g: 0, x: 0}\n",
      "INFO:tensorflow:Step: 21 loss: 728.410630, converged 121 in 2.893 sec., updated 4687, {f: 0, g: 0, x: 0}\n",
      "INFO:tensorflow:Step: 22 loss: 728.409998, converged 121 in 2.947 sec., updated 4684, {f: 0, g: 0, x: 0}\n",
      "INFO:tensorflow:Step: 23 loss: 728.305980, converged 121 in 2.804 sec., updated 4686, {f: 0, g: 0, x: 0}\n",
      "INFO:tensorflow:Step: 24 loss: 728.305800, converged 121 in 2.645 sec., updated 4656, {f: 0, g: 0, x: 0}\n",
      "INFO:tensorflow:Step: 25 loss: 728.305706, converged 121 in 2.615 sec., updated 4656, {f: 0, g: 0, x: 0}\n",
      "INFO:tensorflow:Step: 26 loss: 728.232697, converged 121 in 2.658 sec., updated 4657, {f: 0, g: 0, x: 0}\n",
      "INFO:tensorflow:Step: 27 loss: 728.232670, converged 121 in 2.844 sec., updated 4636, {f: 0, g: 0, x: 0}\n",
      "INFO:tensorflow:Step: 28 loss: 728.232656, converged 121 in 2.886 sec., updated 4636, {f: 0, g: 0, x: 0}\n",
      "INFO:tensorflow:Step: 29 loss: 728.232648, converged 121 in 2.757 sec., updated 4636, {f: 0, g: 0, x: 0}\n",
      "INFO:tensorflow:Step: 30 loss: 728.232644, converged 129 in 2.636 sec., updated 4637, {f: 0, g: 0, x: 8}\n",
      "INFO:tensorflow:Step: 31 loss: 728.232641, converged 177 in 2.515 sec., updated 4629, {f: 0, g: 0, x: 48}\n",
      "INFO:tensorflow:Step: 32 loss: 728.232640, converged 399 in 2.447 sec., updated 4581, {f: 1, g: 0, x: 221}\n",
      "INFO:tensorflow:Step: 33 loss: 728.205563, converged 995 in 2.479 sec., updated 4359, {f: 7, g: 0, x: 595}\n",
      "INFO:tensorflow:Step: 34 loss: 728.205563, converged 1900 in 2.497 sec., updated 3756, {f: 242, g: 0, x: 791}\n",
      "INFO:tensorflow:Step: 35 loss: 728.205562, converged 3144 in 2.52 sec., updated 2851, {f: 883, g: 0, x: 1165}\n",
      "INFO:tensorflow:Step: 36 loss: 728.205562, converged 4090 in 2.604 sec., updated 1607, {f: 492, g: 0, x: 881}\n",
      "INFO:tensorflow:Step: 37 loss: 728.205562, converged 4384 in 2.587 sec., updated 851, {f: 276, g: 0, x: 51}\n",
      "INFO:tensorflow:Step: 38 loss: 728.205562, converged 4810 in 2.462 sec., updated 557, {f: 246, g: 0, x: 389}\n",
      "INFO:tensorflow:Step: 39 loss: 728.205562, converged 4940 in 2.46 sec., updated 190, {f: 29, g: 0, x: 128}\n",
      "INFO:tensorflow:Step: 40 loss: 728.205562, converged 4945 in 2.487 sec., updated 60, {f: 5, g: 0, x: 0}\n",
      "INFO:tensorflow:Step: 41 loss: 728.205562, converged 4971 in 2.44 sec., updated 55, {f: 13, g: 0, x: 26}\n",
      "INFO:tensorflow:Step: 42 loss: 728.205562, converged 4978 in 2.471 sec., updated 29, {f: 7, g: 0, x: 0}\n",
      "INFO:tensorflow:Step: 43 loss: 728.205562, converged 4985 in 2.48 sec., updated 22, {f: 2, g: 0, x: 7}\n",
      "INFO:tensorflow:Step: 44 loss: 728.205562, converged 4990 in 2.641 sec., updated 15, {f: 3, g: 0, x: 5}\n",
      "INFO:tensorflow:Step: 45 loss: 728.205562, converged 4990 in 2.68 sec., updated 10, {f: 0, g: 0, x: 0}\n",
      "INFO:tensorflow:Step: 46 loss: 728.205562, converged 4996 in 2.672 sec., updated 10, {f: 2, g: 0, x: 6}\n",
      "INFO:tensorflow:Step: 47 loss: 728.205562, converged 4998 in 2.557 sec., updated 4, {f: 0, g: 0, x: 2}\n",
      "INFO:tensorflow:Step: 48 loss: 728.205562, converged 4998 in 2.538 sec., updated 2, {f: 0, g: 0, x: 0}\n",
      "INFO:tensorflow:Step: 49 loss: 728.205562, converged 4999 in 2.678 sec., updated 2, {f: 0, g: 0, x: 1}\n",
      "INFO:tensorflow:Step: 50 loss: 728.205562, converged 4999 in 2.629 sec., updated 1, {f: 0, g: 0, x: 0}\n",
      "INFO:tensorflow:Step: 51 loss: 728.205562, converged 5000 in 2.581 sec., updated 1, {f: 1, g: 0, x: 1}\n"
     ]
    }
   ],
   "source": [
    "det_mc38 = de.test.continuous_1d(   \n",
    "    data=adata_mc38.X,    \n",
    "    \n",
    "    sample_description=adata_mc38.obs,\n",
    "    \n",
    "    gene_names=adata_mc38.var_names,\n",
    "    \n",
    "    formula_loc=\"~ 1 + time + batch\",\n",
    "    \n",
    "    formula_scale=\"~ 1 + batch\",\n",
    "    \n",
    "    factor_loc_totest=\"time\",\n",
    "\n",
    "    continuous=\"time\",\n",
    "#    size_factors=np.random.uniform(0.2, 2, adata_macrophage.n_obs),  \n",
    "    df=4,\n",
    "    quick_scale= False\n",
    ")"
   ]
  },
  {
   "cell_type": "code",
   "execution_count": 31,
   "metadata": {},
   "outputs": [
    {
     "data": {
      "text/html": [
       "<div>\n",
       "<style scoped>\n",
       "    .dataframe tbody tr th:only-of-type {\n",
       "        vertical-align: middle;\n",
       "    }\n",
       "\n",
       "    .dataframe tbody tr th {\n",
       "        vertical-align: top;\n",
       "    }\n",
       "\n",
       "    .dataframe thead th {\n",
       "        text-align: right;\n",
       "    }\n",
       "</style>\n",
       "<table border=\"1\" class=\"dataframe\">\n",
       "  <thead>\n",
       "    <tr style=\"text-align: right;\">\n",
       "      <th></th>\n",
       "      <th>gene</th>\n",
       "      <th>pval</th>\n",
       "      <th>qval</th>\n",
       "      <th>log2fc</th>\n",
       "      <th>mean</th>\n",
       "      <th>zero_mean</th>\n",
       "      <th>grad</th>\n",
       "      <th>ll</th>\n",
       "    </tr>\n",
       "  </thead>\n",
       "  <tbody>\n",
       "    <tr>\n",
       "      <th>0</th>\n",
       "      <td>mm10_Lypla1</td>\n",
       "      <td>0.728382</td>\n",
       "      <td>1.000000</td>\n",
       "      <td>3.087419</td>\n",
       "      <td>0.012172</td>\n",
       "      <td>False</td>\n",
       "      <td>0.000894</td>\n",
       "      <td>-132.502160</td>\n",
       "    </tr>\n",
       "    <tr>\n",
       "      <th>1</th>\n",
       "      <td>mm10_Gm37988</td>\n",
       "      <td>0.551629</td>\n",
       "      <td>0.984348</td>\n",
       "      <td>1.589770</td>\n",
       "      <td>0.017322</td>\n",
       "      <td>False</td>\n",
       "      <td>0.001418</td>\n",
       "      <td>-176.107813</td>\n",
       "    </tr>\n",
       "    <tr>\n",
       "      <th>2</th>\n",
       "      <td>mm10_Atp6v1h</td>\n",
       "      <td>0.646378</td>\n",
       "      <td>0.996587</td>\n",
       "      <td>1.384110</td>\n",
       "      <td>0.020599</td>\n",
       "      <td>False</td>\n",
       "      <td>0.002079</td>\n",
       "      <td>-187.633434</td>\n",
       "    </tr>\n",
       "    <tr>\n",
       "      <th>3</th>\n",
       "      <td>mm10_Rb1cc1</td>\n",
       "      <td>0.779457</td>\n",
       "      <td>1.000000</td>\n",
       "      <td>1.130732</td>\n",
       "      <td>0.055243</td>\n",
       "      <td>False</td>\n",
       "      <td>0.004677</td>\n",
       "      <td>-430.297341</td>\n",
       "    </tr>\n",
       "    <tr>\n",
       "      <th>4</th>\n",
       "      <td>mm10_Pcmtd1</td>\n",
       "      <td>0.592146</td>\n",
       "      <td>0.988501</td>\n",
       "      <td>4.156368</td>\n",
       "      <td>0.021536</td>\n",
       "      <td>False</td>\n",
       "      <td>0.001440</td>\n",
       "      <td>-205.045019</td>\n",
       "    </tr>\n",
       "    <tr>\n",
       "      <th>...</th>\n",
       "      <td>...</td>\n",
       "      <td>...</td>\n",
       "      <td>...</td>\n",
       "      <td>...</td>\n",
       "      <td>...</td>\n",
       "      <td>...</td>\n",
       "      <td>...</td>\n",
       "      <td>...</td>\n",
       "    </tr>\n",
       "    <tr>\n",
       "      <th>4995</th>\n",
       "      <td>mm10_Zfp950</td>\n",
       "      <td>0.832431</td>\n",
       "      <td>1.000000</td>\n",
       "      <td>1.994940</td>\n",
       "      <td>0.019195</td>\n",
       "      <td>False</td>\n",
       "      <td>0.001909</td>\n",
       "      <td>-186.264723</td>\n",
       "    </tr>\n",
       "    <tr>\n",
       "      <th>4996</th>\n",
       "      <td>mm10_mt-Co1</td>\n",
       "      <td>0.581983</td>\n",
       "      <td>0.988501</td>\n",
       "      <td>2.031426</td>\n",
       "      <td>0.035112</td>\n",
       "      <td>False</td>\n",
       "      <td>0.002158</td>\n",
       "      <td>-303.626727</td>\n",
       "    </tr>\n",
       "    <tr>\n",
       "      <th>4997</th>\n",
       "      <td>mm10_mt-Nd5</td>\n",
       "      <td>0.753826</td>\n",
       "      <td>1.000000</td>\n",
       "      <td>1.477060</td>\n",
       "      <td>0.056648</td>\n",
       "      <td>False</td>\n",
       "      <td>0.002213</td>\n",
       "      <td>-439.401867</td>\n",
       "    </tr>\n",
       "    <tr>\n",
       "      <th>4998</th>\n",
       "      <td>mm10_PISD</td>\n",
       "      <td>0.106206</td>\n",
       "      <td>0.766238</td>\n",
       "      <td>1.116461</td>\n",
       "      <td>0.181648</td>\n",
       "      <td>False</td>\n",
       "      <td>0.005935</td>\n",
       "      <td>-1071.436522</td>\n",
       "    </tr>\n",
       "    <tr>\n",
       "      <th>4999</th>\n",
       "      <td>mm10_DHRSX</td>\n",
       "      <td>0.774010</td>\n",
       "      <td>1.000000</td>\n",
       "      <td>1.846910</td>\n",
       "      <td>0.018727</td>\n",
       "      <td>False</td>\n",
       "      <td>0.000719</td>\n",
       "      <td>-190.634252</td>\n",
       "    </tr>\n",
       "  </tbody>\n",
       "</table>\n",
       "<p>5000 rows × 8 columns</p>\n",
       "</div>"
      ],
      "text/plain": [
       "              gene      pval      qval    log2fc      mean  zero_mean  \\\n",
       "0      mm10_Lypla1  0.728382  1.000000  3.087419  0.012172      False   \n",
       "1     mm10_Gm37988  0.551629  0.984348  1.589770  0.017322      False   \n",
       "2     mm10_Atp6v1h  0.646378  0.996587  1.384110  0.020599      False   \n",
       "3      mm10_Rb1cc1  0.779457  1.000000  1.130732  0.055243      False   \n",
       "4      mm10_Pcmtd1  0.592146  0.988501  4.156368  0.021536      False   \n",
       "...            ...       ...       ...       ...       ...        ...   \n",
       "4995   mm10_Zfp950  0.832431  1.000000  1.994940  0.019195      False   \n",
       "4996   mm10_mt-Co1  0.581983  0.988501  2.031426  0.035112      False   \n",
       "4997   mm10_mt-Nd5  0.753826  1.000000  1.477060  0.056648      False   \n",
       "4998     mm10_PISD  0.106206  0.766238  1.116461  0.181648      False   \n",
       "4999    mm10_DHRSX  0.774010  1.000000  1.846910  0.018727      False   \n",
       "\n",
       "          grad           ll  \n",
       "0     0.000894  -132.502160  \n",
       "1     0.001418  -176.107813  \n",
       "2     0.002079  -187.633434  \n",
       "3     0.004677  -430.297341  \n",
       "4     0.001440  -205.045019  \n",
       "...        ...          ...  \n",
       "4995  0.001909  -186.264723  \n",
       "4996  0.002158  -303.626727  \n",
       "4997  0.002213  -439.401867  \n",
       "4998  0.005935 -1071.436522  \n",
       "4999  0.000719  -190.634252  \n",
       "\n",
       "[5000 rows x 8 columns]"
      ]
     },
     "execution_count": 31,
     "metadata": {},
     "output_type": "execute_result"
    }
   ],
   "source": [
    "det_mc38.summary()"
   ]
  },
  {
   "cell_type": "code",
   "execution_count": 32,
   "metadata": {},
   "outputs": [],
   "source": [
    "# det_mc38.summary().to_csv('/Users/yolanda/Documents/projects/spatial-genomics/data/det_objects/det_mc38_%i.csv' %num_genes)\n",
    "det_mc38.summary().to_csv('/Users/yolanda/Documents/projects/spatial-genomics/data/det_objects/filter_score_det_mc38_%i.csv' %num_genes)"
   ]
  },
  {
   "cell_type": "code",
   "execution_count": 34,
   "metadata": {
    "scrolled": true
   },
   "outputs": [
    {
     "name": "stdout",
     "output_type": "stream",
     "text": [
      "INFO:tensorflow:Step: 0 loss: 660.669400 models converged 0\n",
      "INFO:tensorflow:Step: 1 loss: 649.722658, converged 143 in 2.449 sec., updated 4687, {f: 0, g: 143, x: 0}\n"
     ]
    },
    {
     "name": "stderr",
     "output_type": "stream",
     "text": [
      "/Library/Frameworks/Python.framework/Versions/3.7/lib/python3.7/site-packages/batchglm/train/tf/base/estimator.py:285: RuntimeWarning: invalid value encountered in true_divide\n",
      "  ll_converged = (ll_prev - ll_current) / ll_prev < pkg_constants.LLTOL_BY_FEATURE\n",
      "/Library/Frameworks/Python.framework/Versions/3.7/lib/python3.7/site-packages/batchglm/train/tf/base/estimator.py:285: RuntimeWarning: invalid value encountered in less\n",
      "  ll_converged = (ll_prev - ll_current) / ll_prev < pkg_constants.LLTOL_BY_FEATURE\n"
     ]
    },
    {
     "name": "stdout",
     "output_type": "stream",
     "text": [
      "INFO:tensorflow:Step: 2 loss: 647.316940, converged 143 in 2.111 sec., updated 3900, {f: 0, g: 0, x: 0}\n",
      "INFO:tensorflow:Step: 3 loss: 646.421966, converged 143 in 2.139 sec., updated 3954, {f: 0, g: 0, x: 0}\n",
      "INFO:tensorflow:Step: 4 loss: 645.882075, converged 143 in 2.029 sec., updated 4011, {f: 0, g: 0, x: 0}\n",
      "INFO:tensorflow:Step: 5 loss: 645.564081, converged 143 in 2.191 sec., updated 4018, {f: 0, g: 0, x: 0}\n",
      "INFO:tensorflow:Step: 6 loss: 645.373635, converged 143 in 2.086 sec., updated 4013, {f: 0, g: 0, x: 0}\n",
      "INFO:tensorflow:Step: 7 loss: 645.268940, converged 143 in 2.029 sec., updated 4001, {f: 0, g: 0, x: 0}\n",
      "INFO:tensorflow:Step: 8 loss: 645.223190, converged 143 in 2.099 sec., updated 3952, {f: 0, g: 0, x: 0}\n",
      "INFO:tensorflow:Step: 9 loss: 645.199553, converged 143 in 2.2 sec., updated 3904, {f: 0, g: 0, x: 0}\n",
      "INFO:tensorflow:Step: 10 loss: 645.182826, converged 143 in 2.113 sec., updated 3896, {f: 0, g: 0, x: 0}\n",
      "INFO:tensorflow:Step: 11 loss: 645.169733, converged 143 in 2.113 sec., updated 3883, {f: 0, g: 0, x: 0}\n",
      "INFO:tensorflow:Step: 12 loss: 645.158476, converged 143 in 2.184 sec., updated 3897, {f: 0, g: 0, x: 0}\n",
      "INFO:tensorflow:Step: 13 loss: 645.148006, converged 143 in 2.07 sec., updated 3898, {f: 0, g: 0, x: 0}\n",
      "INFO:tensorflow:Step: 14 loss: 645.138062, converged 143 in 2.073 sec., updated 3898, {f: 0, g: 0, x: 0}\n",
      "INFO:tensorflow:Step: 15 loss: 645.128877, converged 143 in 2.047 sec., updated 3902, {f: 0, g: 0, x: 0}\n",
      "INFO:tensorflow:Step: 16 loss: 645.121231, converged 143 in 2.084 sec., updated 3911, {f: 0, g: 0, x: 0}\n",
      "INFO:tensorflow:Step: 17 loss: 645.115666, converged 143 in 2.148 sec., updated 3909, {f: 0, g: 0, x: 0}\n",
      "INFO:tensorflow:Step: 18 loss: 645.111780, converged 143 in 2.274 sec., updated 3923, {f: 0, g: 0, x: 0}\n",
      "INFO:tensorflow:Step: 19 loss: 645.109013, converged 143 in 2.255 sec., updated 3924, {f: 0, g: 0, x: 0}\n",
      "INFO:tensorflow:Step: 20 loss: 645.107103, converged 143 in 2.109 sec., updated 3938, {f: 0, g: 0, x: 0}\n",
      "INFO:tensorflow:Step: 21 loss: 645.105768, converged 143 in 2.18 sec., updated 3953, {f: 0, g: 0, x: 0}\n",
      "INFO:tensorflow:Step: 22 loss: 645.104888, converged 143 in 2.235 sec., updated 3961, {f: 0, g: 0, x: 0}\n",
      "INFO:tensorflow:Step: 23 loss: 645.104304, converged 143 in 2.196 sec., updated 3980, {f: 0, g: 0, x: 0}\n",
      "INFO:tensorflow:Step: 24 loss: 645.103921, converged 143 in 2.081 sec., updated 3990, {f: 0, g: 0, x: 0}\n",
      "INFO:tensorflow:Step: 25 loss: 645.103668, converged 143 in 2.153 sec., updated 3998, {f: 0, g: 0, x: 0}\n",
      "INFO:tensorflow:Step: 26 loss: 645.103498, converged 143 in 2.775 sec., updated 4006, {f: 0, g: 0, x: 0}\n",
      "INFO:tensorflow:Step: 27 loss: 645.103384, converged 143 in 2.649 sec., updated 4005, {f: 0, g: 0, x: 0}\n",
      "INFO:tensorflow:Step: 28 loss: 645.103307, converged 143 in 3.103 sec., updated 4010, {f: 0, g: 0, x: 0}\n",
      "INFO:tensorflow:Step: 29 loss: 645.103255, converged 143 in 3.275 sec., updated 4010, {f: 0, g: 0, x: 0}\n",
      "INFO:tensorflow:Step: 30 loss: 645.103222, converged 143 in 2.551 sec., updated 4010, {f: 0, g: 0, x: 0}\n",
      "INFO:tensorflow:Step: 31 loss: 645.103203, converged 151 in 2.597 sec., updated 4010, {f: 0, g: 0, x: 8}\n",
      "INFO:tensorflow:Step: 32 loss: 645.103192, converged 183 in 2.309 sec., updated 4004, {f: 0, g: 0, x: 32}\n",
      "INFO:tensorflow:Step: 33 loss: 645.103187, converged 289 in 2.123 sec., updated 3971, {f: 3, g: 0, x: 104}\n",
      "INFO:tensorflow:Step: 34 loss: 645.103184, converged 574 in 1.982 sec., updated 3866, {f: 117, g: 0, x: 236}\n",
      "INFO:tensorflow:Step: 35 loss: 645.103182, converged 1436 in 1.974 sec., updated 3580, {f: 442, g: 0, x: 803}\n",
      "INFO:tensorflow:Step: 36 loss: 645.103182, converged 2902 in 2.082 sec., updated 2870, {f: 340, g: 0, x: 1400}\n",
      "INFO:tensorflow:Step: 37 loss: 645.103181, converged 3095 in 2.355 sec., updated 2089, {f: 185, g: 0, x: 32}\n",
      "INFO:tensorflow:Step: 38 loss: 645.103181, converged 3871 in 2.368 sec., updated 1896, {f: 403, g: 0, x: 726}\n",
      "INFO:tensorflow:Step: 39 loss: 645.103181, converged 4407 in 2.036 sec., updated 1121, {f: 202, g: 0, x: 502}\n",
      "INFO:tensorflow:Step: 40 loss: 645.103181, converged 4470 in 2.382 sec., updated 589, {f: 63, g: 0, x: 0}\n",
      "INFO:tensorflow:Step: 41 loss: 645.103181, converged 4643 in 2.352 sec., updated 524, {f: 75, g: 0, x: 155}\n",
      "INFO:tensorflow:Step: 42 loss: 645.103181, converged 4674 in 2.055 sec., updated 354, {f: 31, g: 0, x: 0}\n",
      "INFO:tensorflow:Step: 43 loss: 645.103181, converged 4783 in 2.243 sec., updated 320, {f: 46, g: 0, x: 95}\n",
      "INFO:tensorflow:Step: 44 loss: 645.103181, converged 4868 in 2.039 sec., updated 213, {f: 34, g: 0, x: 82}\n",
      "INFO:tensorflow:Step: 45 loss: 645.103181, converged 4878 in 2.157 sec., updated 129, {f: 10, g: 0, x: 0}\n",
      "INFO:tensorflow:Step: 46 loss: 645.103181, converged 4955 in 2.356 sec., updated 119, {f: 36, g: 0, x: 75}\n",
      "INFO:tensorflow:Step: 47 loss: 645.103181, converged 4990 in 2.895 sec., updated 42, {f: 12, g: 0, x: 33}\n",
      "INFO:tensorflow:Step: 48 loss: 645.103181, converged 4995 in 2.56 sec., updated 8, {f: 5, g: 0, x: 0}\n",
      "INFO:tensorflow:Step: 49 loss: 645.103181, converged 4998 in 2.174 sec., updated 3, {f: 3, g: 0, x: 3}\n",
      "INFO:tensorflow:Step: 50 loss: 645.103181, converged 4998 in 2.154 sec., updated 2, {f: 0, g: 0, x: 0}\n",
      "INFO:tensorflow:Step: 51 loss: 645.103181, converged 4998 in 2.29 sec., updated 0, {f: 0, g: 0, x: 0}\n",
      "INFO:tensorflow:Step: 52 loss: 645.103181, converged 4998 in 2.652 sec., updated 0, {f: 0, g: 0, x: 0}\n",
      "INFO:tensorflow:Step: 53 loss: 645.103181, converged 4998 in 2.377 sec., updated 0, {f: 0, g: 0, x: 0}\n",
      "INFO:tensorflow:Step: 54 loss: 645.103181, converged 4999 in 2.128 sec., updated 1, {f: 1, g: 0, x: 0}\n",
      "INFO:tensorflow:Step: 55 loss: 645.103181, converged 4999 in 2.166 sec., updated 0, {f: 0, g: 0, x: 0}\n",
      "INFO:tensorflow:Step: 56 loss: 645.103181, converged 5000 in 2.195 sec., updated 1, {f: 1, g: 0, x: 0}\n"
     ]
    }
   ],
   "source": [
    "det_hepatocyte = de.test.continuous_1d(   \n",
    "    data=adata_hepatocyte.X,    \n",
    "    \n",
    "    sample_description=adata_hepatocyte.obs,\n",
    "    \n",
    "    gene_names=adata_hepatocyte.var_names,\n",
    "    \n",
    "    formula_loc=\"~ 1 + time + batch\",\n",
    "    \n",
    "    formula_scale=\"~ 1 + batch\",\n",
    "    \n",
    "    factor_loc_totest=\"time\",\n",
    "\n",
    "    continuous=\"time\",\n",
    "#    size_factors=np.random.uniform(0.2, 2, adata_macrophage.n_obs),  \n",
    "    df=4,\n",
    "    quick_scale=False   \n",
    ")"
   ]
  },
  {
   "cell_type": "code",
   "execution_count": 35,
   "metadata": {},
   "outputs": [],
   "source": [
    "# det_hepatocyte.summary().to_csv('/Users/yolanda/Documents/projects/spatial-genomics/data/det_objects/det_hepatocyte_%i.csv' %num_genes)\n",
    "det_hepatocyte.summary().to_csv('/Users/yolanda/Documents/projects/spatial-genomics/data/det_objects/filter_score_det_hepatocyte_%i.csv' %num_genes)"
   ]
  },
  {
   "cell_type": "code",
   "execution_count": 37,
   "metadata": {},
   "outputs": [
    {
     "name": "stdout",
     "output_type": "stream",
     "text": [
      "INFO:tensorflow:Step: 0 loss: 793.140290 models converged 0\n",
      "INFO:tensorflow:Step: 1 loss: 774.534691, converged 282 in 1.637 sec., updated 4893, {f: 0, g: 282, x: 0}\n",
      "INFO:tensorflow:Step: 2 loss: 769.776344, converged 282 in 1.056 sec., updated 4026, {f: 0, g: 0, x: 0}\n",
      "INFO:tensorflow:Step: 3 loss: 767.915729, converged 282 in 1.011 sec., updated 4067, {f: 0, g: 0, x: 0}\n",
      "INFO:tensorflow:Step: 4 loss: 766.978024, converged 282 in 1.021 sec., updated 4092, {f: 0, g: 0, x: 0}\n",
      "INFO:tensorflow:Step: 5 loss: 766.453149, converged 282 in 1.036 sec., updated 4091, {f: 0, g: 0, x: 0}\n",
      "INFO:tensorflow:Step: 6 loss: 766.150498, converged 282 in 1.032 sec., updated 4089, {f: 0, g: 0, x: 0}\n",
      "INFO:tensorflow:Step: 7 loss: 765.972720, converged 282 in 1.03 sec., updated 4084, {f: 0, g: 0, x: 0}\n",
      "INFO:tensorflow:Step: 8 loss: 765.878957, converged 282 in 1.03 sec., updated 4060, {f: 0, g: 0, x: 0}\n",
      "INFO:tensorflow:Step: 9 loss: 765.827380, converged 282 in 1.019 sec., updated 4043, {f: 0, g: 0, x: 0}\n",
      "INFO:tensorflow:Step: 10 loss: 765.791773, converged 282 in 1.055 sec., updated 4042, {f: 0, g: 0, x: 0}\n",
      "INFO:tensorflow:Step: 11 loss: 765.762495, converged 282 in 1.015 sec., updated 4038, {f: 0, g: 0, x: 0}\n",
      "INFO:tensorflow:Step: 12 loss: 765.733340, converged 282 in 1.04 sec., updated 4054, {f: 0, g: 0, x: 0}\n",
      "INFO:tensorflow:Step: 13 loss: 765.708882, converged 282 in 1.007 sec., updated 4045, {f: 0, g: 0, x: 0}\n",
      "INFO:tensorflow:Step: 14 loss: 765.685186, converged 282 in 0.972 sec., updated 4060, {f: 0, g: 0, x: 0}\n",
      "INFO:tensorflow:Step: 15 loss: 765.663818, converged 282 in 0.969 sec., updated 4051, {f: 0, g: 0, x: 0}\n",
      "INFO:tensorflow:Step: 16 loss: 765.646553, converged 282 in 0.976 sec., updated 4050, {f: 0, g: 0, x: 0}\n",
      "INFO:tensorflow:Step: 17 loss: 765.633397, converged 282 in 1.038 sec., updated 4056, {f: 0, g: 0, x: 0}\n",
      "INFO:tensorflow:Step: 18 loss: 765.623364, converged 282 in 1.1 sec., updated 4054, {f: 0, g: 0, x: 0}\n",
      "INFO:tensorflow:Step: 19 loss: 765.616191, converged 282 in 1.018 sec., updated 4049, {f: 0, g: 0, x: 0}\n",
      "INFO:tensorflow:Step: 20 loss: 765.610994, converged 282 in 0.993 sec., updated 4057, {f: 0, g: 0, x: 0}\n",
      "INFO:tensorflow:Step: 21 loss: 765.607511, converged 282 in 0.987 sec., updated 4063, {f: 0, g: 0, x: 0}\n",
      "INFO:tensorflow:Step: 22 loss: 765.605220, converged 282 in 1.047 sec., updated 4067, {f: 0, g: 0, x: 0}\n",
      "INFO:tensorflow:Step: 23 loss: 765.603725, converged 282 in 1.033 sec., updated 4070, {f: 0, g: 0, x: 0}\n",
      "INFO:tensorflow:Step: 24 loss: 765.602741, converged 282 in 1.018 sec., updated 4082, {f: 0, g: 0, x: 0}\n",
      "INFO:tensorflow:Step: 25 loss: 765.602083, converged 282 in 1.054 sec., updated 4087, {f: 0, g: 0, x: 0}\n",
      "INFO:tensorflow:Step: 26 loss: 765.601647, converged 282 in 1.032 sec., updated 4089, {f: 0, g: 0, x: 0}\n",
      "INFO:tensorflow:Step: 27 loss: 765.601353, converged 282 in 1.038 sec., updated 4088, {f: 0, g: 0, x: 0}\n",
      "INFO:tensorflow:Step: 28 loss: 765.601154, converged 282 in 1.094 sec., updated 4087, {f: 0, g: 0, x: 0}\n",
      "INFO:tensorflow:Step: 29 loss: 765.601028, converged 282 in 1.09 sec., updated 4087, {f: 0, g: 0, x: 0}\n",
      "INFO:tensorflow:Step: 30 loss: 765.600949, converged 282 in 1.001 sec., updated 4088, {f: 0, g: 0, x: 0}\n",
      "INFO:tensorflow:Step: 31 loss: 765.600902, converged 284 in 1.01 sec., updated 4090, {f: 0, g: 0, x: 2}\n",
      "INFO:tensorflow:Step: 32 loss: 765.600876, converged 300 in 0.97 sec., updated 4087, {f: 0, g: 0, x: 16}\n",
      "INFO:tensorflow:Step: 33 loss: 765.600862, converged 342 in 0.969 sec., updated 4072, {f: 4, g: 0, x: 39}\n",
      "INFO:tensorflow:Step: 34 loss: 765.600854, converged 473 in 1.006 sec., updated 4030, {f: 77, g: 0, x: 66}\n",
      "INFO:tensorflow:Step: 35 loss: 765.600849, converged 1335 in 0.989 sec., updated 3899, {f: 544, g: 0, x: 802}\n",
      "INFO:tensorflow:Step: 36 loss: 765.600846, converged 2822 in 1.006 sec., updated 3037, {f: 344, g: 0, x: 1424}\n",
      "INFO:tensorflow:Step: 37 loss: 765.600844, converged 3050 in 1.207 sec., updated 2171, {f: 225, g: 0, x: 9}\n",
      "INFO:tensorflow:Step: 38 loss: 765.600843, converged 4012 in 0.951 sec., updated 1944, {f: 486, g: 0, x: 905}\n",
      "INFO:tensorflow:Step: 39 loss: 765.600842, converged 4505 in 0.972 sec., updated 981, {f: 147, g: 0, x: 488}\n",
      "INFO:tensorflow:Step: 40 loss: 765.600842, converged 4548 in 0.931 sec., updated 489, {f: 42, g: 0, x: 1}\n",
      "INFO:tensorflow:Step: 41 loss: 765.600842, converged 4716 in 1.027 sec., updated 447, {f: 76, g: 0, x: 157}\n",
      "INFO:tensorflow:Step: 42 loss: 765.600842, converged 4749 in 1.085 sec., updated 281, {f: 33, g: 0, x: 0}\n",
      "INFO:tensorflow:Step: 43 loss: 765.600842, converged 4854 in 1.055 sec., updated 248, {f: 43, g: 0, x: 101}\n",
      "INFO:tensorflow:Step: 44 loss: 765.600842, converged 4912 in 1.176 sec., updated 144, {f: 14, g: 0, x: 58}\n",
      "INFO:tensorflow:Step: 45 loss: 765.600842, converged 4916 in 1.261 sec., updated 86, {f: 4, g: 0, x: 0}\n",
      "INFO:tensorflow:Step: 46 loss: 765.600842, converged 4961 in 1.134 sec., updated 83, {f: 14, g: 0, x: 43}\n",
      "INFO:tensorflow:Step: 47 loss: 765.600842, converged 4992 in 1.05 sec., updated 38, {f: 5, g: 0, x: 31}\n",
      "INFO:tensorflow:Step: 48 loss: 765.600842, converged 4992 in 0.978 sec., updated 8, {f: 0, g: 0, x: 0}\n",
      "INFO:tensorflow:Step: 49 loss: 765.600842, converged 4994 in 0.967 sec., updated 7, {f: 0, g: 0, x: 2}\n",
      "INFO:tensorflow:Step: 50 loss: 765.600842, converged 4994 in 0.984 sec., updated 5, {f: 0, g: 0, x: 0}\n",
      "INFO:tensorflow:Step: 51 loss: 765.600842, converged 4996 in 0.977 sec., updated 5, {f: 2, g: 0, x: 1}\n",
      "INFO:tensorflow:Step: 52 loss: 765.600842, converged 4997 in 0.936 sec., updated 4, {f: 1, g: 0, x: 1}\n",
      "INFO:tensorflow:Step: 53 loss: 765.600842, converged 4997 in 0.973 sec., updated 2, {f: 0, g: 0, x: 0}\n",
      "INFO:tensorflow:Step: 54 loss: 765.600842, converged 4999 in 1.006 sec., updated 2, {f: 2, g: 0, x: 2}\n",
      "INFO:tensorflow:Step: 55 loss: 765.600842, converged 5000 in 1.007 sec., updated 1, {f: 1, g: 0, x: 0}\n"
     ]
    }
   ],
   "source": [
    "det_Myeloid = de.test.continuous_1d(   \n",
    "    data=adata_Myeloid.X,    \n",
    "    \n",
    "    sample_description=adata_Myeloid.obs,\n",
    "    \n",
    "    gene_names=adata_Myeloid.var_names,\n",
    "    \n",
    "    formula_loc=\"~ 1 + time + batch\",\n",
    "    \n",
    "    formula_scale=\"~ 1 + batch\",\n",
    "    \n",
    "    factor_loc_totest=\"time\",\n",
    "\n",
    "    continuous=\"time\",\n",
    "#    size_factors=np.random.uniform(0.2, 2, adata_macrophage.n_obs),  \n",
    "    df=4,\n",
    "    quick_scale= False  \n",
    ")"
   ]
  },
  {
   "cell_type": "code",
   "execution_count": 38,
   "metadata": {},
   "outputs": [],
   "source": [
    "# det_Myeloid.summary().to_csv('/Users/yolanda/Documents/projects/spatial-genomics/data/det_objects/det_Myeloid_%i.csv' %num_genes)\n",
    "det_Myeloid.summary().to_csv('/Users/yolanda/Documents/projects/spatial-genomics/data/det_objects/filter_score_det_Myeloid_%i.csv' %num_genes)"
   ]
  },
  {
   "cell_type": "code",
   "execution_count": 39,
   "metadata": {},
   "outputs": [
    {
     "data": {
      "text/plain": [
       "5000"
      ]
     },
     "execution_count": 39,
     "metadata": {},
     "output_type": "execute_result"
    }
   ],
   "source": [
    "num_genes"
   ]
  },
  {
   "cell_type": "code",
   "execution_count": 40,
   "metadata": {},
   "outputs": [
    {
     "data": {
      "text/plain": [
       "<matplotlib.axes._subplots.AxesSubplot at 0x2414c1eb8>"
      ]
     },
     "execution_count": 40,
     "metadata": {},
     "output_type": "execute_result"
    },
    {
     "data": {
      "image/png": "[encoded data removed]",
      "text/plain": [
       "<Figure size 360x360 with 1 Axes>"
      ]
     },
     "metadata": {
      "needs_background": "light"
     },
     "output_type": "display_data"
    }
   ],
   "source": [
    "sns.scatterplot(data=det_Myeloid.summary()[det_Myeloid.summary()['qval'] <= 0.05],\n",
    "               x='log2fc',\n",
    "               y='qval')"
   ]
  },
  {
   "cell_type": "code",
   "execution_count": 41,
   "metadata": {},
   "outputs": [
    {
     "data": {
      "text/plain": [
       "<matplotlib.axes._subplots.AxesSubplot at 0x2414bb7b8>"
      ]
     },
     "execution_count": 41,
     "metadata": {},
     "output_type": "execute_result"
    },
    {
     "data": {
      "image/png": "[encoded data removed]",
      "text/plain": [
       "<Figure size 360x360 with 1 Axes>"
      ]
     },
     "metadata": {
      "needs_background": "light"
     },
     "output_type": "display_data"
    }
   ],
   "source": [
    "sns.scatterplot(data=det_mc38.summary()[det_mc38.summary()['qval'] <= 0.05],\n",
    "               x='log2fc',\n",
    "               y='qval')"
   ]
  },
  {
   "cell_type": "code",
   "execution_count": 42,
   "metadata": {},
   "outputs": [
    {
     "data": {
      "text/plain": [
       "<matplotlib.axes._subplots.AxesSubplot at 0x23a5035c0>"
      ]
     },
     "execution_count": 42,
     "metadata": {},
     "output_type": "execute_result"
    },
    {
     "data": {
      "image/png": "[encoded data removed]",
      "text/plain": [
       "<Figure size 360x360 with 1 Axes>"
      ]
     },
     "metadata": {
      "needs_background": "light"
     },
     "output_type": "display_data"
    }
   ],
   "source": [
    "sns.scatterplot(data=det_hepatocyte.summary()[det_hepatocyte.summary()['qval'] <= 0.05],\n",
    "               x='log2fc',\n",
    "               y='qval')"
   ]
  },
  {
   "cell_type": "code",
   "execution_count": 43,
   "metadata": {},
   "outputs": [],
   "source": [
    "# 'mm10_Tgfbi','mm10_Rpl8','mm10_Cd74','mm10_Hsp90ab1','mm10_Rnf213' \n",
    "# 'mm10_Zbtb20','mm10_Ghr','mm10_Dpyd','mm10_Adk','mm10_Akap9','mm10_Xist','mm10_Col1a2','mm10_Plcb1','mm10_Exoc4 mm10_St3gal4 mm10_Pnisr mm10_Foxp1 mm10_Gpc6 mm10_AY036118 mm10_Immp2l mm10_Chd9 mm10_Ly6e \n",
    "# 'mm10_Lgals1','mm10_B2m','mm10_Rpsa','mm10_Vim \n",
    "# 'mm10_Plec','mm10_Ahnak mm10_Tcf20','mm10_Cdk6','mm10_Rrbp1','mm10_Serbp1','mm10_Ncl \n",
    "# 'mm10_Zfpm2','mm10_Dpysl3','mm10_Samd4','mm10_Zfhx3','mm10_Fam19a1','mm10_Luc7l3','mm10_Pakap','mm10_Slit2 mm10_Myo10 \n",
    "# 'mm10_Cald1','mm10_Erdr1','mm10_Gnas\n",
    "# 'mm10_Airn','mm10_Tcf4','mm10_Smg6','mm10_Cpq','mm10_Ldlrad4','mm10_Dclk1','mm10_PISD','mm10_Kif26b','mm10_Trps1','mm10_Nfia','mm10_Sdc2','mm10_Pde4d\n",
    "# 'mm10_Col3a1','mm10_Rpl4','mm10_Myh9','mm10_Smc4','mm10_Dst','mm10_Whsc1 "
   ]
  },
  {
   "cell_type": "code",
   "execution_count": 44,
   "metadata": {},
   "outputs": [
    {
     "name": "stderr",
     "output_type": "stream",
     "text": [
      "/Library/Frameworks/Python.framework/Versions/3.7/lib/python3.7/site-packages/ipykernel_launcher.py:2: UserWarning: Boolean Series key will be reindexed to match DataFrame index.\n",
      "  \n",
      "/Library/Frameworks/Python.framework/Versions/3.7/lib/python3.7/site-packages/ipykernel_launcher.py:3: UserWarning: Boolean Series key will be reindexed to match DataFrame index.\n",
      "  This is separate from the ipykernel package so we can avoid doing imports until\n",
      "/Library/Frameworks/Python.framework/Versions/3.7/lib/python3.7/site-packages/ipykernel_launcher.py:5: UserWarning: Boolean Series key will be reindexed to match DataFrame index.\n",
      "  \"\"\"\n"
     ]
    }
   ],
   "source": [
    "##qval cutoff\n",
    "gene_frame_Myeloid = det_Myeloid.summary()[det_Myeloid.summary().sort_values('qval', )['qval'] <= 0.05]\n",
    "gene_frame_mc38 = det_mc38.summary()[det_mc38.summary().sort_values('qval', )['qval'] <= 0.05]\n",
    "\n",
    "gene_frame_hepatocyte = det_hepatocyte.summary()[det_hepatocyte.summary().sort_values('qval', )['qval'] <= 0.05]\n"
   ]
  },
  {
   "cell_type": "code",
   "execution_count": null,
   "metadata": {},
   "outputs": [],
   "source": []
  },
  {
   "cell_type": "code",
   "execution_count": 45,
   "metadata": {},
   "outputs": [
    {
     "data": {
      "text/plain": [
       "5000"
      ]
     },
     "execution_count": 45,
     "metadata": {},
     "output_type": "execute_result"
    }
   ],
   "source": [
    "num_genes"
   ]
  },
  {
   "cell_type": "code",
   "execution_count": 46,
   "metadata": {},
   "outputs": [],
   "source": [
    "##fold change cutoff\n",
    "gene_frame_2_Myeloid = gene_frame_Myeloid[gene_frame_Myeloid.log2fc >= 2]\n",
    "gene_frame_2_mc38 = gene_frame_mc38[gene_frame_mc38.log2fc >= 2]\n",
    "gene_frame_2_hepatocyte = gene_frame_hepatocyte[gene_frame_hepatocyte.log2fc >= 2]"
   ]
  },
  {
   "cell_type": "code",
   "execution_count": 47,
   "metadata": {},
   "outputs": [],
   "source": [
    "#gene_frame_2 = gene_frame_2[gene_frame_2.grad < 0.02]"
   ]
  },
  {
   "cell_type": "code",
   "execution_count": 48,
   "metadata": {},
   "outputs": [],
   "source": [
    "#gene_frame_2 = gene_frame_2[gene_frame_2.log2fc < 7]"
   ]
  },
  {
   "cell_type": "code",
   "execution_count": 49,
   "metadata": {},
   "outputs": [
    {
     "data": {
      "text/plain": [
       "array([  18,   28,   64,  118,  138,  141,  143,  149,  159,  162,  165,\n",
       "        175,  179,  198,  207,  219,  261,  267,  277,  282,  285,  286,\n",
       "        300,  303,  366,  367,  369,  380,  397,  422,  449,  452,  469,\n",
       "        477,  481,  537,  550,  571,  578,  593,  597,  623,  625,  627,\n",
       "        635,  643,  650,  653,  667,  675,  682,  689,  703,  712,  727,\n",
       "        773,  778,  804,  814,  836,  851,  854,  869,  915,  926,  930,\n",
       "        936,  942,  954,  956,  963,  970,  985,  992, 1001, 1003, 1008,\n",
       "       1031, 1079, 1087, 1094, 1102, 1109, 1127, 1132, 1133, 1135, 1153,\n",
       "       1187, 1191, 1197, 1198, 1229, 1239, 1265, 1267, 1271, 1274, 1299,\n",
       "       1301, 1341, 1344, 1350, 1354, 1359, 1375, 1388, 1390, 1401, 1410,\n",
       "       1418, 1420, 1449, 1451, 1456, 1472, 1475, 1479, 1490, 1492, 1495,\n",
       "       1502, 1516, 1521, 1532, 1549, 1556, 1558, 1568, 1569, 1575, 1580,\n",
       "       1581, 1601, 1614, 1623, 1625, 1653, 1663, 1664, 1690, 1697, 1703,\n",
       "       1704, 1709, 1717, 1719, 1728, 1731, 1737, 1746, 1748, 1777, 1794,\n",
       "       1816, 1819, 1834, 1836, 1842, 1867, 1888, 1901, 1920, 1921, 1963,\n",
       "       1971, 1995, 2025, 2030, 2032, 2039, 2040, 2051, 2073, 2076, 2084,\n",
       "       2086, 2087, 2090, 2096, 2097, 2100, 2122, 2129, 2185, 2188, 2216,\n",
       "       2218, 2223, 2249, 2254, 2255, 2281, 2291, 2292, 2303, 2308, 2319,\n",
       "       2335, 2336, 2357, 2359, 2369, 2383, 2385, 2386, 2399, 2417, 2422,\n",
       "       2430, 2450, 2456, 2458, 2468, 2469, 2470, 2490, 2509, 2515, 2519,\n",
       "       2522, 2530, 2531, 2547, 2556, 2563, 2586, 2592, 2646, 2654, 2656,\n",
       "       2658, 2669, 2672, 2722, 2726, 2754, 2759, 2803, 2811, 2815, 2831,\n",
       "       2837, 2841, 2857, 2876, 2919, 2934, 2948, 2952, 2955, 2957, 2968,\n",
       "       2982, 3031, 3049, 3058, 3090, 3100, 3108, 3114, 3121, 3129, 3134,\n",
       "       3140, 3174, 3180, 3211, 3215, 3227, 3241, 3246, 3247, 3255, 3260,\n",
       "       3268, 3279, 3286, 3317, 3327, 3342, 3344, 3354, 3356, 3371, 3394,\n",
       "       3400, 3406, 3414, 3451, 3464, 3479, 3481, 3495, 3511, 3517, 3523,\n",
       "       3543, 3545, 3568, 3595, 3598, 3601, 3607, 3608, 3609, 3640, 3655,\n",
       "       3662, 3666, 3677, 3692, 3705, 3737, 3751, 3764, 3777, 3782, 3797,\n",
       "       3799, 3805, 3811, 3814, 3818, 3822, 3842, 3851, 3855, 3860, 3883,\n",
       "       3901, 3922, 3927, 3956, 3960, 3962, 3979, 3987, 3999, 4001, 4029,\n",
       "       4035, 4062, 4067, 4078, 4082, 4100, 4105, 4114, 4125, 4131, 4139,\n",
       "       4145, 4154, 4158, 4164, 4169, 4173, 4176, 4186, 4201, 4215, 4216,\n",
       "       4224, 4233, 4258, 4261, 4269, 4301, 4310, 4312, 4329, 4361, 4365,\n",
       "       4368, 4382, 4398, 4403, 4418, 4423, 4451, 4461, 4472, 4494, 4496,\n",
       "       4500, 4507, 4509, 4512, 4521, 4542, 4552, 4589, 4594, 4599, 4602,\n",
       "       4637, 4641, 4649, 4650, 4655, 4659, 4663, 4697, 4700, 4704, 4709,\n",
       "       4729, 4735, 4737, 4747, 4767, 4779, 4785, 4810, 4816, 4819, 4864,\n",
       "       4866, 4869, 4872, 4878, 4897, 4923, 4927, 4943, 4952, 4957, 4960,\n",
       "       4966, 4991, 4999])"
      ]
     },
     "execution_count": 49,
     "metadata": {},
     "output_type": "execute_result"
    }
   ],
   "source": [
    "#get gene ids in list\n",
    "\n",
    "\n",
    "gene_idx_Myeloid = det_Myeloid._idx_genes(\n",
    "    \n",
    "    genes=gene_frame_2_Myeloid['gene'].tolist()\n",
    "\n",
    ")\n",
    "\n",
    "gene_idx_mc38 = det_mc38._idx_genes(\n",
    "    \n",
    "    genes=gene_frame_2_mc38['gene'].tolist()\n",
    "\n",
    ")\n",
    "\n",
    "gene_idx_hepatocyte = det_hepatocyte._idx_genes(\n",
    "    \n",
    "    genes=gene_frame_2_hepatocyte['gene'].tolist()\n",
    "\n",
    ")\n",
    "\n",
    "gene_idx_hepatocyte"
   ]
  },
  {
   "cell_type": "code",
   "execution_count": 50,
   "metadata": {},
   "outputs": [],
   "source": [
    "# pd.Series(gene_idx_Myeloid).to_csv('/Users/yolanda/Documents/projects/spatial-genomics/data/det_objects/gene_idx_Myeloid_%i.csv' %num_genes)\n",
    "# pd.Series(gene_idx_mc38).to_csv('/Users/yolanda/Documents/projects/spatial-genomics/data/det_objects/gene_idx_mc38_%i.csv' %num_genes)\n",
    "# pd.Series(gene_idx_hepatocyte).to_csv('/Users/yolanda/Documents/projects/spatial-genomics/data/det_objects/gene_idx_hepatocyte_%i.csv' %num_genes)\n",
    "pd.Series(gene_idx_Myeloid).to_csv('/Users/yolanda/Documents/projects/spatial-genomics/data/det_objects/filter_score_gene_idx_Myeloid_%i.csv' %num_genes)\n",
    "pd.Series(gene_idx_mc38).to_csv('/Users/yolanda/Documents/projects/spatial-genomics/data/det_objects/filter_score_gene_idx_mc38_%i.csv' %num_genes)\n",
    "pd.Series(gene_idx_hepatocyte).to_csv('/Users/yolanda/Documents/projects/spatial-genomics/data/det_objects/filter_score_gene_idx_hepatocyte_%i.csv' %num_genes)"
   ]
  },
  {
   "cell_type": "code",
   "execution_count": 51,
   "metadata": {},
   "outputs": [],
   "source": [
    "### get continuous interpolation\n",
    "xcoord_Myeloid, data_Myeloid = det_Myeloid._continuous_interpolation(idx=gene_idx_Myeloid)\n",
    "xcoord_mc38, data_mc38 = det_mc38._continuous_interpolation(idx=gene_idx_mc38)\n",
    "xcoord_hepatocyte, data_hepatocyte = det_hepatocyte._continuous_interpolation(idx=gene_idx_hepatocyte)"
   ]
  },
  {
   "cell_type": "code",
   "execution_count": 52,
   "metadata": {},
   "outputs": [],
   "source": [
    "# pd.DataFrame(data_Myeloid).to_csv('/Users/yolanda/Documents/projects/spatial-genomics/data/det_objects/data_Myeloid_%i.csv' %num_genes)\n",
    "# pd.DataFrame(data_mc38).to_csv('/Users/yolanda/Documents/projects/spatial-genomics/data/det_objects/data_mc38_%i.csv' %num_genes)\n",
    "# pd.DataFrame(data_hepatocyte).to_csv('/Users/yolanda/Documents/projects/spatial-genomics/data/det_objects/data_hepatocyte_%i.csv' %num_genes)\n",
    "pd.DataFrame(data_Myeloid).to_csv('/Users/yolanda/Documents/projects/spatial-genomics/data/det_objects/filter_score_data_Myeloid_%i.csv' %num_genes)\n",
    "pd.DataFrame(data_mc38).to_csv('/Users/yolanda/Documents/projects/spatial-genomics/data/det_objects/filter_score_data_mc38_%i.csv' %num_genes)\n",
    "pd.DataFrame(data_hepatocyte).to_csv('/Users/yolanda/Documents/projects/spatial-genomics/data/det_objects/filter_score_data_hepatocyte_%i.csv' %num_genes)"
   ]
  },
  {
   "cell_type": "code",
   "execution_count": 53,
   "metadata": {},
   "outputs": [],
   "source": [
    "# pd.DataFrame(xcoord_Myeloid).to_csv('/Users/yolanda/Documents/projects/spatial-genomics/data/det_objects/xcoord_Myeloid_%i.csv' %num_genes)\n",
    "# pd.DataFrame(xcoord_mc38).to_csv('/Users/yolanda/Documents/projects/spatial-genomics/data/det_objects/xcoord_mc38_%i.csv' %num_genes)\n",
    "# pd.DataFrame(xcoord_hepatocyte).to_csv('/Users/yolanda/Documents/projects/spatial-genomics/data/det_objects/xcoord_hepatocyte_%i.csv' %num_genes)\n",
    "pd.DataFrame(xcoord_Myeloid).to_csv('/Users/yolanda/Documents/projects/spatial-genomics/data/det_objects/filter_score_xcoord_Myeloid_%i.csv' %num_genes)\n",
    "pd.DataFrame(xcoord_mc38).to_csv('/Users/yolanda/Documents/projects/spatial-genomics/data/det_objects/filter_score_xcoord_mc38_%i.csv' %num_genes)\n",
    "pd.DataFrame(xcoord_hepatocyte).to_csv('/Users/yolanda/Documents/projects/spatial-genomics/data/det_objects/filter_score_xcoord_hepatocyte_%i.csv' %num_genes)"
   ]
  },
  {
   "cell_type": "code",
   "execution_count": 54,
   "metadata": {},
   "outputs": [],
   "source": [
    "### after tranforming, data has number of values, equal to filtered results\n",
    "data_Myeloid = data_Myeloid.T\n",
    "data_mc38 = data_mc38.T\n",
    "data_hepatocyte = data_hepatocyte.T"
   ]
  },
  {
   "cell_type": "code",
   "execution_count": 55,
   "metadata": {},
   "outputs": [],
   "source": [
    "temp_Myeloid=pd.DataFrame(data_Myeloid)\n",
    "temp_mc38=pd.DataFrame(data_mc38)\n",
    "temp_hepatocyte=pd.DataFrame(data_hepatocyte)"
   ]
  },
  {
   "cell_type": "code",
   "execution_count": 56,
   "metadata": {},
   "outputs": [],
   "source": [
    "temp_Myeloid.index = det_Myeloid.summary().iloc[list(gene_idx_Myeloid)]['gene'].str[5:]\n",
    "temp_mc38.index = det_mc38.summary().iloc[list(gene_idx_mc38)]['gene'].str[5:]\n",
    "temp_hepatocyte.index = det_hepatocyte.summary().iloc[list(gene_idx_hepatocyte)]['gene'].str[5:]"
   ]
  },
  {
   "cell_type": "code",
   "execution_count": null,
   "metadata": {},
   "outputs": [],
   "source": []
  },
  {
   "cell_type": "code",
   "execution_count": 57,
   "metadata": {},
   "outputs": [],
   "source": [
    "##max value across columns \n",
    "# sort_order = temp.idxmax(axis=1)\n",
    "# sort_order=sort_order.sort_values().index\n",
    "\n",
    "# temp = temp.reindex(sort_order)"
   ]
  },
  {
   "cell_type": "code",
   "execution_count": 58,
   "metadata": {},
   "outputs": [],
   "source": [
    "# temp.inde"
   ]
  },
  {
   "cell_type": "code",
   "execution_count": 59,
   "metadata": {},
   "outputs": [],
   "source": [
    "temp_2_Myeloid = temp_Myeloid.div(temp_Myeloid.sum(axis=1), axis=0)\n",
    "temp_2_mc38 = temp_mc38.div(temp_mc38.sum(axis=1), axis=0)\n",
    "temp_2_hepatocyte = temp_hepatocyte.div(temp_hepatocyte.sum(axis=1), axis=0)"
   ]
  },
  {
   "cell_type": "code",
   "execution_count": 60,
   "metadata": {},
   "outputs": [],
   "source": [
    "temp_3_Myeloid=temp_2_Myeloid[~(temp_2_Myeloid > 0.02).any(1)]\n",
    "temp_3_mc38=temp_2_mc38[~(temp_2_mc38 > 0.02).any(1)]\n",
    "temp_3_hepatocyte=temp_2_hepatocyte[~(temp_2_hepatocyte > 0.02).any(1)]"
   ]
  },
  {
   "cell_type": "code",
   "execution_count": 61,
   "metadata": {},
   "outputs": [
    {
     "data": {
      "text/plain": [
       "(34, 100)"
      ]
     },
     "execution_count": 61,
     "metadata": {},
     "output_type": "execute_result"
    }
   ],
   "source": [
    "temp_3_Myeloid.shape"
   ]
  },
  {
   "cell_type": "code",
   "execution_count": 62,
   "metadata": {},
   "outputs": [
    {
     "data": {
      "text/plain": [
       "(7, 100)"
      ]
     },
     "execution_count": 62,
     "metadata": {},
     "output_type": "execute_result"
    }
   ],
   "source": [
    "temp_3_mc38.shape"
   ]
  },
  {
   "cell_type": "code",
   "execution_count": 63,
   "metadata": {},
   "outputs": [
    {
     "data": {
      "text/plain": [
       "(29, 100)"
      ]
     },
     "execution_count": 63,
     "metadata": {},
     "output_type": "execute_result"
    }
   ],
   "source": [
    "temp_3_hepatocyte.shape"
   ]
  },
  {
   "cell_type": "code",
   "execution_count": 64,
   "metadata": {},
   "outputs": [
    {
     "data": {
      "image/png": "[encoded data removed]",
      "text/plain": [
       "<Figure size 720x720 with 4 Axes>"
      ]
     },
     "metadata": {
      "needs_background": "light"
     },
     "output_type": "display_data"
    }
   ],
   "source": [
    "plt.rcParams['figure.figsize'] = [10, 20]\n",
    "\n",
    "# z_scoreint or None, optional\n",
    "# Either 0 (rows) or 1 (columns).\n",
    "\n",
    "\n",
    "\n",
    "\n",
    "\n",
    "g_Myeloid =sns.clustermap(data=temp_3_Myeloid,\n",
    "             metric='cityblock', #defualt euclidean   #canberra\n",
    "             method='average',\n",
    "            z_score=0,\n",
    "           cmap='RdYlBu_r',\n",
    "            vmax=8,\n",
    "            vmin=-5,\n",
    "            center=0,\n",
    "               col_cluster=False      \n",
    "           )\n",
    "g_Myeloid.fig.suptitle('Myeloid ( %i genes)' %num_genes) \n",
    "\n",
    "# plt.savefig('/Users/yolanda/Documents/Github/spatial-genomics/fig/fig4c/heatmap_spatial_Myeloid_%i.svg' %num_genes, bbox_inches='tight')\n",
    "# plt.savefig('/Users/yolanda/Documents/Github/spatial-genomics/fig/fig4c/heatmap_spatial_Myeloid_%i.png' %num_genes, bbox_inches='tight')\n",
    "\n",
    "plt.savefig('/Users/yolanda/Documents/Github/spatial-genomics/fig/fig4c/filter_score_heatmap_spatial_Myeloid_%i.svg' %num_genes, bbox_inches='tight')\n",
    "plt.savefig('/Users/yolanda/Documents/Github/spatial-genomics/fig/fig4c/filter_score_heatmap_spatial_Myeloid_%i.png' %num_genes, bbox_inches='tight')"
   ]
  },
  {
   "cell_type": "code",
   "execution_count": null,
   "metadata": {},
   "outputs": [],
   "source": []
  },
  {
   "cell_type": "code",
   "execution_count": 65,
   "metadata": {},
   "outputs": [
    {
     "data": {
      "image/png": "[encoded data removed]",
      "text/plain": [
       "<Figure size 720x720 with 4 Axes>"
      ]
     },
     "metadata": {
      "needs_background": "light"
     },
     "output_type": "display_data"
    }
   ],
   "source": [
    "g_mc38 =sns.clustermap(data=temp_3_mc38,\n",
    "             metric='cityblock', #defualt euclidean   #canberra\n",
    "             method='average',\n",
    "            z_score=0,\n",
    "           cmap='RdYlBu_r',\n",
    "            vmax=8,\n",
    "            vmin=-5,\n",
    "            center=0,\n",
    "               col_cluster=False      \n",
    "           )\n",
    "g_mc38.fig.suptitle('mc38 ( %i genes)' %num_genes) \n",
    "\n",
    "# plt.savefig('/Users/yolanda/Documents/Github/spatial-genomics/fig/fig4c/heatmap_spatial_mc38_%i.svg' %num_genes, bbox_inches='tight')\n",
    "# plt.savefig('/Users/yolanda/Documents/Github/spatial-genomics/fig/fig4c/heatmap_spatial_mc38_%i.png' %num_genes, bbox_inches='tight')\n",
    "\n",
    "plt.savefig('/Users/yolanda/Documents/Github/spatial-genomics/fig/fig4c/filter_score_heatmap_spatial_mc38_%i.svg' %num_genes, bbox_inches='tight')\n",
    "plt.savefig('/Users/yolanda/Documents/Github/spatial-genomics/fig/fig4c/filter_score_heatmap_spatial_mc38_%i.png' %num_genes, bbox_inches='tight')\n"
   ]
  },
  {
   "cell_type": "code",
   "execution_count": 66,
   "metadata": {},
   "outputs": [
    {
     "data": {
      "image/png": "[encoded data removed]",
      "text/plain": [
       "<Figure size 720x720 with 4 Axes>"
      ]
     },
     "metadata": {
      "needs_background": "light"
     },
     "output_type": "display_data"
    }
   ],
   "source": [
    "g_hepatocyte =sns.clustermap(data=temp_3_hepatocyte,\n",
    "             metric='cityblock', #defualt euclidean   #canberra\n",
    "             method='average',\n",
    "            z_score=0,\n",
    "           cmap='RdYlBu_r',\n",
    "            vmax=8,\n",
    "            vmin=-5,\n",
    "            center=0,\n",
    "               col_cluster=False      \n",
    "           )\n",
    "g_hepatocyte.fig.suptitle('hepatocyte ( %i genes)' %num_genes) \n",
    "\n",
    "# plt.savefig('/Users/yolanda/Documents/Github/spatial-genomics/fig/fig4c/heatmap_spatial_hepatocyte_%i.svg' %num_genes, bbox_inches='tight')\n",
    "# plt.savefig('/Users/yolanda/Documents/Github/spatial-genomics/fig/fig4c/heatmap_spatial_hepatocyte_%i.png' %num_genes, bbox_inches='tight')\n",
    "\n",
    "plt.savefig('/Users/yolanda/Documents/Github/spatial-genomics/fig/fig4c/filter_score_heatmap_spatial_hepatocyte_%i.svg' %num_genes, bbox_inches='tight')\n",
    "plt.savefig('/Users/yolanda/Documents/Github/spatial-genomics/fig/fig4c/filter_score_heatmap_spatial_hepatocyte_%i.png' %num_genes, bbox_inches='tight')\n"
   ]
  },
  {
   "cell_type": "markdown",
   "metadata": {},
   "source": [
    "Yutong did not revise the scripts below yet. "
   ]
  },
  {
   "cell_type": "markdown",
   "metadata": {},
   "source": [
    "TBC ... "
   ]
  },
  {
   "cell_type": "markdown",
   "metadata": {},
   "source": [
    "-------------------------------------------------------"
   ]
  },
  {
   "cell_type": "code",
   "execution_count": null,
   "metadata": {},
   "outputs": [],
   "source": []
  },
  {
   "cell_type": "code",
   "execution_count": null,
   "metadata": {},
   "outputs": [],
   "source": []
  },
  {
   "cell_type": "code",
   "execution_count": null,
   "metadata": {},
   "outputs": [],
   "source": []
  },
  {
   "cell_type": "code",
   "execution_count": null,
   "metadata": {},
   "outputs": [],
   "source": []
  },
  {
   "cell_type": "code",
   "execution_count": 801,
   "metadata": {},
   "outputs": [],
   "source": [
    "from gprofiler import GProfiler\n"
   ]
  },
  {
   "cell_type": "code",
   "execution_count": 858,
   "metadata": {},
   "outputs": [
    {
     "data": {
      "text/html": [
       "<div>\n",
       "<style scoped>\n",
       "    .dataframe tbody tr th:only-of-type {\n",
       "        vertical-align: middle;\n",
       "    }\n",
       "\n",
       "    .dataframe tbody tr th {\n",
       "        vertical-align: top;\n",
       "    }\n",
       "\n",
       "    .dataframe thead th {\n",
       "        text-align: right;\n",
       "    }\n",
       "</style>\n",
       "<table border=\"1\" class=\"dataframe\">\n",
       "  <thead>\n",
       "    <tr style=\"text-align: right;\">\n",
       "      <th></th>\n",
       "      <th>source</th>\n",
       "      <th>native</th>\n",
       "      <th>name</th>\n",
       "      <th>p_value</th>\n",
       "      <th>significant</th>\n",
       "      <th>description</th>\n",
       "      <th>term_size</th>\n",
       "      <th>query_size</th>\n",
       "      <th>intersection_size</th>\n",
       "      <th>effective_domain_size</th>\n",
       "      <th>precision</th>\n",
       "      <th>recall</th>\n",
       "      <th>query</th>\n",
       "      <th>parents</th>\n",
       "    </tr>\n",
       "  </thead>\n",
       "  <tbody>\n",
       "    <tr>\n",
       "      <th>0</th>\n",
       "      <td>HP</td>\n",
       "      <td>HP:0003564</td>\n",
       "      <td>Folate-dependent fragile site at Xq28</td>\n",
       "      <td>0.049859</td>\n",
       "      <td>True</td>\n",
       "      <td>The presence of a folate sensitive fragile sit...</td>\n",
       "      <td>1</td>\n",
       "      <td>1</td>\n",
       "      <td>1</td>\n",
       "      <td>4457</td>\n",
       "      <td>1.0</td>\n",
       "      <td>1.0</td>\n",
       "      <td>query_1</td>\n",
       "      <td>[HP:0040012]</td>\n",
       "    </tr>\n",
       "    <tr>\n",
       "      <th>1</th>\n",
       "      <td>HP</td>\n",
       "      <td>HP:0008640</td>\n",
       "      <td>Congenital macroorchidism</td>\n",
       "      <td>0.049859</td>\n",
       "      <td>True</td>\n",
       "      <td>Congenital macroorchidism</td>\n",
       "      <td>1</td>\n",
       "      <td>1</td>\n",
       "      <td>1</td>\n",
       "      <td>4457</td>\n",
       "      <td>1.0</td>\n",
       "      <td>1.0</td>\n",
       "      <td>query_1</td>\n",
       "      <td>[HP:0000053]</td>\n",
       "    </tr>\n",
       "  </tbody>\n",
       "</table>\n",
       "</div>"
      ],
      "text/plain": [
       "  source      native                                   name   p_value  \\\n",
       "0     HP  HP:0003564  Folate-dependent fragile site at Xq28  0.049859   \n",
       "1     HP  HP:0008640              Congenital macroorchidism  0.049859   \n",
       "\n",
       "   significant                                        description  term_size  \\\n",
       "0         True  The presence of a folate sensitive fragile sit...          1   \n",
       "1         True                          Congenital macroorchidism          1   \n",
       "\n",
       "   query_size  intersection_size  effective_domain_size  precision  recall  \\\n",
       "0           1                  1                   4457        1.0     1.0   \n",
       "1           1                  1                   4457        1.0     1.0   \n",
       "\n",
       "     query       parents  \n",
       "0  query_1  [HP:0040012]  \n",
       "1  query_1  [HP:0000053]  "
      ]
     },
     "execution_count": 858,
     "metadata": {},
     "output_type": "execute_result"
    }
   ],
   "source": [
    "gp = GProfiler(return_dataframe=True)\n",
    "gp.profile(organism='mmusculus',\n",
    "            query=group_1\n",
    "          )"
   ]
  },
  {
   "cell_type": "code",
   "execution_count": 859,
   "metadata": {},
   "outputs": [
    {
     "data": {
      "text/html": [
       "<div>\n",
       "<style scoped>\n",
       "    .dataframe tbody tr th:only-of-type {\n",
       "        vertical-align: middle;\n",
       "    }\n",
       "\n",
       "    .dataframe tbody tr th {\n",
       "        vertical-align: top;\n",
       "    }\n",
       "\n",
       "    .dataframe thead th {\n",
       "        text-align: right;\n",
       "    }\n",
       "</style>\n",
       "<table border=\"1\" class=\"dataframe\">\n",
       "  <thead>\n",
       "    <tr style=\"text-align: right;\">\n",
       "      <th></th>\n",
       "      <th>source</th>\n",
       "      <th>native</th>\n",
       "      <th>name</th>\n",
       "      <th>p_value</th>\n",
       "      <th>significant</th>\n",
       "      <th>description</th>\n",
       "      <th>term_size</th>\n",
       "      <th>query_size</th>\n",
       "      <th>intersection_size</th>\n",
       "      <th>effective_domain_size</th>\n",
       "      <th>precision</th>\n",
       "      <th>recall</th>\n",
       "      <th>query</th>\n",
       "      <th>parents</th>\n",
       "    </tr>\n",
       "  </thead>\n",
       "  <tbody>\n",
       "  </tbody>\n",
       "</table>\n",
       "</div>"
      ],
      "text/plain": [
       "Empty DataFrame\n",
       "Columns: [source, native, name, p_value, significant, description, term_size, query_size, intersection_size, effective_domain_size, precision, recall, query, parents]\n",
       "Index: []"
      ]
     },
     "execution_count": 859,
     "metadata": {},
     "output_type": "execute_result"
    }
   ],
   "source": [
    "gp.profile(organism='mmusculus',\n",
    "            query=group_2\n",
    "          )"
   ]
  },
  {
   "cell_type": "code",
   "execution_count": 860,
   "metadata": {},
   "outputs": [
    {
     "data": {
      "text/html": [
       "<div>\n",
       "<style scoped>\n",
       "    .dataframe tbody tr th:only-of-type {\n",
       "        vertical-align: middle;\n",
       "    }\n",
       "\n",
       "    .dataframe tbody tr th {\n",
       "        vertical-align: top;\n",
       "    }\n",
       "\n",
       "    .dataframe thead th {\n",
       "        text-align: right;\n",
       "    }\n",
       "</style>\n",
       "<table border=\"1\" class=\"dataframe\">\n",
       "  <thead>\n",
       "    <tr style=\"text-align: right;\">\n",
       "      <th></th>\n",
       "      <th>source</th>\n",
       "      <th>native</th>\n",
       "      <th>name</th>\n",
       "      <th>p_value</th>\n",
       "      <th>significant</th>\n",
       "      <th>description</th>\n",
       "      <th>term_size</th>\n",
       "      <th>query_size</th>\n",
       "      <th>intersection_size</th>\n",
       "      <th>effective_domain_size</th>\n",
       "      <th>precision</th>\n",
       "      <th>recall</th>\n",
       "      <th>query</th>\n",
       "      <th>parents</th>\n",
       "    </tr>\n",
       "  </thead>\n",
       "  <tbody>\n",
       "    <tr>\n",
       "      <th>0</th>\n",
       "      <td>CORUM</td>\n",
       "      <td>CORUM:7492</td>\n",
       "      <td>Bcl2-Becn1 complex</td>\n",
       "      <td>0.049746</td>\n",
       "      <td>True</td>\n",
       "      <td>Bcl2-Becn1 complex</td>\n",
       "      <td>2</td>\n",
       "      <td>1</td>\n",
       "      <td>1</td>\n",
       "      <td>1058</td>\n",
       "      <td>1.0</td>\n",
       "      <td>0.5</td>\n",
       "      <td>query_1</td>\n",
       "      <td>[CORUM:0000000]</td>\n",
       "    </tr>\n",
       "  </tbody>\n",
       "</table>\n",
       "</div>"
      ],
      "text/plain": [
       "  source      native                name   p_value  significant  \\\n",
       "0  CORUM  CORUM:7492  Bcl2-Becn1 complex  0.049746         True   \n",
       "\n",
       "          description  term_size  query_size  intersection_size  \\\n",
       "0  Bcl2-Becn1 complex          2           1                  1   \n",
       "\n",
       "   effective_domain_size  precision  recall    query          parents  \n",
       "0                   1058        1.0     0.5  query_1  [CORUM:0000000]  "
      ]
     },
     "execution_count": 860,
     "metadata": {},
     "output_type": "execute_result"
    }
   ],
   "source": [
    "gp.profile(organism='mmusculus',\n",
    "            query=group_3\n",
    "          )"
   ]
  },
  {
   "cell_type": "code",
   "execution_count": 861,
   "metadata": {},
   "outputs": [
    {
     "data": {
      "text/html": [
       "<div>\n",
       "<style scoped>\n",
       "    .dataframe tbody tr th:only-of-type {\n",
       "        vertical-align: middle;\n",
       "    }\n",
       "\n",
       "    .dataframe tbody tr th {\n",
       "        vertical-align: top;\n",
       "    }\n",
       "\n",
       "    .dataframe thead th {\n",
       "        text-align: right;\n",
       "    }\n",
       "</style>\n",
       "<table border=\"1\" class=\"dataframe\">\n",
       "  <thead>\n",
       "    <tr style=\"text-align: right;\">\n",
       "      <th></th>\n",
       "      <th>source</th>\n",
       "      <th>native</th>\n",
       "      <th>name</th>\n",
       "      <th>p_value</th>\n",
       "      <th>significant</th>\n",
       "      <th>description</th>\n",
       "      <th>term_size</th>\n",
       "      <th>query_size</th>\n",
       "      <th>intersection_size</th>\n",
       "      <th>effective_domain_size</th>\n",
       "      <th>precision</th>\n",
       "      <th>recall</th>\n",
       "      <th>query</th>\n",
       "      <th>parents</th>\n",
       "    </tr>\n",
       "  </thead>\n",
       "  <tbody>\n",
       "    <tr>\n",
       "      <th>0</th>\n",
       "      <td>GO:BP</td>\n",
       "      <td>GO:1904888</td>\n",
       "      <td>cranial skeletal system development</td>\n",
       "      <td>0.002028</td>\n",
       "      <td>True</td>\n",
       "      <td>\"The process whose specific outcome is the pro...</td>\n",
       "      <td>68</td>\n",
       "      <td>25</td>\n",
       "      <td>4</td>\n",
       "      <td>21331</td>\n",
       "      <td>0.16</td>\n",
       "      <td>0.058824</td>\n",
       "      <td>query_1</td>\n",
       "      <td>[GO:0048856]</td>\n",
       "    </tr>\n",
       "    <tr>\n",
       "      <th>1</th>\n",
       "      <td>GO:BP</td>\n",
       "      <td>GO:0048704</td>\n",
       "      <td>embryonic skeletal system morphogenesis</td>\n",
       "      <td>0.009522</td>\n",
       "      <td>True</td>\n",
       "      <td>\"The process in which the anatomical structure...</td>\n",
       "      <td>100</td>\n",
       "      <td>25</td>\n",
       "      <td>4</td>\n",
       "      <td>21331</td>\n",
       "      <td>0.16</td>\n",
       "      <td>0.040000</td>\n",
       "      <td>query_1</td>\n",
       "      <td>[GO:0048562, GO:0048705, GO:0048706]</td>\n",
       "    </tr>\n",
       "    <tr>\n",
       "      <th>2</th>\n",
       "      <td>GO:BP</td>\n",
       "      <td>GO:0048706</td>\n",
       "      <td>embryonic skeletal system development</td>\n",
       "      <td>0.029475</td>\n",
       "      <td>True</td>\n",
       "      <td>\"The process, occurring during the embryonic p...</td>\n",
       "      <td>133</td>\n",
       "      <td>25</td>\n",
       "      <td>4</td>\n",
       "      <td>21331</td>\n",
       "      <td>0.16</td>\n",
       "      <td>0.030075</td>\n",
       "      <td>query_1</td>\n",
       "      <td>[GO:0001501, GO:0043009]</td>\n",
       "    </tr>\n",
       "    <tr>\n",
       "      <th>3</th>\n",
       "      <td>GO:BP</td>\n",
       "      <td>GO:0048701</td>\n",
       "      <td>embryonic cranial skeleton morphogenesis</td>\n",
       "      <td>0.042417</td>\n",
       "      <td>True</td>\n",
       "      <td>\"The process in which the anatomical structure...</td>\n",
       "      <td>48</td>\n",
       "      <td>25</td>\n",
       "      <td>3</td>\n",
       "      <td>21331</td>\n",
       "      <td>0.12</td>\n",
       "      <td>0.062500</td>\n",
       "      <td>query_1</td>\n",
       "      <td>[GO:0048704, GO:1904888]</td>\n",
       "    </tr>\n",
       "  </tbody>\n",
       "</table>\n",
       "</div>"
      ],
      "text/plain": [
       "  source      native                                      name   p_value  \\\n",
       "0  GO:BP  GO:1904888       cranial skeletal system development  0.002028   \n",
       "1  GO:BP  GO:0048704   embryonic skeletal system morphogenesis  0.009522   \n",
       "2  GO:BP  GO:0048706     embryonic skeletal system development  0.029475   \n",
       "3  GO:BP  GO:0048701  embryonic cranial skeleton morphogenesis  0.042417   \n",
       "\n",
       "   significant                                        description  term_size  \\\n",
       "0         True  \"The process whose specific outcome is the pro...         68   \n",
       "1         True  \"The process in which the anatomical structure...        100   \n",
       "2         True  \"The process, occurring during the embryonic p...        133   \n",
       "3         True  \"The process in which the anatomical structure...         48   \n",
       "\n",
       "   query_size  intersection_size  effective_domain_size  precision    recall  \\\n",
       "0          25                  4                  21331       0.16  0.058824   \n",
       "1          25                  4                  21331       0.16  0.040000   \n",
       "2          25                  4                  21331       0.16  0.030075   \n",
       "3          25                  3                  21331       0.12  0.062500   \n",
       "\n",
       "     query                               parents  \n",
       "0  query_1                          [GO:0048856]  \n",
       "1  query_1  [GO:0048562, GO:0048705, GO:0048706]  \n",
       "2  query_1              [GO:0001501, GO:0043009]  \n",
       "3  query_1              [GO:0048704, GO:1904888]  "
      ]
     },
     "execution_count": 861,
     "metadata": {},
     "output_type": "execute_result"
    }
   ],
   "source": [
    "gp.profile(organism='mmusculus',\n",
    "            query=group_4\n",
    "          )"
   ]
  },
  {
   "cell_type": "code",
   "execution_count": null,
   "metadata": {},
   "outputs": [],
   "source": []
  },
  {
   "cell_type": "code",
   "execution_count": null,
   "metadata": {},
   "outputs": [],
   "source": []
  },
  {
   "cell_type": "code",
   "execution_count": null,
   "metadata": {},
   "outputs": [],
   "source": []
  },
  {
   "cell_type": "code",
   "execution_count": null,
   "metadata": {},
   "outputs": [],
   "source": []
  },
  {
   "cell_type": "code",
   "execution_count": 845,
   "metadata": {},
   "outputs": [
    {
     "name": "stdout",
     "output_type": "stream",
     "text": [
      "#8dd3c7\n",
      "#8dd3c7\n",
      "#ffffb3\n",
      "#ffffb3\n",
      "#bebada\n",
      "#fb8072\n",
      "#fb8072\n",
      "#80b1d3\n",
      "#fdb462\n",
      "#fdb462\n",
      "#b3de69\n",
      "#b3de69\n",
      "#fccde5\n",
      "#d9d9d9\n",
      "#d9d9d9\n",
      "#bc80bd\n",
      "#ccebc5\n",
      "#ccebc5\n",
      "#ffed6f\n",
      "#ffed6f\n"
     ]
    }
   ],
   "source": [
    "color_list = []\n",
    "\n",
    "from pylab import *\n",
    "\n",
    "cmap = cm.get_cmap('Set3', 20)\n",
    "\n",
    "for i in range(cmap.N):\n",
    "    rgb = cmap(i)[:3] # will return rgba, we take only first 3 so we get rgb\n",
    "    color_list.append(matplotlib.colors.rgb2hex(rgb))\n",
    "    print(matplotlib.colors.rgb2hex(rgb))"
   ]
  },
  {
   "cell_type": "code",
   "execution_count": 846,
   "metadata": {},
   "outputs": [],
   "source": [
    "###expand colors of dendrogram link\n",
    "\n",
    "import matplotlib as mpl\n",
    "from matplotlib.pyplot import cm\n",
    "from scipy.cluster import hierarchy\n",
    "\n",
    "hierarchy.set_link_color_palette(color_list)"
   ]
  },
  {
   "cell_type": "code",
   "execution_count": 849,
   "metadata": {},
   "outputs": [
    {
     "data": {
      "image/png": "[encoded data removed]",
      "text/plain": [
       "<Figure size 720x720 with 1 Axes>"
      ]
     },
     "metadata": {
      "needs_background": "light"
     },
     "output_type": "display_data"
    }
   ],
   "source": [
    "plt.rcParams['figure.figsize'] = [10, 10]\n",
    "\n",
    "den = scipy.cluster.hierarchy.dendrogram(g.dendrogram_row.linkage,\n",
    "                                         labels = temp_3.index,\n",
    "                                         color_threshold=60)  \n",
    "\n"
   ]
  },
  {
   "cell_type": "code",
   "execution_count": null,
   "metadata": {},
   "outputs": [],
   "source": []
  },
  {
   "cell_type": "code",
   "execution_count": null,
   "metadata": {},
   "outputs": [],
   "source": []
  },
  {
   "cell_type": "code",
   "execution_count": null,
   "metadata": {},
   "outputs": [],
   "source": []
  },
  {
   "cell_type": "code",
   "execution_count": 850,
   "metadata": {},
   "outputs": [],
   "source": [
    "from collections import defaultdict\n",
    "\n",
    "def get_cluster_classes(den, label='ivl'):\n",
    "    cluster_idxs = defaultdict(list)\n",
    "    for c, pi in zip(den['color_list'], den['icoord']):\n",
    "        for leg in pi[1:3]:\n",
    "            i = (leg - 5.0) / 10.0\n",
    "            if abs(i - int(i)) < 1e-5:\n",
    "                cluster_idxs[c].append(int(i))\n",
    "\n",
    "    cluster_classes = {}\n",
    "    for c, l in cluster_idxs.items():\n",
    "        i_l = [den[label][i] for i in l]\n",
    "        cluster_classes[c] = i_l\n",
    "\n",
    "    return cluster_classes"
   ]
  },
  {
   "cell_type": "code",
   "execution_count": 851,
   "metadata": {},
   "outputs": [],
   "source": [
    "clusters = get_cluster_classes(den)\n",
    "\n",
    "cluster = []\n",
    "for i in temp_3.index:\n",
    "    included=False\n",
    "    for j in clusters.keys():\n",
    "        if i in clusters[j]:\n",
    "            cluster.append(j)\n",
    "            included=True\n",
    "    if not included:\n",
    "        cluster.append(None)\n",
    "\n",
    "# df[\"cluster\"] = cluster"
   ]
  },
  {
   "cell_type": "code",
   "execution_count": 852,
   "metadata": {},
   "outputs": [
    {
     "data": {
      "text/plain": [
       "6"
      ]
     },
     "execution_count": 852,
     "metadata": {},
     "output_type": "execute_result"
    }
   ],
   "source": [
    "len(clusters.keys()) # ['#8000ff']"
   ]
  },
  {
   "cell_type": "code",
   "execution_count": 853,
   "metadata": {},
   "outputs": [],
   "source": [
    "import pandas as pd"
   ]
  },
  {
   "cell_type": "code",
   "execution_count": 854,
   "metadata": {},
   "outputs": [],
   "source": [
    "valuesA = []\n",
    "\n",
    "\n",
    "for key, value in clusters.items():\n",
    "    for indexx in value:\n",
    "        temp = [indexx, key]\n",
    "        valuesA.append(temp)"
   ]
  },
  {
   "cell_type": "code",
   "execution_count": 855,
   "metadata": {},
   "outputs": [],
   "source": [
    "index_color = pd.DataFrame(np.matrix(valuesA))\n",
    "index_color.columns=['indices', 'color']"
   ]
  },
  {
   "cell_type": "code",
   "execution_count": 856,
   "metadata": {},
   "outputs": [
    {
     "data": {
      "text/plain": [
       "array(['#8dd3c7', 'C0', '#ffffb3', '#bebada', '#fb8072', '#80b1d3'],\n",
       "      dtype=object)"
      ]
     },
     "execution_count": 856,
     "metadata": {},
     "output_type": "execute_result"
    },
    {
     "data": {
      "image/png": "[encoded data removed]",
      "text/plain": [
       "<Figure size 432x72 with 1 Axes>"
      ]
     },
     "metadata": {
      "needs_background": "light"
     },
     "output_type": "display_data"
    }
   ],
   "source": [
    "sns.palplot(index_color['color'].unique())\n",
    "index_color['color'].unique()"
   ]
  },
  {
   "cell_type": "code",
   "execution_count": 857,
   "metadata": {},
   "outputs": [],
   "source": [
    "group_0 =temp_3[temp_3.index.isin(clusters['C0'])].index.tolist()\n",
    "group_1 =temp_3[temp_3.index.isin(clusters['#8dd3c7'])].index.tolist()\n",
    "group_2 =temp_3[temp_3.index.isin(clusters['#ffffb3'])].index.tolist()\n",
    "group_3 =temp_3[temp_3.index.isin(clusters['#bebada'])].index.tolist()\n",
    "group_4 =temp_3[temp_3.index.isin(clusters['#fb8072'])].index.tolist()"
   ]
  },
  {
   "cell_type": "code",
   "execution_count": null,
   "metadata": {
    "scrolled": true
   },
   "outputs": [],
   "source": []
  },
  {
   "cell_type": "code",
   "execution_count": null,
   "metadata": {},
   "outputs": [],
   "source": []
  },
  {
   "cell_type": "code",
   "execution_count": null,
   "metadata": {},
   "outputs": [],
   "source": []
  },
  {
   "cell_type": "code",
   "execution_count": 621,
   "metadata": {},
   "outputs": [],
   "source": [
    "genedf = gene_frame[gene_frame.reset_index(drop=True)['gene'].index.isin(clusters['#8dd3c7'])]"
   ]
  },
  {
   "cell_type": "code",
   "execution_count": 622,
   "metadata": {},
   "outputs": [
    {
     "data": {
      "text/html": [
       "<div>\n",
       "<style scoped>\n",
       "    .dataframe tbody tr th:only-of-type {\n",
       "        vertical-align: middle;\n",
       "    }\n",
       "\n",
       "    .dataframe tbody tr th {\n",
       "        vertical-align: top;\n",
       "    }\n",
       "\n",
       "    .dataframe thead th {\n",
       "        text-align: right;\n",
       "    }\n",
       "</style>\n",
       "<table border=\"1\" class=\"dataframe\">\n",
       "  <thead>\n",
       "    <tr style=\"text-align: right;\">\n",
       "      <th></th>\n",
       "      <th>gene</th>\n",
       "      <th>pval</th>\n",
       "      <th>qval</th>\n",
       "      <th>log2fc</th>\n",
       "      <th>mean</th>\n",
       "      <th>zero_mean</th>\n",
       "      <th>grad</th>\n",
       "      <th>ll</th>\n",
       "    </tr>\n",
       "  </thead>\n",
       "  <tbody>\n",
       "  </tbody>\n",
       "</table>\n",
       "</div>"
      ],
      "text/plain": [
       "Empty DataFrame\n",
       "Columns: [gene, pval, qval, log2fc, mean, zero_mean, grad, ll]\n",
       "Index: []"
      ]
     },
     "execution_count": 622,
     "metadata": {},
     "output_type": "execute_result"
    }
   ],
   "source": [
    "genedf"
   ]
  },
  {
   "cell_type": "code",
   "execution_count": 450,
   "metadata": {},
   "outputs": [],
   "source": [
    "#genedf.mean(axis=0)"
   ]
  },
  {
   "cell_type": "code",
   "execution_count": 451,
   "metadata": {},
   "outputs": [],
   "source": [
    "comparison_df = pd.DataFrame(genedf.median(axis=0),columns=['1'])"
   ]
  },
  {
   "cell_type": "code",
   "execution_count": 452,
   "metadata": {},
   "outputs": [],
   "source": [
    "genedf = gene_frame[gene_frame.reset_index(drop=True)['gene'].index.isin(clusters['#ffffb3'])]"
   ]
  },
  {
   "cell_type": "code",
   "execution_count": 453,
   "metadata": {},
   "outputs": [],
   "source": [
    "#genedf.mean(axis=0)"
   ]
  },
  {
   "cell_type": "code",
   "execution_count": 454,
   "metadata": {},
   "outputs": [],
   "source": [
    "comparison_df['2'] = pd.DataFrame(genedf.median(axis=0),columns=['2'])"
   ]
  },
  {
   "cell_type": "code",
   "execution_count": null,
   "metadata": {},
   "outputs": [],
   "source": []
  },
  {
   "cell_type": "code",
   "execution_count": 455,
   "metadata": {},
   "outputs": [],
   "source": [
    "genedf = gene_frame[gene_frame.reset_index(drop=True)['gene'].index.isin(clusters['#bebada'])]"
   ]
  },
  {
   "cell_type": "code",
   "execution_count": 456,
   "metadata": {},
   "outputs": [],
   "source": [
    "#genedf.mean(axis=0)"
   ]
  },
  {
   "cell_type": "code",
   "execution_count": 457,
   "metadata": {},
   "outputs": [],
   "source": [
    "comparison_df['3'] = pd.DataFrame(genedf.median(axis=0),columns=['3'])"
   ]
  },
  {
   "cell_type": "code",
   "execution_count": 458,
   "metadata": {},
   "outputs": [],
   "source": [
    "genedf = gene_frame[gene_frame.reset_index(drop=True)['gene'].index.isin(clusters['#fb8072'])]"
   ]
  },
  {
   "cell_type": "code",
   "execution_count": 459,
   "metadata": {},
   "outputs": [],
   "source": [
    "#genedf.mean(axis=0)"
   ]
  },
  {
   "cell_type": "code",
   "execution_count": 460,
   "metadata": {},
   "outputs": [],
   "source": [
    "comparison_df['4'] = pd.DataFrame(genedf.median(axis=0),columns=['4'])"
   ]
  },
  {
   "cell_type": "code",
   "execution_count": null,
   "metadata": {},
   "outputs": [],
   "source": []
  },
  {
   "cell_type": "code",
   "execution_count": 660,
   "metadata": {},
   "outputs": [
    {
     "data": {
      "text/plain": [
       "<matplotlib.axes._subplots.AxesSubplot at 0x1683c3be0>"
      ]
     },
     "execution_count": 660,
     "metadata": {},
     "output_type": "execute_result"
    },
    {
     "data": {
      "image/png": "[encoded data removed]",
      "text/plain": [
       "<Figure size 720x1440 with 1 Axes>"
      ]
     },
     "metadata": {
      "needs_background": "light"
     },
     "output_type": "display_data"
    }
   ],
   "source": [
    "comparison_df.drop(['log2fc'],axis=0).plot.bar()"
   ]
  },
  {
   "cell_type": "code",
   "execution_count": null,
   "metadata": {},
   "outputs": [],
   "source": []
  },
  {
   "cell_type": "code",
   "execution_count": null,
   "metadata": {},
   "outputs": [],
   "source": []
  },
  {
   "cell_type": "code",
   "execution_count": null,
   "metadata": {},
   "outputs": [],
   "source": []
  },
  {
   "cell_type": "code",
   "execution_count": null,
   "metadata": {},
   "outputs": [],
   "source": []
  },
  {
   "cell_type": "code",
   "execution_count": null,
   "metadata": {},
   "outputs": [],
   "source": []
  },
  {
   "cell_type": "code",
   "execution_count": null,
   "metadata": {},
   "outputs": [],
   "source": []
  }
 ],
 "metadata": {
  "kernelspec": {
   "display_name": "Python 3",
   "language": "python",
   "name": "python3"
  },
  "language_info": {
   "codemirror_mode": {
    "name": "ipython",
    "version": 3
   },
   "file_extension": ".py",
   "mimetype": "text/x-python",
   "name": "python",
   "nbconvert_exporter": "python",
   "pygments_lexer": "ipython3",
   "version": "3.7.1"
  }
 },
 "nbformat": 4,
 "nbformat_minor": 4
}
